{
 "cells": [
  {
   "cell_type": "markdown",
   "metadata": {},
   "source": [
    "## Pandas - load data, create mask, and sorting"
   ]
  },
  {
   "cell_type": "markdown",
   "metadata": {},
   "source": [
    "<img src=\"data/city.jpg\" width=300/>\n",
    "<br>\n",
    "\n",
    "Let's load `data/cities.csv`! It is worth to take a peek into the file in a text editor before loading it! This file contains the coordinates of all the cities with more citizens than 15.000.\n",
    "\n",
    "Try to find all of the cities in Europe, that have more citizens than 2.000.000! Then print the sorted ascending by population size!\n",
    "\n",
    "Let the following rectangle define the coordinates for Europe:\n",
    "* (longitude, latitude): (-20.2, 34.5) and (42.7, 72.4)"
   ]
  },
  {
   "cell_type": "markdown",
   "metadata": {},
   "source": [
    "### Solution"
   ]
  },
  {
   "cell_type": "code",
   "execution_count": 2,
   "metadata": {},
   "outputs": [],
   "source": [
    "import pandas as pd"
   ]
  },
  {
   "cell_type": "code",
   "execution_count": 3,
   "metadata": {},
   "outputs": [],
   "source": [
    "datafile=\"data/cities.csv\""
   ]
  },
  {
   "cell_type": "code",
   "execution_count": 4,
   "metadata": {},
   "outputs": [
    {
     "name": "stdout",
     "output_type": "stream",
     "text": [
      "id#name#lon#lat#country#population\n",
      "3040051#les Escaldes#1.53414#42.507290000000005#AD#15853\n",
      "3041563#Andorra la Vella#1.52109#42.50779#AD#20430\n",
      "290594#Umm al Qaywayn#55.55517#25.564729999999997#AE#44411\n",
      "291074#Ras al-Khaimah#55.9432#25.78953#AE#115949\n",
      "291696#Khawr Fakkan#56.34199#25.33132#AE#33575\n",
      "292223#Dubai#55.17128#25.0657#AE#1137347\n",
      "292231#Dibba Al-Fujairah#56.261759999999995#25.59246#AE#30000\n",
      "292239#Dibba Al-Hisn#56.272909999999996#25.61955#AE#26395\n",
      "292672#Sharjah#55.41206#25.33737#AE#543733\n"
     ]
    }
   ],
   "source": [
    "# Check the first few lines with the head bash command\n",
    "!head $datafile"
   ]
  },
  {
   "cell_type": "code",
   "execution_count": 5,
   "metadata": {},
   "outputs": [
    {
     "data": {
      "text/html": [
       "<div>\n",
       "<style scoped>\n",
       "    .dataframe tbody tr th:only-of-type {\n",
       "        vertical-align: middle;\n",
       "    }\n",
       "\n",
       "    .dataframe tbody tr th {\n",
       "        vertical-align: top;\n",
       "    }\n",
       "\n",
       "    .dataframe thead th {\n",
       "        text-align: right;\n",
       "    }\n",
       "</style>\n",
       "<table border=\"1\" class=\"dataframe\">\n",
       "  <thead>\n",
       "    <tr style=\"text-align: right;\">\n",
       "      <th></th>\n",
       "      <th>id</th>\n",
       "      <th>name</th>\n",
       "      <th>lon</th>\n",
       "      <th>lat</th>\n",
       "      <th>country</th>\n",
       "      <th>population</th>\n",
       "    </tr>\n",
       "  </thead>\n",
       "  <tbody>\n",
       "    <tr>\n",
       "      <th>0</th>\n",
       "      <td>3040051</td>\n",
       "      <td>les Escaldes</td>\n",
       "      <td>1.53414</td>\n",
       "      <td>42.50729</td>\n",
       "      <td>AD</td>\n",
       "      <td>15853</td>\n",
       "    </tr>\n",
       "    <tr>\n",
       "      <th>1</th>\n",
       "      <td>3041563</td>\n",
       "      <td>Andorra la Vella</td>\n",
       "      <td>1.52109</td>\n",
       "      <td>42.50779</td>\n",
       "      <td>AD</td>\n",
       "      <td>20430</td>\n",
       "    </tr>\n",
       "    <tr>\n",
       "      <th>2</th>\n",
       "      <td>290594</td>\n",
       "      <td>Umm al Qaywayn</td>\n",
       "      <td>55.55517</td>\n",
       "      <td>25.56473</td>\n",
       "      <td>AE</td>\n",
       "      <td>44411</td>\n",
       "    </tr>\n",
       "    <tr>\n",
       "      <th>3</th>\n",
       "      <td>291074</td>\n",
       "      <td>Ras al-Khaimah</td>\n",
       "      <td>55.94320</td>\n",
       "      <td>25.78953</td>\n",
       "      <td>AE</td>\n",
       "      <td>115949</td>\n",
       "    </tr>\n",
       "    <tr>\n",
       "      <th>4</th>\n",
       "      <td>291696</td>\n",
       "      <td>Khawr Fakkan</td>\n",
       "      <td>56.34199</td>\n",
       "      <td>25.33132</td>\n",
       "      <td>AE</td>\n",
       "      <td>33575</td>\n",
       "    </tr>\n",
       "  </tbody>\n",
       "</table>\n",
       "</div>"
      ],
      "text/plain": [
       "        id              name       lon       lat country  population\n",
       "0  3040051      les Escaldes   1.53414  42.50729      AD       15853\n",
       "1  3041563  Andorra la Vella   1.52109  42.50779      AD       20430\n",
       "2   290594    Umm al Qaywayn  55.55517  25.56473      AE       44411\n",
       "3   291074    Ras al-Khaimah  55.94320  25.78953      AE      115949\n",
       "4   291696      Khawr Fakkan  56.34199  25.33132      AE       33575"
      ]
     },
     "execution_count": 5,
     "metadata": {},
     "output_type": "execute_result"
    }
   ],
   "source": [
    "# Skip all lines, which comments\n",
    "df = pd.read_csv(datafile, sep=\"#\")\n",
    "df.head()"
   ]
  },
  {
   "cell_type": "code",
   "execution_count": 6,
   "metadata": {},
   "outputs": [
    {
     "data": {
      "text/html": [
       "<div>\n",
       "<style scoped>\n",
       "    .dataframe tbody tr th:only-of-type {\n",
       "        vertical-align: middle;\n",
       "    }\n",
       "\n",
       "    .dataframe tbody tr th {\n",
       "        vertical-align: top;\n",
       "    }\n",
       "\n",
       "    .dataframe thead th {\n",
       "        text-align: right;\n",
       "    }\n",
       "</style>\n",
       "<table border=\"1\" class=\"dataframe\">\n",
       "  <thead>\n",
       "    <tr style=\"text-align: right;\">\n",
       "      <th></th>\n",
       "      <th>id</th>\n",
       "      <th>name</th>\n",
       "      <th>lon</th>\n",
       "      <th>lat</th>\n",
       "      <th>country</th>\n",
       "      <th>population</th>\n",
       "    </tr>\n",
       "  </thead>\n",
       "  <tbody>\n",
       "    <tr>\n",
       "      <th>41</th>\n",
       "      <td>1138958</td>\n",
       "      <td>Kabul</td>\n",
       "      <td>69.17233</td>\n",
       "      <td>34.52813</td>\n",
       "      <td>AF</td>\n",
       "      <td>3043532</td>\n",
       "    </tr>\n",
       "    <tr>\n",
       "      <th>112</th>\n",
       "      <td>2240449</td>\n",
       "      <td>Luanda</td>\n",
       "      <td>13.23432</td>\n",
       "      <td>-8.83682</td>\n",
       "      <td>AO</td>\n",
       "      <td>2776168</td>\n",
       "    </tr>\n",
       "    <tr>\n",
       "      <th>189</th>\n",
       "      <td>3435910</td>\n",
       "      <td>Buenos Aires</td>\n",
       "      <td>-58.37723</td>\n",
       "      <td>-34.61315</td>\n",
       "      <td>AR</td>\n",
       "      <td>13076300</td>\n",
       "    </tr>\n",
       "    <tr>\n",
       "      <th>407</th>\n",
       "      <td>2147714</td>\n",
       "      <td>Sydney</td>\n",
       "      <td>151.20732</td>\n",
       "      <td>-33.86785</td>\n",
       "      <td>AU</td>\n",
       "      <td>4627345</td>\n",
       "    </tr>\n",
       "    <tr>\n",
       "      <th>448</th>\n",
       "      <td>2158177</td>\n",
       "      <td>Melbourne</td>\n",
       "      <td>144.96332</td>\n",
       "      <td>-37.81400</td>\n",
       "      <td>AU</td>\n",
       "      <td>4246375</td>\n",
       "    </tr>\n",
       "    <tr>\n",
       "      <th>...</th>\n",
       "      <td>...</td>\n",
       "      <td>...</td>\n",
       "      <td>...</td>\n",
       "      <td>...</td>\n",
       "      <td>...</td>\n",
       "      <td>...</td>\n",
       "    </tr>\n",
       "    <tr>\n",
       "      <th>22737</th>\n",
       "      <td>3646738</td>\n",
       "      <td>Caracas</td>\n",
       "      <td>-66.87919</td>\n",
       "      <td>10.48801</td>\n",
       "      <td>VE</td>\n",
       "      <td>3000000</td>\n",
       "    </tr>\n",
       "    <tr>\n",
       "      <th>22774</th>\n",
       "      <td>1566083</td>\n",
       "      <td>Ho Chi Minh City</td>\n",
       "      <td>106.62965</td>\n",
       "      <td>10.82302</td>\n",
       "      <td>VN</td>\n",
       "      <td>3467331</td>\n",
       "    </tr>\n",
       "    <tr>\n",
       "      <th>22990</th>\n",
       "      <td>993800</td>\n",
       "      <td>Johannesburg</td>\n",
       "      <td>28.04363</td>\n",
       "      <td>-26.20227</td>\n",
       "      <td>ZA</td>\n",
       "      <td>2026469</td>\n",
       "    </tr>\n",
       "    <tr>\n",
       "      <th>23009</th>\n",
       "      <td>1007311</td>\n",
       "      <td>Durban</td>\n",
       "      <td>31.02920</td>\n",
       "      <td>-29.85790</td>\n",
       "      <td>ZA</td>\n",
       "      <td>3120282</td>\n",
       "    </tr>\n",
       "    <tr>\n",
       "      <th>23053</th>\n",
       "      <td>3369157</td>\n",
       "      <td>Cape Town</td>\n",
       "      <td>18.42322</td>\n",
       "      <td>-33.92584</td>\n",
       "      <td>ZA</td>\n",
       "      <td>3433441</td>\n",
       "    </tr>\n",
       "  </tbody>\n",
       "</table>\n",
       "<p>146 rows × 6 columns</p>\n",
       "</div>"
      ],
      "text/plain": [
       "            id              name        lon       lat country  population\n",
       "41     1138958             Kabul   69.17233  34.52813      AF     3043532\n",
       "112    2240449            Luanda   13.23432  -8.83682      AO     2776168\n",
       "189    3435910      Buenos Aires  -58.37723 -34.61315      AR    13076300\n",
       "407    2147714            Sydney  151.20732 -33.86785      AU     4627345\n",
       "448    2158177         Melbourne  144.96332 -37.81400      AU     4246375\n",
       "...        ...               ...        ...       ...     ...         ...\n",
       "22737  3646738           Caracas  -66.87919  10.48801      VE     3000000\n",
       "22774  1566083  Ho Chi Minh City  106.62965  10.82302      VN     3467331\n",
       "22990   993800      Johannesburg   28.04363 -26.20227      ZA     2026469\n",
       "23009  1007311            Durban   31.02920 -29.85790      ZA     3120282\n",
       "23053  3369157         Cape Town   18.42322 -33.92584      ZA     3433441\n",
       "\n",
       "[146 rows x 6 columns]"
      ]
     },
     "execution_count": 6,
     "metadata": {},
     "output_type": "execute_result"
    }
   ],
   "source": [
    "# First condition for the population size\n",
    "mask_1 = df[\"population\"] > 2000000\n",
    "df[mask_1]"
   ]
  },
  {
   "cell_type": "code",
   "execution_count": 7,
   "metadata": {},
   "outputs": [
    {
     "data": {
      "text/html": [
       "<div>\n",
       "<style scoped>\n",
       "    .dataframe tbody tr th:only-of-type {\n",
       "        vertical-align: middle;\n",
       "    }\n",
       "\n",
       "    .dataframe tbody tr th {\n",
       "        vertical-align: top;\n",
       "    }\n",
       "\n",
       "    .dataframe thead th {\n",
       "        text-align: right;\n",
       "    }\n",
       "</style>\n",
       "<table border=\"1\" class=\"dataframe\">\n",
       "  <thead>\n",
       "    <tr style=\"text-align: right;\">\n",
       "      <th></th>\n",
       "      <th>id</th>\n",
       "      <th>name</th>\n",
       "      <th>lon</th>\n",
       "      <th>lat</th>\n",
       "      <th>country</th>\n",
       "      <th>population</th>\n",
       "    </tr>\n",
       "  </thead>\n",
       "  <tbody>\n",
       "    <tr>\n",
       "      <th>19119</th>\n",
       "      <td>745044</td>\n",
       "      <td>Istanbul</td>\n",
       "      <td>28.94966</td>\n",
       "      <td>41.01384</td>\n",
       "      <td>TR</td>\n",
       "      <td>11174257</td>\n",
       "    </tr>\n",
       "    <tr>\n",
       "      <th>17261</th>\n",
       "      <td>524901</td>\n",
       "      <td>Moscow</td>\n",
       "      <td>37.61556</td>\n",
       "      <td>55.75222</td>\n",
       "      <td>RU</td>\n",
       "      <td>10381222</td>\n",
       "    </tr>\n",
       "    <tr>\n",
       "      <th>7539</th>\n",
       "      <td>2643741</td>\n",
       "      <td>City of London</td>\n",
       "      <td>-0.09184</td>\n",
       "      <td>51.51279</td>\n",
       "      <td>GB</td>\n",
       "      <td>7556900</td>\n",
       "    </tr>\n",
       "    <tr>\n",
       "      <th>7540</th>\n",
       "      <td>2643743</td>\n",
       "      <td>London</td>\n",
       "      <td>-0.12574</td>\n",
       "      <td>51.50853</td>\n",
       "      <td>GB</td>\n",
       "      <td>7556900</td>\n",
       "    </tr>\n",
       "    <tr>\n",
       "      <th>17090</th>\n",
       "      <td>498817</td>\n",
       "      <td>Saint Petersburg</td>\n",
       "      <td>30.31413</td>\n",
       "      <td>59.93863</td>\n",
       "      <td>RU</td>\n",
       "      <td>5028000</td>\n",
       "    </tr>\n",
       "    <tr>\n",
       "      <th>19028</th>\n",
       "      <td>323786</td>\n",
       "      <td>Ankara</td>\n",
       "      <td>32.85427</td>\n",
       "      <td>39.91987</td>\n",
       "      <td>TR</td>\n",
       "      <td>3517182</td>\n",
       "    </tr>\n",
       "    <tr>\n",
       "      <th>5224</th>\n",
       "      <td>2950159</td>\n",
       "      <td>Berlin</td>\n",
       "      <td>13.41053</td>\n",
       "      <td>52.52437</td>\n",
       "      <td>DE</td>\n",
       "      <td>3426354</td>\n",
       "    </tr>\n",
       "    <tr>\n",
       "      <th>6338</th>\n",
       "      <td>3117735</td>\n",
       "      <td>Madrid</td>\n",
       "      <td>-3.70256</td>\n",
       "      <td>40.41650</td>\n",
       "      <td>ES</td>\n",
       "      <td>3255944</td>\n",
       "    </tr>\n",
       "    <tr>\n",
       "      <th>19555</th>\n",
       "      <td>703448</td>\n",
       "      <td>Kiev</td>\n",
       "      <td>30.52380</td>\n",
       "      <td>50.45466</td>\n",
       "      <td>UA</td>\n",
       "      <td>2797553</td>\n",
       "    </tr>\n",
       "    <tr>\n",
       "      <th>18939</th>\n",
       "      <td>311046</td>\n",
       "      <td>Izmir</td>\n",
       "      <td>27.13838</td>\n",
       "      <td>38.41273</td>\n",
       "      <td>TR</td>\n",
       "      <td>2500603</td>\n",
       "    </tr>\n",
       "    <tr>\n",
       "      <th>11721</th>\n",
       "      <td>3169070</td>\n",
       "      <td>Rome</td>\n",
       "      <td>12.51133</td>\n",
       "      <td>41.89193</td>\n",
       "      <td>IT</td>\n",
       "      <td>2318895</td>\n",
       "    </tr>\n",
       "    <tr>\n",
       "      <th>6828</th>\n",
       "      <td>2988507</td>\n",
       "      <td>Paris</td>\n",
       "      <td>2.34880</td>\n",
       "      <td>48.85341</td>\n",
       "      <td>FR</td>\n",
       "      <td>2138551</td>\n",
       "    </tr>\n",
       "  </tbody>\n",
       "</table>\n",
       "</div>"
      ],
      "text/plain": [
       "            id              name       lon       lat country  population\n",
       "19119   745044          Istanbul  28.94966  41.01384      TR    11174257\n",
       "17261   524901            Moscow  37.61556  55.75222      RU    10381222\n",
       "7539   2643741    City of London  -0.09184  51.51279      GB     7556900\n",
       "7540   2643743            London  -0.12574  51.50853      GB     7556900\n",
       "17090   498817  Saint Petersburg  30.31413  59.93863      RU     5028000\n",
       "19028   323786            Ankara  32.85427  39.91987      TR     3517182\n",
       "5224   2950159            Berlin  13.41053  52.52437      DE     3426354\n",
       "6338   3117735            Madrid  -3.70256  40.41650      ES     3255944\n",
       "19555   703448              Kiev  30.52380  50.45466      UA     2797553\n",
       "18939   311046             Izmir  27.13838  38.41273      TR     2500603\n",
       "11721  3169070              Rome  12.51133  41.89193      IT     2318895\n",
       "6828   2988507             Paris   2.34880  48.85341      FR     2138551"
      ]
     },
     "execution_count": 7,
     "metadata": {},
     "output_type": "execute_result"
    }
   ],
   "source": [
    "# Second condition for geographical location\n",
    "mask_2 = (df[\"lon\"]>-20.2) & (df[\"lon\"]<42.7) & (df[\"lat\"]>34.5) & (df[\"lat\"]<72.4)\n",
    "\n",
    "# And combine the two\n",
    "df[mask_1 * mask_2].sort_values(by=\"population\",ascending=False)"
   ]
  },
  {
   "cell_type": "markdown",
   "metadata": {},
   "source": [
    "## Pandas - Load data, averages\n",
    "\n",
    "- Load the `data/T_adat.csv` file into a pandas Dataframe, and then calculate the average for each year and plot it.\n",
    "\n",
    "- Load `data/co2_adat.txt` as pandas DataFrame. The \"#\" character at beginning of the line are comments, which help to understand the listed data, but they are not part of the datatable itself. Plot the annual average $CO_2$ concentration as the fuction of time. \n",
    "\n",
    "<img src=\"data/co2em.png\" width=350/>"
   ]
  },
  {
   "cell_type": "markdown",
   "metadata": {},
   "source": [
    "### Solution"
   ]
  },
  {
   "cell_type": "code",
   "execution_count": 8,
   "metadata": {
    "jupyter": {
     "outputs_hidden": false
    },
    "scrolled": true
   },
   "outputs": [
    {
     "name": "stdout",
     "output_type": "stream",
     "text": [
      "%pylab is deprecated, use %matplotlib inline and import the required libraries.\n",
      "Populating the interactive namespace from numpy and matplotlib\n"
     ]
    }
   ],
   "source": [
    "%pylab inline\n",
    "import pandas as pd"
   ]
  },
  {
   "cell_type": "code",
   "execution_count": 9,
   "metadata": {},
   "outputs": [],
   "source": [
    "t = pd.read_csv('data/T_adat.csv', skiprows=1)"
   ]
  },
  {
   "cell_type": "code",
   "execution_count": 10,
   "metadata": {},
   "outputs": [
    {
     "data": {
      "text/html": [
       "<div>\n",
       "<style scoped>\n",
       "    .dataframe tbody tr th:only-of-type {\n",
       "        vertical-align: middle;\n",
       "    }\n",
       "\n",
       "    .dataframe tbody tr th {\n",
       "        vertical-align: top;\n",
       "    }\n",
       "\n",
       "    .dataframe thead th {\n",
       "        text-align: right;\n",
       "    }\n",
       "</style>\n",
       "<table border=\"1\" class=\"dataframe\">\n",
       "  <thead>\n",
       "    <tr style=\"text-align: right;\">\n",
       "      <th></th>\n",
       "      <th>Year</th>\n",
       "      <th>Jan</th>\n",
       "      <th>Feb</th>\n",
       "      <th>Mar</th>\n",
       "      <th>Apr</th>\n",
       "      <th>May</th>\n",
       "      <th>Jun</th>\n",
       "      <th>Jul</th>\n",
       "      <th>Aug</th>\n",
       "      <th>Sep</th>\n",
       "      <th>Oct</th>\n",
       "      <th>Nov</th>\n",
       "      <th>Dec</th>\n",
       "      <th>J-D</th>\n",
       "      <th>D-N</th>\n",
       "      <th>DJF</th>\n",
       "      <th>MAM</th>\n",
       "      <th>JJA</th>\n",
       "      <th>SON</th>\n",
       "    </tr>\n",
       "  </thead>\n",
       "  <tbody>\n",
       "    <tr>\n",
       "      <th>0</th>\n",
       "      <td>1880</td>\n",
       "      <td>-0.29</td>\n",
       "      <td>-0.20</td>\n",
       "      <td>-0.17</td>\n",
       "      <td>-.27</td>\n",
       "      <td>-.13</td>\n",
       "      <td>-.28</td>\n",
       "      <td>-.23</td>\n",
       "      <td>-.07</td>\n",
       "      <td>-.16</td>\n",
       "      <td>-.15</td>\n",
       "      <td>-.18</td>\n",
       "      <td>-.21</td>\n",
       "      <td>-.19</td>\n",
       "      <td>***</td>\n",
       "      <td>***</td>\n",
       "      <td>-.19</td>\n",
       "      <td>-.19</td>\n",
       "      <td>-.16</td>\n",
       "    </tr>\n",
       "    <tr>\n",
       "      <th>1</th>\n",
       "      <td>1881</td>\n",
       "      <td>-0.10</td>\n",
       "      <td>-0.13</td>\n",
       "      <td>0.02</td>\n",
       "      <td>-.02</td>\n",
       "      <td>-.03</td>\n",
       "      <td>-.27</td>\n",
       "      <td>-.05</td>\n",
       "      <td>-.01</td>\n",
       "      <td>-.08</td>\n",
       "      <td>-.18</td>\n",
       "      <td>-.25</td>\n",
       "      <td>-.15</td>\n",
       "      <td>-.11</td>\n",
       "      <td>-.11</td>\n",
       "      <td>-.15</td>\n",
       "      <td>-.01</td>\n",
       "      <td>-.11</td>\n",
       "      <td>-.17</td>\n",
       "    </tr>\n",
       "    <tr>\n",
       "      <th>2</th>\n",
       "      <td>1882</td>\n",
       "      <td>0.11</td>\n",
       "      <td>0.10</td>\n",
       "      <td>0.03</td>\n",
       "      <td>-.19</td>\n",
       "      <td>-.17</td>\n",
       "      <td>-.24</td>\n",
       "      <td>-.10</td>\n",
       "      <td>.04</td>\n",
       "      <td>.00</td>\n",
       "      <td>-.22</td>\n",
       "      <td>-.20</td>\n",
       "      <td>-.24</td>\n",
       "      <td>-.09</td>\n",
       "      <td>-.08</td>\n",
       "      <td>.02</td>\n",
       "      <td>-.11</td>\n",
       "      <td>-.10</td>\n",
       "      <td>-.14</td>\n",
       "    </tr>\n",
       "    <tr>\n",
       "      <th>3</th>\n",
       "      <td>1883</td>\n",
       "      <td>-0.33</td>\n",
       "      <td>-0.41</td>\n",
       "      <td>-0.17</td>\n",
       "      <td>-.23</td>\n",
       "      <td>-.24</td>\n",
       "      <td>-.11</td>\n",
       "      <td>-.08</td>\n",
       "      <td>-.12</td>\n",
       "      <td>-.17</td>\n",
       "      <td>-.11</td>\n",
       "      <td>-.19</td>\n",
       "      <td>-.18</td>\n",
       "      <td>-.19</td>\n",
       "      <td>-.20</td>\n",
       "      <td>-.33</td>\n",
       "      <td>-.22</td>\n",
       "      <td>-.10</td>\n",
       "      <td>-.16</td>\n",
       "    </tr>\n",
       "    <tr>\n",
       "      <th>4</th>\n",
       "      <td>1884</td>\n",
       "      <td>-0.18</td>\n",
       "      <td>-0.10</td>\n",
       "      <td>-0.33</td>\n",
       "      <td>-.35</td>\n",
       "      <td>-.30</td>\n",
       "      <td>-.37</td>\n",
       "      <td>-.33</td>\n",
       "      <td>-.24</td>\n",
       "      <td>-.22</td>\n",
       "      <td>-.21</td>\n",
       "      <td>-.29</td>\n",
       "      <td>-.28</td>\n",
       "      <td>-.27</td>\n",
       "      <td>-.26</td>\n",
       "      <td>-.15</td>\n",
       "      <td>-.33</td>\n",
       "      <td>-.31</td>\n",
       "      <td>-.24</td>\n",
       "    </tr>\n",
       "  </tbody>\n",
       "</table>\n",
       "</div>"
      ],
      "text/plain": [
       "   Year   Jan   Feb   Mar   Apr   May   Jun   Jul   Aug   Sep   Oct   Nov  \\\n",
       "0  1880 -0.29 -0.20 -0.17  -.27  -.13  -.28  -.23  -.07  -.16  -.15  -.18   \n",
       "1  1881 -0.10 -0.13  0.02  -.02  -.03  -.27  -.05  -.01  -.08  -.18  -.25   \n",
       "2  1882  0.11  0.10  0.03  -.19  -.17  -.24  -.10   .04   .00  -.22  -.20   \n",
       "3  1883 -0.33 -0.41 -0.17  -.23  -.24  -.11  -.08  -.12  -.17  -.11  -.19   \n",
       "4  1884 -0.18 -0.10 -0.33  -.35  -.30  -.37  -.33  -.24  -.22  -.21  -.29   \n",
       "\n",
       "    Dec   J-D   D-N   DJF   MAM   JJA   SON  \n",
       "0  -.21  -.19   ***   ***  -.19  -.19  -.16  \n",
       "1  -.15  -.11  -.11  -.15  -.01  -.11  -.17  \n",
       "2  -.24  -.09  -.08   .02  -.11  -.10  -.14  \n",
       "3  -.18  -.19  -.20  -.33  -.22  -.10  -.16  \n",
       "4  -.28  -.27  -.26  -.15  -.33  -.31  -.24  "
      ]
     },
     "execution_count": 10,
     "metadata": {},
     "output_type": "execute_result"
    }
   ],
   "source": [
    "t.head()"
   ]
  },
  {
   "cell_type": "code",
   "execution_count": 11,
   "metadata": {},
   "outputs": [
    {
     "name": "stderr",
     "output_type": "stream",
     "text": [
      "/tmp/ipykernel_13610/1253142195.py:4: FutureWarning: Dropping of nuisance columns in DataFrame reductions (with 'numeric_only=None') is deprecated; in a future version this will raise TypeError.  Select only valid columns before calling the reduction.\n",
      "  t['av'] = t_months_only.mean(axis=1)\n"
     ]
    }
   ],
   "source": [
    "# Let us reduce the table only to the column of the month\n",
    "t_months_only = t[['Jan','Feb','Mar','Apr', 'May', 'Jun', 'Jul', 'Aug', 'Sep', 'Oct', 'Nov', 'Dec']]\n",
    "# and \n",
    "t['av'] = t_months_only.mean(axis=1)"
   ]
  },
  {
   "cell_type": "markdown",
   "metadata": {},
   "source": [
    "### Ohh, we've got an error or a warning\n",
    "Let's see what type of data and values do we have!"
   ]
  },
  {
   "cell_type": "code",
   "execution_count": 12,
   "metadata": {},
   "outputs": [
    {
     "name": "stdout",
     "output_type": "stream",
     "text": [
      "<class 'pandas.core.frame.DataFrame'>\n",
      "RangeIndex: 138 entries, 0 to 137\n",
      "Data columns (total 12 columns):\n",
      " #   Column  Non-Null Count  Dtype  \n",
      "---  ------  --------------  -----  \n",
      " 0   Jan     138 non-null    float64\n",
      " 1   Feb     138 non-null    float64\n",
      " 2   Mar     138 non-null    float64\n",
      " 3   Apr     138 non-null    object \n",
      " 4   May     138 non-null    object \n",
      " 5   Jun     138 non-null    object \n",
      " 6   Jul     138 non-null    object \n",
      " 7   Aug     138 non-null    object \n",
      " 8   Sep     138 non-null    object \n",
      " 9   Oct     138 non-null    object \n",
      " 10  Nov     138 non-null    object \n",
      " 11  Dec     138 non-null    object \n",
      "dtypes: float64(3), object(9)\n",
      "memory usage: 13.1+ KB\n"
     ]
    }
   ],
   "source": [
    "t_months_only.info()"
   ]
  },
  {
   "cell_type": "code",
   "execution_count": 13,
   "metadata": {},
   "outputs": [
    {
     "data": {
      "text/plain": [
       "[-0.18,\n",
       " -0.1,\n",
       " -0.33,\n",
       " '-.35',\n",
       " '-.30',\n",
       " '-.37',\n",
       " '-.33',\n",
       " '-.24',\n",
       " '-.22',\n",
       " '-.21',\n",
       " '-.29',\n",
       " '-.28']"
      ]
     },
     "execution_count": 13,
     "metadata": {},
     "output_type": "execute_result"
    }
   ],
   "source": [
    "# object type means that are not only numbers in the column or their format was not recognized\n",
    "# Take a look into one of the object type columns\n",
    "t_months_only.values[4].tolist()"
   ]
  },
  {
   "cell_type": "code",
   "execution_count": 15,
   "metadata": {},
   "outputs": [
    {
     "data": {
      "text/plain": [
       "(array([137, 137, 137, 137, 137, 137, 137, 137, 137]),\n",
       " array([ 3,  4,  5,  6,  7,  8,  9, 10, 11]))"
      ]
     },
     "execution_count": 15,
     "metadata": {},
     "output_type": "execute_result"
    }
   ],
   "source": [
    "# That is always the problem with text files, that data can be ilformatted and types are not recognized correctly or the the missing values are not marked correctly\n",
    "# Let's see if we have any non numeric values in the table\n",
    "t_nonnumbers = t_months_only.apply(lambda x: pd.to_numeric(x, errors='coerce')).isnull()\n",
    "where(t_nonnumbers.values==True)\n",
    "\n",
    "# We could also write for loops to do the same\n",
    "# for i in range(len(t_months_only.values)):\n",
    "#     for j in range(len(t_months_only.values[i])):\n",
    "#         try:\n",
    "#             float(t_months_only.values[i][j])\n",
    "#         except ValueError:\n",
    "#             print(i,j,t_months_only.values[i][j])"
   ]
  },
  {
   "cell_type": "code",
   "execution_count": 39,
   "metadata": {},
   "outputs": [
    {
     "name": "stderr",
     "output_type": "stream",
     "text": [
      "/tmp/ipykernel_8646/304260775.py:2: SettingWithCopyWarning: \n",
      "A value is trying to be set on a copy of a slice from a DataFrame\n",
      "\n",
      "See the caveats in the documentation: https://pandas.pydata.org/pandas-docs/stable/user_guide/indexing.html#returning-a-view-versus-a-copy\n",
      "  t_months_only.drop(t_months_only.index[[t_months_only.shape[0]-1]], inplace=True)\n"
     ]
    }
   ],
   "source": [
    "# Ok, there are some, but only in the last row, which we can drop from the table\n",
    "t_months_only.drop(t_months_only.index[[t_months_only.shape[0]-1]], inplace=True)"
   ]
  },
  {
   "cell_type": "code",
   "execution_count": 40,
   "metadata": {},
   "outputs": [],
   "source": [
    "# Let's convert actual float numbers to float if they are represented as strings \n",
    "t_months_only_float = t_months_only.apply(axis=0, func=lambda x: pd.to_numeric(x))"
   ]
  },
  {
   "cell_type": "code",
   "execution_count": 41,
   "metadata": {},
   "outputs": [],
   "source": [
    "t['av'] = t_months_only_float.mean(axis=1,skipna=True, numeric_only=True)"
   ]
  },
  {
   "cell_type": "code",
   "execution_count": 42,
   "metadata": {},
   "outputs": [
    {
     "data": {
      "text/html": [
       "<div>\n",
       "<style scoped>\n",
       "    .dataframe tbody tr th:only-of-type {\n",
       "        vertical-align: middle;\n",
       "    }\n",
       "\n",
       "    .dataframe tbody tr th {\n",
       "        vertical-align: top;\n",
       "    }\n",
       "\n",
       "    .dataframe thead th {\n",
       "        text-align: right;\n",
       "    }\n",
       "</style>\n",
       "<table border=\"1\" class=\"dataframe\">\n",
       "  <thead>\n",
       "    <tr style=\"text-align: right;\">\n",
       "      <th></th>\n",
       "      <th>Year</th>\n",
       "      <th>Jan</th>\n",
       "      <th>Feb</th>\n",
       "      <th>Mar</th>\n",
       "      <th>Apr</th>\n",
       "      <th>May</th>\n",
       "      <th>Jun</th>\n",
       "      <th>Jul</th>\n",
       "      <th>Aug</th>\n",
       "      <th>Sep</th>\n",
       "      <th>Oct</th>\n",
       "      <th>Nov</th>\n",
       "      <th>Dec</th>\n",
       "      <th>J-D</th>\n",
       "      <th>D-N</th>\n",
       "      <th>DJF</th>\n",
       "      <th>MAM</th>\n",
       "      <th>JJA</th>\n",
       "      <th>SON</th>\n",
       "      <th>av</th>\n",
       "    </tr>\n",
       "  </thead>\n",
       "  <tbody>\n",
       "    <tr>\n",
       "      <th>0</th>\n",
       "      <td>1880</td>\n",
       "      <td>-0.29</td>\n",
       "      <td>-0.20</td>\n",
       "      <td>-0.17</td>\n",
       "      <td>-.27</td>\n",
       "      <td>-.13</td>\n",
       "      <td>-.28</td>\n",
       "      <td>-.23</td>\n",
       "      <td>-.07</td>\n",
       "      <td>-.16</td>\n",
       "      <td>-.15</td>\n",
       "      <td>-.18</td>\n",
       "      <td>-.21</td>\n",
       "      <td>-.19</td>\n",
       "      <td>***</td>\n",
       "      <td>***</td>\n",
       "      <td>-.19</td>\n",
       "      <td>-.19</td>\n",
       "      <td>-.16</td>\n",
       "      <td>-0.195000</td>\n",
       "    </tr>\n",
       "    <tr>\n",
       "      <th>1</th>\n",
       "      <td>1881</td>\n",
       "      <td>-0.10</td>\n",
       "      <td>-0.13</td>\n",
       "      <td>0.02</td>\n",
       "      <td>-.02</td>\n",
       "      <td>-.03</td>\n",
       "      <td>-.27</td>\n",
       "      <td>-.05</td>\n",
       "      <td>-.01</td>\n",
       "      <td>-.08</td>\n",
       "      <td>-.18</td>\n",
       "      <td>-.25</td>\n",
       "      <td>-.15</td>\n",
       "      <td>-.11</td>\n",
       "      <td>-.11</td>\n",
       "      <td>-.15</td>\n",
       "      <td>-.01</td>\n",
       "      <td>-.11</td>\n",
       "      <td>-.17</td>\n",
       "      <td>-0.104167</td>\n",
       "    </tr>\n",
       "    <tr>\n",
       "      <th>2</th>\n",
       "      <td>1882</td>\n",
       "      <td>0.11</td>\n",
       "      <td>0.10</td>\n",
       "      <td>0.03</td>\n",
       "      <td>-.19</td>\n",
       "      <td>-.17</td>\n",
       "      <td>-.24</td>\n",
       "      <td>-.10</td>\n",
       "      <td>.04</td>\n",
       "      <td>.00</td>\n",
       "      <td>-.22</td>\n",
       "      <td>-.20</td>\n",
       "      <td>-.24</td>\n",
       "      <td>-.09</td>\n",
       "      <td>-.08</td>\n",
       "      <td>.02</td>\n",
       "      <td>-.11</td>\n",
       "      <td>-.10</td>\n",
       "      <td>-.14</td>\n",
       "      <td>-0.090000</td>\n",
       "    </tr>\n",
       "    <tr>\n",
       "      <th>3</th>\n",
       "      <td>1883</td>\n",
       "      <td>-0.33</td>\n",
       "      <td>-0.41</td>\n",
       "      <td>-0.17</td>\n",
       "      <td>-.23</td>\n",
       "      <td>-.24</td>\n",
       "      <td>-.11</td>\n",
       "      <td>-.08</td>\n",
       "      <td>-.12</td>\n",
       "      <td>-.17</td>\n",
       "      <td>-.11</td>\n",
       "      <td>-.19</td>\n",
       "      <td>-.18</td>\n",
       "      <td>-.19</td>\n",
       "      <td>-.20</td>\n",
       "      <td>-.33</td>\n",
       "      <td>-.22</td>\n",
       "      <td>-.10</td>\n",
       "      <td>-.16</td>\n",
       "      <td>-0.195000</td>\n",
       "    </tr>\n",
       "    <tr>\n",
       "      <th>4</th>\n",
       "      <td>1884</td>\n",
       "      <td>-0.18</td>\n",
       "      <td>-0.10</td>\n",
       "      <td>-0.33</td>\n",
       "      <td>-.35</td>\n",
       "      <td>-.30</td>\n",
       "      <td>-.37</td>\n",
       "      <td>-.33</td>\n",
       "      <td>-.24</td>\n",
       "      <td>-.22</td>\n",
       "      <td>-.21</td>\n",
       "      <td>-.29</td>\n",
       "      <td>-.28</td>\n",
       "      <td>-.27</td>\n",
       "      <td>-.26</td>\n",
       "      <td>-.15</td>\n",
       "      <td>-.33</td>\n",
       "      <td>-.31</td>\n",
       "      <td>-.24</td>\n",
       "      <td>-0.266667</td>\n",
       "    </tr>\n",
       "  </tbody>\n",
       "</table>\n",
       "</div>"
      ],
      "text/plain": [
       "   Year   Jan   Feb   Mar   Apr   May   Jun   Jul   Aug   Sep   Oct   Nov  \\\n",
       "0  1880 -0.29 -0.20 -0.17  -.27  -.13  -.28  -.23  -.07  -.16  -.15  -.18   \n",
       "1  1881 -0.10 -0.13  0.02  -.02  -.03  -.27  -.05  -.01  -.08  -.18  -.25   \n",
       "2  1882  0.11  0.10  0.03  -.19  -.17  -.24  -.10   .04   .00  -.22  -.20   \n",
       "3  1883 -0.33 -0.41 -0.17  -.23  -.24  -.11  -.08  -.12  -.17  -.11  -.19   \n",
       "4  1884 -0.18 -0.10 -0.33  -.35  -.30  -.37  -.33  -.24  -.22  -.21  -.29   \n",
       "\n",
       "    Dec   J-D   D-N   DJF   MAM   JJA   SON        av  \n",
       "0  -.21  -.19   ***   ***  -.19  -.19  -.16 -0.195000  \n",
       "1  -.15  -.11  -.11  -.15  -.01  -.11  -.17 -0.104167  \n",
       "2  -.24  -.09  -.08   .02  -.11  -.10  -.14 -0.090000  \n",
       "3  -.18  -.19  -.20  -.33  -.22  -.10  -.16 -0.195000  \n",
       "4  -.28  -.27  -.26  -.15  -.33  -.31  -.24 -0.266667  "
      ]
     },
     "execution_count": 42,
     "metadata": {},
     "output_type": "execute_result"
    }
   ],
   "source": [
    "t.head()"
   ]
  },
  {
   "cell_type": "code",
   "execution_count": 43,
   "metadata": {},
   "outputs": [
    {
     "data": {
      "image/png": "[encoded data removed]",
      "text/plain": [
       "<Figure size 640x480 with 1 Axes>"
      ]
     },
     "metadata": {},
     "output_type": "display_data"
    }
   ],
   "source": [
    "plot(t['Year'].values, t['av'].values)\n",
    "plt.xlabel('years')\n",
    "d=plt.ylabel('Relative annual average temperature')"
   ]
  },
  {
   "cell_type": "code",
   "execution_count": 49,
   "metadata": {},
   "outputs": [],
   "source": [
    "# We save it now, so we can use it later\n",
    "t.to_csv('data/T_adat_clean.csv', index=False)"
   ]
  },
  {
   "cell_type": "markdown",
   "metadata": {},
   "source": [
    "### Let's take a look at the other file"
   ]
  },
  {
   "cell_type": "code",
   "execution_count": 44,
   "metadata": {},
   "outputs": [
    {
     "name": "stdout",
     "output_type": "stream",
     "text": [
      "# --------------------------------------------------------------------\n",
      "# USE OF NOAA ESRL DATA\n",
      "# \n",
      "# These data are made freely available to the public and the\n",
      "# scientific community in the belief that their wide dissemination\n",
      "# will lead to greater understanding and new scientific insights.\n",
      "# The availability of these data does not constitute publication\n",
      "# of the data.  NOAA relies on the ethics and integrity of the user to\n",
      "# insure that ESRL receives fair credit for their work.  If the data \n",
      "# are obtained for potential use in a publication or presentation, \n",
      "# ESRL should be informed at the outset of the nature of this work.  \n",
      "# If the ESRL data are essential to the work, or if an important \n",
      "# result or conclusion depends on the ESRL data, co-authorship\n",
      "# may be appropriate.  This should be discussed at an early stage in\n",
      "# the work.  Manuscripts using the ESRL data should be sent to ESRL\n",
      "# for review before they are submitted for publication so we can\n",
      "# insure that the quality and limitations of the data are accurately\n",
      "# represented.\n",
      "# \n",
      "# Contact:   Pieter Tans (303 497 6678; pieter.tans@noaa.gov)\n"
     ]
    }
   ],
   "source": [
    "!head -n 20 data/co2_adat.txt"
   ]
  },
  {
   "cell_type": "code",
   "execution_count": 45,
   "metadata": {},
   "outputs": [
    {
     "name": "stdout",
     "output_type": "stream",
     "text": [
      "1958   3    1958.208      315.71      315.71      314.62     -1\n",
      "1958   4    1958.292      317.45      317.45      315.29     -1\n",
      "1958   5    1958.375      317.50      317.50      314.71     -1\n",
      "1958   6    1958.458      -99.99      317.10      314.85     -1\n",
      "1958   7    1958.542      315.86      315.86      314.98     -1\n",
      "1958   8    1958.625      314.93      314.93      315.94     -1\n",
      "1958   9    1958.708      313.20      313.20      315.91     -1\n",
      "1958  10    1958.792      -99.99      312.66      315.61     -1\n",
      "1958  11    1958.875      313.33      313.33      315.31     -1\n",
      "1958  12    1958.958      314.67      314.67      315.61     -1\n",
      "grep: write error: Broken pipe\n"
     ]
    }
   ],
   "source": [
    "# there are lot of comments let's see the last rows, let's skip those with a bash script \n",
    "# (or we could look into the file as well)\n",
    "!grep -v \"#\" data/co2_adat.txt | head"
   ]
  },
  {
   "cell_type": "code",
   "execution_count": 46,
   "metadata": {},
   "outputs": [
    {
     "data": {
      "text/html": [
       "<div>\n",
       "<style scoped>\n",
       "    .dataframe tbody tr th:only-of-type {\n",
       "        vertical-align: middle;\n",
       "    }\n",
       "\n",
       "    .dataframe tbody tr th {\n",
       "        vertical-align: top;\n",
       "    }\n",
       "\n",
       "    .dataframe thead th {\n",
       "        text-align: right;\n",
       "    }\n",
       "</style>\n",
       "<table border=\"1\" class=\"dataframe\">\n",
       "  <thead>\n",
       "    <tr style=\"text-align: right;\">\n",
       "      <th></th>\n",
       "      <th>y</th>\n",
       "      <th>mo</th>\n",
       "      <th>dec y</th>\n",
       "      <th>co2</th>\n",
       "      <th>interpolated</th>\n",
       "      <th>trend</th>\n",
       "      <th>#d</th>\n",
       "    </tr>\n",
       "  </thead>\n",
       "  <tbody>\n",
       "    <tr>\n",
       "      <th>0</th>\n",
       "      <td>1958</td>\n",
       "      <td>3</td>\n",
       "      <td>1958.208</td>\n",
       "      <td>315.71</td>\n",
       "      <td>315.71</td>\n",
       "      <td>314.62</td>\n",
       "      <td>-1</td>\n",
       "    </tr>\n",
       "    <tr>\n",
       "      <th>1</th>\n",
       "      <td>1958</td>\n",
       "      <td>4</td>\n",
       "      <td>1958.292</td>\n",
       "      <td>317.45</td>\n",
       "      <td>317.45</td>\n",
       "      <td>315.29</td>\n",
       "      <td>-1</td>\n",
       "    </tr>\n",
       "    <tr>\n",
       "      <th>2</th>\n",
       "      <td>1958</td>\n",
       "      <td>5</td>\n",
       "      <td>1958.375</td>\n",
       "      <td>317.50</td>\n",
       "      <td>317.50</td>\n",
       "      <td>314.71</td>\n",
       "      <td>-1</td>\n",
       "    </tr>\n",
       "    <tr>\n",
       "      <th>3</th>\n",
       "      <td>1958</td>\n",
       "      <td>6</td>\n",
       "      <td>1958.458</td>\n",
       "      <td>-99.99</td>\n",
       "      <td>317.10</td>\n",
       "      <td>314.85</td>\n",
       "      <td>-1</td>\n",
       "    </tr>\n",
       "    <tr>\n",
       "      <th>4</th>\n",
       "      <td>1958</td>\n",
       "      <td>7</td>\n",
       "      <td>1958.542</td>\n",
       "      <td>315.86</td>\n",
       "      <td>315.86</td>\n",
       "      <td>314.98</td>\n",
       "      <td>-1</td>\n",
       "    </tr>\n",
       "  </tbody>\n",
       "</table>\n",
       "</div>"
      ],
      "text/plain": [
       "      y  mo     dec y     co2  interpolated   trend  #d\n",
       "0  1958   3  1958.208  315.71        315.71  314.62  -1\n",
       "1  1958   4  1958.292  317.45        317.45  315.29  -1\n",
       "2  1958   5  1958.375  317.50        317.50  314.71  -1\n",
       "3  1958   6  1958.458  -99.99        317.10  314.85  -1\n",
       "4  1958   7  1958.542  315.86        315.86  314.98  -1"
      ]
     },
     "execution_count": 46,
     "metadata": {},
     "output_type": "execute_result"
    }
   ],
   "source": [
    "# So there is no header and w need to name the columns\n",
    "n=['y','mo','dec y','co2','interpolated','trend','#d']\n",
    "\n",
    "# The separator are varying number of spaces, so instead of 'sep', we use the 'delim_whitespace' argument\n",
    "co2 = pd.read_csv(\"data/co2_adat.txt\", delim_whitespace=True, comment='#', names=n)\n",
    "co2.head()"
   ]
  },
  {
   "cell_type": "code",
   "execution_count": 48,
   "metadata": {},
   "outputs": [
    {
     "data": {
      "image/png": "[encoded data removed]",
      "text/plain": [
       "<Figure size 640x480 with 1 Axes>"
      ]
     },
     "metadata": {},
     "output_type": "display_data"
    }
   ],
   "source": [
    "# Plotting with the matplotlib plugin for pandas\n",
    "avgco2 = co2.groupby('y')['co2'].mean()\n",
    "plot_co2 = avgco2.plot(marker='+', linestyle=' ', xlabel=r'average $CO_2$ concentration [ppm]', ylabel='years')"
   ]
  },
  {
   "cell_type": "markdown",
   "metadata": {},
   "source": [
    "## Pandas-Correlation\n",
    "\n",
    "Compare two Dataframes! (from previous exercise `data/T_adat.csv` and `data/co2_adat.txt`)\n",
    "\n",
    "- Merge the two Dataframes along the column that contains the years, and leave only those rows that contain value in both Dataframes.\n",
    "\n",
    "- Take a look at the newly created Dataframe and, check how much the average temperature correlates with the average $CO_2$ concentration. Plot the average temperatures as the function of $CO_2$ concentration."
   ]
  },
  {
   "cell_type": "markdown",
   "metadata": {},
   "source": [
    "### Solution"
   ]
  },
  {
   "cell_type": "code",
   "execution_count": 1,
   "metadata": {},
   "outputs": [
    {
     "name": "stdout",
     "output_type": "stream",
     "text": [
      "Populating the interactive namespace from numpy and matplotlib\n"
     ]
    }
   ],
   "source": [
    "%pylab inline\n",
    "import pandas as pd"
   ]
  },
  {
   "cell_type": "code",
   "execution_count": 50,
   "metadata": {},
   "outputs": [],
   "source": [
    "# Read again the datasets, but now the cleaned version\n",
    "t = pd.read_csv('data/T_adat_clean.csv')\n",
    "\n",
    "n=['y','mo','dec y','co2','interpolated','trend','#d']\n",
    "co2=pd.read_csv('data/co2_adat.txt',delim_whitespace=True,comment='#',names=n)"
   ]
  },
  {
   "cell_type": "code",
   "execution_count": 51,
   "metadata": {},
   "outputs": [],
   "source": [
    "# we need to get the co2 averages with groupby into z new Dataframe\n",
    "co2_simple = pd.DataFrame()\n",
    "co2_simple['y'] = list(co2['y'].unique())\n",
    "co2_simple['avgco2'] = list(co2.groupby('y')['co2'].mean())"
   ]
  },
  {
   "cell_type": "code",
   "execution_count": 52,
   "metadata": {},
   "outputs": [
    {
     "data": {
      "text/html": [
       "<div>\n",
       "<style scoped>\n",
       "    .dataframe tbody tr th:only-of-type {\n",
       "        vertical-align: middle;\n",
       "    }\n",
       "\n",
       "    .dataframe tbody tr th {\n",
       "        vertical-align: top;\n",
       "    }\n",
       "\n",
       "    .dataframe thead th {\n",
       "        text-align: right;\n",
       "    }\n",
       "</style>\n",
       "<table border=\"1\" class=\"dataframe\">\n",
       "  <thead>\n",
       "    <tr style=\"text-align: right;\">\n",
       "      <th></th>\n",
       "      <th>y</th>\n",
       "      <th>avgco2</th>\n",
       "    </tr>\n",
       "  </thead>\n",
       "  <tbody>\n",
       "    <tr>\n",
       "      <th>0</th>\n",
       "      <td>1958</td>\n",
       "      <td>232.267000</td>\n",
       "    </tr>\n",
       "    <tr>\n",
       "      <th>1</th>\n",
       "      <td>1959</td>\n",
       "      <td>315.974167</td>\n",
       "    </tr>\n",
       "    <tr>\n",
       "      <th>2</th>\n",
       "      <td>1960</td>\n",
       "      <td>316.907500</td>\n",
       "    </tr>\n",
       "    <tr>\n",
       "      <th>3</th>\n",
       "      <td>1961</td>\n",
       "      <td>317.637500</td>\n",
       "    </tr>\n",
       "    <tr>\n",
       "      <th>4</th>\n",
       "      <td>1962</td>\n",
       "      <td>318.450833</td>\n",
       "    </tr>\n",
       "  </tbody>\n",
       "</table>\n",
       "</div>"
      ],
      "text/plain": [
       "      y      avgco2\n",
       "0  1958  232.267000\n",
       "1  1959  315.974167\n",
       "2  1960  316.907500\n",
       "3  1961  317.637500\n",
       "4  1962  318.450833"
      ]
     },
     "execution_count": 52,
     "metadata": {},
     "output_type": "execute_result"
    }
   ],
   "source": [
    "co2_simple.head()"
   ]
  },
  {
   "cell_type": "code",
   "execution_count": 53,
   "metadata": {},
   "outputs": [
    {
     "data": {
      "text/html": [
       "<div>\n",
       "<style scoped>\n",
       "    .dataframe tbody tr th:only-of-type {\n",
       "        vertical-align: middle;\n",
       "    }\n",
       "\n",
       "    .dataframe tbody tr th {\n",
       "        vertical-align: top;\n",
       "    }\n",
       "\n",
       "    .dataframe thead th {\n",
       "        text-align: right;\n",
       "    }\n",
       "</style>\n",
       "<table border=\"1\" class=\"dataframe\">\n",
       "  <thead>\n",
       "    <tr style=\"text-align: right;\">\n",
       "      <th></th>\n",
       "      <th>Year</th>\n",
       "      <th>Jan</th>\n",
       "      <th>Feb</th>\n",
       "      <th>Mar</th>\n",
       "      <th>Apr</th>\n",
       "      <th>May</th>\n",
       "      <th>Jun</th>\n",
       "      <th>Jul</th>\n",
       "      <th>Aug</th>\n",
       "      <th>Sep</th>\n",
       "      <th>...</th>\n",
       "      <th>Dec</th>\n",
       "      <th>J-D</th>\n",
       "      <th>D-N</th>\n",
       "      <th>DJF</th>\n",
       "      <th>MAM</th>\n",
       "      <th>JJA</th>\n",
       "      <th>SON</th>\n",
       "      <th>av</th>\n",
       "      <th>y</th>\n",
       "      <th>avgco2</th>\n",
       "    </tr>\n",
       "  </thead>\n",
       "  <tbody>\n",
       "    <tr>\n",
       "      <th>0</th>\n",
       "      <td>1958</td>\n",
       "      <td>0.39</td>\n",
       "      <td>0.24</td>\n",
       "      <td>0.10</td>\n",
       "      <td>.01</td>\n",
       "      <td>.08</td>\n",
       "      <td>-.05</td>\n",
       "      <td>.06</td>\n",
       "      <td>-.06</td>\n",
       "      <td>-.03</td>\n",
       "      <td>...</td>\n",
       "      <td>.01</td>\n",
       "      <td>.07</td>\n",
       "      <td>.08</td>\n",
       "      <td>.27</td>\n",
       "      <td>.06</td>\n",
       "      <td>-.02</td>\n",
       "      <td>.01</td>\n",
       "      <td>0.067500</td>\n",
       "      <td>1958</td>\n",
       "      <td>232.267000</td>\n",
       "    </tr>\n",
       "    <tr>\n",
       "      <th>1</th>\n",
       "      <td>1959</td>\n",
       "      <td>0.06</td>\n",
       "      <td>0.10</td>\n",
       "      <td>0.19</td>\n",
       "      <td>.17</td>\n",
       "      <td>.06</td>\n",
       "      <td>.02</td>\n",
       "      <td>.06</td>\n",
       "      <td>-.01</td>\n",
       "      <td>-.06</td>\n",
       "      <td>...</td>\n",
       "      <td>-.03</td>\n",
       "      <td>.03</td>\n",
       "      <td>.04</td>\n",
       "      <td>.06</td>\n",
       "      <td>.14</td>\n",
       "      <td>.02</td>\n",
       "      <td>-.08</td>\n",
       "      <td>0.031667</td>\n",
       "      <td>1959</td>\n",
       "      <td>315.974167</td>\n",
       "    </tr>\n",
       "    <tr>\n",
       "      <th>2</th>\n",
       "      <td>1960</td>\n",
       "      <td>-0.01</td>\n",
       "      <td>0.14</td>\n",
       "      <td>-0.36</td>\n",
       "      <td>-.16</td>\n",
       "      <td>-.08</td>\n",
       "      <td>.01</td>\n",
       "      <td>-.02</td>\n",
       "      <td>.00</td>\n",
       "      <td>.05</td>\n",
       "      <td>...</td>\n",
       "      <td>.18</td>\n",
       "      <td>-.03</td>\n",
       "      <td>-.04</td>\n",
       "      <td>.03</td>\n",
       "      <td>-.20</td>\n",
       "      <td>.00</td>\n",
       "      <td>.00</td>\n",
       "      <td>-0.025000</td>\n",
       "      <td>1960</td>\n",
       "      <td>316.907500</td>\n",
       "    </tr>\n",
       "    <tr>\n",
       "      <th>3</th>\n",
       "      <td>1961</td>\n",
       "      <td>0.07</td>\n",
       "      <td>0.18</td>\n",
       "      <td>0.09</td>\n",
       "      <td>.15</td>\n",
       "      <td>.13</td>\n",
       "      <td>.12</td>\n",
       "      <td>-.03</td>\n",
       "      <td>.02</td>\n",
       "      <td>.05</td>\n",
       "      <td>...</td>\n",
       "      <td>-.15</td>\n",
       "      <td>.05</td>\n",
       "      <td>.08</td>\n",
       "      <td>.14</td>\n",
       "      <td>.12</td>\n",
       "      <td>.04</td>\n",
       "      <td>.03</td>\n",
       "      <td>0.055000</td>\n",
       "      <td>1961</td>\n",
       "      <td>317.637500</td>\n",
       "    </tr>\n",
       "    <tr>\n",
       "      <th>4</th>\n",
       "      <td>1962</td>\n",
       "      <td>0.08</td>\n",
       "      <td>0.14</td>\n",
       "      <td>0.12</td>\n",
       "      <td>.05</td>\n",
       "      <td>-.06</td>\n",
       "      <td>.06</td>\n",
       "      <td>-.02</td>\n",
       "      <td>-.02</td>\n",
       "      <td>.00</td>\n",
       "      <td>...</td>\n",
       "      <td>-.01</td>\n",
       "      <td>.03</td>\n",
       "      <td>.02</td>\n",
       "      <td>.03</td>\n",
       "      <td>.04</td>\n",
       "      <td>.01</td>\n",
       "      <td>.01</td>\n",
       "      <td>0.032500</td>\n",
       "      <td>1962</td>\n",
       "      <td>318.450833</td>\n",
       "    </tr>\n",
       "  </tbody>\n",
       "</table>\n",
       "<p>5 rows × 22 columns</p>\n",
       "</div>"
      ],
      "text/plain": [
       "   Year   Jan   Feb   Mar   Apr   May   Jun   Jul   Aug   Sep  ...   Dec  \\\n",
       "0  1958  0.39  0.24  0.10   .01   .08  -.05   .06  -.06  -.03  ...   .01   \n",
       "1  1959  0.06  0.10  0.19   .17   .06   .02   .06  -.01  -.06  ...  -.03   \n",
       "2  1960 -0.01  0.14 -0.36  -.16  -.08   .01  -.02   .00   .05  ...   .18   \n",
       "3  1961  0.07  0.18  0.09   .15   .13   .12  -.03   .02   .05  ...  -.15   \n",
       "4  1962  0.08  0.14  0.12   .05  -.06   .06  -.02  -.02   .00  ...  -.01   \n",
       "\n",
       "    J-D   D-N  DJF   MAM   JJA   SON        av     y      avgco2  \n",
       "0   .07   .08  .27   .06  -.02   .01  0.067500  1958  232.267000  \n",
       "1   .03   .04  .06   .14   .02  -.08  0.031667  1959  315.974167  \n",
       "2  -.03  -.04  .03  -.20   .00   .00 -0.025000  1960  316.907500  \n",
       "3   .05   .08  .14   .12   .04   .03  0.055000  1961  317.637500  \n",
       "4   .03   .02  .03   .04   .01   .01  0.032500  1962  318.450833  \n",
       "\n",
       "[5 rows x 22 columns]"
      ]
     },
     "execution_count": 53,
     "metadata": {},
     "output_type": "execute_result"
    }
   ],
   "source": [
    "# Nerge the two dataframes\n",
    "new_df = t.merge(co2_simple, how='inner',\n",
    "                left_on='Year',\n",
    "                 right_on='y')\n",
    "new_df.head()"
   ]
  },
  {
   "cell_type": "code",
   "execution_count": 54,
   "metadata": {},
   "outputs": [
    {
     "data": {
      "image/png": "[encoded data removed]",
      "text/plain": [
       "<Figure size 640x480 with 1 Axes>"
      ]
     },
     "metadata": {},
     "output_type": "display_data"
    }
   ],
   "source": [
    "plot(new_df['avgco2'].values, new_df['av'].values, '+')\n",
    "plt.xlabel(r'average $CO_2$ concentration [ppm]', fontsize=12)\n",
    "d = plt.ylabel('Relative average temperature', fontsize=12)"
   ]
  },
  {
   "cell_type": "code",
   "execution_count": 55,
   "metadata": {
    "scrolled": true
   },
   "outputs": [
    {
     "name": "stdout",
     "output_type": "stream",
     "text": [
      "Pearson-correlation coefficient between the annual average $CO_2$ concentration and the average temperature: 0.8436089883938621\n"
     ]
    }
   ],
   "source": [
    "print(r'Pearson-correlation coefficient between the annual average $CO_2$ concentration and the average temperature: ' \n",
    "      + str(new_df['avgco2'].corr(new_df['av'])))"
   ]
  },
  {
   "cell_type": "markdown",
   "metadata": {},
   "source": [
    "## Still fossil fuel\n",
    "The `fossil-fuel-co2-emissions-by-nation.csv` file contains the $CO_2$ emissions by burning fossil fuel of each country in the world in the last two centuries.\n",
    "\n",
    "- With the help of the `pandas` module load the data into `DataFrames`!\n",
    "- Calculate the total emission in 2014! Using the \"Total\" column, which were the top ten countries emitting $CO_2$?.\n",
    "- Create a plot with the total emission of the 10 top polluters as the function of time  (column \"Year\")! \n",
    "- Create a plot with the emission of the Visegrad 4 countries (Hungary, Slovakia, Czech Republic, Poland), where you separate the \"Solid Fuel\", \"Liquid Fuel\" and \"Gas Fuel\" columns. \n"
   ]
  },
  {
   "cell_type": "markdown",
   "metadata": {},
   "source": [
    "### Solution"
   ]
  },
  {
   "cell_type": "code",
   "execution_count": 18,
   "metadata": {},
   "outputs": [
    {
     "name": "stdout",
     "output_type": "stream",
     "text": [
      "Populating the interactive namespace from numpy and matplotlib\n"
     ]
    }
   ],
   "source": [
    "%pylab inline\n",
    "import pandas as pd\n",
    "from ipywidgets import interact"
   ]
  },
  {
   "cell_type": "code",
   "execution_count": 19,
   "metadata": {},
   "outputs": [],
   "source": [
    "dat=pd.read_csv('data/fossil-fuel-co2-emissions-by-nation.csv')"
   ]
  },
  {
   "cell_type": "code",
   "execution_count": 20,
   "metadata": {},
   "outputs": [
    {
     "data": {
      "text/html": [
       "<div>\n",
       "<style scoped>\n",
       "    .dataframe tbody tr th:only-of-type {\n",
       "        vertical-align: middle;\n",
       "    }\n",
       "\n",
       "    .dataframe tbody tr th {\n",
       "        vertical-align: top;\n",
       "    }\n",
       "\n",
       "    .dataframe thead th {\n",
       "        text-align: right;\n",
       "    }\n",
       "</style>\n",
       "<table border=\"1\" class=\"dataframe\">\n",
       "  <thead>\n",
       "    <tr style=\"text-align: right;\">\n",
       "      <th></th>\n",
       "      <th>Year</th>\n",
       "      <th>Country</th>\n",
       "      <th>Total</th>\n",
       "      <th>Solid Fuel</th>\n",
       "      <th>Liquid Fuel</th>\n",
       "      <th>Gas Fuel</th>\n",
       "      <th>Cement</th>\n",
       "      <th>Gas Flaring</th>\n",
       "      <th>Per Capita</th>\n",
       "      <th>Bunker fuels (Not in Total)</th>\n",
       "    </tr>\n",
       "  </thead>\n",
       "  <tbody>\n",
       "    <tr>\n",
       "      <th>0</th>\n",
       "      <td>1751</td>\n",
       "      <td>UNITED KINGDOM</td>\n",
       "      <td>2552</td>\n",
       "      <td>2552</td>\n",
       "      <td>0</td>\n",
       "      <td>0</td>\n",
       "      <td>0</td>\n",
       "      <td>0</td>\n",
       "      <td>0.0</td>\n",
       "      <td>0</td>\n",
       "    </tr>\n",
       "    <tr>\n",
       "      <th>1</th>\n",
       "      <td>1752</td>\n",
       "      <td>UNITED KINGDOM</td>\n",
       "      <td>2553</td>\n",
       "      <td>2553</td>\n",
       "      <td>0</td>\n",
       "      <td>0</td>\n",
       "      <td>0</td>\n",
       "      <td>0</td>\n",
       "      <td>0.0</td>\n",
       "      <td>0</td>\n",
       "    </tr>\n",
       "    <tr>\n",
       "      <th>2</th>\n",
       "      <td>1753</td>\n",
       "      <td>UNITED KINGDOM</td>\n",
       "      <td>2553</td>\n",
       "      <td>2553</td>\n",
       "      <td>0</td>\n",
       "      <td>0</td>\n",
       "      <td>0</td>\n",
       "      <td>0</td>\n",
       "      <td>0.0</td>\n",
       "      <td>0</td>\n",
       "    </tr>\n",
       "    <tr>\n",
       "      <th>3</th>\n",
       "      <td>1754</td>\n",
       "      <td>UNITED KINGDOM</td>\n",
       "      <td>2554</td>\n",
       "      <td>2554</td>\n",
       "      <td>0</td>\n",
       "      <td>0</td>\n",
       "      <td>0</td>\n",
       "      <td>0</td>\n",
       "      <td>0.0</td>\n",
       "      <td>0</td>\n",
       "    </tr>\n",
       "    <tr>\n",
       "      <th>4</th>\n",
       "      <td>1755</td>\n",
       "      <td>UNITED KINGDOM</td>\n",
       "      <td>2555</td>\n",
       "      <td>2555</td>\n",
       "      <td>0</td>\n",
       "      <td>0</td>\n",
       "      <td>0</td>\n",
       "      <td>0</td>\n",
       "      <td>0.0</td>\n",
       "      <td>0</td>\n",
       "    </tr>\n",
       "  </tbody>\n",
       "</table>\n",
       "</div>"
      ],
      "text/plain": [
       "   Year         Country  Total  Solid Fuel  Liquid Fuel  Gas Fuel  Cement  \\\n",
       "0  1751  UNITED KINGDOM   2552        2552            0         0       0   \n",
       "1  1752  UNITED KINGDOM   2553        2553            0         0       0   \n",
       "2  1753  UNITED KINGDOM   2553        2553            0         0       0   \n",
       "3  1754  UNITED KINGDOM   2554        2554            0         0       0   \n",
       "4  1755  UNITED KINGDOM   2555        2555            0         0       0   \n",
       "\n",
       "   Gas Flaring  Per Capita  Bunker fuels (Not in Total)  \n",
       "0            0         0.0                            0  \n",
       "1            0         0.0                            0  \n",
       "2            0         0.0                            0  \n",
       "3            0         0.0                            0  \n",
       "4            0         0.0                            0  "
      ]
     },
     "execution_count": 20,
     "metadata": {},
     "output_type": "execute_result"
    }
   ],
   "source": [
    "dat.head()"
   ]
  },
  {
   "cell_type": "code",
   "execution_count": 21,
   "metadata": {},
   "outputs": [],
   "source": [
    "# In order to get the first 10 countries that produce the most co_2 in 2014 we need to\n",
    "# select data for 2014\n",
    "# keep only the Country nd Total columns\n",
    "# sort by Total\n",
    "# and list the first 10\n",
    "ten_polluters = dat[dat['Year'] == 2014][['Country','Total']].sort_values(by = 'Total', ascending = False)[:10]"
   ]
  },
  {
   "cell_type": "code",
   "execution_count": 22,
   "metadata": {},
   "outputs": [
    {
     "data": {
      "image/png": "[encoded data removed]",
      "text/plain": [
       "<Figure size 640x480 with 1 Axes>"
      ]
     },
     "metadata": {},
     "output_type": "display_data"
    }
   ],
   "source": [
    "# Create a plot for each country\n",
    "for c in ten_polluters['Country']:\n",
    "    plot(dat[dat['Country']==c]['Year'],\n",
    "         dat[dat['Country']==c]['Total'], label=c)    \n",
    "    \n",
    "legend()\n",
    "xlabel('Year', fontsize=14)\n",
    "ylabel('Total $CO_2$ emission in t', fontsize=14);"
   ]
  },
  {
   "cell_type": "markdown",
   "metadata": {},
   "source": [
    "Have some interactivity with ipywidgets\n",
    "\n",
    "We will use plotly later, which is a more suitable package for interactive figures and applications"
   ]
  },
  {
   "cell_type": "code",
   "execution_count": 24,
   "metadata": {},
   "outputs": [],
   "source": [
    "countries = dat['Country'].unique()"
   ]
  },
  {
   "cell_type": "code",
   "execution_count": 25,
   "metadata": {},
   "outputs": [
    {
     "data": {
      "application/vnd.jupyter.widget-view+json": {
       "model_id": "e333e6f318464d1da9b3ba11841b0974",
       "version_major": 2,
       "version_minor": 0
      },
      "text/plain": [
       "interactive(children=(Dropdown(description='country', options=('UNITED KINGDOM', 'CANADA', 'GERMANY', 'POLAND'…"
      ]
     },
     "metadata": {},
     "output_type": "display_data"
    }
   ],
   "source": [
    "@interact(country=countries)\n",
    "def plot_total_country(country):\n",
    "    plot(dat[dat['Country']==country]['Year'],\n",
    "         dat[dat['Country']==country]['Total'], label=country)  \n",
    "    title(f'$CO_2$ emission of {country}')\n",
    "    xlabel('Year', fontsize=14)\n",
    "    ylabel('Total $CO_2$ emission in t', fontsize=14);\n",
    "    "
   ]
  },
  {
   "cell_type": "markdown",
   "metadata": {},
   "source": [
    "Compare any two countries"
   ]
  },
  {
   "cell_type": "code",
   "execution_count": 26,
   "metadata": {},
   "outputs": [
    {
     "data": {
      "application/vnd.jupyter.widget-view+json": {
       "model_id": "e834bff33c904d5aa372be17b47a296e",
       "version_major": 2,
       "version_minor": 0
      },
      "text/plain": [
       "interactive(children=(Dropdown(description='country1', options=('UNITED KINGDOM', 'CANADA', 'GERMANY', 'POLAND…"
      ]
     },
     "metadata": {},
     "output_type": "display_data"
    }
   ],
   "source": [
    "@interact(country1=countries, country2=countries)\n",
    "def plot_total_country(country1, country2):\n",
    "    plot(dat[dat['Country']==country1]['Year'],\n",
    "         dat[dat['Country']==country1]['Total'], label=country1)  \n",
    "    plot(dat[dat['Country']==country2]['Year'],\n",
    "         dat[dat['Country']==country2]['Total'], label=country2)\n",
    "    title(f'Compare $CO_2$ emission of {country1} and {country2}')\n",
    "    xlabel('Year', fontsize=14)\n",
    "    ylabel('Total $CO_2$ emission in t', fontsize=14);"
   ]
  },
  {
   "cell_type": "code",
   "execution_count": null,
   "metadata": {},
   "outputs": [],
   "source": []
  }
 ],
 "metadata": {
  "kernelspec": {
   "display_name": "Python 3 (ipykernel)",
   "language": "python",
   "name": "python3"
  },
  "language_info": {
   "codemirror_mode": {
    "name": "ipython",
    "version": 3
   },
   "file_extension": ".py",
   "mimetype": "text/x-python",
   "name": "python",
   "nbconvert_exporter": "python",
   "pygments_lexer": "ipython3",
   "version": "3.9.13"
  }
 },
 "nbformat": 4,
 "nbformat_minor": 4
}
