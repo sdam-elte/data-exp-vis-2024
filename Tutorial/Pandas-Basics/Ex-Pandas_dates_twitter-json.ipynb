{
 "cells": [
  {
   "cell_type": "markdown",
   "metadata": {},
   "source": [
    "## Parsing dates, JSON\n"
   ]
  },
  {
   "cell_type": "markdown",
   "metadata": {},
   "source": [
    "The Twiiter social network has a lot of public messages, and many can be downloaded freely. A sample of these is saved into `data/twitter_sample.gz`.\n",
    "1, First read the compressed file with the following command:\n",
    "\n",
    "```\n",
    "import gzip\n",
    "[json.loads(str(s).strip(\"\\r\\n\")) for s in gzip.open(\"../data/twitter_sample.gz\",mode=\"rt\").readlines()]\n",
    "```\n",
    "and then compare it with the similar purpose pandas code\n",
    "```\n",
    "pd.read_json(\"./data/twitter_sample.gz\",lines=True)\n",
    "```\n",
    "\n",
    "2, The `created_at` column contains the date when messages were sent. **Plot** how many tweets were sent every minute by the users! Use the `strptime()` and `strftime()` functions from the **datetime** module, which are described in detail [here](https://www.tutorialspoint.com/python/time_strptime.htm) and [here](https://docs.python.org/2/library/datetime.html#strftime-and-strptime-behavior).\n",
    "\n",
    "Mind that not all entries have `created_at` value, and you should drop those!"
   ]
  },
  {
   "cell_type": "markdown",
   "metadata": {},
   "source": [
    "### Solution"
   ]
  },
  {
   "cell_type": "code",
   "execution_count": 1,
   "metadata": {},
   "outputs": [],
   "source": [
    "import pandas as pd\n",
    "import json\n",
    "from datetime import datetime"
   ]
  },
  {
   "cell_type": "code",
   "execution_count": 2,
   "metadata": {
    "jupyter": {
     "outputs_hidden": false
    }
   },
   "outputs": [],
   "source": [
    "# First read it is a list of json items\n",
    "import gzip\n",
    "l = [json.loads(str(s).strip(\"\\r\\n\")) for s in gzip.open(\"./data/twitter_sample.gz\",mode=\"rt\").readlines()]\n",
    "df = pd.DataFrame.from_dict(l)\n",
    "\n",
    "# we will go through each step using the first read\n",
    "\n",
    "# This is how it is done with pandas. In the last part we will use this one.\n",
    "rdf = pd.read_json(\"./data/twitter_sample.gz\",lines=True)"
   ]
  },
  {
   "cell_type": "code",
   "execution_count": 3,
   "metadata": {},
   "outputs": [
    {
     "name": "stdout",
     "output_type": "stream",
     "text": [
      "<class 'pandas.core.frame.DataFrame'>\n",
      "RangeIndex: 20000 entries, 0 to 19999\n",
      "Data columns (total 28 columns):\n",
      " #   Column                     Non-Null Count  Dtype  \n",
      "---  ------                     --------------  -----  \n",
      " 0   created_at                 19990 non-null  object \n",
      " 1   id                         19990 non-null  float64\n",
      " 2   id_str                     19990 non-null  object \n",
      " 3   text                       19990 non-null  object \n",
      " 4   source                     19990 non-null  object \n",
      " 5   truncated                  19990 non-null  object \n",
      " 6   in_reply_to_status_id      3725 non-null   float64\n",
      " 7   in_reply_to_status_id_str  3725 non-null   object \n",
      " 8   in_reply_to_user_id        4901 non-null   float64\n",
      " 9   in_reply_to_user_id_str    4901 non-null   object \n",
      " 10  in_reply_to_screen_name    4901 non-null   object \n",
      " 11  user                       19990 non-null  object \n",
      " 12  geo                        5548 non-null   object \n",
      " 13  coordinates                5548 non-null   object \n",
      " 14  place                      7675 non-null   object \n",
      " 15  contributors               0 non-null      float64\n",
      " 16  retweeted_status           6064 non-null   object \n",
      " 17  retweet_count              19990 non-null  float64\n",
      " 18  favorite_count             19990 non-null  float64\n",
      " 19  entities                   19990 non-null  object \n",
      " 20  favorited                  19990 non-null  object \n",
      " 21  retweeted                  19990 non-null  object \n",
      " 22  possibly_sensitive         19990 non-null  object \n",
      " 23  filter_level               19990 non-null  object \n",
      " 24  lang                       19990 non-null  object \n",
      " 25  timestamp_ms               19990 non-null  object \n",
      " 26  extended_entities          4254 non-null   object \n",
      " 27  limit                      10 non-null     object \n",
      "dtypes: float64(6), object(22)\n",
      "memory usage: 4.3+ MB\n"
     ]
    }
   ],
   "source": [
    "df.info()"
   ]
  },
  {
   "cell_type": "code",
   "execution_count": 4,
   "metadata": {},
   "outputs": [
    {
     "name": "stdout",
     "output_type": "stream",
     "text": [
      "<class 'pandas.core.frame.DataFrame'>\n",
      "RangeIndex: 20000 entries, 0 to 19999\n",
      "Data columns (total 28 columns):\n",
      " #   Column                     Non-Null Count  Dtype              \n",
      "---  ------                     --------------  -----              \n",
      " 0   created_at                 19990 non-null  datetime64[ns, UTC]\n",
      " 1   id                         19990 non-null  float64            \n",
      " 2   id_str                     19990 non-null  float64            \n",
      " 3   text                       19990 non-null  object             \n",
      " 4   source                     19990 non-null  object             \n",
      " 5   truncated                  19990 non-null  float64            \n",
      " 6   in_reply_to_status_id      3725 non-null   float64            \n",
      " 7   in_reply_to_status_id_str  3725 non-null   float64            \n",
      " 8   in_reply_to_user_id        4901 non-null   float64            \n",
      " 9   in_reply_to_user_id_str    4901 non-null   float64            \n",
      " 10  in_reply_to_screen_name    4901 non-null   object             \n",
      " 11  user                       19990 non-null  object             \n",
      " 12  geo                        5548 non-null   object             \n",
      " 13  coordinates                5548 non-null   object             \n",
      " 14  place                      7675 non-null   object             \n",
      " 15  contributors               0 non-null      float64            \n",
      " 16  retweeted_status           6064 non-null   object             \n",
      " 17  retweet_count              19990 non-null  float64            \n",
      " 18  favorite_count             19990 non-null  float64            \n",
      " 19  entities                   19990 non-null  object             \n",
      " 20  favorited                  19990 non-null  float64            \n",
      " 21  retweeted                  19990 non-null  float64            \n",
      " 22  possibly_sensitive         19990 non-null  float64            \n",
      " 23  filter_level               19990 non-null  object             \n",
      " 24  lang                       19990 non-null  object             \n",
      " 25  timestamp_ms               19990 non-null  datetime64[ns]     \n",
      " 26  extended_entities          4254 non-null   object             \n",
      " 27  limit                      10 non-null     object             \n",
      "dtypes: datetime64[ns, UTC](1), datetime64[ns](1), float64(13), object(13)\n",
      "memory usage: 4.3+ MB\n"
     ]
    }
   ],
   "source": [
    "rdf.info()"
   ]
  },
  {
   "cell_type": "markdown",
   "metadata": {},
   "source": [
    "The type of the `created at` column is different. We will need it as date, or datetime. Datetime conversion is an important and it looks a bit complicated at the first glance, but the **datetme** package separately or the **to_datetime** wrapper function within pandas (you can check it's manual by typing `?pd.to_datetime`)"
   ]
  },
  {
   "cell_type": "code",
   "execution_count": 5,
   "metadata": {},
   "outputs": [
    {
     "data": {
      "text/plain": [
       "'Sun Apr 19 19:18:30 +0000 2015'"
      ]
     },
     "execution_count": 5,
     "metadata": {},
     "output_type": "execute_result"
    }
   ],
   "source": [
    "#Let's see how the conversion goes\n",
    "adate = df.iloc[0,0]\n",
    "adate"
   ]
  },
  {
   "cell_type": "code",
   "execution_count": 6,
   "metadata": {},
   "outputs": [
    {
     "data": {
      "text/plain": [
       "datetime.datetime(2015, 4, 19, 19, 18, 30)"
      ]
     },
     "execution_count": 6,
     "metadata": {},
     "output_type": "execute_result"
    }
   ],
   "source": [
    "# Recognize the string with a given date format\n",
    "date_d = datetime.strptime(adate,'%a %b %d %H:%M:%S +0000 %Y')\n",
    "date_d"
   ]
  },
  {
   "cell_type": "code",
   "execution_count": 7,
   "metadata": {},
   "outputs": [
    {
     "data": {
      "text/plain": [
       "'19'"
      ]
     },
     "execution_count": 7,
     "metadata": {},
     "output_type": "execute_result"
    }
   ],
   "source": [
    "# print out only the hours\n",
    "datetime.strftime(date_d,'%H')"
   ]
  },
  {
   "cell_type": "code",
   "execution_count": 8,
   "metadata": {},
   "outputs": [
    {
     "ename": "TypeError",
     "evalue": "strptime() argument 1 must be str, not Series",
     "output_type": "error",
     "traceback": [
      "\u001b[0;31m---------------------------------------------------------------------------\u001b[0m",
      "\u001b[0;31mTypeError\u001b[0m                                 Traceback (most recent call last)",
      "\u001b[1;32m/v/wfct0p/Euzert-DataScientist-01-202312/DS-03-Pandas_Alapok/Ex-Pandas_dates_twitter-json.ipynb Cell 12\u001b[0m line \u001b[0;36m5\n\u001b[1;32m      <a href='vscode-notebook-cell://ssh-remote%2Bdd.teleport.vo.elte.hu/v/wfct0p/Euzert-DataScientist-01-202312/DS-03-Pandas_Alapok/Ex-Pandas_dates_twitter-json.ipynb#X35sdnNjb2RlLXJlbW90ZQ%3D%3D?line=1'>2</a>\u001b[0m \u001b[39mdef\u001b[39;00m \u001b[39mdate_transform\u001b[39m(r_v):\n\u001b[1;32m      <a href='vscode-notebook-cell://ssh-remote%2Bdd.teleport.vo.elte.hu/v/wfct0p/Euzert-DataScientist-01-202312/DS-03-Pandas_Alapok/Ex-Pandas_dates_twitter-json.ipynb#X35sdnNjb2RlLXJlbW90ZQ%3D%3D?line=2'>3</a>\u001b[0m     \u001b[39mreturn\u001b[39;00m datetime\u001b[39m.\u001b[39mstrptime(r_v,\u001b[39m'\u001b[39m\u001b[39m%a\u001b[39;00m\u001b[39m \u001b[39m\u001b[39m%\u001b[39m\u001b[39mb \u001b[39m\u001b[39m%d\u001b[39;00m\u001b[39m \u001b[39m\u001b[39m%\u001b[39m\u001b[39mH:\u001b[39m\u001b[39m%\u001b[39m\u001b[39mM:\u001b[39m\u001b[39m%\u001b[39m\u001b[39mS +0000 \u001b[39m\u001b[39m%\u001b[39m\u001b[39mY\u001b[39m\u001b[39m'\u001b[39m)\n\u001b[0;32m----> <a href='vscode-notebook-cell://ssh-remote%2Bdd.teleport.vo.elte.hu/v/wfct0p/Euzert-DataScientist-01-202312/DS-03-Pandas_Alapok/Ex-Pandas_dates_twitter-json.ipynb#X35sdnNjb2RlLXJlbW90ZQ%3D%3D?line=4'>5</a>\u001b[0m df\u001b[39m.\u001b[39mapply(\u001b[39mlambda\u001b[39;00m d: datetime\u001b[39m.\u001b[39mstrptime(d,\u001b[39m'\u001b[39m\u001b[39m%a\u001b[39;00m\u001b[39m \u001b[39m\u001b[39m%\u001b[39m\u001b[39mb \u001b[39m\u001b[39m%d\u001b[39;00m\u001b[39m \u001b[39m\u001b[39m%\u001b[39m\u001b[39mH:\u001b[39m\u001b[39m%\u001b[39m\u001b[39mM:\u001b[39m\u001b[39m%\u001b[39m\u001b[39mS +0000 \u001b[39m\u001b[39m%\u001b[39m\u001b[39mY\u001b[39m\u001b[39m'\u001b[39m))\n",
      "File \u001b[0;32m~/.local/lib/python3.11/site-packages/pandas/core/frame.py:9568\u001b[0m, in \u001b[0;36mDataFrame.apply\u001b[0;34m(self, func, axis, raw, result_type, args, **kwargs)\u001b[0m\n\u001b[1;32m   9557\u001b[0m \u001b[39mfrom\u001b[39;00m \u001b[39mpandas\u001b[39;00m\u001b[39m.\u001b[39;00m\u001b[39mcore\u001b[39;00m\u001b[39m.\u001b[39;00m\u001b[39mapply\u001b[39;00m \u001b[39mimport\u001b[39;00m frame_apply\n\u001b[1;32m   9559\u001b[0m op \u001b[39m=\u001b[39m frame_apply(\n\u001b[1;32m   9560\u001b[0m     \u001b[39mself\u001b[39m,\n\u001b[1;32m   9561\u001b[0m     func\u001b[39m=\u001b[39mfunc,\n\u001b[0;32m   (...)\u001b[0m\n\u001b[1;32m   9566\u001b[0m     kwargs\u001b[39m=\u001b[39mkwargs,\n\u001b[1;32m   9567\u001b[0m )\n\u001b[0;32m-> 9568\u001b[0m \u001b[39mreturn\u001b[39;00m op\u001b[39m.\u001b[39mapply()\u001b[39m.\u001b[39m__finalize__(\u001b[39mself\u001b[39m, method\u001b[39m=\u001b[39m\u001b[39m\"\u001b[39m\u001b[39mapply\u001b[39m\u001b[39m\"\u001b[39m)\n",
      "File \u001b[0;32m~/.local/lib/python3.11/site-packages/pandas/core/apply.py:764\u001b[0m, in \u001b[0;36mFrameApply.apply\u001b[0;34m(self)\u001b[0m\n\u001b[1;32m    761\u001b[0m \u001b[39melif\u001b[39;00m \u001b[39mself\u001b[39m\u001b[39m.\u001b[39mraw:\n\u001b[1;32m    762\u001b[0m     \u001b[39mreturn\u001b[39;00m \u001b[39mself\u001b[39m\u001b[39m.\u001b[39mapply_raw()\n\u001b[0;32m--> 764\u001b[0m \u001b[39mreturn\u001b[39;00m \u001b[39mself\u001b[39m\u001b[39m.\u001b[39mapply_standard()\n",
      "File \u001b[0;32m~/.local/lib/python3.11/site-packages/pandas/core/apply.py:891\u001b[0m, in \u001b[0;36mFrameApply.apply_standard\u001b[0;34m(self)\u001b[0m\n\u001b[1;32m    890\u001b[0m \u001b[39mdef\u001b[39;00m \u001b[39mapply_standard\u001b[39m(\u001b[39mself\u001b[39m):\n\u001b[0;32m--> 891\u001b[0m     results, res_index \u001b[39m=\u001b[39m \u001b[39mself\u001b[39m\u001b[39m.\u001b[39mapply_series_generator()\n\u001b[1;32m    893\u001b[0m     \u001b[39m# wrap results\u001b[39;00m\n\u001b[1;32m    894\u001b[0m     \u001b[39mreturn\u001b[39;00m \u001b[39mself\u001b[39m\u001b[39m.\u001b[39mwrap_results(results, res_index)\n",
      "File \u001b[0;32m~/.local/lib/python3.11/site-packages/pandas/core/apply.py:907\u001b[0m, in \u001b[0;36mFrameApply.apply_series_generator\u001b[0;34m(self)\u001b[0m\n\u001b[1;32m    904\u001b[0m \u001b[39mwith\u001b[39;00m option_context(\u001b[39m\"\u001b[39m\u001b[39mmode.chained_assignment\u001b[39m\u001b[39m\"\u001b[39m, \u001b[39mNone\u001b[39;00m):\n\u001b[1;32m    905\u001b[0m     \u001b[39mfor\u001b[39;00m i, v \u001b[39min\u001b[39;00m \u001b[39menumerate\u001b[39m(series_gen):\n\u001b[1;32m    906\u001b[0m         \u001b[39m# ignore SettingWithCopy here in case the user mutates\u001b[39;00m\n\u001b[0;32m--> 907\u001b[0m         results[i] \u001b[39m=\u001b[39m \u001b[39mself\u001b[39m\u001b[39m.\u001b[39mf(v)\n\u001b[1;32m    908\u001b[0m         \u001b[39mif\u001b[39;00m \u001b[39misinstance\u001b[39m(results[i], ABCSeries):\n\u001b[1;32m    909\u001b[0m             \u001b[39m# If we have a view on v, we need to make a copy because\u001b[39;00m\n\u001b[1;32m    910\u001b[0m             \u001b[39m#  series_generator will swap out the underlying data\u001b[39;00m\n\u001b[1;32m    911\u001b[0m             results[i] \u001b[39m=\u001b[39m results[i]\u001b[39m.\u001b[39mcopy(deep\u001b[39m=\u001b[39m\u001b[39mFalse\u001b[39;00m)\n",
      "\u001b[1;32m/v/wfct0p/Euzert-DataScientist-01-202312/DS-03-Pandas_Alapok/Ex-Pandas_dates_twitter-json.ipynb Cell 12\u001b[0m line \u001b[0;36m5\n\u001b[1;32m      <a href='vscode-notebook-cell://ssh-remote%2Bdd.teleport.vo.elte.hu/v/wfct0p/Euzert-DataScientist-01-202312/DS-03-Pandas_Alapok/Ex-Pandas_dates_twitter-json.ipynb#X35sdnNjb2RlLXJlbW90ZQ%3D%3D?line=1'>2</a>\u001b[0m \u001b[39mdef\u001b[39;00m \u001b[39mdate_transform\u001b[39m(r_v):\n\u001b[1;32m      <a href='vscode-notebook-cell://ssh-remote%2Bdd.teleport.vo.elte.hu/v/wfct0p/Euzert-DataScientist-01-202312/DS-03-Pandas_Alapok/Ex-Pandas_dates_twitter-json.ipynb#X35sdnNjb2RlLXJlbW90ZQ%3D%3D?line=2'>3</a>\u001b[0m     \u001b[39mreturn\u001b[39;00m datetime\u001b[39m.\u001b[39mstrptime(r_v,\u001b[39m'\u001b[39m\u001b[39m%a\u001b[39;00m\u001b[39m \u001b[39m\u001b[39m%\u001b[39m\u001b[39mb \u001b[39m\u001b[39m%d\u001b[39;00m\u001b[39m \u001b[39m\u001b[39m%\u001b[39m\u001b[39mH:\u001b[39m\u001b[39m%\u001b[39m\u001b[39mM:\u001b[39m\u001b[39m%\u001b[39m\u001b[39mS +0000 \u001b[39m\u001b[39m%\u001b[39m\u001b[39mY\u001b[39m\u001b[39m'\u001b[39m)\n\u001b[0;32m----> <a href='vscode-notebook-cell://ssh-remote%2Bdd.teleport.vo.elte.hu/v/wfct0p/Euzert-DataScientist-01-202312/DS-03-Pandas_Alapok/Ex-Pandas_dates_twitter-json.ipynb#X35sdnNjb2RlLXJlbW90ZQ%3D%3D?line=4'>5</a>\u001b[0m df\u001b[39m.\u001b[39mapply(\u001b[39mlambda\u001b[39;00m d: datetime\u001b[39m.\u001b[39mstrptime(d,\u001b[39m'\u001b[39m\u001b[39m%a\u001b[39;00m\u001b[39m \u001b[39m\u001b[39m%\u001b[39m\u001b[39mb \u001b[39m\u001b[39m%d\u001b[39;00m\u001b[39m \u001b[39m\u001b[39m%\u001b[39m\u001b[39mH:\u001b[39m\u001b[39m%\u001b[39m\u001b[39mM:\u001b[39m\u001b[39m%\u001b[39m\u001b[39mS +0000 \u001b[39m\u001b[39m%\u001b[39m\u001b[39mY\u001b[39m\u001b[39m'\u001b[39m))\n",
      "\u001b[0;31mTypeError\u001b[0m: strptime() argument 1 must be str, not Series"
     ]
    }
   ],
   "source": [
    "# Let's define a function that we will apply to the whole column\n",
    "def date_transform(r_v):\n",
    "    return datetime.strptime(r_v,'%a %b %d %H:%M:%S +0000 %Y')\n",
    "\n",
    "df.apply(lambda d: datetime.strptime(d,'%a %b %d %H:%M:%S +0000 %Y'))"
   ]
  },
  {
   "cell_type": "code",
   "execution_count": 9,
   "metadata": {},
   "outputs": [
    {
     "data": {
      "text/plain": [
       "8121     NaN\n",
       "8125     NaN\n",
       "8137     NaN\n",
       "16001    NaN\n",
       "16003    NaN\n",
       "16008    NaN\n",
       "16423    NaN\n",
       "16425    NaN\n",
       "16428    NaN\n",
       "18362    NaN\n",
       "Name: created_at, dtype: object"
      ]
     },
     "execution_count": 9,
     "metadata": {},
     "output_type": "execute_result"
    }
   ],
   "source": [
    "# It gives us an error because there are non string values as well\n",
    "df.created_at[df.created_at.apply(type) != type('str')]"
   ]
  },
  {
   "cell_type": "code",
   "execution_count": 10,
   "metadata": {},
   "outputs": [],
   "source": [
    "# We can't really do much with NaNs so we will drop them\n",
    "clean_df=df.dropna(subset=['created_at'])"
   ]
  },
  {
   "cell_type": "code",
   "execution_count": 11,
   "metadata": {},
   "outputs": [
    {
     "name": "stdout",
     "output_type": "stream",
     "text": [
      "<class 'pandas.core.frame.DataFrame'>\n",
      "Int64Index: 19990 entries, 0 to 19999\n",
      "Data columns (total 28 columns):\n",
      " #   Column                     Non-Null Count  Dtype         \n",
      "---  ------                     --------------  -----         \n",
      " 0   created_at                 19990 non-null  datetime64[ns]\n",
      " 1   id                         19990 non-null  float64       \n",
      " 2   id_str                     19990 non-null  object        \n",
      " 3   text                       19990 non-null  object        \n",
      " 4   source                     19990 non-null  object        \n",
      " 5   truncated                  19990 non-null  object        \n",
      " 6   in_reply_to_status_id      3725 non-null   float64       \n",
      " 7   in_reply_to_status_id_str  3725 non-null   object        \n",
      " 8   in_reply_to_user_id        4901 non-null   float64       \n",
      " 9   in_reply_to_user_id_str    4901 non-null   object        \n",
      " 10  in_reply_to_screen_name    4901 non-null   object        \n",
      " 11  user                       19990 non-null  object        \n",
      " 12  geo                        5548 non-null   object        \n",
      " 13  coordinates                5548 non-null   object        \n",
      " 14  place                      7675 non-null   object        \n",
      " 15  contributors               0 non-null      float64       \n",
      " 16  retweeted_status           6064 non-null   object        \n",
      " 17  retweet_count              19990 non-null  float64       \n",
      " 18  favorite_count             19990 non-null  float64       \n",
      " 19  entities                   19990 non-null  object        \n",
      " 20  favorited                  19990 non-null  object        \n",
      " 21  retweeted                  19990 non-null  object        \n",
      " 22  possibly_sensitive         19990 non-null  object        \n",
      " 23  filter_level               19990 non-null  object        \n",
      " 24  lang                       19990 non-null  object        \n",
      " 25  timestamp_ms               19990 non-null  object        \n",
      " 26  extended_entities          4254 non-null   object        \n",
      " 27  limit                      0 non-null      object        \n",
      "dtypes: datetime64[ns](1), float64(6), object(21)\n",
      "memory usage: 4.4+ MB\n"
     ]
    },
    {
     "name": "stderr",
     "output_type": "stream",
     "text": [
      "/tmp/ipykernel_18703/3690202265.py:2: SettingWithCopyWarning: \n",
      "A value is trying to be set on a copy of a slice from a DataFrame.\n",
      "Try using .loc[row_indexer,col_indexer] = value instead\n",
      "\n",
      "See the caveats in the documentation: https://pandas.pydata.org/pandas-docs/stable/user_guide/indexing.html#returning-a-view-versus-a-copy\n",
      "  clean_df.created_at = clean_df.created_at.apply(lambda d: datetime.strptime(d,'%a %b %d %H:%M:%S +0000 %Y'))\n"
     ]
    }
   ],
   "source": [
    "# Now we can apply it safely\n",
    "clean_df.created_at = clean_df.created_at.apply(lambda d: datetime.strptime(d,'%a %b %d %H:%M:%S +0000 %Y'))\n",
    "clean_df.info()"
   ]
  },
  {
   "cell_type": "markdown",
   "metadata": {},
   "source": [
    "Now we can plot the number of tweets per minute"
   ]
  },
  {
   "cell_type": "code",
   "execution_count": 12,
   "metadata": {},
   "outputs": [
    {
     "data": {
      "text/plain": [
       "created_at\n",
       "2015-04-19 19:18:30    1\n",
       "2015-04-19 19:18:31    4\n",
       "2015-04-19 19:18:32    7\n",
       "2015-04-19 19:18:33    8\n",
       "2015-04-19 19:18:34    6\n",
       "                      ..\n",
       "2015-04-19 20:30:02    7\n",
       "2015-04-19 20:30:03    5\n",
       "2015-04-19 20:30:04    4\n",
       "2015-04-19 20:30:05    4\n",
       "2015-04-19 20:30:06    2\n",
       "Length: 4246, dtype: int64"
      ]
     },
     "execution_count": 12,
     "metadata": {},
     "output_type": "execute_result"
    }
   ],
   "source": [
    "tweets_per_minute_df = clean_df.groupby(\"created_at\").size()\n",
    "tweets_per_minute_df"
   ]
  },
  {
   "cell_type": "code",
   "execution_count": 14,
   "metadata": {},
   "outputs": [
    {
     "name": "stderr",
     "output_type": "stream",
     "text": [
      "/tmp/ipykernel_18703/40964700.py:3: SettingWithCopyWarning: \n",
      "A value is trying to be set on a copy of a slice from a DataFrame.\n",
      "Try using .loc[row_indexer,col_indexer] = value instead\n",
      "\n",
      "See the caveats in the documentation: https://pandas.pydata.org/pandas-docs/stable/user_guide/indexing.html#returning-a-view-versus-a-copy\n",
      "  tweets_per_minute_df.created_at = tweets_per_minute_df.created_at.apply(lambda d: datetime.strftime(d,'%H:%M'))\n"
     ]
    },
    {
     "data": {
      "text/html": [
       "<div>\n",
       "<style scoped>\n",
       "    .dataframe tbody tr th:only-of-type {\n",
       "        vertical-align: middle;\n",
       "    }\n",
       "\n",
       "    .dataframe tbody tr th {\n",
       "        vertical-align: top;\n",
       "    }\n",
       "\n",
       "    .dataframe thead th {\n",
       "        text-align: right;\n",
       "    }\n",
       "</style>\n",
       "<table border=\"1\" class=\"dataframe\">\n",
       "  <thead>\n",
       "    <tr style=\"text-align: right;\">\n",
       "      <th></th>\n",
       "      <th>created_at</th>\n",
       "    </tr>\n",
       "  </thead>\n",
       "  <tbody>\n",
       "    <tr>\n",
       "      <th>0</th>\n",
       "      <td>19:18</td>\n",
       "    </tr>\n",
       "    <tr>\n",
       "      <th>1</th>\n",
       "      <td>19:18</td>\n",
       "    </tr>\n",
       "    <tr>\n",
       "      <th>2</th>\n",
       "      <td>19:18</td>\n",
       "    </tr>\n",
       "    <tr>\n",
       "      <th>3</th>\n",
       "      <td>19:18</td>\n",
       "    </tr>\n",
       "    <tr>\n",
       "      <th>4</th>\n",
       "      <td>19:18</td>\n",
       "    </tr>\n",
       "    <tr>\n",
       "      <th>...</th>\n",
       "      <td>...</td>\n",
       "    </tr>\n",
       "    <tr>\n",
       "      <th>19995</th>\n",
       "      <td>20:30</td>\n",
       "    </tr>\n",
       "    <tr>\n",
       "      <th>19996</th>\n",
       "      <td>20:30</td>\n",
       "    </tr>\n",
       "    <tr>\n",
       "      <th>19997</th>\n",
       "      <td>20:30</td>\n",
       "    </tr>\n",
       "    <tr>\n",
       "      <th>19998</th>\n",
       "      <td>20:30</td>\n",
       "    </tr>\n",
       "    <tr>\n",
       "      <th>19999</th>\n",
       "      <td>20:30</td>\n",
       "    </tr>\n",
       "  </tbody>\n",
       "</table>\n",
       "<p>19990 rows × 1 columns</p>\n",
       "</div>"
      ],
      "text/plain": [
       "      created_at\n",
       "0          19:18\n",
       "1          19:18\n",
       "2          19:18\n",
       "3          19:18\n",
       "4          19:18\n",
       "...          ...\n",
       "19995      20:30\n",
       "19996      20:30\n",
       "19997      20:30\n",
       "19998      20:30\n",
       "19999      20:30\n",
       "\n",
       "[19990 rows x 1 columns]"
      ]
     },
     "execution_count": 14,
     "metadata": {},
     "output_type": "execute_result"
    }
   ],
   "source": [
    "# We are interested in only the minute and hour data\n",
    "tweets_per_minute_df = clean_df[['created_at']]\n",
    "tweets_per_minute_df.created_at = tweets_per_minute_df.created_at.apply(lambda d: datetime.strftime(d,'%H:%M'))\n",
    "tweets_per_minute_df"
   ]
  },
  {
   "cell_type": "code",
   "execution_count": 21,
   "metadata": {},
   "outputs": [],
   "source": [
    "# Invoke the a package for plotting \n",
    "\n",
    "import matplotlib.pyplot as plt\n",
    "import matplotlib.ticker as ticker"
   ]
  },
  {
   "cell_type": "code",
   "execution_count": 22,
   "metadata": {},
   "outputs": [
    {
     "data": {
      "image/png": "[encoded data removed]",
      "text/plain": [
       "<Figure size 640x480 with 1 Axes>"
      ]
     },
     "metadata": {},
     "output_type": "display_data"
    }
   ],
   "source": [
    "plt.plot(tweets_per_minute_df.groupby(\"created_at\").size())\n",
    "plt.title(\"Messages sent by users/minute\", fontsize=14)\n",
    "\n",
    "plt.xlabel(\"Time\", fontsize=14)\n",
    "# Use 10 times less labels/ticks on the x-axis\n",
    "locator = ticker.MultipleLocator(base=10)\n",
    "plt.gca().xaxis.set_major_locator(locator)\n",
    "\n",
    "plt.ylabel(\"Count\", fontsize=14);"
   ]
  },
  {
   "cell_type": "markdown",
   "metadata": {},
   "source": [
    "So we are done. The first and last looks like they are incomplete, i.e. the collection didn't start at the beginning of the minute and was interrupted sooner than the minute had passed.\n",
    "\n",
    "Below, the next example shows how the previous code can be shortened"
   ]
  },
  {
   "cell_type": "code",
   "execution_count": 23,
   "metadata": {
    "jupyter": {
     "outputs_hidden": false
    }
   },
   "outputs": [],
   "source": [
    "ts=pd.DataFrame(\\\n",
    "    df[\"created_at\"].dropna().\\\n",
    "    map(lambda d: datetime.strptime(d,'%a %b %d %H:%M:%S +0000 %Y').\\\n",
    "    strftime('%H:%M'))).groupby(\"created_at\").size()"
   ]
  },
  {
   "cell_type": "code",
   "execution_count": 24,
   "metadata": {
    "jupyter": {
     "outputs_hidden": false
    }
   },
   "outputs": [
    {
     "data": {
      "image/png": "[encoded data removed]",
      "text/plain": [
       "<Figure size 640x480 with 1 Axes>"
      ]
     },
     "metadata": {},
     "output_type": "display_data"
    }
   ],
   "source": [
    "plt.plot(ts.index.map(lambda x: datetime.strptime(x,\"%H:%M\")),ts)\n",
    "plt.title(\"Messages sent by users/minute\", fontsize=14)\n",
    "plt.xlabel(\"Time\", fontsize=14)\n",
    "plt.ylabel(\"Count\", fontsize=14);"
   ]
  },
  {
   "cell_type": "markdown",
   "metadata": {},
   "source": [
    " The second shows when the code where we load the date immedietly as a pandas dataframe"
   ]
  },
  {
   "cell_type": "code",
   "execution_count": 36,
   "metadata": {},
   "outputs": [],
   "source": [
    "rdf = pd.read_json(\"./data/twitter_sample.gz\",lines=True)"
   ]
  },
  {
   "cell_type": "code",
   "execution_count": 37,
   "metadata": {},
   "outputs": [
    {
     "data": {
      "text/html": [
       "<div>\n",
       "<style scoped>\n",
       "    .dataframe tbody tr th:only-of-type {\n",
       "        vertical-align: middle;\n",
       "    }\n",
       "\n",
       "    .dataframe tbody tr th {\n",
       "        vertical-align: top;\n",
       "    }\n",
       "\n",
       "    .dataframe thead th {\n",
       "        text-align: right;\n",
       "    }\n",
       "</style>\n",
       "<table border=\"1\" class=\"dataframe\">\n",
       "  <thead>\n",
       "    <tr style=\"text-align: right;\">\n",
       "      <th></th>\n",
       "      <th>created_at</th>\n",
       "      <th>id</th>\n",
       "      <th>id_str</th>\n",
       "      <th>text</th>\n",
       "      <th>source</th>\n",
       "      <th>truncated</th>\n",
       "      <th>in_reply_to_status_id</th>\n",
       "      <th>in_reply_to_status_id_str</th>\n",
       "      <th>in_reply_to_user_id</th>\n",
       "      <th>in_reply_to_user_id_str</th>\n",
       "      <th>...</th>\n",
       "      <th>favorite_count</th>\n",
       "      <th>entities</th>\n",
       "      <th>favorited</th>\n",
       "      <th>retweeted</th>\n",
       "      <th>possibly_sensitive</th>\n",
       "      <th>filter_level</th>\n",
       "      <th>lang</th>\n",
       "      <th>timestamp_ms</th>\n",
       "      <th>extended_entities</th>\n",
       "      <th>limit</th>\n",
       "    </tr>\n",
       "  </thead>\n",
       "  <tbody>\n",
       "    <tr>\n",
       "      <th>0</th>\n",
       "      <td>2015-04-19 19:18:30+00:00</td>\n",
       "      <td>5.898707e+17</td>\n",
       "      <td>5.898707e+17</td>\n",
       "      <td>RT @NiallOfficial: London Friday traffic! Horr...</td>\n",
       "      <td>&lt;a href=\"http://twitter.com\" rel=\"nofollow\"&gt;Tw...</td>\n",
       "      <td>0.0</td>\n",
       "      <td>NaN</td>\n",
       "      <td>NaN</td>\n",
       "      <td>NaN</td>\n",
       "      <td>NaN</td>\n",
       "      <td>...</td>\n",
       "      <td>0.0</td>\n",
       "      <td>{'hashtags': [], 'trends': [], 'urls': [], 'us...</td>\n",
       "      <td>0.0</td>\n",
       "      <td>0.0</td>\n",
       "      <td>0.0</td>\n",
       "      <td>low</td>\n",
       "      <td>en</td>\n",
       "      <td>2015-04-19 19:18:30.955</td>\n",
       "      <td>NaN</td>\n",
       "      <td>NaN</td>\n",
       "    </tr>\n",
       "    <tr>\n",
       "      <th>1</th>\n",
       "      <td>2015-04-19 19:18:31+00:00</td>\n",
       "      <td>5.898707e+17</td>\n",
       "      <td>5.898707e+17</td>\n",
       "      <td>RT @StereoKicks: LONDON WE'RE BUZZING!! We'll ...</td>\n",
       "      <td>&lt;a href=\"http://twitter.com/download/android\" ...</td>\n",
       "      <td>0.0</td>\n",
       "      <td>NaN</td>\n",
       "      <td>NaN</td>\n",
       "      <td>NaN</td>\n",
       "      <td>NaN</td>\n",
       "      <td>...</td>\n",
       "      <td>0.0</td>\n",
       "      <td>{'hashtags': [{'text': 'Periscope', 'indices':...</td>\n",
       "      <td>0.0</td>\n",
       "      <td>0.0</td>\n",
       "      <td>0.0</td>\n",
       "      <td>low</td>\n",
       "      <td>en</td>\n",
       "      <td>2015-04-19 19:18:31.072</td>\n",
       "      <td>NaN</td>\n",
       "      <td>NaN</td>\n",
       "    </tr>\n",
       "  </tbody>\n",
       "</table>\n",
       "<p>2 rows × 28 columns</p>\n",
       "</div>"
      ],
      "text/plain": [
       "                 created_at            id        id_str  \\\n",
       "0 2015-04-19 19:18:30+00:00  5.898707e+17  5.898707e+17   \n",
       "1 2015-04-19 19:18:31+00:00  5.898707e+17  5.898707e+17   \n",
       "\n",
       "                                                text  \\\n",
       "0  RT @NiallOfficial: London Friday traffic! Horr...   \n",
       "1  RT @StereoKicks: LONDON WE'RE BUZZING!! We'll ...   \n",
       "\n",
       "                                              source  truncated  \\\n",
       "0  <a href=\"http://twitter.com\" rel=\"nofollow\">Tw...        0.0   \n",
       "1  <a href=\"http://twitter.com/download/android\" ...        0.0   \n",
       "\n",
       "   in_reply_to_status_id  in_reply_to_status_id_str  in_reply_to_user_id  \\\n",
       "0                    NaN                        NaN                  NaN   \n",
       "1                    NaN                        NaN                  NaN   \n",
       "\n",
       "   in_reply_to_user_id_str  ... favorite_count  \\\n",
       "0                      NaN  ...            0.0   \n",
       "1                      NaN  ...            0.0   \n",
       "\n",
       "                                            entities favorited retweeted  \\\n",
       "0  {'hashtags': [], 'trends': [], 'urls': [], 'us...       0.0       0.0   \n",
       "1  {'hashtags': [{'text': 'Periscope', 'indices':...       0.0       0.0   \n",
       "\n",
       "  possibly_sensitive  filter_level lang            timestamp_ms  \\\n",
       "0                0.0           low   en 2015-04-19 19:18:30.955   \n",
       "1                0.0           low   en 2015-04-19 19:18:31.072   \n",
       "\n",
       "   extended_entities limit  \n",
       "0                NaN   NaN  \n",
       "1                NaN   NaN  \n",
       "\n",
       "[2 rows x 28 columns]"
      ]
     },
     "execution_count": 37,
     "metadata": {},
     "output_type": "execute_result"
    }
   ],
   "source": [
    "rdf.head(n=2)"
   ]
  },
  {
   "cell_type": "code",
   "execution_count": 38,
   "metadata": {},
   "outputs": [
    {
     "data": {
      "text/plain": [
       "created_at\n",
       "19:18    170\n",
       "19:19    309\n",
       "19:20    283\n",
       "19:21    297\n",
       "19:22    288\n",
       "dtype: int64"
      ]
     },
     "execution_count": 38,
     "metadata": {},
     "output_type": "execute_result"
    }
   ],
   "source": [
    "result_df = pd.DataFrame(rdf[\"created_at\"].dropna().\\\n",
    "    dt.strftime('%H:%M')).\\\n",
    "        groupby(\"created_at\").size()\n",
    "result_df.head()"
   ]
  },
  {
   "cell_type": "code",
   "execution_count": 39,
   "metadata": {},
   "outputs": [
    {
     "data": {
      "text/plain": [
       "<Axes: xlabel='created_at'>"
      ]
     },
     "execution_count": 39,
     "metadata": {},
     "output_type": "execute_result"
    },
    {
     "data": {
      "image/png": "[encoded data removed]",
      "text/plain": [
       "<Figure size 640x480 with 1 Axes>"
      ]
     },
     "metadata": {},
     "output_type": "display_data"
    }
   ],
   "source": [
    "result_df.plot()"
   ]
  },
  {
   "cell_type": "code",
   "execution_count": null,
   "metadata": {},
   "outputs": [],
   "source": []
  }
 ],
 "metadata": {
  "kernelspec": {
   "display_name": "Python 3 (ipykernel)",
   "language": "python",
   "name": "python3"
  },
  "language_info": {
   "codemirror_mode": {
    "name": "ipython",
    "version": 3
   },
   "file_extension": ".py",
   "mimetype": "text/x-python",
   "name": "python",
   "nbconvert_exporter": "python",
   "pygments_lexer": "ipython3",
   "version": "3.9.13"
  }
 },
 "nbformat": 4,
 "nbformat_minor": 4
}
