{
 "cells": [
  {
   "cell_type": "markdown",
   "metadata": {},
   "source": [
    "## Harry Potter\n",
    "\n",
    "The `data/hpattributes.txt` contains the data of the characters in all the Harry Potter books. (id, schoolyear, gender, house) without their names.\n",
    "The names are in `data/hpnames.txt` with the proper `id`-s. \n",
    "\n",
    "(Gender: 1 - male, 2 - female; Houses: 1 - Gryffindor, 2 - Hufflepuff, 3 - Ravenclaw, 4 - Slytherin)\n",
    "\n",
    "- Merge the two `DataFrames` with the help of the `id`-s and print the students belonging to Ravenclaw ordered by their age \n",
    "\n",
    "- What is the average age of the students of Gryffindor in 2017? (Students start their studies at the age of 11 )\n"
   ]
  },
  {
   "cell_type": "markdown",
   "metadata": {},
   "source": [
    "### Solution"
   ]
  },
  {
   "cell_type": "code",
   "execution_count": 1,
   "metadata": {},
   "outputs": [],
   "source": [
    "import pandas as pd"
   ]
  },
  {
   "cell_type": "code",
   "execution_count": 2,
   "metadata": {},
   "outputs": [],
   "source": [
    "attr_file='data/hpattributes.txt'\n",
    "name_file='data/hpnames.txt'"
   ]
  },
  {
   "cell_type": "code",
   "execution_count": 3,
   "metadata": {},
   "outputs": [
    {
     "name": "stdout",
     "output_type": "stream",
     "text": [
      "==> data/hpattributes.txt <==\r\n",
      "\"id\"\t\"schoolyear\"\t\"gender\"\t\"house\"\r\n",
      "\r\n",
      "1\t1989\t1\t4\r\n",
      "\r\n",
      "2\t1989\t2\t1\r\n",
      "\r\n",
      "\r\n",
      "==> data/hpnames.txt <==\r\n",
      "\"id\"\t\"name\"\r\n",
      "\r\n",
      "1\t\"Adrian Pucey\"\r\n",
      "\r\n",
      "2\t\"Alicia Spinnet\"\r\n",
      "\r\n"
     ]
    }
   ],
   "source": [
    "# Check the first few lines with the head bash command\n",
    "!head -n 3 $attr_file $name_file"
   ]
  },
  {
   "cell_type": "code",
   "execution_count": 4,
   "metadata": {},
   "outputs": [],
   "source": [
    "# read data\n",
    "\n",
    "attr = pd.read_csv(attr_file, sep='\\t', skiprows=1, names=['id', 'year', 'gender', 'house'])\n",
    "\n",
    "names = pd.read_csv(name_file, sep='\\t', skiprows=1, names=['id', 'name'])"
   ]
  },
  {
   "cell_type": "code",
   "execution_count": 6,
   "metadata": {},
   "outputs": [
    {
     "data": {
      "text/html": [
       "<div>\n",
       "<style scoped>\n",
       "    .dataframe tbody tr th:only-of-type {\n",
       "        vertical-align: middle;\n",
       "    }\n",
       "\n",
       "    .dataframe tbody tr th {\n",
       "        vertical-align: top;\n",
       "    }\n",
       "\n",
       "    .dataframe thead th {\n",
       "        text-align: right;\n",
       "    }\n",
       "</style>\n",
       "<table border=\"1\" class=\"dataframe\">\n",
       "  <thead>\n",
       "    <tr style=\"text-align: right;\">\n",
       "      <th></th>\n",
       "      <th>id</th>\n",
       "      <th>name</th>\n",
       "    </tr>\n",
       "  </thead>\n",
       "  <tbody>\n",
       "    <tr>\n",
       "      <th>0</th>\n",
       "      <td>1</td>\n",
       "      <td>Adrian Pucey</td>\n",
       "    </tr>\n",
       "    <tr>\n",
       "      <th>1</th>\n",
       "      <td>2</td>\n",
       "      <td>Alicia Spinnet</td>\n",
       "    </tr>\n",
       "    <tr>\n",
       "      <th>2</th>\n",
       "      <td>3</td>\n",
       "      <td>Angelina Johnson</td>\n",
       "    </tr>\n",
       "    <tr>\n",
       "      <th>3</th>\n",
       "      <td>4</td>\n",
       "      <td>Anthony Goldstein</td>\n",
       "    </tr>\n",
       "    <tr>\n",
       "      <th>4</th>\n",
       "      <td>5</td>\n",
       "      <td>Blaise Zabini</td>\n",
       "    </tr>\n",
       "  </tbody>\n",
       "</table>\n",
       "</div>"
      ],
      "text/plain": [
       "   id               name\n",
       "0   1       Adrian Pucey\n",
       "1   2     Alicia Spinnet\n",
       "2   3   Angelina Johnson\n",
       "3   4  Anthony Goldstein\n",
       "4   5      Blaise Zabini"
      ]
     },
     "execution_count": 6,
     "metadata": {},
     "output_type": "execute_result"
    }
   ],
   "source": [
    "names.head()"
   ]
  },
  {
   "cell_type": "code",
   "execution_count": 7,
   "metadata": {},
   "outputs": [],
   "source": [
    "# merge DataFrames\n",
    "\n",
    "df = attr.merge(names, how='inner', left_on='id', right_on='id')"
   ]
  },
  {
   "cell_type": "code",
   "execution_count": 8,
   "metadata": {},
   "outputs": [
    {
     "data": {
      "text/html": [
       "<div>\n",
       "<style scoped>\n",
       "    .dataframe tbody tr th:only-of-type {\n",
       "        vertical-align: middle;\n",
       "    }\n",
       "\n",
       "    .dataframe tbody tr th {\n",
       "        vertical-align: top;\n",
       "    }\n",
       "\n",
       "    .dataframe thead th {\n",
       "        text-align: right;\n",
       "    }\n",
       "</style>\n",
       "<table border=\"1\" class=\"dataframe\">\n",
       "  <thead>\n",
       "    <tr style=\"text-align: right;\">\n",
       "      <th></th>\n",
       "      <th>id</th>\n",
       "      <th>year</th>\n",
       "      <th>gender</th>\n",
       "      <th>house</th>\n",
       "      <th>name</th>\n",
       "    </tr>\n",
       "  </thead>\n",
       "  <tbody>\n",
       "    <tr>\n",
       "      <th>0</th>\n",
       "      <td>1</td>\n",
       "      <td>1989</td>\n",
       "      <td>1</td>\n",
       "      <td>4</td>\n",
       "      <td>Adrian Pucey</td>\n",
       "    </tr>\n",
       "    <tr>\n",
       "      <th>1</th>\n",
       "      <td>2</td>\n",
       "      <td>1989</td>\n",
       "      <td>2</td>\n",
       "      <td>1</td>\n",
       "      <td>Alicia Spinnet</td>\n",
       "    </tr>\n",
       "    <tr>\n",
       "      <th>2</th>\n",
       "      <td>3</td>\n",
       "      <td>1989</td>\n",
       "      <td>2</td>\n",
       "      <td>1</td>\n",
       "      <td>Angelina Johnson</td>\n",
       "    </tr>\n",
       "    <tr>\n",
       "      <th>3</th>\n",
       "      <td>4</td>\n",
       "      <td>1991</td>\n",
       "      <td>1</td>\n",
       "      <td>3</td>\n",
       "      <td>Anthony Goldstein</td>\n",
       "    </tr>\n",
       "    <tr>\n",
       "      <th>4</th>\n",
       "      <td>5</td>\n",
       "      <td>1991</td>\n",
       "      <td>1</td>\n",
       "      <td>4</td>\n",
       "      <td>Blaise Zabini</td>\n",
       "    </tr>\n",
       "  </tbody>\n",
       "</table>\n",
       "</div>"
      ],
      "text/plain": [
       "   id  year  gender  house               name\n",
       "0   1  1989       1      4       Adrian Pucey\n",
       "1   2  1989       2      1     Alicia Spinnet\n",
       "2   3  1989       2      1   Angelina Johnson\n",
       "3   4  1991       1      3  Anthony Goldstein\n",
       "4   5  1991       1      4      Blaise Zabini"
      ]
     },
     "execution_count": 8,
     "metadata": {},
     "output_type": "execute_result"
    }
   ],
   "source": [
    "df.head()"
   ]
  },
  {
   "cell_type": "code",
   "execution_count": 9,
   "metadata": {
    "jupyter": {
     "outputs_hidden": false
    }
   },
   "outputs": [
    {
     "data": {
      "text/html": [
       "<div>\n",
       "<style scoped>\n",
       "    .dataframe tbody tr th:only-of-type {\n",
       "        vertical-align: middle;\n",
       "    }\n",
       "\n",
       "    .dataframe tbody tr th {\n",
       "        vertical-align: top;\n",
       "    }\n",
       "\n",
       "    .dataframe thead th {\n",
       "        text-align: right;\n",
       "    }\n",
       "</style>\n",
       "<table border=\"1\" class=\"dataframe\">\n",
       "  <thead>\n",
       "    <tr style=\"text-align: right;\">\n",
       "      <th></th>\n",
       "      <th>id</th>\n",
       "      <th>year</th>\n",
       "      <th>gender</th>\n",
       "      <th>house</th>\n",
       "      <th>name</th>\n",
       "    </tr>\n",
       "  </thead>\n",
       "  <tbody>\n",
       "    <tr>\n",
       "      <th>45</th>\n",
       "      <td>46</td>\n",
       "      <td>1994</td>\n",
       "      <td>2</td>\n",
       "      <td>3</td>\n",
       "      <td>Orla Quirke</td>\n",
       "    </tr>\n",
       "    <tr>\n",
       "      <th>58</th>\n",
       "      <td>59</td>\n",
       "      <td>1994</td>\n",
       "      <td>1</td>\n",
       "      <td>3</td>\n",
       "      <td>Stewart Ackerley</td>\n",
       "    </tr>\n",
       "    <tr>\n",
       "      <th>34</th>\n",
       "      <td>35</td>\n",
       "      <td>1992</td>\n",
       "      <td>2</td>\n",
       "      <td>3</td>\n",
       "      <td>Luna Lovegood</td>\n",
       "    </tr>\n",
       "    <tr>\n",
       "      <th>3</th>\n",
       "      <td>4</td>\n",
       "      <td>1991</td>\n",
       "      <td>1</td>\n",
       "      <td>3</td>\n",
       "      <td>Anthony Goldstein</td>\n",
       "    </tr>\n",
       "    <tr>\n",
       "      <th>36</th>\n",
       "      <td>37</td>\n",
       "      <td>1991</td>\n",
       "      <td>2</td>\n",
       "      <td>3</td>\n",
       "      <td>Mandy Brocklehurst</td>\n",
       "    </tr>\n",
       "    <tr>\n",
       "      <th>39</th>\n",
       "      <td>40</td>\n",
       "      <td>1991</td>\n",
       "      <td>1</td>\n",
       "      <td>3</td>\n",
       "      <td>Michael Corner</td>\n",
       "    </tr>\n",
       "    <tr>\n",
       "      <th>47</th>\n",
       "      <td>48</td>\n",
       "      <td>1991</td>\n",
       "      <td>2</td>\n",
       "      <td>3</td>\n",
       "      <td>Padma Patil</td>\n",
       "    </tr>\n",
       "    <tr>\n",
       "      <th>60</th>\n",
       "      <td>61</td>\n",
       "      <td>1991</td>\n",
       "      <td>1</td>\n",
       "      <td>3</td>\n",
       "      <td>Terry Boot</td>\n",
       "    </tr>\n",
       "    <tr>\n",
       "      <th>7</th>\n",
       "      <td>8</td>\n",
       "      <td>1990</td>\n",
       "      <td>2</td>\n",
       "      <td>3</td>\n",
       "      <td>Cho Chang</td>\n",
       "    </tr>\n",
       "    <tr>\n",
       "      <th>14</th>\n",
       "      <td>15</td>\n",
       "      <td>1990</td>\n",
       "      <td>1</td>\n",
       "      <td>3</td>\n",
       "      <td>Eddie Carmichael</td>\n",
       "    </tr>\n",
       "    <tr>\n",
       "      <th>37</th>\n",
       "      <td>38</td>\n",
       "      <td>1990</td>\n",
       "      <td>1</td>\n",
       "      <td>3</td>\n",
       "      <td>Marcus Belby</td>\n",
       "    </tr>\n",
       "    <tr>\n",
       "      <th>53</th>\n",
       "      <td>54</td>\n",
       "      <td>1989</td>\n",
       "      <td>1</td>\n",
       "      <td>3</td>\n",
       "      <td>Roger Davies</td>\n",
       "    </tr>\n",
       "    <tr>\n",
       "      <th>50</th>\n",
       "      <td>51</td>\n",
       "      <td>1987</td>\n",
       "      <td>2</td>\n",
       "      <td>3</td>\n",
       "      <td>Penelope Clearwater</td>\n",
       "    </tr>\n",
       "  </tbody>\n",
       "</table>\n",
       "</div>"
      ],
      "text/plain": [
       "    id  year  gender  house                 name\n",
       "45  46  1994       2      3          Orla Quirke\n",
       "58  59  1994       1      3     Stewart Ackerley\n",
       "34  35  1992       2      3        Luna Lovegood\n",
       "3    4  1991       1      3    Anthony Goldstein\n",
       "36  37  1991       2      3   Mandy Brocklehurst\n",
       "39  40  1991       1      3       Michael Corner\n",
       "47  48  1991       2      3          Padma Patil\n",
       "60  61  1991       1      3           Terry Boot\n",
       "7    8  1990       2      3            Cho Chang\n",
       "14  15  1990       1      3     Eddie Carmichael\n",
       "37  38  1990       1      3         Marcus Belby\n",
       "53  54  1989       1      3         Roger Davies\n",
       "50  51  1987       2      3  Penelope Clearwater"
      ]
     },
     "execution_count": 9,
     "metadata": {},
     "output_type": "execute_result"
    }
   ],
   "source": [
    "# age of students of to Ravenclaw in order\n",
    "\n",
    "df[df['house']==3].sort_values('year', ascending=False)"
   ]
  },
  {
   "cell_type": "code",
   "execution_count": 7,
   "metadata": {
    "jupyter": {
     "outputs_hidden": false
    }
   },
   "outputs": [
    {
     "name": "stdout",
     "output_type": "stream",
     "text": [
      "A Griffendélesek átlagos életkora jelenleg: 37.04 év\n"
     ]
    }
   ],
   "source": [
    "# average age of Gryffindor pupils\n",
    "\n",
    "print('A Griffendélesek átlagos életkora jelenleg: ' + str(2017-df[df['house']==1]['year'].mean()+11) + ' év')"
   ]
  },
  {
   "cell_type": "code",
   "execution_count": 6,
   "metadata": {
    "jupyter": {
     "outputs_hidden": false
    }
   },
   "outputs": [
    {
     "data": {
      "text/html": [
       "<div>\n",
       "<style scoped>\n",
       "    .dataframe tbody tr th:only-of-type {\n",
       "        vertical-align: middle;\n",
       "    }\n",
       "\n",
       "    .dataframe tbody tr th {\n",
       "        vertical-align: top;\n",
       "    }\n",
       "\n",
       "    .dataframe thead th {\n",
       "        text-align: right;\n",
       "    }\n",
       "</style>\n",
       "<table border=\"1\" class=\"dataframe\">\n",
       "  <thead>\n",
       "    <tr style=\"text-align: right;\">\n",
       "      <th></th>\n",
       "      <th>id</th>\n",
       "      <th>gender</th>\n",
       "      <th>house</th>\n",
       "      <th>name</th>\n",
       "    </tr>\n",
       "    <tr>\n",
       "      <th>year</th>\n",
       "      <th></th>\n",
       "      <th></th>\n",
       "      <th></th>\n",
       "      <th></th>\n",
       "    </tr>\n",
       "  </thead>\n",
       "  <tbody>\n",
       "    <tr>\n",
       "      <th>1991</th>\n",
       "      <td>26</td>\n",
       "      <td>26</td>\n",
       "      <td>26</td>\n",
       "      <td>26</td>\n",
       "    </tr>\n",
       "    <tr>\n",
       "      <th>1994</th>\n",
       "      <td>10</td>\n",
       "      <td>10</td>\n",
       "      <td>10</td>\n",
       "      <td>10</td>\n",
       "    </tr>\n",
       "    <tr>\n",
       "      <th>1989</th>\n",
       "      <td>9</td>\n",
       "      <td>9</td>\n",
       "      <td>9</td>\n",
       "      <td>9</td>\n",
       "    </tr>\n",
       "    <tr>\n",
       "      <th>1990</th>\n",
       "      <td>5</td>\n",
       "      <td>5</td>\n",
       "      <td>5</td>\n",
       "      <td>5</td>\n",
       "    </tr>\n",
       "    <tr>\n",
       "      <th>1987</th>\n",
       "      <td>3</td>\n",
       "      <td>3</td>\n",
       "      <td>3</td>\n",
       "      <td>3</td>\n",
       "    </tr>\n",
       "  </tbody>\n",
       "</table>\n",
       "</div>"
      ],
      "text/plain": [
       "      id  gender  house  name\n",
       "year                         \n",
       "1991  26      26     26    26\n",
       "1994  10      10     10    10\n",
       "1989   9       9      9     9\n",
       "1990   5       5      5     5\n",
       "1987   3       3      3     3"
      ]
     },
     "execution_count": 6,
     "metadata": {},
     "output_type": "execute_result"
    }
   ],
   "source": [
    "# The 5 most typical ages in the list \n",
    "\n",
    "df.groupby('year').count().sort_values('id', ascending=False)[[id]].head(n=5)"
   ]
  },
  {
   "cell_type": "markdown",
   "metadata": {},
   "source": [
    "## Supernovae\n",
    "\n",
    " - Download the file http://supernova.lbl.gov/union/figures/SCPUnion2.1_mu_vs_z.txt and load it into a pandas dataframe!\n",
    "   - Let the label of the columns be: _name_, _redshift_, _distmod_, _distmoderr_, _lowmassgal_ !\n",
    "   - Leave out comments (rows starting with '#')!\n",
    " - Plot with scatter the redshift-distmod relation!\n",
    " - Calculate the mean and the standard deviation of the _distmod_ for the follwoing _redshift_ intervals: [-0.05;0.05], [0.05;0.15], [0.15;0.25] ... [1.35;1.45] with  **pandas groupby** !\n",
    " - Plot the averages and the standard deviation as an errorbar!\n",
    " \n",
    " \n",
    "We should get similar to these plots: \n",
    "\n",
    "![image](https://user-images.githubusercontent.com/24739689/55803772-498fa880-5adb-11e9-933b-17a334d2d14c.png)"
   ]
  },
  {
   "cell_type": "markdown",
   "metadata": {},
   "source": [
    "### Solution"
   ]
  },
  {
   "cell_type": "code",
   "execution_count": 10,
   "metadata": {},
   "outputs": [],
   "source": [
    "import pandas as pd\n",
    "import numpy as np\n",
    "import matplotlib.pyplot as plt"
   ]
  },
  {
   "cell_type": "code",
   "execution_count": 11,
   "metadata": {},
   "outputs": [],
   "source": [
    "datafile='data/SCPUnion2.1_mu_vs_z.txt'"
   ]
  },
  {
   "cell_type": "code",
   "execution_count": 12,
   "metadata": {},
   "outputs": [
    {
     "name": "stdout",
     "output_type": "stream",
     "text": [
      "# alpha 0.121851859725\n",
      "# beta 2.46569277393\n",
      "# delta -0.0363405630486\n",
      "# M(h=0.7, statistical only) -19.3182761161\n",
      "# M(h=0.7, with systematics) -19.3081547178\n",
      "1993ah\t0.028488\t35.3465833928\t0.223905932998\t0.128418942246\n",
      "1993ag\t0.050043\t36.6823679154\t0.166828851413\t0.128418942246\n",
      "1993o\t0.052926\t36.8176912545\t0.1557559148\t0.128418942246\n",
      "1993b\t0.070086\t37.4467365424\t0.158466934433\t0.128418942246\n",
      "1992bs\t0.062668\t37.4834093505\t0.156099434739\t0.128418942246\n"
     ]
    }
   ],
   "source": [
    "# Check the first few lines with the head bash command\n",
    "!head $datafile"
   ]
  },
  {
   "cell_type": "code",
   "execution_count": 13,
   "metadata": {},
   "outputs": [],
   "source": [
    "column_names = ['name', 'redshift', 'distmod', 'distmoderr', 'lowmassgal'] # read data\n",
    "df = pd.read_csv(datafile, comment = '#', sep = '\\t', names =column_names)\n"
   ]
  },
  {
   "cell_type": "code",
   "execution_count": 14,
   "metadata": {},
   "outputs": [],
   "source": [
    "ranges = np.arange(-0.05, 1.5, 0.1)# intervals\n",
    "\n",
    "# group by intervals and calculate the mean and standard deviation for the groups\n",
    "average_distmod = df.groupby(pd.cut(df['redshift'], ranges))['distmod'].mean()\n",
    "std_distmod = df.groupby(pd.cut(df['redshift'], ranges))['distmod'].std()"
   ]
  },
  {
   "cell_type": "code",
   "execution_count": 4,
   "metadata": {},
   "outputs": [
    {
     "data": {
      "text/plain": [
       "<matplotlib.legend.Legend at 0x7f3dc06550b8>"
      ]
     },
     "execution_count": 4,
     "metadata": {},
     "output_type": "execute_result"
    },
    {
     "data": {
      "image/png": "[encoded data removed]",
      "text/plain": [
       "<Figure size 1080x360 with 2 Axes>"
      ]
     },
     "metadata": {
      "needs_background": "light"
     },
     "output_type": "display_data"
    }
   ],
   "source": [
    "# plot\n",
    "fig, ax = plt.subplots(1, 2, figsize = (15, 5))\n",
    "\n",
    "ax[0].set_title('Distance modulus', size = 15)\n",
    "ax[0].set_xlabel('redshift', size = 13)\n",
    "ax[0].set_ylabel('distmod', size =13)\n",
    "ax[1].set_title('Distance modulus', size = 15)\n",
    "ax[1].set_xlabel('redshift', size = 13)\n",
    "ax[1].set_ylabel('distmod', size = 13)\n",
    "\n",
    "ax[0].scatter(df['redshift'], df['distmod'], s = 1.5)\n",
    "ax[1].errorbar(ranges[:-1] + 0.05, np.array(average_distmod), np.array(std_distmod), elinewidth=1, capsize = 2,linestyle = '', color = 'r', label = 'standard deviation')\n",
    "ax[1].plot(ranges[:-1] + 0.05, np.array(average_distmod), linestyle = '--')\n",
    "ax[1].legend()"
   ]
  }
 ],
 "metadata": {
  "kernelspec": {
   "display_name": "Python 3 (ipykernel)",
   "language": "python",
   "name": "python3"
  },
  "language_info": {
   "codemirror_mode": {
    "name": "ipython",
    "version": 3
   },
   "file_extension": ".py",
   "mimetype": "text/x-python",
   "name": "python",
   "nbconvert_exporter": "python",
   "pygments_lexer": "ipython3",
   "version": "3.9.13"
  }
 },
 "nbformat": 4,
 "nbformat_minor": 4
}
