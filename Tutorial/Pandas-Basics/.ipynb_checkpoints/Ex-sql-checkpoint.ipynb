{
 "cells": [
  {
   "cell_type": "code",
   "execution_count": 2,
   "metadata": {},
   "outputs": [],
   "source": [
    "import pandas as pd\n",
    "import sqlite3"
   ]
  },
  {
   "cell_type": "code",
   "execution_count": 3,
   "metadata": {},
   "outputs": [],
   "source": [
    "# Create a connection to the SQLite database\n",
    "conn = sqlite3.connect('stores.db')\n",
    "\n",
    "# Create a cursor object to execute SQL queries\n",
    "cursor = conn.cursor()\n"
   ]
  },
  {
   "cell_type": "code",
   "execution_count": 4,
   "metadata": {},
   "outputs": [],
   "source": [
    "\n",
    "# Create a table in the database\n",
    "cursor.execute('''CREATE TABLE sales_by_store (\n",
    "transaction_id INTEGER, \n",
    "transaction_date DATE, \n",
    "transaction_time time without time zone, \n",
    "store_id INTEGER, \n",
    "staff_id INTEGER, \n",
    "customer_id INTEGER, \n",
    "instore_yn varchar(1), \n",
    "orders INTEGER, \n",
    "line_item_id INTEGER, \n",
    "product_id INTEGER, \n",
    "quantity_sold INTEGER, \n",
    "unit_price DOUBLE PRECISION, \n",
    "promo_item_yn VARCHAR(1)\n",
    ");''')\n",
    "\n",
    "# Commit the changes to the database\n",
    "conn.commit()\n"
   ]
  },
  {
   "cell_type": "code",
   "execution_count": 5,
   "metadata": {},
   "outputs": [],
   "source": [
    "\n",
    "# Create a table in the database\n",
    "cursor.execute('''CREATE TABLE store (\n",
    "\tstore_id INTEGER, \n",
    "\tstore_type VARCHAR (20), \n",
    "\tstore_square_feet INTEGER, \n",
    "\tstore_address  VARCHAR(150), \n",
    "\tstore_city VARCHAR(150), \n",
    "\tstore_state_province VARCHAR(150), \n",
    "\tstore_postal_code INTEGER, \n",
    "\tstore_longitude DOUBLE PRECISION, \n",
    "\tstore_latitude DOUBLE PRECISION, \n",
    "\tmanager INTEGER, \n",
    "\tneighborhood VARCHAR(150)\n",
    ");''')\n",
    "\n",
    "# Insert data into the table\n",
    "\n",
    "# Commit the changes to the database\n",
    "conn.commit()\n"
   ]
  },
  {
   "cell_type": "code",
   "execution_count": 6,
   "metadata": {},
   "outputs": [
    {
     "data": {
      "text/html": [
       "<div>\n",
       "<style scoped>\n",
       "    .dataframe tbody tr th:only-of-type {\n",
       "        vertical-align: middle;\n",
       "    }\n",
       "\n",
       "    .dataframe tbody tr th {\n",
       "        vertical-align: top;\n",
       "    }\n",
       "\n",
       "    .dataframe thead th {\n",
       "        text-align: right;\n",
       "    }\n",
       "</style>\n",
       "<table border=\"1\" class=\"dataframe\">\n",
       "  <thead>\n",
       "    <tr style=\"text-align: right;\">\n",
       "      <th></th>\n",
       "      <th>name</th>\n",
       "    </tr>\n",
       "  </thead>\n",
       "  <tbody>\n",
       "    <tr>\n",
       "      <th>0</th>\n",
       "      <td>sales_by_store</td>\n",
       "    </tr>\n",
       "    <tr>\n",
       "      <th>1</th>\n",
       "      <td>store</td>\n",
       "    </tr>\n",
       "  </tbody>\n",
       "</table>\n",
       "</div>"
      ],
      "text/plain": [
       "             name\n",
       "0  sales_by_store\n",
       "1           store"
      ]
     },
     "execution_count": 6,
     "metadata": {},
     "output_type": "execute_result"
    }
   ],
   "source": [
    "pd.read_sql_query(\"SELECT name FROM sqlite_master WHERE type='table';\", conn)"
   ]
  },
  {
   "cell_type": "code",
   "execution_count": 7,
   "metadata": {},
   "outputs": [],
   "source": [
    "# Load data from a file into a table\n",
    "df = pd.read_csv(\"./data/sales_by_store.csv\")\n"
   ]
  },
  {
   "cell_type": "code",
   "execution_count": 8,
   "metadata": {},
   "outputs": [
    {
     "data": {
      "text/html": [
       "<div>\n",
       "<style scoped>\n",
       "    .dataframe tbody tr th:only-of-type {\n",
       "        vertical-align: middle;\n",
       "    }\n",
       "\n",
       "    .dataframe tbody tr th {\n",
       "        vertical-align: top;\n",
       "    }\n",
       "\n",
       "    .dataframe thead th {\n",
       "        text-align: right;\n",
       "    }\n",
       "</style>\n",
       "<table border=\"1\" class=\"dataframe\">\n",
       "  <thead>\n",
       "    <tr style=\"text-align: right;\">\n",
       "      <th></th>\n",
       "      <th>transaction_id</th>\n",
       "      <th>transaction_date</th>\n",
       "      <th>transaction_time</th>\n",
       "      <th>store_id</th>\n",
       "      <th>staff_id</th>\n",
       "      <th>customer_id</th>\n",
       "      <th>instore_yn</th>\n",
       "      <th>order</th>\n",
       "      <th>line_item_id</th>\n",
       "      <th>product_id</th>\n",
       "      <th>quantity_sold</th>\n",
       "      <th>unit_price</th>\n",
       "      <th>promo_item_yn</th>\n",
       "    </tr>\n",
       "  </thead>\n",
       "  <tbody>\n",
       "    <tr>\n",
       "      <th>0</th>\n",
       "      <td>1338</td>\n",
       "      <td>2017-01-01</td>\n",
       "      <td>7:06:11</td>\n",
       "      <td>5</td>\n",
       "      <td>30</td>\n",
       "      <td>5465</td>\n",
       "      <td>Y</td>\n",
       "      <td>1</td>\n",
       "      <td>1</td>\n",
       "      <td>32</td>\n",
       "      <td>2</td>\n",
       "      <td>3.0</td>\n",
       "      <td>N</td>\n",
       "    </tr>\n",
       "    <tr>\n",
       "      <th>1</th>\n",
       "      <td>399</td>\n",
       "      <td>2017-01-01</td>\n",
       "      <td>7:08:56</td>\n",
       "      <td>5</td>\n",
       "      <td>30</td>\n",
       "      <td>5895</td>\n",
       "      <td>Y</td>\n",
       "      <td>1</td>\n",
       "      <td>1</td>\n",
       "      <td>57</td>\n",
       "      <td>2</td>\n",
       "      <td>3.1</td>\n",
       "      <td>N</td>\n",
       "    </tr>\n",
       "    <tr>\n",
       "      <th>2</th>\n",
       "      <td>451</td>\n",
       "      <td>2017-01-01</td>\n",
       "      <td>7:14:04</td>\n",
       "      <td>5</td>\n",
       "      <td>26</td>\n",
       "      <td>5412</td>\n",
       "      <td>N</td>\n",
       "      <td>1</td>\n",
       "      <td>1</td>\n",
       "      <td>59</td>\n",
       "      <td>2</td>\n",
       "      <td>4.5</td>\n",
       "      <td>N</td>\n",
       "    </tr>\n",
       "    <tr>\n",
       "      <th>3</th>\n",
       "      <td>1170</td>\n",
       "      <td>2017-01-01</td>\n",
       "      <td>7:20:24</td>\n",
       "      <td>5</td>\n",
       "      <td>12</td>\n",
       "      <td>5676</td>\n",
       "      <td>Y</td>\n",
       "      <td>1</td>\n",
       "      <td>1</td>\n",
       "      <td>22</td>\n",
       "      <td>1</td>\n",
       "      <td>2.0</td>\n",
       "      <td>N</td>\n",
       "    </tr>\n",
       "    <tr>\n",
       "      <th>4</th>\n",
       "      <td>248</td>\n",
       "      <td>2017-01-01</td>\n",
       "      <td>7:22:41</td>\n",
       "      <td>5</td>\n",
       "      <td>30</td>\n",
       "      <td>5479</td>\n",
       "      <td>N</td>\n",
       "      <td>1</td>\n",
       "      <td>1</td>\n",
       "      <td>57</td>\n",
       "      <td>2</td>\n",
       "      <td>3.1</td>\n",
       "      <td>N</td>\n",
       "    </tr>\n",
       "  </tbody>\n",
       "</table>\n",
       "</div>"
      ],
      "text/plain": [
       "   transaction_id transaction_date transaction_time  store_id  staff_id  \\\n",
       "0            1338       2017-01-01          7:06:11         5        30   \n",
       "1             399       2017-01-01          7:08:56         5        30   \n",
       "2             451       2017-01-01          7:14:04         5        26   \n",
       "3            1170       2017-01-01          7:20:24         5        12   \n",
       "4             248       2017-01-01          7:22:41         5        30   \n",
       "\n",
       "   customer_id instore_yn  order  line_item_id  product_id  quantity_sold  \\\n",
       "0         5465          Y      1             1          32              2   \n",
       "1         5895          Y      1             1          57              2   \n",
       "2         5412          N      1             1          59              2   \n",
       "3         5676          Y      1             1          22              1   \n",
       "4         5479          N      1             1          57              2   \n",
       "\n",
       "   unit_price promo_item_yn  \n",
       "0         3.0             N  \n",
       "1         3.1             N  \n",
       "2         4.5             N  \n",
       "3         2.0             N  \n",
       "4         3.1             N  "
      ]
     },
     "execution_count": 8,
     "metadata": {},
     "output_type": "execute_result"
    }
   ],
   "source": [
    "df.head()"
   ]
  },
  {
   "cell_type": "code",
   "execution_count": 9,
   "metadata": {},
   "outputs": [
    {
     "ename": "OperationalError",
     "evalue": "table sales_by_store has no column named order",
     "output_type": "error",
     "traceback": [
      "\u001b[0;31m---------------------------------------------------------------------------\u001b[0m",
      "\u001b[0;31mOperationalError\u001b[0m                          Traceback (most recent call last)",
      "\u001b[1;32m/v/wfct0p/Euzert-DataScientist-01-202312/DS-03-Pandas_Alapok/Ex-sql.ipynb Cell 8\u001b[0m line \u001b[0;36m1\n\u001b[0;32m----> <a href='vscode-notebook-cell://ssh-remote%2Bdd.teleport.vo.elte.hu/v/wfct0p/Euzert-DataScientist-01-202312/DS-03-Pandas_Alapok/Ex-sql.ipynb#X15sdnNjb2RlLXJlbW90ZQ%3D%3D?line=0'>1</a>\u001b[0m df\u001b[39m.\u001b[39mto_sql(\u001b[39m'\u001b[39m\u001b[39msales_by_store\u001b[39m\u001b[39m'\u001b[39m, conn, if_exists\u001b[39m=\u001b[39m\u001b[39m'\u001b[39m\u001b[39mappend\u001b[39m\u001b[39m'\u001b[39m, index\u001b[39m=\u001b[39m\u001b[39mFalse\u001b[39;00m)\n",
      "File \u001b[0;32m~/.local/lib/python3.11/site-packages/pandas/core/generic.py:2987\u001b[0m, in \u001b[0;36mNDFrame.to_sql\u001b[0;34m(self, name, con, schema, if_exists, index, index_label, chunksize, dtype, method)\u001b[0m\n\u001b[1;32m   2830\u001b[0m \u001b[39m\u001b[39m\u001b[39m\"\"\"\u001b[39;00m\n\u001b[1;32m   2831\u001b[0m \u001b[39mWrite records stored in a DataFrame to a SQL database.\u001b[39;00m\n\u001b[1;32m   2832\u001b[0m \n\u001b[0;32m   (...)\u001b[0m\n\u001b[1;32m   2983\u001b[0m \u001b[39m[(1,), (None,), (2,)]\u001b[39;00m\n\u001b[1;32m   2984\u001b[0m \u001b[39m\"\"\"\u001b[39;00m  \u001b[39m# noqa:E501\u001b[39;00m\n\u001b[1;32m   2985\u001b[0m \u001b[39mfrom\u001b[39;00m \u001b[39mpandas\u001b[39;00m\u001b[39m.\u001b[39;00m\u001b[39mio\u001b[39;00m \u001b[39mimport\u001b[39;00m sql\n\u001b[0;32m-> 2987\u001b[0m \u001b[39mreturn\u001b[39;00m sql\u001b[39m.\u001b[39mto_sql(\n\u001b[1;32m   2988\u001b[0m     \u001b[39mself\u001b[39m,\n\u001b[1;32m   2989\u001b[0m     name,\n\u001b[1;32m   2990\u001b[0m     con,\n\u001b[1;32m   2991\u001b[0m     schema\u001b[39m=\u001b[39mschema,\n\u001b[1;32m   2992\u001b[0m     if_exists\u001b[39m=\u001b[39mif_exists,\n\u001b[1;32m   2993\u001b[0m     index\u001b[39m=\u001b[39mindex,\n\u001b[1;32m   2994\u001b[0m     index_label\u001b[39m=\u001b[39mindex_label,\n\u001b[1;32m   2995\u001b[0m     chunksize\u001b[39m=\u001b[39mchunksize,\n\u001b[1;32m   2996\u001b[0m     dtype\u001b[39m=\u001b[39mdtype,\n\u001b[1;32m   2997\u001b[0m     method\u001b[39m=\u001b[39mmethod,\n\u001b[1;32m   2998\u001b[0m )\n",
      "File \u001b[0;32m~/.local/lib/python3.11/site-packages/pandas/io/sql.py:695\u001b[0m, in \u001b[0;36mto_sql\u001b[0;34m(frame, name, con, schema, if_exists, index, index_label, chunksize, dtype, method, engine, **engine_kwargs)\u001b[0m\n\u001b[1;32m    690\u001b[0m \u001b[39melif\u001b[39;00m \u001b[39mnot\u001b[39;00m \u001b[39misinstance\u001b[39m(frame, DataFrame):\n\u001b[1;32m    691\u001b[0m     \u001b[39mraise\u001b[39;00m \u001b[39mNotImplementedError\u001b[39;00m(\n\u001b[1;32m    692\u001b[0m         \u001b[39m\"\u001b[39m\u001b[39m'\u001b[39m\u001b[39mframe\u001b[39m\u001b[39m'\u001b[39m\u001b[39m argument should be either a Series or a DataFrame\u001b[39m\u001b[39m\"\u001b[39m\n\u001b[1;32m    693\u001b[0m     )\n\u001b[0;32m--> 695\u001b[0m \u001b[39mreturn\u001b[39;00m pandas_sql\u001b[39m.\u001b[39mto_sql(\n\u001b[1;32m    696\u001b[0m     frame,\n\u001b[1;32m    697\u001b[0m     name,\n\u001b[1;32m    698\u001b[0m     if_exists\u001b[39m=\u001b[39mif_exists,\n\u001b[1;32m    699\u001b[0m     index\u001b[39m=\u001b[39mindex,\n\u001b[1;32m    700\u001b[0m     index_label\u001b[39m=\u001b[39mindex_label,\n\u001b[1;32m    701\u001b[0m     schema\u001b[39m=\u001b[39mschema,\n\u001b[1;32m    702\u001b[0m     chunksize\u001b[39m=\u001b[39mchunksize,\n\u001b[1;32m    703\u001b[0m     dtype\u001b[39m=\u001b[39mdtype,\n\u001b[1;32m    704\u001b[0m     method\u001b[39m=\u001b[39mmethod,\n\u001b[1;32m    705\u001b[0m     engine\u001b[39m=\u001b[39mengine,\n\u001b[1;32m    706\u001b[0m     \u001b[39m*\u001b[39m\u001b[39m*\u001b[39mengine_kwargs,\n\u001b[1;32m    707\u001b[0m )\n",
      "File \u001b[0;32m~/.local/lib/python3.11/site-packages/pandas/io/sql.py:2188\u001b[0m, in \u001b[0;36mSQLiteDatabase.to_sql\u001b[0;34m(self, frame, name, if_exists, index, index_label, schema, chunksize, dtype, method, **kwargs)\u001b[0m\n\u001b[1;32m   2178\u001b[0m table \u001b[39m=\u001b[39m SQLiteTable(\n\u001b[1;32m   2179\u001b[0m     name,\n\u001b[1;32m   2180\u001b[0m     \u001b[39mself\u001b[39m,\n\u001b[0;32m   (...)\u001b[0m\n\u001b[1;32m   2185\u001b[0m     dtype\u001b[39m=\u001b[39mdtype,\n\u001b[1;32m   2186\u001b[0m )\n\u001b[1;32m   2187\u001b[0m table\u001b[39m.\u001b[39mcreate()\n\u001b[0;32m-> 2188\u001b[0m \u001b[39mreturn\u001b[39;00m table\u001b[39m.\u001b[39minsert(chunksize, method)\n",
      "File \u001b[0;32m~/.local/lib/python3.11/site-packages/pandas/io/sql.py:946\u001b[0m, in \u001b[0;36mSQLTable.insert\u001b[0;34m(self, chunksize, method)\u001b[0m\n\u001b[1;32m    943\u001b[0m     \u001b[39mbreak\u001b[39;00m\n\u001b[1;32m    945\u001b[0m chunk_iter \u001b[39m=\u001b[39m \u001b[39mzip\u001b[39m(\u001b[39m*\u001b[39m(arr[start_i:end_i] \u001b[39mfor\u001b[39;00m arr \u001b[39min\u001b[39;00m data_list))\n\u001b[0;32m--> 946\u001b[0m num_inserted \u001b[39m=\u001b[39m exec_insert(conn, keys, chunk_iter)\n\u001b[1;32m    947\u001b[0m \u001b[39m# GH 46891\u001b[39;00m\n\u001b[1;32m    948\u001b[0m \u001b[39mif\u001b[39;00m is_integer(num_inserted):\n",
      "File \u001b[0;32m~/.local/lib/python3.11/site-packages/pandas/io/sql.py:1894\u001b[0m, in \u001b[0;36mSQLiteTable._execute_insert\u001b[0;34m(self, conn, keys, data_iter)\u001b[0m\n\u001b[1;32m   1892\u001b[0m \u001b[39mdef\u001b[39;00m \u001b[39m_execute_insert\u001b[39m(\u001b[39mself\u001b[39m, conn, keys, data_iter) \u001b[39m-\u001b[39m\u001b[39m>\u001b[39m \u001b[39mint\u001b[39m:\n\u001b[1;32m   1893\u001b[0m     data_list \u001b[39m=\u001b[39m \u001b[39mlist\u001b[39m(data_iter)\n\u001b[0;32m-> 1894\u001b[0m     conn\u001b[39m.\u001b[39mexecutemany(\u001b[39mself\u001b[39m\u001b[39m.\u001b[39minsert_statement(num_rows\u001b[39m=\u001b[39m\u001b[39m1\u001b[39m), data_list)\n\u001b[1;32m   1895\u001b[0m     \u001b[39mreturn\u001b[39;00m conn\u001b[39m.\u001b[39mrowcount\n",
      "\u001b[0;31mOperationalError\u001b[0m: table sales_by_store has no column named order"
     ]
    }
   ],
   "source": [
    "df.to_sql('sales_by_store', conn, if_exists='append', index=False)"
   ]
  },
  {
   "cell_type": "code",
   "execution_count": 10,
   "metadata": {},
   "outputs": [],
   "source": [
    "df.rename(columns={'order': 'orders'}, inplace=True)"
   ]
  },
  {
   "cell_type": "code",
   "execution_count": 11,
   "metadata": {},
   "outputs": [
    {
     "data": {
      "text/plain": [
       "907841"
      ]
     },
     "execution_count": 11,
     "metadata": {},
     "output_type": "execute_result"
    }
   ],
   "source": [
    "df.to_sql('sales_by_store', conn, if_exists='append', index=False)"
   ]
  },
  {
   "cell_type": "code",
   "execution_count": 12,
   "metadata": {},
   "outputs": [
    {
     "data": {
      "text/plain": [
       "4"
      ]
     },
     "execution_count": 12,
     "metadata": {},
     "output_type": "execute_result"
    }
   ],
   "source": [
    "# Load data from a file into a table\n",
    "sdf = pd.read_csv(\"./data/stores.csv\")\n",
    "sdf.to_sql('stores', conn, if_exists='append', index=False)"
   ]
  },
  {
   "cell_type": "code",
   "execution_count": 13,
   "metadata": {},
   "outputs": [
    {
     "data": {
      "text/html": [
       "<div>\n",
       "<style scoped>\n",
       "    .dataframe tbody tr th:only-of-type {\n",
       "        vertical-align: middle;\n",
       "    }\n",
       "\n",
       "    .dataframe tbody tr th {\n",
       "        vertical-align: top;\n",
       "    }\n",
       "\n",
       "    .dataframe thead th {\n",
       "        text-align: right;\n",
       "    }\n",
       "</style>\n",
       "<table border=\"1\" class=\"dataframe\">\n",
       "  <thead>\n",
       "    <tr style=\"text-align: right;\">\n",
       "      <th></th>\n",
       "      <th>store_id</th>\n",
       "      <th>store_type</th>\n",
       "      <th>store_square_feet</th>\n",
       "      <th>store_address</th>\n",
       "      <th>store_city</th>\n",
       "      <th>store_state_province</th>\n",
       "      <th>store_postal_code</th>\n",
       "      <th>store_longitude</th>\n",
       "      <th>store_latitude</th>\n",
       "      <th>manager</th>\n",
       "      <th>neigborhood</th>\n",
       "    </tr>\n",
       "  </thead>\n",
       "  <tbody>\n",
       "    <tr>\n",
       "      <th>0</th>\n",
       "      <td>2</td>\n",
       "      <td>warehouse</td>\n",
       "      <td>3400</td>\n",
       "      <td>164-14 Jamaica Ave</td>\n",
       "      <td>Jamaica</td>\n",
       "      <td>NY</td>\n",
       "      <td>14232</td>\n",
       "      <td>-73.795168</td>\n",
       "      <td>40.705226</td>\n",
       "      <td>NaN</td>\n",
       "      <td>Jamaica</td>\n",
       "    </tr>\n",
       "    <tr>\n",
       "      <th>1</th>\n",
       "      <td>3</td>\n",
       "      <td>retail</td>\n",
       "      <td>2300</td>\n",
       "      <td>32-10 Sordway</td>\n",
       "      <td>Short Island City</td>\n",
       "      <td>NY</td>\n",
       "      <td>11506</td>\n",
       "      <td>-73.924008</td>\n",
       "      <td>40.761196</td>\n",
       "      <td>6.0</td>\n",
       "      <td>Astoria</td>\n",
       "    </tr>\n",
       "    <tr>\n",
       "      <th>2</th>\n",
       "      <td>5</td>\n",
       "      <td>retail</td>\n",
       "      <td>900</td>\n",
       "      <td>99 Lamb Street</td>\n",
       "      <td>New York</td>\n",
       "      <td>NY</td>\n",
       "      <td>11007</td>\n",
       "      <td>-74.010130</td>\n",
       "      <td>40.713290</td>\n",
       "      <td>16.0</td>\n",
       "      <td>Lower Manhattan</td>\n",
       "    </tr>\n",
       "    <tr>\n",
       "      <th>3</th>\n",
       "      <td>8</td>\n",
       "      <td>retail</td>\n",
       "      <td>1600</td>\n",
       "      <td>947 16th Avenue</td>\n",
       "      <td>New York</td>\n",
       "      <td>NY</td>\n",
       "      <td>20036</td>\n",
       "      <td>-73.990338</td>\n",
       "      <td>40.761887</td>\n",
       "      <td>31.0</td>\n",
       "      <td>Hell's Kitchen</td>\n",
       "    </tr>\n",
       "  </tbody>\n",
       "</table>\n",
       "</div>"
      ],
      "text/plain": [
       "   store_id store_type  store_square_feet       store_address  \\\n",
       "0         2  warehouse               3400  164-14 Jamaica Ave   \n",
       "1         3     retail               2300       32-10 Sordway   \n",
       "2         5     retail                900      99 Lamb Street   \n",
       "3         8     retail               1600     947 16th Avenue   \n",
       "\n",
       "          store_city store_state_province  store_postal_code  store_longitude  \\\n",
       "0            Jamaica                   NY              14232       -73.795168   \n",
       "1  Short Island City                   NY              11506       -73.924008   \n",
       "2           New York                   NY              11007       -74.010130   \n",
       "3           New York                   NY              20036       -73.990338   \n",
       "\n",
       "   store_latitude  manager      neigborhood  \n",
       "0       40.705226      NaN          Jamaica  \n",
       "1       40.761196      6.0          Astoria  \n",
       "2       40.713290     16.0  Lower Manhattan  \n",
       "3       40.761887     31.0   Hell's Kitchen  "
      ]
     },
     "execution_count": 13,
     "metadata": {},
     "output_type": "execute_result"
    }
   ],
   "source": [
    "\n",
    "# Create a connection to the SQLite database\n",
    "#conn = sqlite3.connect('example.db')\n",
    "\n",
    "# Read data from the \"employees\" table into a pandas DataFrame\n",
    "df = pd.read_sql_query(\"SELECT * FROM stores\", conn)\n",
    "df\n"
   ]
  },
  {
   "cell_type": "code",
   "execution_count": 14,
   "metadata": {},
   "outputs": [
    {
     "data": {
      "text/html": [
       "<div>\n",
       "<style scoped>\n",
       "    .dataframe tbody tr th:only-of-type {\n",
       "        vertical-align: middle;\n",
       "    }\n",
       "\n",
       "    .dataframe tbody tr th {\n",
       "        vertical-align: top;\n",
       "    }\n",
       "\n",
       "    .dataframe thead th {\n",
       "        text-align: right;\n",
       "    }\n",
       "</style>\n",
       "<table border=\"1\" class=\"dataframe\">\n",
       "  <thead>\n",
       "    <tr style=\"text-align: right;\">\n",
       "      <th></th>\n",
       "      <th>store_id</th>\n",
       "    </tr>\n",
       "  </thead>\n",
       "  <tbody>\n",
       "    <tr>\n",
       "      <th>0</th>\n",
       "      <td>5</td>\n",
       "    </tr>\n",
       "    <tr>\n",
       "      <th>1</th>\n",
       "      <td>8</td>\n",
       "    </tr>\n",
       "    <tr>\n",
       "      <th>2</th>\n",
       "      <td>3</td>\n",
       "    </tr>\n",
       "  </tbody>\n",
       "</table>\n",
       "</div>"
      ],
      "text/plain": [
       "   store_id\n",
       "0         5\n",
       "1         8\n",
       "2         3"
      ]
     },
     "execution_count": 14,
     "metadata": {},
     "output_type": "execute_result"
    }
   ],
   "source": [
    "pd.read_sql_query(\"SELECT distinct store_id FROM sales_by_store\", conn)"
   ]
  },
  {
   "cell_type": "code",
   "execution_count": 15,
   "metadata": {},
   "outputs": [
    {
     "ename": "TypeError",
     "evalue": "'NoneType' object is not iterable",
     "output_type": "error",
     "traceback": [
      "\u001b[0;31m---------------------------------------------------------------------------\u001b[0m",
      "\u001b[0;31mTypeError\u001b[0m                                 Traceback (most recent call last)",
      "\u001b[1;32m/v/wfct0p/Euzert-DataScientist-01-202312/DS-03-Pandas_Alapok/Ex-sql.ipynb Cell 14\u001b[0m line \u001b[0;36m1\n\u001b[0;32m----> <a href='vscode-notebook-cell://ssh-remote%2Bdd.teleport.vo.elte.hu/v/wfct0p/Euzert-DataScientist-01-202312/DS-03-Pandas_Alapok/Ex-sql.ipynb#X11sdnNjb2RlLXJlbW90ZQ%3D%3D?line=0'>1</a>\u001b[0m pd\u001b[39m.\u001b[39mread_sql_query(\u001b[39m\"\"\"\u001b[39m\u001b[39mCREATE INDEX idx_store ON sales_by_store (store_id);\u001b[39m\u001b[39m\"\"\"\u001b[39m, conn)\n",
      "File \u001b[0;32m~/.local/lib/python3.11/site-packages/pandas/io/sql.py:397\u001b[0m, in \u001b[0;36mread_sql_query\u001b[0;34m(sql, con, index_col, coerce_float, params, parse_dates, chunksize, dtype)\u001b[0m\n\u001b[1;32m    339\u001b[0m \u001b[39m\u001b[39m\u001b[39m\"\"\"\u001b[39;00m\n\u001b[1;32m    340\u001b[0m \u001b[39mRead SQL query into a DataFrame.\u001b[39;00m\n\u001b[1;32m    341\u001b[0m \n\u001b[0;32m   (...)\u001b[0m\n\u001b[1;32m    394\u001b[0m \u001b[39mparameter will be converted to UTC.\u001b[39;00m\n\u001b[1;32m    395\u001b[0m \u001b[39m\"\"\"\u001b[39;00m\n\u001b[1;32m    396\u001b[0m pandas_sql \u001b[39m=\u001b[39m pandasSQL_builder(con)\n\u001b[0;32m--> 397\u001b[0m \u001b[39mreturn\u001b[39;00m pandas_sql\u001b[39m.\u001b[39mread_query(\n\u001b[1;32m    398\u001b[0m     sql,\n\u001b[1;32m    399\u001b[0m     index_col\u001b[39m=\u001b[39mindex_col,\n\u001b[1;32m    400\u001b[0m     params\u001b[39m=\u001b[39mparams,\n\u001b[1;32m    401\u001b[0m     coerce_float\u001b[39m=\u001b[39mcoerce_float,\n\u001b[1;32m    402\u001b[0m     parse_dates\u001b[39m=\u001b[39mparse_dates,\n\u001b[1;32m    403\u001b[0m     chunksize\u001b[39m=\u001b[39mchunksize,\n\u001b[1;32m    404\u001b[0m     dtype\u001b[39m=\u001b[39mdtype,\n\u001b[1;32m    405\u001b[0m )\n",
      "File \u001b[0;32m~/.local/lib/python3.11/site-packages/pandas/io/sql.py:2079\u001b[0m, in \u001b[0;36mSQLiteDatabase.read_query\u001b[0;34m(self, sql, index_col, coerce_float, params, parse_dates, chunksize, dtype)\u001b[0m\n\u001b[1;32m   2077\u001b[0m args \u001b[39m=\u001b[39m _convert_params(sql, params)\n\u001b[1;32m   2078\u001b[0m cursor \u001b[39m=\u001b[39m \u001b[39mself\u001b[39m\u001b[39m.\u001b[39mexecute(\u001b[39m*\u001b[39margs)\n\u001b[0;32m-> 2079\u001b[0m columns \u001b[39m=\u001b[39m [col_desc[\u001b[39m0\u001b[39m] \u001b[39mfor\u001b[39;00m col_desc \u001b[39min\u001b[39;00m cursor\u001b[39m.\u001b[39mdescription]\n\u001b[1;32m   2081\u001b[0m \u001b[39mif\u001b[39;00m chunksize \u001b[39mis\u001b[39;00m \u001b[39mnot\u001b[39;00m \u001b[39mNone\u001b[39;00m:\n\u001b[1;32m   2082\u001b[0m     \u001b[39mreturn\u001b[39;00m \u001b[39mself\u001b[39m\u001b[39m.\u001b[39m_query_iterator(\n\u001b[1;32m   2083\u001b[0m         cursor,\n\u001b[1;32m   2084\u001b[0m         chunksize,\n\u001b[0;32m   (...)\u001b[0m\n\u001b[1;32m   2089\u001b[0m         dtype\u001b[39m=\u001b[39mdtype,\n\u001b[1;32m   2090\u001b[0m     )\n",
      "\u001b[0;31mTypeError\u001b[0m: 'NoneType' object is not iterable"
     ]
    }
   ],
   "source": [
    "\n",
    "pd.read_sql_query(\"\"\"CREATE INDEX idx_store ON sales_by_store (store_id);\"\"\", conn)\n"
   ]
  },
  {
   "cell_type": "code",
   "execution_count": null,
   "metadata": {},
   "outputs": [
    {
     "data": {
      "text/html": [
       "<div>\n",
       "<style scoped>\n",
       "    .dataframe tbody tr th:only-of-type {\n",
       "        vertical-align: middle;\n",
       "    }\n",
       "\n",
       "    .dataframe tbody tr th {\n",
       "        vertical-align: top;\n",
       "    }\n",
       "\n",
       "    .dataframe thead th {\n",
       "        text-align: right;\n",
       "    }\n",
       "</style>\n",
       "<table border=\"1\" class=\"dataframe\">\n",
       "  <thead>\n",
       "    <tr style=\"text-align: right;\">\n",
       "      <th></th>\n",
       "      <th>store_id</th>\n",
       "    </tr>\n",
       "  </thead>\n",
       "  <tbody>\n",
       "    <tr>\n",
       "      <th>0</th>\n",
       "      <td>3</td>\n",
       "    </tr>\n",
       "    <tr>\n",
       "      <th>1</th>\n",
       "      <td>5</td>\n",
       "    </tr>\n",
       "    <tr>\n",
       "      <th>2</th>\n",
       "      <td>8</td>\n",
       "    </tr>\n",
       "  </tbody>\n",
       "</table>\n",
       "</div>"
      ],
      "text/plain": [
       "   store_id\n",
       "0         3\n",
       "1         5\n",
       "2         8"
      ]
     },
     "execution_count": 30,
     "metadata": {},
     "output_type": "execute_result"
    }
   ],
   "source": [
    "pd.read_sql_query(\"SELECT distinct store_id FROM sales_by_store\", conn)"
   ]
  },
  {
   "cell_type": "code",
   "execution_count": 36,
   "metadata": {},
   "outputs": [
    {
     "data": {
      "text/html": [
       "<div>\n",
       "<style scoped>\n",
       "    .dataframe tbody tr th:only-of-type {\n",
       "        vertical-align: middle;\n",
       "    }\n",
       "\n",
       "    .dataframe tbody tr th {\n",
       "        vertical-align: top;\n",
       "    }\n",
       "\n",
       "    .dataframe thead th {\n",
       "        text-align: right;\n",
       "    }\n",
       "</style>\n",
       "<table border=\"1\" class=\"dataframe\">\n",
       "  <thead>\n",
       "    <tr style=\"text-align: right;\">\n",
       "      <th></th>\n",
       "      <th>sum_orders</th>\n",
       "      <th>sum_sold_qunatitiy</th>\n",
       "      <th>avg_sold_qunatitiy</th>\n",
       "    </tr>\n",
       "  </thead>\n",
       "  <tbody>\n",
       "    <tr>\n",
       "      <th>0</th>\n",
       "      <td>1066573</td>\n",
       "      <td>1305637</td>\n",
       "      <td>1</td>\n",
       "    </tr>\n",
       "  </tbody>\n",
       "</table>\n",
       "</div>"
      ],
      "text/plain": [
       "   sum_orders  sum_sold_qunatitiy  avg_sold_qunatitiy\n",
       "0     1066573             1305637                   1"
      ]
     },
     "execution_count": 36,
     "metadata": {},
     "output_type": "execute_result"
    }
   ],
   "source": [
    "#-- ÖSSZES Megrendelés, eladás összesítése\n",
    "pd.read_sql_query(\"\"\"SELECT SUM(orders) AS sum_orders, SUM(quantity_sold) AS sum_sold_qunatitiy, SUM(quantity_sold) / SUM(orders) AS avg_sold_qunatitiy FROM sales_by_store\"\"\", conn)"
   ]
  },
  {
   "cell_type": "code",
   "execution_count": null,
   "metadata": {},
   "outputs": [],
   "source": [
    "\n",
    "-- Kerekítés\n",
    "SELECT SUM(orders) AS sum_orders, SUM(quantity_sold) AS sum_sold_qunatitiy, round(SUM(quantity_sold)::decimal / SUM(orders), 2) AS avg_sold_qunatitiy FROM sales_by_store;\n",
    "\n",
    "-- Ugyanez store-onkénti bontásban\n",
    "SELECT store_id, \n",
    "\t   SUM(orders) AS sum_orders, \n",
    "\t   SUM(quantity_sold) AS sum_sold_qunatitiy, \n",
    "\t   round(SUM(quantity_sold)::decimal / SUM(orders), 2) AS avg_sold_quantity \n",
    "FROM sales_by_store\n",
    "GROUP BY store_id;\n",
    "\n",
    "-- Tegyük mellé még az évet is a tranzakció időpontjából store-onkénti bontásban\n",
    "SELECT store_id,\n",
    "\t   EXTRACT(year FROM transaction_date) AS year,\n",
    "\t   SUM(orders) AS sum_orders, \n",
    "\t   SUM(quantity_sold) AS sum_sold_qunatitiy, \n",
    "\t   round(SUM(quantity_sold)::decimal / SUM(orders), 2) AS avg_sold_quantity\n",
    "FROM sales_by_store\n",
    "GROUP BY 1,2\n",
    "ORDER BY 1,2;\n",
    "\n",
    "-- Számoljuk ki ugyanebben a bontásban a bevételeket is.\n",
    "SELECT store_id,\n",
    "\t   EXTRACT(year FROM transaction_date) AS year,\n",
    "\t   SUM(orders) AS sum_orders, \n",
    "\t   SUM(quantity_sold) AS sum_sold_qunatitiy, \n",
    "\t   round(SUM(quantity_sold)::decimal / SUM(orders), 2) AS avg_sold_quantity,\n",
    "\t   round(SUM(quantity_sold * unit_price)::decimal, 2) AS revenue\n",
    "FROM sales_by_store\n",
    "GROUP BY 1,2\n",
    "ORDER BY 1,2;\n",
    "\n",
    "-- Nézzük meg, hogy hány egyedi vásárlótól jöttek ezek a bevételek\n",
    "SELECT store_id,\n",
    "\t   EXTRACT(year FROM transaction_date) AS year,\n",
    "\t   SUM(orders) AS sum_orders, \n",
    "\t   SUM(quantity_sold) AS sum_sold_qunatitiy, \n",
    "\t   COUNT( customer_id),\n",
    "\t   round(SUM(quantity_sold)::decimal / SUM(orders), 2) AS avg_sold_quantity,\n",
    "\t   round(SUM(quantity_sold * unit_price)::decimal, 2) AS revenue\n",
    "FROM sales_by_store\n",
    "GROUP BY 1,2\n",
    "ORDER BY 1,2;\n",
    "\n",
    "-- Ellenőrzés\n",
    "SELECT COUNT(distinct customer_id) FROM sales_by_store\n",
    "WHERE store_id = 3\n",
    "AND extract(year FROM transaction_date) = 2019;\n",
    "\n",
    "-- Nézzük meg, hogy hány egyedi vásárlótól jöttek ezek a bevételek\n",
    "SELECT sa.store_id,\n",
    "\t   EXTRACT(year FROM transaction_date) AS year,\n",
    "\t   st.store_city,\n",
    "\t   SUM(orders) AS sum_orders, \n",
    "\t   SUM(quantity_sold) AS sum_sold_qunatitiy, \n",
    "\t   COUNT( customer_id),\n",
    "\t   round(SUM(quantity_sold)::decimal / SUM(orders), 2) AS avg_sold_quantity,\n",
    "\t   round(SUM(quantity_sold * unit_price)::decimal, 2) AS revenue\n",
    "FROM sales_by_store sa\n",
    "INNER JOIN store st ON st.store_id = sa.store_id\n",
    "GROUP BY 1,2,3\n",
    "ORDER BY 1,2;\n",
    "\n",
    "-- Van-e átfedés a boltok vásárlői között?\n",
    "(SELECT customer_id FROM sales_by_store\n",
    "WHERE store_id = 5)\n",
    "INTERSECT\n",
    "(SELECT customer_id FROM sales_by_store\n",
    "WHERE store_id = 8);\n"
   ]
  }
 ],
 "metadata": {
  "kernelspec": {
   "display_name": "Python 3 (ipykernel)",
   "language": "python",
   "name": "python3"
  },
  "language_info": {
   "codemirror_mode": {
    "name": "ipython",
    "version": 3
   },
   "file_extension": ".py",
   "mimetype": "text/x-python",
   "name": "python",
   "nbconvert_exporter": "python",
   "pygments_lexer": "ipython3",
   "version": "3.9.13"
  }
 },
 "nbformat": 4,
 "nbformat_minor": 2
}
