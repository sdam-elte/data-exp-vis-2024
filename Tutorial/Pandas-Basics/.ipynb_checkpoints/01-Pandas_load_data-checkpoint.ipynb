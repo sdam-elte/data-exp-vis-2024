{
 "cells": [
  {
   "cell_type": "markdown",
   "metadata": {},
   "source": [
    "<h1> The `pandas` library</h1>\n",
    "  \n",
    "The easiest way to store our measurement data instead of `numpy.array`s or `list`s is the `DataFrame` class of the `pandas` library. Here, apart from storing the numbers, we can also label the rows and the columns, and we can have a different type in each column.\n",
    "\n",
    "We can think of a `DataFrame` as a common Excel table, because the methods that belong to this class are very similar to functions from Excel.\n",
    "\n",
    "Next, we are going to have a look at the various possibilities of `pandas`.\n",
    "\n",
    "1. accessing data, `DataFrame` class, reading and writing files [link](01-Pandas_load_data.ipynb)\n",
    "2. simple operations, masking or filtering [link](02-Pandas_basic_operations.ipynb)\n",
    "3. using it as a database 1. (groupby) [link](03-Pandas_groupby.ipynb)\n",
    "4. statistics and plotting (seaborn) [link](04-Pandas_stat_plot.ipynb)\n",
    "5. using it as a database 2. (concat, join, apply, pivot) [link](05-Pandas_adv_topics.ipynb)"
   ]
  },
  {
   "cell_type": "markdown",
   "metadata": {},
   "source": [
    "# `DataFrame` class, reading/writing data"
   ]
  },
  {
   "cell_type": "markdown",
   "metadata": {},
   "source": [
    "We can load the `pandas` package by using the usual `import` syntax."
   ]
  },
  {
   "cell_type": "code",
   "execution_count": 1,
   "metadata": {
    "ExecuteTime": {
     "end_time": "2020-09-14T18:49:21.538616Z",
     "start_time": "2020-09-14T18:49:21.532169Z"
    }
   },
   "outputs": [],
   "source": [
    "import pandas as pd"
   ]
  },
  {
   "cell_type": "markdown",
   "metadata": {},
   "source": [
    "We can read from file with the function called `read_csv()`. The returned table is going to be of the type `DataFrame`."
   ]
  },
  {
   "cell_type": "code",
   "execution_count": 2,
   "metadata": {
    "ExecuteTime": {
     "end_time": "2020-09-14T18:52:20.701513Z",
     "start_time": "2020-09-14T18:52:20.693283Z"
    }
   },
   "outputs": [],
   "source": [
    "df = pd.read_csv(\"data/smallpeople.csv\")"
   ]
  },
  {
   "cell_type": "code",
   "execution_count": 3,
   "metadata": {
    "ExecuteTime": {
     "end_time": "2020-09-14T18:49:57.428277Z",
     "start_time": "2020-09-14T18:49:57.422927Z"
    }
   },
   "outputs": [
    {
     "data": {
      "text/plain": [
       "pandas.core.frame.DataFrame"
      ]
     },
     "execution_count": 3,
     "metadata": {},
     "output_type": "execute_result"
    }
   ],
   "source": [
    "type(df)"
   ]
  },
  {
   "cell_type": "markdown",
   "metadata": {},
   "source": [
    "If we only print the table, we have a nicely formatted output:\n",
    "* the first row contains the names of the columns\n",
    "* the first column  contains the identifiers of the rows, that is the so-called index column\n",
    "* the rest of the table contains the actual data"
   ]
  },
  {
   "cell_type": "code",
   "execution_count": null,
   "metadata": {
    "ExecuteTime": {
     "end_time": "2020-09-14T18:49:58.828513Z",
     "start_time": "2020-09-14T18:49:58.812234Z"
    }
   },
   "outputs": [
    {
     "data": {
      "text/html": [
       "<div>\n",
       "<style scoped>\n",
       "    .dataframe tbody tr th:only-of-type {\n",
       "        vertical-align: middle;\n",
       "    }\n",
       "\n",
       "    .dataframe tbody tr th {\n",
       "        vertical-align: top;\n",
       "    }\n",
       "\n",
       "    .dataframe thead th {\n",
       "        text-align: right;\n",
       "    }\n",
       "</style>\n",
       "<table border=\"1\" class=\"dataframe\">\n",
       "  <thead>\n",
       "    <tr style=\"text-align: right;\">\n",
       "      <th></th>\n",
       "      <th>Name</th>\n",
       "      <th>Grade_P</th>\n",
       "      <th>Grade_J</th>\n",
       "      <th>Gender</th>\n",
       "      <th>Age</th>\n",
       "      <th>Date</th>\n",
       "    </tr>\n",
       "  </thead>\n",
       "  <tbody>\n",
       "    <tr>\n",
       "      <th>0</th>\n",
       "      <td>Valentine</td>\n",
       "      <td>2</td>\n",
       "      <td>.</td>\n",
       "      <td>male</td>\n",
       "      <td>20</td>\n",
       "      <td>12:31</td>\n",
       "    </tr>\n",
       "    <tr>\n",
       "      <th>1</th>\n",
       "      <td>Sarah</td>\n",
       "      <td>4</td>\n",
       "      <td>4</td>\n",
       "      <td>female</td>\n",
       "      <td>22</td>\n",
       "      <td>13:20</td>\n",
       "    </tr>\n",
       "    <tr>\n",
       "      <th>2</th>\n",
       "      <td>Stephen</td>\n",
       "      <td>5</td>\n",
       "      <td>4</td>\n",
       "      <td>male</td>\n",
       "      <td>19</td>\n",
       "      <td>12:35</td>\n",
       "    </tr>\n",
       "    <tr>\n",
       "      <th>3</th>\n",
       "      <td>Jane</td>\n",
       "      <td>3</td>\n",
       "      <td>5</td>\n",
       "      <td>female</td>\n",
       "      <td>20</td>\n",
       "      <td>14:50</td>\n",
       "    </tr>\n",
       "    <tr>\n",
       "      <th>4</th>\n",
       "      <td>Charles</td>\n",
       "      <td>4</td>\n",
       "      <td>.</td>\n",
       "      <td>male</td>\n",
       "      <td>21</td>\n",
       "      <td>14:55</td>\n",
       "    </tr>\n",
       "  </tbody>\n",
       "</table>\n",
       "</div>"
      ],
      "text/plain": [
       "        Name  Grade_P Grade_J  Gender  Age   Date\n",
       "0  Valentine        2       .    male   20  12:31\n",
       "1      Sarah        4       4  female   22  13:20\n",
       "2    Stephen        5       4    male   19  12:35\n",
       "3       Jane        3       5  female   20  14:50\n",
       "4    Charles        4       .    male   21  14:55"
      ]
     },
     "execution_count": 7,
     "metadata": {},
     "output_type": "execute_result"
    }
   ],
   "source": [
    "df"
   ]
  },
  {
   "cell_type": "markdown",
   "metadata": {},
   "source": [
    "We can access one column of a table by using its name, as if it were (it is, actually) an element of a dictionary."
   ]
  },
  {
   "cell_type": "code",
   "execution_count": null,
   "metadata": {
    "ExecuteTime": {
     "end_time": "2020-09-14T18:50:02.668081Z",
     "start_time": "2020-09-14T18:50:02.661554Z"
    }
   },
   "outputs": [
    {
     "data": {
      "text/plain": [
       "0    2\n",
       "1    4\n",
       "2    5\n",
       "3    3\n",
       "4    4\n",
       "Name: Grade_P, dtype: int64"
      ]
     },
     "execution_count": 8,
     "metadata": {},
     "output_type": "execute_result"
    }
   ],
   "source": [
    "df['Grade_P']"
   ]
  },
  {
   "cell_type": "markdown",
   "metadata": {},
   "source": [
    "The returned column has a complex structure, that still contains the index and the name of the column. This type is the `pandas.Series`."
   ]
  },
  {
   "cell_type": "code",
   "execution_count": null,
   "metadata": {
    "ExecuteTime": {
     "end_time": "2020-09-14T18:50:06.840748Z",
     "start_time": "2020-09-14T18:50:06.835629Z"
    }
   },
   "outputs": [
    {
     "data": {
      "text/plain": [
       "pandas.core.series.Series"
      ]
     },
     "execution_count": 9,
     "metadata": {},
     "output_type": "execute_result"
    }
   ],
   "source": [
    "type(df['Grade_P'])"
   ]
  },
  {
   "cell_type": "markdown",
   "metadata": {},
   "source": [
    "Most of the time, we can use them similarly to numpy arrays."
   ]
  },
  {
   "cell_type": "code",
   "execution_count": null,
   "metadata": {
    "ExecuteTime": {
     "end_time": "2020-09-14T18:50:11.022323Z",
     "start_time": "2020-09-14T18:50:10.993528Z"
    }
   },
   "outputs": [
    {
     "data": {
      "text/plain": [
       "0     4\n",
       "1    16\n",
       "2    25\n",
       "3     9\n",
       "4    16\n",
       "Name: Grade_P, dtype: int64"
      ]
     },
     "execution_count": 10,
     "metadata": {},
     "output_type": "execute_result"
    }
   ],
   "source": [
    "df['Grade_P']**2"
   ]
  },
  {
   "cell_type": "markdown",
   "metadata": {},
   "source": [
    "But we can also obtain the array storing the data."
   ]
  },
  {
   "cell_type": "code",
   "execution_count": null,
   "metadata": {
    "ExecuteTime": {
     "end_time": "2020-09-14T18:50:17.442558Z",
     "start_time": "2020-09-14T18:50:17.436701Z"
    }
   },
   "outputs": [
    {
     "data": {
      "text/plain": [
       "array([2, 4, 5, 3, 4])"
      ]
     },
     "execution_count": 11,
     "metadata": {},
     "output_type": "execute_result"
    }
   ],
   "source": [
    "df['Grade_P'].values"
   ]
  },
  {
   "cell_type": "markdown",
   "metadata": {},
   "source": [
    "We can also use the `.loc[]` construction, that is able to get both columns and rows by their names."
   ]
  },
  {
   "cell_type": "markdown",
   "metadata": {},
   "source": [
    "Column"
   ]
  },
  {
   "cell_type": "code",
   "execution_count": 7,
   "metadata": {
    "ExecuteTime": {
     "end_time": "2020-09-14T18:50:21.893095Z",
     "start_time": "2020-09-14T18:50:21.886556Z"
    }
   },
   "outputs": [
    {
     "data": {
      "text/plain": [
       "0    2\n",
       "1    4\n",
       "2    5\n",
       "3    3\n",
       "4    4\n",
       "Name: Grade_P, dtype: int64"
      ]
     },
     "execution_count": 7,
     "metadata": {},
     "output_type": "execute_result"
    }
   ],
   "source": [
    "df.loc[:,'Grade_P']"
   ]
  },
  {
   "cell_type": "markdown",
   "metadata": {},
   "source": [
    "Row. Rows are also `Series` objects."
   ]
  },
  {
   "cell_type": "code",
   "execution_count": null,
   "metadata": {
    "ExecuteTime": {
     "end_time": "2020-09-14T18:50:24.354362Z",
     "start_time": "2020-09-14T18:50:24.347377Z"
    }
   },
   "outputs": [
    {
     "data": {
      "text/plain": [
       "Name        Sarah\n",
       "Grade_P         4\n",
       "Grade_J         4\n",
       "Gender     female\n",
       "Age            22\n",
       "Date        13:20\n",
       "Name: 1, dtype: object"
      ]
     },
     "execution_count": 13,
     "metadata": {},
     "output_type": "execute_result"
    }
   ],
   "source": [
    "df.loc[1,:]"
   ]
  },
  {
   "cell_type": "markdown",
   "metadata": {},
   "source": [
    "To get only one element:"
   ]
  },
  {
   "cell_type": "code",
   "execution_count": null,
   "metadata": {
    "ExecuteTime": {
     "end_time": "2020-09-14T18:50:28.320151Z",
     "start_time": "2020-09-14T18:50:28.314683Z"
    }
   },
   "outputs": [
    {
     "data": {
      "text/plain": [
       "2"
      ]
     },
     "execution_count": 14,
     "metadata": {},
     "output_type": "execute_result"
    }
   ],
   "source": [
    "df.loc[0,'Grade_P']"
   ]
  },
  {
   "cell_type": "markdown",
   "metadata": {},
   "source": [
    "Later, we'll get back to the indexing of these `DataFrame`s. Now, let's have a look at the file IO!"
   ]
  },
  {
   "cell_type": "markdown",
   "metadata": {},
   "source": [
    "## Input"
   ]
  },
  {
   "cell_type": "markdown",
   "metadata": {},
   "source": [
    "## read_csv()"
   ]
  },
  {
   "cell_type": "markdown",
   "metadata": {},
   "source": [
    "One of the fastest and most flexible tools of Python is the `read_csv()` function of the `pandas` module. Let's have a look at some of its most important arguments!"
   ]
  },
  {
   "cell_type": "markdown",
   "metadata": {},
   "source": [
    "#### Character separating columns:  `sep` .\n",
    "\n",
    "Most of the time, the columns in our tables are separated by a tabulator or a comma in simple text files, that we can set by using the `sep` keyword argument.\n"
   ]
  },
  {
   "cell_type": "code",
   "execution_count": null,
   "metadata": {
    "ExecuteTime": {
     "end_time": "2020-09-14T18:50:32.214596Z",
     "start_time": "2020-09-14T18:50:32.195126Z"
    }
   },
   "outputs": [
    {
     "data": {
      "text/html": [
       "<div>\n",
       "<style scoped>\n",
       "    .dataframe tbody tr th:only-of-type {\n",
       "        vertical-align: middle;\n",
       "    }\n",
       "\n",
       "    .dataframe tbody tr th {\n",
       "        vertical-align: top;\n",
       "    }\n",
       "\n",
       "    .dataframe thead th {\n",
       "        text-align: right;\n",
       "    }\n",
       "</style>\n",
       "<table border=\"1\" class=\"dataframe\">\n",
       "  <thead>\n",
       "    <tr style=\"text-align: right;\">\n",
       "      <th></th>\n",
       "      <th>Name</th>\n",
       "      <th>Grade_P</th>\n",
       "      <th>Grade_J</th>\n",
       "      <th>Gender</th>\n",
       "      <th>Age</th>\n",
       "      <th>Date</th>\n",
       "    </tr>\n",
       "  </thead>\n",
       "  <tbody>\n",
       "    <tr>\n",
       "      <th>0</th>\n",
       "      <td>Valentine</td>\n",
       "      <td>2</td>\n",
       "      <td>.</td>\n",
       "      <td>male</td>\n",
       "      <td>20</td>\n",
       "      <td>12:31</td>\n",
       "    </tr>\n",
       "    <tr>\n",
       "      <th>1</th>\n",
       "      <td>Sarah</td>\n",
       "      <td>4</td>\n",
       "      <td>4</td>\n",
       "      <td>female</td>\n",
       "      <td>22</td>\n",
       "      <td>13:20</td>\n",
       "    </tr>\n",
       "    <tr>\n",
       "      <th>2</th>\n",
       "      <td>Stephen</td>\n",
       "      <td>5</td>\n",
       "      <td>4</td>\n",
       "      <td>male</td>\n",
       "      <td>19</td>\n",
       "      <td>12:35</td>\n",
       "    </tr>\n",
       "    <tr>\n",
       "      <th>3</th>\n",
       "      <td>Jane</td>\n",
       "      <td>3</td>\n",
       "      <td>5</td>\n",
       "      <td>female</td>\n",
       "      <td>20</td>\n",
       "      <td>14:50</td>\n",
       "    </tr>\n",
       "    <tr>\n",
       "      <th>4</th>\n",
       "      <td>Charles</td>\n",
       "      <td>4</td>\n",
       "      <td>.</td>\n",
       "      <td>male</td>\n",
       "      <td>21</td>\n",
       "      <td>14:55</td>\n",
       "    </tr>\n",
       "  </tbody>\n",
       "</table>\n",
       "</div>"
      ],
      "text/plain": [
       "        Name  Grade_P Grade_J  Gender  Age   Date\n",
       "0  Valentine        2       .    male   20  12:31\n",
       "1      Sarah        4       4  female   22  13:20\n",
       "2    Stephen        5       4    male   19  12:35\n",
       "3       Jane        3       5  female   20  14:50\n",
       "4    Charles        4       .    male   21  14:55"
      ]
     },
     "execution_count": 15,
     "metadata": {},
     "output_type": "execute_result"
    }
   ],
   "source": [
    "df=pd.read_csv(\"data/smallpeople.csv\",sep=',')\n",
    "df.head()"
   ]
  },
  {
   "cell_type": "markdown",
   "metadata": {},
   "source": [
    "If we set it wrong, then usually, we'll only have one column in the table."
   ]
  },
  {
   "cell_type": "code",
   "execution_count": null,
   "metadata": {
    "ExecuteTime": {
     "end_time": "2020-09-14T18:50:33.501044Z",
     "start_time": "2020-09-14T18:50:33.487370Z"
    }
   },
   "outputs": [
    {
     "data": {
      "text/html": [
       "<div>\n",
       "<style scoped>\n",
       "    .dataframe tbody tr th:only-of-type {\n",
       "        vertical-align: middle;\n",
       "    }\n",
       "\n",
       "    .dataframe tbody tr th {\n",
       "        vertical-align: top;\n",
       "    }\n",
       "\n",
       "    .dataframe thead th {\n",
       "        text-align: right;\n",
       "    }\n",
       "</style>\n",
       "<table border=\"1\" class=\"dataframe\">\n",
       "  <thead>\n",
       "    <tr style=\"text-align: right;\">\n",
       "      <th></th>\n",
       "      <th>Name,Grade_P,Grade_J,Gender,Age,Date</th>\n",
       "    </tr>\n",
       "  </thead>\n",
       "  <tbody>\n",
       "    <tr>\n",
       "      <th>0</th>\n",
       "      <td>Valentine,2,.,male,20,12:31</td>\n",
       "    </tr>\n",
       "    <tr>\n",
       "      <th>1</th>\n",
       "      <td>Sarah,4,4,female,22,13:20</td>\n",
       "    </tr>\n",
       "    <tr>\n",
       "      <th>2</th>\n",
       "      <td>Stephen,5,4,male,19,12:35</td>\n",
       "    </tr>\n",
       "    <tr>\n",
       "      <th>3</th>\n",
       "      <td>Jane,3,5,female,20,14:50</td>\n",
       "    </tr>\n",
       "    <tr>\n",
       "      <th>4</th>\n",
       "      <td>Charles,4,.,male,21,14:55</td>\n",
       "    </tr>\n",
       "  </tbody>\n",
       "</table>\n",
       "</div>"
      ],
      "text/plain": [
       "  Name,Grade_P,Grade_J,Gender,Age,Date\n",
       "0          Valentine,2,.,male,20,12:31\n",
       "1            Sarah,4,4,female,22,13:20\n",
       "2            Stephen,5,4,male,19,12:35\n",
       "3             Jane,3,5,female,20,14:50\n",
       "4            Charles,4,.,male,21,14:55"
      ]
     },
     "execution_count": 16,
     "metadata": {},
     "output_type": "execute_result"
    }
   ],
   "source": [
    "df=pd.read_csv(\"data/smallpeople.csv\",sep=' ')\n",
    "df"
   ]
  },
  {
   "cell_type": "markdown",
   "metadata": {},
   "source": [
    "Or the function throws an error about not having the same number of columns in each row."
   ]
  },
  {
   "cell_type": "code",
   "execution_count": null,
   "metadata": {
    "ExecuteTime": {
     "end_time": "2020-09-14T18:50:35.294463Z",
     "start_time": "2020-09-14T18:50:35.092943Z"
    }
   },
   "outputs": [
    {
     "ename": "ParserError",
     "evalue": "Error tokenizing data. C error: Expected 1 fields in line 4, saw 2\n",
     "output_type": "error",
     "traceback": [
      "\u001b[0;31m---------------------------------------------------------------------------\u001b[0m",
      "\u001b[0;31mParserError\u001b[0m                               Traceback (most recent call last)",
      "\u001b[0;32m<ipython-input-17-ca8a2649d88e>\u001b[0m in \u001b[0;36m<module>\u001b[0;34m\u001b[0m\n\u001b[0;32m----> 1\u001b[0;31m \u001b[0mdf\u001b[0m\u001b[0;34m=\u001b[0m\u001b[0mpd\u001b[0m\u001b[0;34m.\u001b[0m\u001b[0mread_csv\u001b[0m\u001b[0;34m(\u001b[0m\u001b[0;34m\"data/smallpeople.csv\"\u001b[0m\u001b[0;34m,\u001b[0m\u001b[0msep\u001b[0m\u001b[0;34m=\u001b[0m\u001b[0;34m'p'\u001b[0m\u001b[0;34m)\u001b[0m\u001b[0;34m\u001b[0m\u001b[0;34m\u001b[0m\u001b[0m\n\u001b[0m",
      "\u001b[0;32m/opt/conda/lib/python3.7/site-packages/pandas/io/parsers.py\u001b[0m in \u001b[0;36mparser_f\u001b[0;34m(filepath_or_buffer, sep, delimiter, header, names, index_col, usecols, squeeze, prefix, mangle_dupe_cols, dtype, engine, converters, true_values, false_values, skipinitialspace, skiprows, skipfooter, nrows, na_values, keep_default_na, na_filter, verbose, skip_blank_lines, parse_dates, infer_datetime_format, keep_date_col, date_parser, dayfirst, cache_dates, iterator, chunksize, compression, thousands, decimal, lineterminator, quotechar, quoting, doublequote, escapechar, comment, encoding, dialect, error_bad_lines, warn_bad_lines, delim_whitespace, low_memory, memory_map, float_precision)\u001b[0m\n\u001b[1;32m    674\u001b[0m         )\n\u001b[1;32m    675\u001b[0m \u001b[0;34m\u001b[0m\u001b[0m\n\u001b[0;32m--> 676\u001b[0;31m         \u001b[0;32mreturn\u001b[0m \u001b[0m_read\u001b[0m\u001b[0;34m(\u001b[0m\u001b[0mfilepath_or_buffer\u001b[0m\u001b[0;34m,\u001b[0m \u001b[0mkwds\u001b[0m\u001b[0;34m)\u001b[0m\u001b[0;34m\u001b[0m\u001b[0;34m\u001b[0m\u001b[0m\n\u001b[0m\u001b[1;32m    677\u001b[0m \u001b[0;34m\u001b[0m\u001b[0m\n\u001b[1;32m    678\u001b[0m     \u001b[0mparser_f\u001b[0m\u001b[0;34m.\u001b[0m\u001b[0m__name__\u001b[0m \u001b[0;34m=\u001b[0m \u001b[0mname\u001b[0m\u001b[0;34m\u001b[0m\u001b[0;34m\u001b[0m\u001b[0m\n",
      "\u001b[0;32m/opt/conda/lib/python3.7/site-packages/pandas/io/parsers.py\u001b[0m in \u001b[0;36m_read\u001b[0;34m(filepath_or_buffer, kwds)\u001b[0m\n\u001b[1;32m    452\u001b[0m \u001b[0;34m\u001b[0m\u001b[0m\n\u001b[1;32m    453\u001b[0m     \u001b[0;32mtry\u001b[0m\u001b[0;34m:\u001b[0m\u001b[0;34m\u001b[0m\u001b[0;34m\u001b[0m\u001b[0m\n\u001b[0;32m--> 454\u001b[0;31m         \u001b[0mdata\u001b[0m \u001b[0;34m=\u001b[0m \u001b[0mparser\u001b[0m\u001b[0;34m.\u001b[0m\u001b[0mread\u001b[0m\u001b[0;34m(\u001b[0m\u001b[0mnrows\u001b[0m\u001b[0;34m)\u001b[0m\u001b[0;34m\u001b[0m\u001b[0;34m\u001b[0m\u001b[0m\n\u001b[0m\u001b[1;32m    455\u001b[0m     \u001b[0;32mfinally\u001b[0m\u001b[0;34m:\u001b[0m\u001b[0;34m\u001b[0m\u001b[0;34m\u001b[0m\u001b[0m\n\u001b[1;32m    456\u001b[0m         \u001b[0mparser\u001b[0m\u001b[0;34m.\u001b[0m\u001b[0mclose\u001b[0m\u001b[0;34m(\u001b[0m\u001b[0;34m)\u001b[0m\u001b[0;34m\u001b[0m\u001b[0;34m\u001b[0m\u001b[0m\n",
      "\u001b[0;32m/opt/conda/lib/python3.7/site-packages/pandas/io/parsers.py\u001b[0m in \u001b[0;36mread\u001b[0;34m(self, nrows)\u001b[0m\n\u001b[1;32m   1131\u001b[0m     \u001b[0;32mdef\u001b[0m \u001b[0mread\u001b[0m\u001b[0;34m(\u001b[0m\u001b[0mself\u001b[0m\u001b[0;34m,\u001b[0m \u001b[0mnrows\u001b[0m\u001b[0;34m=\u001b[0m\u001b[0;32mNone\u001b[0m\u001b[0;34m)\u001b[0m\u001b[0;34m:\u001b[0m\u001b[0;34m\u001b[0m\u001b[0;34m\u001b[0m\u001b[0m\n\u001b[1;32m   1132\u001b[0m         \u001b[0mnrows\u001b[0m \u001b[0;34m=\u001b[0m \u001b[0m_validate_integer\u001b[0m\u001b[0;34m(\u001b[0m\u001b[0;34m\"nrows\"\u001b[0m\u001b[0;34m,\u001b[0m \u001b[0mnrows\u001b[0m\u001b[0;34m)\u001b[0m\u001b[0;34m\u001b[0m\u001b[0;34m\u001b[0m\u001b[0m\n\u001b[0;32m-> 1133\u001b[0;31m         \u001b[0mret\u001b[0m \u001b[0;34m=\u001b[0m \u001b[0mself\u001b[0m\u001b[0;34m.\u001b[0m\u001b[0m_engine\u001b[0m\u001b[0;34m.\u001b[0m\u001b[0mread\u001b[0m\u001b[0;34m(\u001b[0m\u001b[0mnrows\u001b[0m\u001b[0;34m)\u001b[0m\u001b[0;34m\u001b[0m\u001b[0;34m\u001b[0m\u001b[0m\n\u001b[0m\u001b[1;32m   1134\u001b[0m \u001b[0;34m\u001b[0m\u001b[0m\n\u001b[1;32m   1135\u001b[0m         \u001b[0;31m# May alter columns / col_dict\u001b[0m\u001b[0;34m\u001b[0m\u001b[0;34m\u001b[0m\u001b[0;34m\u001b[0m\u001b[0m\n",
      "\u001b[0;32m/opt/conda/lib/python3.7/site-packages/pandas/io/parsers.py\u001b[0m in \u001b[0;36mread\u001b[0;34m(self, nrows)\u001b[0m\n\u001b[1;32m   2035\u001b[0m     \u001b[0;32mdef\u001b[0m \u001b[0mread\u001b[0m\u001b[0;34m(\u001b[0m\u001b[0mself\u001b[0m\u001b[0;34m,\u001b[0m \u001b[0mnrows\u001b[0m\u001b[0;34m=\u001b[0m\u001b[0;32mNone\u001b[0m\u001b[0;34m)\u001b[0m\u001b[0;34m:\u001b[0m\u001b[0;34m\u001b[0m\u001b[0;34m\u001b[0m\u001b[0m\n\u001b[1;32m   2036\u001b[0m         \u001b[0;32mtry\u001b[0m\u001b[0;34m:\u001b[0m\u001b[0;34m\u001b[0m\u001b[0;34m\u001b[0m\u001b[0m\n\u001b[0;32m-> 2037\u001b[0;31m             \u001b[0mdata\u001b[0m \u001b[0;34m=\u001b[0m \u001b[0mself\u001b[0m\u001b[0;34m.\u001b[0m\u001b[0m_reader\u001b[0m\u001b[0;34m.\u001b[0m\u001b[0mread\u001b[0m\u001b[0;34m(\u001b[0m\u001b[0mnrows\u001b[0m\u001b[0;34m)\u001b[0m\u001b[0;34m\u001b[0m\u001b[0;34m\u001b[0m\u001b[0m\n\u001b[0m\u001b[1;32m   2038\u001b[0m         \u001b[0;32mexcept\u001b[0m \u001b[0mStopIteration\u001b[0m\u001b[0;34m:\u001b[0m\u001b[0;34m\u001b[0m\u001b[0;34m\u001b[0m\u001b[0m\n\u001b[1;32m   2039\u001b[0m             \u001b[0;32mif\u001b[0m \u001b[0mself\u001b[0m\u001b[0;34m.\u001b[0m\u001b[0m_first_chunk\u001b[0m\u001b[0;34m:\u001b[0m\u001b[0;34m\u001b[0m\u001b[0;34m\u001b[0m\u001b[0m\n",
      "\u001b[0;32mpandas/_libs/parsers.pyx\u001b[0m in \u001b[0;36mpandas._libs.parsers.TextReader.read\u001b[0;34m()\u001b[0m\n",
      "\u001b[0;32mpandas/_libs/parsers.pyx\u001b[0m in \u001b[0;36mpandas._libs.parsers.TextReader._read_low_memory\u001b[0;34m()\u001b[0m\n",
      "\u001b[0;32mpandas/_libs/parsers.pyx\u001b[0m in \u001b[0;36mpandas._libs.parsers.TextReader._read_rows\u001b[0;34m()\u001b[0m\n",
      "\u001b[0;32mpandas/_libs/parsers.pyx\u001b[0m in \u001b[0;36mpandas._libs.parsers.TextReader._tokenize_rows\u001b[0;34m()\u001b[0m\n",
      "\u001b[0;32mpandas/_libs/parsers.pyx\u001b[0m in \u001b[0;36mpandas._libs.parsers.raise_parser_error\u001b[0;34m()\u001b[0m\n",
      "\u001b[0;31mParserError\u001b[0m: Error tokenizing data. C error: Expected 1 fields in line 4, saw 2\n"
     ]
    }
   ],
   "source": [
    "df=pd.read_csv(\"data/smallpeople.csv\",sep='p')"
   ]
  },
  {
   "cell_type": "markdown",
   "metadata": {},
   "source": [
    "#### header"
   ]
  },
  {
   "cell_type": "markdown",
   "metadata": {},
   "source": [
    "We can set if there is a header, and at which line it is located in the textfile."
   ]
  },
  {
   "cell_type": "code",
   "execution_count": null,
   "metadata": {
    "ExecuteTime": {
     "end_time": "2020-09-14T18:50:36.730368Z",
     "start_time": "2020-09-14T18:50:36.712921Z"
    }
   },
   "outputs": [
    {
     "data": {
      "text/html": [
       "<div>\n",
       "<style scoped>\n",
       "    .dataframe tbody tr th:only-of-type {\n",
       "        vertical-align: middle;\n",
       "    }\n",
       "\n",
       "    .dataframe tbody tr th {\n",
       "        vertical-align: top;\n",
       "    }\n",
       "\n",
       "    .dataframe thead th {\n",
       "        text-align: right;\n",
       "    }\n",
       "</style>\n",
       "<table border=\"1\" class=\"dataframe\">\n",
       "  <thead>\n",
       "    <tr style=\"text-align: right;\">\n",
       "      <th></th>\n",
       "      <th>Name</th>\n",
       "      <th>Grade_P</th>\n",
       "      <th>Grade_J</th>\n",
       "      <th>Gender</th>\n",
       "      <th>Age</th>\n",
       "      <th>Date</th>\n",
       "    </tr>\n",
       "  </thead>\n",
       "  <tbody>\n",
       "    <tr>\n",
       "      <th>0</th>\n",
       "      <td>Valentine</td>\n",
       "      <td>2</td>\n",
       "      <td>.</td>\n",
       "      <td>male</td>\n",
       "      <td>20</td>\n",
       "      <td>12:31</td>\n",
       "    </tr>\n",
       "    <tr>\n",
       "      <th>1</th>\n",
       "      <td>Sarah</td>\n",
       "      <td>4</td>\n",
       "      <td>4</td>\n",
       "      <td>female</td>\n",
       "      <td>22</td>\n",
       "      <td>13:20</td>\n",
       "    </tr>\n",
       "    <tr>\n",
       "      <th>2</th>\n",
       "      <td>Stephen</td>\n",
       "      <td>5</td>\n",
       "      <td>4</td>\n",
       "      <td>male</td>\n",
       "      <td>19</td>\n",
       "      <td>12:35</td>\n",
       "    </tr>\n",
       "    <tr>\n",
       "      <th>3</th>\n",
       "      <td>Jane</td>\n",
       "      <td>3</td>\n",
       "      <td>5</td>\n",
       "      <td>female</td>\n",
       "      <td>20</td>\n",
       "      <td>14:50</td>\n",
       "    </tr>\n",
       "    <tr>\n",
       "      <th>4</th>\n",
       "      <td>Charles</td>\n",
       "      <td>4</td>\n",
       "      <td>.</td>\n",
       "      <td>male</td>\n",
       "      <td>21</td>\n",
       "      <td>14:55</td>\n",
       "    </tr>\n",
       "  </tbody>\n",
       "</table>\n",
       "</div>"
      ],
      "text/plain": [
       "        Name  Grade_P Grade_J  Gender  Age   Date\n",
       "0  Valentine        2       .    male   20  12:31\n",
       "1      Sarah        4       4  female   22  13:20\n",
       "2    Stephen        5       4    male   19  12:35\n",
       "3       Jane        3       5  female   20  14:50\n",
       "4    Charles        4       .    male   21  14:55"
      ]
     },
     "execution_count": 18,
     "metadata": {},
     "output_type": "execute_result"
    }
   ],
   "source": [
    "df=pd.read_csv(\"data/smallpeople.csv\",header=0)\n",
    "df"
   ]
  },
  {
   "cell_type": "markdown",
   "metadata": {},
   "source": [
    "If there is no header, then the first row of the textfile is going to be the first row of the table."
   ]
  },
  {
   "cell_type": "code",
   "execution_count": null,
   "metadata": {
    "ExecuteTime": {
     "end_time": "2020-09-14T18:50:41.306759Z",
     "start_time": "2020-09-14T18:50:41.289290Z"
    }
   },
   "outputs": [
    {
     "data": {
      "text/html": [
       "<div>\n",
       "<style scoped>\n",
       "    .dataframe tbody tr th:only-of-type {\n",
       "        vertical-align: middle;\n",
       "    }\n",
       "\n",
       "    .dataframe tbody tr th {\n",
       "        vertical-align: top;\n",
       "    }\n",
       "\n",
       "    .dataframe thead th {\n",
       "        text-align: right;\n",
       "    }\n",
       "</style>\n",
       "<table border=\"1\" class=\"dataframe\">\n",
       "  <thead>\n",
       "    <tr style=\"text-align: right;\">\n",
       "      <th></th>\n",
       "      <th>0</th>\n",
       "      <th>1</th>\n",
       "      <th>2</th>\n",
       "      <th>3</th>\n",
       "      <th>4</th>\n",
       "      <th>5</th>\n",
       "    </tr>\n",
       "  </thead>\n",
       "  <tbody>\n",
       "    <tr>\n",
       "      <th>0</th>\n",
       "      <td>Name</td>\n",
       "      <td>Grade_P</td>\n",
       "      <td>Grade_J</td>\n",
       "      <td>Gender</td>\n",
       "      <td>Age</td>\n",
       "      <td>Date</td>\n",
       "    </tr>\n",
       "    <tr>\n",
       "      <th>1</th>\n",
       "      <td>Valentine</td>\n",
       "      <td>2</td>\n",
       "      <td>.</td>\n",
       "      <td>male</td>\n",
       "      <td>20</td>\n",
       "      <td>12:31</td>\n",
       "    </tr>\n",
       "    <tr>\n",
       "      <th>2</th>\n",
       "      <td>Sarah</td>\n",
       "      <td>4</td>\n",
       "      <td>4</td>\n",
       "      <td>female</td>\n",
       "      <td>22</td>\n",
       "      <td>13:20</td>\n",
       "    </tr>\n",
       "    <tr>\n",
       "      <th>3</th>\n",
       "      <td>Stephen</td>\n",
       "      <td>5</td>\n",
       "      <td>4</td>\n",
       "      <td>male</td>\n",
       "      <td>19</td>\n",
       "      <td>12:35</td>\n",
       "    </tr>\n",
       "    <tr>\n",
       "      <th>4</th>\n",
       "      <td>Jane</td>\n",
       "      <td>3</td>\n",
       "      <td>5</td>\n",
       "      <td>female</td>\n",
       "      <td>20</td>\n",
       "      <td>14:50</td>\n",
       "    </tr>\n",
       "    <tr>\n",
       "      <th>5</th>\n",
       "      <td>Charles</td>\n",
       "      <td>4</td>\n",
       "      <td>.</td>\n",
       "      <td>male</td>\n",
       "      <td>21</td>\n",
       "      <td>14:55</td>\n",
       "    </tr>\n",
       "  </tbody>\n",
       "</table>\n",
       "</div>"
      ],
      "text/plain": [
       "           0        1        2       3    4      5\n",
       "0       Name  Grade_P  Grade_J  Gender  Age   Date\n",
       "1  Valentine        2        .    male   20  12:31\n",
       "2      Sarah        4        4  female   22  13:20\n",
       "3    Stephen        5        4    male   19  12:35\n",
       "4       Jane        3        5  female   20  14:50\n",
       "5    Charles        4        .    male   21  14:55"
      ]
     },
     "execution_count": 19,
     "metadata": {},
     "output_type": "execute_result"
    }
   ],
   "source": [
    "df=pd.read_csv(\"data/smallpeople.csv\",header=None)\n",
    "df"
   ]
  },
  {
   "cell_type": "markdown",
   "metadata": {},
   "source": [
    "If we set a later line such as 3, then the table is only going to begin thereafter, and all former lines are skipped."
   ]
  },
  {
   "cell_type": "code",
   "execution_count": null,
   "metadata": {
    "ExecuteTime": {
     "end_time": "2020-09-14T18:50:42.034982Z",
     "start_time": "2020-09-14T18:50:42.017266Z"
    }
   },
   "outputs": [
    {
     "data": {
      "text/html": [
       "<div>\n",
       "<style scoped>\n",
       "    .dataframe tbody tr th:only-of-type {\n",
       "        vertical-align: middle;\n",
       "    }\n",
       "\n",
       "    .dataframe tbody tr th {\n",
       "        vertical-align: top;\n",
       "    }\n",
       "\n",
       "    .dataframe thead th {\n",
       "        text-align: right;\n",
       "    }\n",
       "</style>\n",
       "<table border=\"1\" class=\"dataframe\">\n",
       "  <thead>\n",
       "    <tr style=\"text-align: right;\">\n",
       "      <th></th>\n",
       "      <th>Stephen</th>\n",
       "      <th>5</th>\n",
       "      <th>4</th>\n",
       "      <th>male</th>\n",
       "      <th>19</th>\n",
       "      <th>12:35</th>\n",
       "    </tr>\n",
       "  </thead>\n",
       "  <tbody>\n",
       "    <tr>\n",
       "      <th>0</th>\n",
       "      <td>Jane</td>\n",
       "      <td>3</td>\n",
       "      <td>5</td>\n",
       "      <td>female</td>\n",
       "      <td>20</td>\n",
       "      <td>14:50</td>\n",
       "    </tr>\n",
       "    <tr>\n",
       "      <th>1</th>\n",
       "      <td>Charles</td>\n",
       "      <td>4</td>\n",
       "      <td>.</td>\n",
       "      <td>male</td>\n",
       "      <td>21</td>\n",
       "      <td>14:55</td>\n",
       "    </tr>\n",
       "  </tbody>\n",
       "</table>\n",
       "</div>"
      ],
      "text/plain": [
       "   Stephen  5  4    male  19  12:35\n",
       "0     Jane  3  5  female  20  14:50\n",
       "1  Charles  4  .    male  21  14:55"
      ]
     },
     "execution_count": 20,
     "metadata": {},
     "output_type": "execute_result"
    }
   ],
   "source": [
    "df=pd.read_csv(\"data/smallpeople.csv\",header=3)\n",
    "df"
   ]
  },
  {
   "cell_type": "markdown",
   "metadata": {},
   "source": [
    "#### index_col (index column)\n",
    "\n",
    "Index column is displayed slightly differently."
   ]
  },
  {
   "cell_type": "code",
   "execution_count": null,
   "metadata": {
    "ExecuteTime": {
     "end_time": "2020-09-14T18:50:43.169291Z",
     "start_time": "2020-09-14T18:50:43.152290Z"
    }
   },
   "outputs": [
    {
     "data": {
      "text/html": [
       "<div>\n",
       "<style scoped>\n",
       "    .dataframe tbody tr th:only-of-type {\n",
       "        vertical-align: middle;\n",
       "    }\n",
       "\n",
       "    .dataframe tbody tr th {\n",
       "        vertical-align: top;\n",
       "    }\n",
       "\n",
       "    .dataframe thead th {\n",
       "        text-align: right;\n",
       "    }\n",
       "</style>\n",
       "<table border=\"1\" class=\"dataframe\">\n",
       "  <thead>\n",
       "    <tr style=\"text-align: right;\">\n",
       "      <th></th>\n",
       "      <th>Grade_P</th>\n",
       "      <th>Grade_J</th>\n",
       "      <th>Gender</th>\n",
       "      <th>Age</th>\n",
       "      <th>Date</th>\n",
       "    </tr>\n",
       "    <tr>\n",
       "      <th>Name</th>\n",
       "      <th></th>\n",
       "      <th></th>\n",
       "      <th></th>\n",
       "      <th></th>\n",
       "      <th></th>\n",
       "    </tr>\n",
       "  </thead>\n",
       "  <tbody>\n",
       "    <tr>\n",
       "      <th>Valentine</th>\n",
       "      <td>2</td>\n",
       "      <td>.</td>\n",
       "      <td>male</td>\n",
       "      <td>20</td>\n",
       "      <td>12:31</td>\n",
       "    </tr>\n",
       "    <tr>\n",
       "      <th>Sarah</th>\n",
       "      <td>4</td>\n",
       "      <td>4</td>\n",
       "      <td>female</td>\n",
       "      <td>22</td>\n",
       "      <td>13:20</td>\n",
       "    </tr>\n",
       "    <tr>\n",
       "      <th>Stephen</th>\n",
       "      <td>5</td>\n",
       "      <td>4</td>\n",
       "      <td>male</td>\n",
       "      <td>19</td>\n",
       "      <td>12:35</td>\n",
       "    </tr>\n",
       "    <tr>\n",
       "      <th>Jane</th>\n",
       "      <td>3</td>\n",
       "      <td>5</td>\n",
       "      <td>female</td>\n",
       "      <td>20</td>\n",
       "      <td>14:50</td>\n",
       "    </tr>\n",
       "    <tr>\n",
       "      <th>Charles</th>\n",
       "      <td>4</td>\n",
       "      <td>.</td>\n",
       "      <td>male</td>\n",
       "      <td>21</td>\n",
       "      <td>14:55</td>\n",
       "    </tr>\n",
       "  </tbody>\n",
       "</table>\n",
       "</div>"
      ],
      "text/plain": [
       "           Grade_P Grade_J  Gender  Age   Date\n",
       "Name                                          \n",
       "Valentine        2       .    male   20  12:31\n",
       "Sarah            4       4  female   22  13:20\n",
       "Stephen          5       4    male   19  12:35\n",
       "Jane             3       5  female   20  14:50\n",
       "Charles          4       .    male   21  14:55"
      ]
     },
     "execution_count": 21,
     "metadata": {},
     "output_type": "execute_result"
    }
   ],
   "source": [
    "df=pd.read_csv(\"data/smallpeople.csv\",index_col='Name')\n",
    "df.head()"
   ]
  },
  {
   "cell_type": "markdown",
   "metadata": {},
   "source": [
    "This column behaves similary to the previous index consisting of numbers."
   ]
  },
  {
   "cell_type": "code",
   "execution_count": null,
   "metadata": {
    "ExecuteTime": {
     "end_time": "2020-09-14T18:50:47.314513Z",
     "start_time": "2020-09-14T18:50:47.308387Z"
    }
   },
   "outputs": [
    {
     "data": {
      "text/plain": [
       "Name\n",
       "Valentine    2\n",
       "Sarah        4\n",
       "Stephen      5\n",
       "Jane         3\n",
       "Charles      4\n",
       "Name: Grade_P, dtype: int64"
      ]
     },
     "execution_count": 22,
     "metadata": {},
     "output_type": "execute_result"
    }
   ],
   "source": [
    "df['Grade_P']"
   ]
  },
  {
   "cell_type": "code",
   "execution_count": null,
   "metadata": {
    "ExecuteTime": {
     "end_time": "2020-09-14T18:50:57.253721Z",
     "start_time": "2020-09-14T18:50:57.246754Z"
    }
   },
   "outputs": [
    {
     "data": {
      "text/plain": [
       "Grade_P        2\n",
       "Grade_J        .\n",
       "Gender      male\n",
       "Age           20\n",
       "Date       12:31\n",
       "Name: Valentine, dtype: object"
      ]
     },
     "execution_count": 23,
     "metadata": {},
     "output_type": "execute_result"
    }
   ],
   "source": [
    "df.loc['Valentine',:]"
   ]
  },
  {
   "cell_type": "markdown",
   "metadata": {},
   "source": [
    "####  nrows\n",
    "\n",
    "Reading only the first few columns of a very big datafile."
   ]
  },
  {
   "cell_type": "code",
   "execution_count": null,
   "metadata": {
    "ExecuteTime": {
     "end_time": "2020-09-14T18:50:59.368912Z",
     "start_time": "2020-09-14T18:50:59.352500Z"
    }
   },
   "outputs": [
    {
     "data": {
      "text/html": [
       "<div>\n",
       "<style scoped>\n",
       "    .dataframe tbody tr th:only-of-type {\n",
       "        vertical-align: middle;\n",
       "    }\n",
       "\n",
       "    .dataframe tbody tr th {\n",
       "        vertical-align: top;\n",
       "    }\n",
       "\n",
       "    .dataframe thead th {\n",
       "        text-align: right;\n",
       "    }\n",
       "</style>\n",
       "<table border=\"1\" class=\"dataframe\">\n",
       "  <thead>\n",
       "    <tr style=\"text-align: right;\">\n",
       "      <th></th>\n",
       "      <th>Name</th>\n",
       "      <th>Grade_P</th>\n",
       "      <th>Grade_J</th>\n",
       "      <th>Gender</th>\n",
       "      <th>Age</th>\n",
       "      <th>Date</th>\n",
       "    </tr>\n",
       "  </thead>\n",
       "  <tbody>\n",
       "    <tr>\n",
       "      <th>0</th>\n",
       "      <td>Valentine</td>\n",
       "      <td>2</td>\n",
       "      <td>.</td>\n",
       "      <td>male</td>\n",
       "      <td>20</td>\n",
       "      <td>12:31</td>\n",
       "    </tr>\n",
       "    <tr>\n",
       "      <th>1</th>\n",
       "      <td>Sarah</td>\n",
       "      <td>4</td>\n",
       "      <td>4</td>\n",
       "      <td>female</td>\n",
       "      <td>22</td>\n",
       "      <td>13:20</td>\n",
       "    </tr>\n",
       "  </tbody>\n",
       "</table>\n",
       "</div>"
      ],
      "text/plain": [
       "        Name  Grade_P Grade_J  Gender  Age   Date\n",
       "0  Valentine        2       .    male   20  12:31\n",
       "1      Sarah        4       4  female   22  13:20"
      ]
     },
     "execution_count": 24,
     "metadata": {},
     "output_type": "execute_result"
    }
   ],
   "source": [
    "df=pd.read_csv(\"data/smallpeople.csv\",nrows=2)\n",
    "df"
   ]
  },
  {
   "cell_type": "markdown",
   "metadata": {},
   "source": [
    "#### na_values\n",
    "\n",
    "If someone sets missing values for example by writing a `.` instead of the missing data, we can tell the csv reader to set it to `NaN`. This can be important when computing averages etc.\n"
   ]
  },
  {
   "cell_type": "code",
   "execution_count": null,
   "metadata": {
    "ExecuteTime": {
     "end_time": "2020-09-14T18:51:00.241674Z",
     "start_time": "2020-09-14T18:51:00.216254Z"
    }
   },
   "outputs": [
    {
     "data": {
      "text/html": [
       "<div>\n",
       "<style scoped>\n",
       "    .dataframe tbody tr th:only-of-type {\n",
       "        vertical-align: middle;\n",
       "    }\n",
       "\n",
       "    .dataframe tbody tr th {\n",
       "        vertical-align: top;\n",
       "    }\n",
       "\n",
       "    .dataframe thead th {\n",
       "        text-align: right;\n",
       "    }\n",
       "</style>\n",
       "<table border=\"1\" class=\"dataframe\">\n",
       "  <thead>\n",
       "    <tr style=\"text-align: right;\">\n",
       "      <th></th>\n",
       "      <th>Name</th>\n",
       "      <th>Grade_P</th>\n",
       "      <th>Grade_J</th>\n",
       "      <th>Gender</th>\n",
       "      <th>Age</th>\n",
       "      <th>Date</th>\n",
       "    </tr>\n",
       "  </thead>\n",
       "  <tbody>\n",
       "    <tr>\n",
       "      <th>0</th>\n",
       "      <td>Valentine</td>\n",
       "      <td>2</td>\n",
       "      <td>NaN</td>\n",
       "      <td>male</td>\n",
       "      <td>20</td>\n",
       "      <td>12:31</td>\n",
       "    </tr>\n",
       "    <tr>\n",
       "      <th>1</th>\n",
       "      <td>Sarah</td>\n",
       "      <td>4</td>\n",
       "      <td>4.0</td>\n",
       "      <td>female</td>\n",
       "      <td>22</td>\n",
       "      <td>13:20</td>\n",
       "    </tr>\n",
       "    <tr>\n",
       "      <th>2</th>\n",
       "      <td>Stephen</td>\n",
       "      <td>5</td>\n",
       "      <td>4.0</td>\n",
       "      <td>male</td>\n",
       "      <td>19</td>\n",
       "      <td>12:35</td>\n",
       "    </tr>\n",
       "    <tr>\n",
       "      <th>3</th>\n",
       "      <td>Jane</td>\n",
       "      <td>3</td>\n",
       "      <td>5.0</td>\n",
       "      <td>female</td>\n",
       "      <td>20</td>\n",
       "      <td>14:50</td>\n",
       "    </tr>\n",
       "    <tr>\n",
       "      <th>4</th>\n",
       "      <td>Charles</td>\n",
       "      <td>4</td>\n",
       "      <td>NaN</td>\n",
       "      <td>male</td>\n",
       "      <td>21</td>\n",
       "      <td>14:55</td>\n",
       "    </tr>\n",
       "  </tbody>\n",
       "</table>\n",
       "</div>"
      ],
      "text/plain": [
       "        Name  Grade_P  Grade_J  Gender  Age   Date\n",
       "0  Valentine        2      NaN    male   20  12:31\n",
       "1      Sarah        4      4.0  female   22  13:20\n",
       "2    Stephen        5      4.0    male   19  12:35\n",
       "3       Jane        3      5.0  female   20  14:50\n",
       "4    Charles        4      NaN    male   21  14:55"
      ]
     },
     "execution_count": 25,
     "metadata": {},
     "output_type": "execute_result"
    }
   ],
   "source": [
    "df=pd.read_csv(\"data/smallpeople.csv\",na_values=['.'])\n",
    "df"
   ]
  },
  {
   "cell_type": "markdown",
   "metadata": {},
   "source": [
    "#### parse_dates (handling dates)\n",
    "\n",
    "The default behaviour is to do nothing with the columns that look like a date or a time."
   ]
  },
  {
   "cell_type": "code",
   "execution_count": null,
   "metadata": {
    "ExecuteTime": {
     "end_time": "2020-09-14T18:51:01.304233Z",
     "start_time": "2020-09-14T18:51:01.287751Z"
    }
   },
   "outputs": [
    {
     "data": {
      "text/html": [
       "<div>\n",
       "<style scoped>\n",
       "    .dataframe tbody tr th:only-of-type {\n",
       "        vertical-align: middle;\n",
       "    }\n",
       "\n",
       "    .dataframe tbody tr th {\n",
       "        vertical-align: top;\n",
       "    }\n",
       "\n",
       "    .dataframe thead th {\n",
       "        text-align: right;\n",
       "    }\n",
       "</style>\n",
       "<table border=\"1\" class=\"dataframe\">\n",
       "  <thead>\n",
       "    <tr style=\"text-align: right;\">\n",
       "      <th></th>\n",
       "      <th>Name</th>\n",
       "      <th>Grade_P</th>\n",
       "      <th>Grade_J</th>\n",
       "      <th>Gender</th>\n",
       "      <th>Age</th>\n",
       "      <th>Date</th>\n",
       "    </tr>\n",
       "  </thead>\n",
       "  <tbody>\n",
       "    <tr>\n",
       "      <th>0</th>\n",
       "      <td>Valentine</td>\n",
       "      <td>2</td>\n",
       "      <td>.</td>\n",
       "      <td>male</td>\n",
       "      <td>20</td>\n",
       "      <td>12:31</td>\n",
       "    </tr>\n",
       "    <tr>\n",
       "      <th>1</th>\n",
       "      <td>Sarah</td>\n",
       "      <td>4</td>\n",
       "      <td>4</td>\n",
       "      <td>female</td>\n",
       "      <td>22</td>\n",
       "      <td>13:20</td>\n",
       "    </tr>\n",
       "    <tr>\n",
       "      <th>2</th>\n",
       "      <td>Stephen</td>\n",
       "      <td>5</td>\n",
       "      <td>4</td>\n",
       "      <td>male</td>\n",
       "      <td>19</td>\n",
       "      <td>12:35</td>\n",
       "    </tr>\n",
       "    <tr>\n",
       "      <th>3</th>\n",
       "      <td>Jane</td>\n",
       "      <td>3</td>\n",
       "      <td>5</td>\n",
       "      <td>female</td>\n",
       "      <td>20</td>\n",
       "      <td>14:50</td>\n",
       "    </tr>\n",
       "    <tr>\n",
       "      <th>4</th>\n",
       "      <td>Charles</td>\n",
       "      <td>4</td>\n",
       "      <td>.</td>\n",
       "      <td>male</td>\n",
       "      <td>21</td>\n",
       "      <td>14:55</td>\n",
       "    </tr>\n",
       "  </tbody>\n",
       "</table>\n",
       "</div>"
      ],
      "text/plain": [
       "        Name  Grade_P Grade_J  Gender  Age   Date\n",
       "0  Valentine        2       .    male   20  12:31\n",
       "1      Sarah        4       4  female   22  13:20\n",
       "2    Stephen        5       4    male   19  12:35\n",
       "3       Jane        3       5  female   20  14:50\n",
       "4    Charles        4       .    male   21  14:55"
      ]
     },
     "execution_count": 26,
     "metadata": {},
     "output_type": "execute_result"
    }
   ],
   "source": [
    "df=pd.read_csv(\"data/smallpeople.csv\")\n",
    "df"
   ]
  },
  {
   "cell_type": "code",
   "execution_count": null,
   "metadata": {
    "ExecuteTime": {
     "end_time": "2020-09-14T18:51:01.669652Z",
     "start_time": "2020-09-14T18:51:01.663404Z"
    }
   },
   "outputs": [
    {
     "data": {
      "text/plain": [
       "0    12:31\n",
       "1    13:20\n",
       "2    12:35\n",
       "3    14:50\n",
       "4    14:55\n",
       "Name: Date, dtype: object"
      ]
     },
     "execution_count": 27,
     "metadata": {},
     "output_type": "execute_result"
    }
   ],
   "source": [
    "df['Date']"
   ]
  },
  {
   "cell_type": "markdown",
   "metadata": {},
   "source": [
    "But we can tell `read_csv()` to do so."
   ]
  },
  {
   "cell_type": "code",
   "execution_count": null,
   "metadata": {
    "ExecuteTime": {
     "end_time": "2020-09-14T18:51:03.578777Z",
     "start_time": "2020-09-14T18:51:03.559523Z"
    }
   },
   "outputs": [
    {
     "data": {
      "text/html": [
       "<div>\n",
       "<style scoped>\n",
       "    .dataframe tbody tr th:only-of-type {\n",
       "        vertical-align: middle;\n",
       "    }\n",
       "\n",
       "    .dataframe tbody tr th {\n",
       "        vertical-align: top;\n",
       "    }\n",
       "\n",
       "    .dataframe thead th {\n",
       "        text-align: right;\n",
       "    }\n",
       "</style>\n",
       "<table border=\"1\" class=\"dataframe\">\n",
       "  <thead>\n",
       "    <tr style=\"text-align: right;\">\n",
       "      <th></th>\n",
       "      <th>Name</th>\n",
       "      <th>Grade_P</th>\n",
       "      <th>Grade_J</th>\n",
       "      <th>Gender</th>\n",
       "      <th>Age</th>\n",
       "      <th>Date</th>\n",
       "    </tr>\n",
       "  </thead>\n",
       "  <tbody>\n",
       "    <tr>\n",
       "      <th>0</th>\n",
       "      <td>Valentine</td>\n",
       "      <td>2</td>\n",
       "      <td>.</td>\n",
       "      <td>male</td>\n",
       "      <td>20</td>\n",
       "      <td>2020-09-15 12:31:00</td>\n",
       "    </tr>\n",
       "    <tr>\n",
       "      <th>1</th>\n",
       "      <td>Sarah</td>\n",
       "      <td>4</td>\n",
       "      <td>4</td>\n",
       "      <td>female</td>\n",
       "      <td>22</td>\n",
       "      <td>2020-09-15 13:20:00</td>\n",
       "    </tr>\n",
       "    <tr>\n",
       "      <th>2</th>\n",
       "      <td>Stephen</td>\n",
       "      <td>5</td>\n",
       "      <td>4</td>\n",
       "      <td>male</td>\n",
       "      <td>19</td>\n",
       "      <td>2020-09-15 12:35:00</td>\n",
       "    </tr>\n",
       "    <tr>\n",
       "      <th>3</th>\n",
       "      <td>Jane</td>\n",
       "      <td>3</td>\n",
       "      <td>5</td>\n",
       "      <td>female</td>\n",
       "      <td>20</td>\n",
       "      <td>2020-09-15 14:50:00</td>\n",
       "    </tr>\n",
       "    <tr>\n",
       "      <th>4</th>\n",
       "      <td>Charles</td>\n",
       "      <td>4</td>\n",
       "      <td>.</td>\n",
       "      <td>male</td>\n",
       "      <td>21</td>\n",
       "      <td>2020-09-15 14:55:00</td>\n",
       "    </tr>\n",
       "  </tbody>\n",
       "</table>\n",
       "</div>"
      ],
      "text/plain": [
       "        Name  Grade_P Grade_J  Gender  Age                Date\n",
       "0  Valentine        2       .    male   20 2020-09-15 12:31:00\n",
       "1      Sarah        4       4  female   22 2020-09-15 13:20:00\n",
       "2    Stephen        5       4    male   19 2020-09-15 12:35:00\n",
       "3       Jane        3       5  female   20 2020-09-15 14:50:00\n",
       "4    Charles        4       .    male   21 2020-09-15 14:55:00"
      ]
     },
     "execution_count": 28,
     "metadata": {},
     "output_type": "execute_result"
    }
   ],
   "source": [
    "df=pd.read_csv(\"data/smallpeople.csv\",parse_dates=['Date'])\n",
    "df"
   ]
  },
  {
   "cell_type": "code",
   "execution_count": null,
   "metadata": {
    "ExecuteTime": {
     "end_time": "2020-09-14T18:51:03.943870Z",
     "start_time": "2020-09-14T18:51:03.937518Z"
    }
   },
   "outputs": [
    {
     "data": {
      "text/plain": [
       "0   2020-09-15 12:31:00\n",
       "1   2020-09-15 13:20:00\n",
       "2   2020-09-15 12:35:00\n",
       "3   2020-09-15 14:50:00\n",
       "4   2020-09-15 14:55:00\n",
       "Name: Date, dtype: datetime64[ns]"
      ]
     },
     "execution_count": 29,
     "metadata": {},
     "output_type": "execute_result"
    }
   ],
   "source": [
    "df['Date']"
   ]
  },
  {
   "cell_type": "markdown",
   "metadata": {},
   "source": [
    "#### compression (reading compressed files)\n",
    "\n",
    "Data is smaller and faster to read when it is compressed."
   ]
  },
  {
   "cell_type": "code",
   "execution_count": null,
   "metadata": {
    "ExecuteTime": {
     "end_time": "2020-09-14T18:51:05.056148Z",
     "start_time": "2020-09-14T18:51:05.040650Z"
    }
   },
   "outputs": [
    {
     "data": {
      "text/html": [
       "<div>\n",
       "<style scoped>\n",
       "    .dataframe tbody tr th:only-of-type {\n",
       "        vertical-align: middle;\n",
       "    }\n",
       "\n",
       "    .dataframe tbody tr th {\n",
       "        vertical-align: top;\n",
       "    }\n",
       "\n",
       "    .dataframe thead th {\n",
       "        text-align: right;\n",
       "    }\n",
       "</style>\n",
       "<table border=\"1\" class=\"dataframe\">\n",
       "  <thead>\n",
       "    <tr style=\"text-align: right;\">\n",
       "      <th></th>\n",
       "      <th>Name</th>\n",
       "      <th>Grade_P</th>\n",
       "      <th>Grade_J</th>\n",
       "      <th>Gender</th>\n",
       "      <th>Age</th>\n",
       "      <th>Date</th>\n",
       "    </tr>\n",
       "  </thead>\n",
       "  <tbody>\n",
       "    <tr>\n",
       "      <th>0</th>\n",
       "      <td>Valentine</td>\n",
       "      <td>2</td>\n",
       "      <td>.</td>\n",
       "      <td>male</td>\n",
       "      <td>20</td>\n",
       "      <td>12:31</td>\n",
       "    </tr>\n",
       "    <tr>\n",
       "      <th>1</th>\n",
       "      <td>Sarah</td>\n",
       "      <td>4</td>\n",
       "      <td>4</td>\n",
       "      <td>female</td>\n",
       "      <td>22</td>\n",
       "      <td>13:20</td>\n",
       "    </tr>\n",
       "    <tr>\n",
       "      <th>2</th>\n",
       "      <td>Stephen</td>\n",
       "      <td>5</td>\n",
       "      <td>4</td>\n",
       "      <td>male</td>\n",
       "      <td>19</td>\n",
       "      <td>12:35</td>\n",
       "    </tr>\n",
       "    <tr>\n",
       "      <th>3</th>\n",
       "      <td>Jane</td>\n",
       "      <td>3</td>\n",
       "      <td>5</td>\n",
       "      <td>female</td>\n",
       "      <td>20</td>\n",
       "      <td>14:50</td>\n",
       "    </tr>\n",
       "    <tr>\n",
       "      <th>4</th>\n",
       "      <td>Charles</td>\n",
       "      <td>4</td>\n",
       "      <td>.</td>\n",
       "      <td>male</td>\n",
       "      <td>21</td>\n",
       "      <td>14:55</td>\n",
       "    </tr>\n",
       "  </tbody>\n",
       "</table>\n",
       "</div>"
      ],
      "text/plain": [
       "        Name  Grade_P Grade_J  Gender  Age   Date\n",
       "0  Valentine        2       .    male   20  12:31\n",
       "1      Sarah        4       4  female   22  13:20\n",
       "2    Stephen        5       4    male   19  12:35\n",
       "3       Jane        3       5  female   20  14:50\n",
       "4    Charles        4       .    male   21  14:55"
      ]
     },
     "execution_count": 30,
     "metadata": {},
     "output_type": "execute_result"
    }
   ],
   "source": [
    "df=pd.read_csv(\"data/smallpeople.csv.gz\")\n",
    "df"
   ]
  },
  {
   "cell_type": "markdown",
   "metadata": {},
   "source": [
    "#### We can read big files in chuncks"
   ]
  },
  {
   "cell_type": "code",
   "execution_count": null,
   "metadata": {
    "ExecuteTime": {
     "end_time": "2020-09-14T18:51:05.955721Z",
     "start_time": "2020-09-14T18:51:05.933710Z"
    }
   },
   "outputs": [
    {
     "name": "stdout",
     "output_type": "stream",
     "text": [
      "        Name  Grade_P Grade_J  Gender  Age   Date\n",
      "0  Valentine        2       .    male   20  12:31\n",
      "1      Sarah        4       4  female   22  13:20\n",
      "      Name  Grade_P  Grade_J  Gender  Age   Date\n",
      "2  Stephen        5        4    male   19  12:35\n",
      "3     Jane        3        5  female   20  14:50\n",
      "      Name  Grade_P Grade_J Gender  Age   Date\n",
      "4  Charles        4       .   male   21  14:55\n"
     ]
    }
   ],
   "source": [
    "for ch in pd.read_csv(\"data/smallpeople.csv.gz\",iterator=True,chunksize=2):\n",
    "    print(ch)\n",
    "    # here we do something with it"
   ]
  },
  {
   "cell_type": "markdown",
   "metadata": {},
   "source": [
    "We can read big files faster, if we only need a handful of columns:"
   ]
  },
  {
   "cell_type": "code",
   "execution_count": null,
   "metadata": {
    "ExecuteTime": {
     "end_time": "2020-09-14T18:51:07.246682Z",
     "start_time": "2020-09-14T18:51:07.231480Z"
    }
   },
   "outputs": [
    {
     "data": {
      "text/html": [
       "<div>\n",
       "<style scoped>\n",
       "    .dataframe tbody tr th:only-of-type {\n",
       "        vertical-align: middle;\n",
       "    }\n",
       "\n",
       "    .dataframe tbody tr th {\n",
       "        vertical-align: top;\n",
       "    }\n",
       "\n",
       "    .dataframe thead th {\n",
       "        text-align: right;\n",
       "    }\n",
       "</style>\n",
       "<table border=\"1\" class=\"dataframe\">\n",
       "  <thead>\n",
       "    <tr style=\"text-align: right;\">\n",
       "      <th></th>\n",
       "      <th>Name</th>\n",
       "      <th>Gender</th>\n",
       "    </tr>\n",
       "  </thead>\n",
       "  <tbody>\n",
       "    <tr>\n",
       "      <th>0</th>\n",
       "      <td>Valentine</td>\n",
       "      <td>male</td>\n",
       "    </tr>\n",
       "    <tr>\n",
       "      <th>1</th>\n",
       "      <td>Sarah</td>\n",
       "      <td>female</td>\n",
       "    </tr>\n",
       "    <tr>\n",
       "      <th>2</th>\n",
       "      <td>Stephen</td>\n",
       "      <td>male</td>\n",
       "    </tr>\n",
       "    <tr>\n",
       "      <th>3</th>\n",
       "      <td>Jane</td>\n",
       "      <td>female</td>\n",
       "    </tr>\n",
       "    <tr>\n",
       "      <th>4</th>\n",
       "      <td>Charles</td>\n",
       "      <td>male</td>\n",
       "    </tr>\n",
       "  </tbody>\n",
       "</table>\n",
       "</div>"
      ],
      "text/plain": [
       "        Name  Gender\n",
       "0  Valentine    male\n",
       "1      Sarah  female\n",
       "2    Stephen    male\n",
       "3       Jane  female\n",
       "4    Charles    male"
      ]
     },
     "execution_count": 32,
     "metadata": {},
     "output_type": "execute_result"
    }
   ],
   "source": [
    "pd.read_csv(\"data/smallpeople.csv.gz\",usecols=['Name','Gender'])"
   ]
  },
  {
   "cell_type": "markdown",
   "metadata": {},
   "source": [
    "#### Further settings:"
   ]
  },
  {
   "cell_type": "code",
   "execution_count": null,
   "metadata": {
    "ExecuteTime": {
     "end_time": "2020-09-14T18:51:09.741212Z",
     "start_time": "2020-09-14T18:51:09.734741Z"
    }
   },
   "outputs": [
    {
     "name": "stdout",
     "output_type": "stream",
     "text": [
      "Help on function read_csv in module pandas.io.parsers:\n",
      "\n",
      "read_csv(filepath_or_buffer: Union[str, pathlib.Path, IO[~AnyStr]], sep=',', delimiter=None, header='infer', names=None, index_col=None, usecols=None, squeeze=False, prefix=None, mangle_dupe_cols=True, dtype=None, engine=None, converters=None, true_values=None, false_values=None, skipinitialspace=False, skiprows=None, skipfooter=0, nrows=None, na_values=None, keep_default_na=True, na_filter=True, verbose=False, skip_blank_lines=True, parse_dates=False, infer_datetime_format=False, keep_date_col=False, date_parser=None, dayfirst=False, cache_dates=True, iterator=False, chunksize=None, compression='infer', thousands=None, decimal: str = '.', lineterminator=None, quotechar='\"', quoting=0, doublequote=True, escapechar=None, comment=None, encoding=None, dialect=None, error_bad_lines=True, warn_bad_lines=True, delim_whitespace=False, low_memory=True, memory_map=False, float_precision=None)\n",
      "    Read a comma-separated values (csv) file into DataFrame.\n",
      "    \n",
      "    Also supports optionally iterating or breaking of the file\n",
      "    into chunks.\n",
      "    \n",
      "    Additional help can be found in the online docs for\n",
      "    `IO Tools <https://pandas.pydata.org/pandas-docs/stable/user_guide/io.html>`_.\n",
      "    \n",
      "    Parameters\n",
      "    ----------\n",
      "    filepath_or_buffer : str, path object or file-like object\n",
      "        Any valid string path is acceptable. The string could be a URL. Valid\n",
      "        URL schemes include http, ftp, s3, and file. For file URLs, a host is\n",
      "        expected. A local file could be: file://localhost/path/to/table.csv.\n",
      "    \n",
      "        If you want to pass in a path object, pandas accepts any ``os.PathLike``.\n",
      "    \n",
      "        By file-like object, we refer to objects with a ``read()`` method, such as\n",
      "        a file handler (e.g. via builtin ``open`` function) or ``StringIO``.\n",
      "    sep : str, default ','\n",
      "        Delimiter to use. If sep is None, the C engine cannot automatically detect\n",
      "        the separator, but the Python parsing engine can, meaning the latter will\n",
      "        be used and automatically detect the separator by Python's builtin sniffer\n",
      "        tool, ``csv.Sniffer``. In addition, separators longer than 1 character and\n",
      "        different from ``'\\s+'`` will be interpreted as regular expressions and\n",
      "        will also force the use of the Python parsing engine. Note that regex\n",
      "        delimiters are prone to ignoring quoted data. Regex example: ``'\\r\\t'``.\n",
      "    delimiter : str, default ``None``\n",
      "        Alias for sep.\n",
      "    header : int, list of int, default 'infer'\n",
      "        Row number(s) to use as the column names, and the start of the\n",
      "        data.  Default behavior is to infer the column names: if no names\n",
      "        are passed the behavior is identical to ``header=0`` and column\n",
      "        names are inferred from the first line of the file, if column\n",
      "        names are passed explicitly then the behavior is identical to\n",
      "        ``header=None``. Explicitly pass ``header=0`` to be able to\n",
      "        replace existing names. The header can be a list of integers that\n",
      "        specify row locations for a multi-index on the columns\n",
      "        e.g. [0,1,3]. Intervening rows that are not specified will be\n",
      "        skipped (e.g. 2 in this example is skipped). Note that this\n",
      "        parameter ignores commented lines and empty lines if\n",
      "        ``skip_blank_lines=True``, so ``header=0`` denotes the first line of\n",
      "        data rather than the first line of the file.\n",
      "    names : array-like, optional\n",
      "        List of column names to use. If the file contains a header row,\n",
      "        then you should explicitly pass ``header=0`` to override the column names.\n",
      "        Duplicates in this list are not allowed.\n",
      "    index_col : int, str, sequence of int / str, or False, default ``None``\n",
      "      Column(s) to use as the row labels of the ``DataFrame``, either given as\n",
      "      string name or column index. If a sequence of int / str is given, a\n",
      "      MultiIndex is used.\n",
      "    \n",
      "      Note: ``index_col=False`` can be used to force pandas to *not* use the first\n",
      "      column as the index, e.g. when you have a malformed file with delimiters at\n",
      "      the end of each line.\n",
      "    usecols : list-like or callable, optional\n",
      "        Return a subset of the columns. If list-like, all elements must either\n",
      "        be positional (i.e. integer indices into the document columns) or strings\n",
      "        that correspond to column names provided either by the user in `names` or\n",
      "        inferred from the document header row(s). For example, a valid list-like\n",
      "        `usecols` parameter would be ``[0, 1, 2]`` or ``['foo', 'bar', 'baz']``.\n",
      "        Element order is ignored, so ``usecols=[0, 1]`` is the same as ``[1, 0]``.\n",
      "        To instantiate a DataFrame from ``data`` with element order preserved use\n",
      "        ``pd.read_csv(data, usecols=['foo', 'bar'])[['foo', 'bar']]`` for columns\n",
      "        in ``['foo', 'bar']`` order or\n",
      "        ``pd.read_csv(data, usecols=['foo', 'bar'])[['bar', 'foo']]``\n",
      "        for ``['bar', 'foo']`` order.\n",
      "    \n",
      "        If callable, the callable function will be evaluated against the column\n",
      "        names, returning names where the callable function evaluates to True. An\n",
      "        example of a valid callable argument would be ``lambda x: x.upper() in\n",
      "        ['AAA', 'BBB', 'DDD']``. Using this parameter results in much faster\n",
      "        parsing time and lower memory usage.\n",
      "    squeeze : bool, default False\n",
      "        If the parsed data only contains one column then return a Series.\n",
      "    prefix : str, optional\n",
      "        Prefix to add to column numbers when no header, e.g. 'X' for X0, X1, ...\n",
      "    mangle_dupe_cols : bool, default True\n",
      "        Duplicate columns will be specified as 'X', 'X.1', ...'X.N', rather than\n",
      "        'X'...'X'. Passing in False will cause data to be overwritten if there\n",
      "        are duplicate names in the columns.\n",
      "    dtype : Type name or dict of column -> type, optional\n",
      "        Data type for data or columns. E.g. {'a': np.float64, 'b': np.int32,\n",
      "        'c': 'Int64'}\n",
      "        Use `str` or `object` together with suitable `na_values` settings\n",
      "        to preserve and not interpret dtype.\n",
      "        If converters are specified, they will be applied INSTEAD\n",
      "        of dtype conversion.\n",
      "    engine : {'c', 'python'}, optional\n",
      "        Parser engine to use. The C engine is faster while the python engine is\n",
      "        currently more feature-complete.\n",
      "    converters : dict, optional\n",
      "        Dict of functions for converting values in certain columns. Keys can either\n",
      "        be integers or column labels.\n",
      "    true_values : list, optional\n",
      "        Values to consider as True.\n",
      "    false_values : list, optional\n",
      "        Values to consider as False.\n",
      "    skipinitialspace : bool, default False\n",
      "        Skip spaces after delimiter.\n",
      "    skiprows : list-like, int or callable, optional\n",
      "        Line numbers to skip (0-indexed) or number of lines to skip (int)\n",
      "        at the start of the file.\n",
      "    \n",
      "        If callable, the callable function will be evaluated against the row\n",
      "        indices, returning True if the row should be skipped and False otherwise.\n",
      "        An example of a valid callable argument would be ``lambda x: x in [0, 2]``.\n",
      "    skipfooter : int, default 0\n",
      "        Number of lines at bottom of file to skip (Unsupported with engine='c').\n",
      "    nrows : int, optional\n",
      "        Number of rows of file to read. Useful for reading pieces of large files.\n",
      "    na_values : scalar, str, list-like, or dict, optional\n",
      "        Additional strings to recognize as NA/NaN. If dict passed, specific\n",
      "        per-column NA values.  By default the following values are interpreted as\n",
      "        NaN: '', '#N/A', '#N/A N/A', '#NA', '-1.#IND', '-1.#QNAN', '-NaN', '-nan',\n",
      "        '1.#IND', '1.#QNAN', '<NA>', 'N/A', 'NA', 'NULL', 'NaN', 'n/a',\n",
      "        'nan', 'null'.\n",
      "    keep_default_na : bool, default True\n",
      "        Whether or not to include the default NaN values when parsing the data.\n",
      "        Depending on whether `na_values` is passed in, the behavior is as follows:\n",
      "    \n",
      "        * If `keep_default_na` is True, and `na_values` are specified, `na_values`\n",
      "          is appended to the default NaN values used for parsing.\n",
      "        * If `keep_default_na` is True, and `na_values` are not specified, only\n",
      "          the default NaN values are used for parsing.\n",
      "        * If `keep_default_na` is False, and `na_values` are specified, only\n",
      "          the NaN values specified `na_values` are used for parsing.\n",
      "        * If `keep_default_na` is False, and `na_values` are not specified, no\n",
      "          strings will be parsed as NaN.\n",
      "    \n",
      "        Note that if `na_filter` is passed in as False, the `keep_default_na` and\n",
      "        `na_values` parameters will be ignored.\n",
      "    na_filter : bool, default True\n",
      "        Detect missing value markers (empty strings and the value of na_values). In\n",
      "        data without any NAs, passing na_filter=False can improve the performance\n",
      "        of reading a large file.\n",
      "    verbose : bool, default False\n",
      "        Indicate number of NA values placed in non-numeric columns.\n",
      "    skip_blank_lines : bool, default True\n",
      "        If True, skip over blank lines rather than interpreting as NaN values.\n",
      "    parse_dates : bool or list of int or names or list of lists or dict, default False\n",
      "        The behavior is as follows:\n",
      "    \n",
      "        * boolean. If True -> try parsing the index.\n",
      "        * list of int or names. e.g. If [1, 2, 3] -> try parsing columns 1, 2, 3\n",
      "          each as a separate date column.\n",
      "        * list of lists. e.g.  If [[1, 3]] -> combine columns 1 and 3 and parse as\n",
      "          a single date column.\n",
      "        * dict, e.g. {'foo' : [1, 3]} -> parse columns 1, 3 as date and call\n",
      "          result 'foo'\n",
      "    \n",
      "        If a column or index cannot be represented as an array of datetimes,\n",
      "        say because of an unparseable value or a mixture of timezones, the column\n",
      "        or index will be returned unaltered as an object data type. For\n",
      "        non-standard datetime parsing, use ``pd.to_datetime`` after\n",
      "        ``pd.read_csv``. To parse an index or column with a mixture of timezones,\n",
      "        specify ``date_parser`` to be a partially-applied\n",
      "        :func:`pandas.to_datetime` with ``utc=True``. See\n",
      "        :ref:`io.csv.mixed_timezones` for more.\n",
      "    \n",
      "        Note: A fast-path exists for iso8601-formatted dates.\n",
      "    infer_datetime_format : bool, default False\n",
      "        If True and `parse_dates` is enabled, pandas will attempt to infer the\n",
      "        format of the datetime strings in the columns, and if it can be inferred,\n",
      "        switch to a faster method of parsing them. In some cases this can increase\n",
      "        the parsing speed by 5-10x.\n",
      "    keep_date_col : bool, default False\n",
      "        If True and `parse_dates` specifies combining multiple columns then\n",
      "        keep the original columns.\n",
      "    date_parser : function, optional\n",
      "        Function to use for converting a sequence of string columns to an array of\n",
      "        datetime instances. The default uses ``dateutil.parser.parser`` to do the\n",
      "        conversion. Pandas will try to call `date_parser` in three different ways,\n",
      "        advancing to the next if an exception occurs: 1) Pass one or more arrays\n",
      "        (as defined by `parse_dates`) as arguments; 2) concatenate (row-wise) the\n",
      "        string values from the columns defined by `parse_dates` into a single array\n",
      "        and pass that; and 3) call `date_parser` once for each row using one or\n",
      "        more strings (corresponding to the columns defined by `parse_dates`) as\n",
      "        arguments.\n",
      "    dayfirst : bool, default False\n",
      "        DD/MM format dates, international and European format.\n",
      "    cache_dates : bool, default True\n",
      "        If True, use a cache of unique, converted dates to apply the datetime\n",
      "        conversion. May produce significant speed-up when parsing duplicate\n",
      "        date strings, especially ones with timezone offsets.\n",
      "    \n",
      "        .. versionadded:: 0.25.0\n",
      "    iterator : bool, default False\n",
      "        Return TextFileReader object for iteration or getting chunks with\n",
      "        ``get_chunk()``.\n",
      "    chunksize : int, optional\n",
      "        Return TextFileReader object for iteration.\n",
      "        See the `IO Tools docs\n",
      "        <https://pandas.pydata.org/pandas-docs/stable/io.html#io-chunking>`_\n",
      "        for more information on ``iterator`` and ``chunksize``.\n",
      "    compression : {'infer', 'gzip', 'bz2', 'zip', 'xz', None}, default 'infer'\n",
      "        For on-the-fly decompression of on-disk data. If 'infer' and\n",
      "        `filepath_or_buffer` is path-like, then detect compression from the\n",
      "        following extensions: '.gz', '.bz2', '.zip', or '.xz' (otherwise no\n",
      "        decompression). If using 'zip', the ZIP file must contain only one data\n",
      "        file to be read in. Set to None for no decompression.\n",
      "    thousands : str, optional\n",
      "        Thousands separator.\n",
      "    decimal : str, default '.'\n",
      "        Character to recognize as decimal point (e.g. use ',' for European data).\n",
      "    lineterminator : str (length 1), optional\n",
      "        Character to break file into lines. Only valid with C parser.\n",
      "    quotechar : str (length 1), optional\n",
      "        The character used to denote the start and end of a quoted item. Quoted\n",
      "        items can include the delimiter and it will be ignored.\n",
      "    quoting : int or csv.QUOTE_* instance, default 0\n",
      "        Control field quoting behavior per ``csv.QUOTE_*`` constants. Use one of\n",
      "        QUOTE_MINIMAL (0), QUOTE_ALL (1), QUOTE_NONNUMERIC (2) or QUOTE_NONE (3).\n",
      "    doublequote : bool, default ``True``\n",
      "       When quotechar is specified and quoting is not ``QUOTE_NONE``, indicate\n",
      "       whether or not to interpret two consecutive quotechar elements INSIDE a\n",
      "       field as a single ``quotechar`` element.\n",
      "    escapechar : str (length 1), optional\n",
      "        One-character string used to escape other characters.\n",
      "    comment : str, optional\n",
      "        Indicates remainder of line should not be parsed. If found at the beginning\n",
      "        of a line, the line will be ignored altogether. This parameter must be a\n",
      "        single character. Like empty lines (as long as ``skip_blank_lines=True``),\n",
      "        fully commented lines are ignored by the parameter `header` but not by\n",
      "        `skiprows`. For example, if ``comment='#'``, parsing\n",
      "        ``#empty\\na,b,c\\n1,2,3`` with ``header=0`` will result in 'a,b,c' being\n",
      "        treated as the header.\n",
      "    encoding : str, optional\n",
      "        Encoding to use for UTF when reading/writing (ex. 'utf-8'). `List of Python\n",
      "        standard encodings\n",
      "        <https://docs.python.org/3/library/codecs.html#standard-encodings>`_ .\n",
      "    dialect : str or csv.Dialect, optional\n",
      "        If provided, this parameter will override values (default or not) for the\n",
      "        following parameters: `delimiter`, `doublequote`, `escapechar`,\n",
      "        `skipinitialspace`, `quotechar`, and `quoting`. If it is necessary to\n",
      "        override values, a ParserWarning will be issued. See csv.Dialect\n",
      "        documentation for more details.\n",
      "    error_bad_lines : bool, default True\n",
      "        Lines with too many fields (e.g. a csv line with too many commas) will by\n",
      "        default cause an exception to be raised, and no DataFrame will be returned.\n",
      "        If False, then these \"bad lines\" will dropped from the DataFrame that is\n",
      "        returned.\n",
      "    warn_bad_lines : bool, default True\n",
      "        If error_bad_lines is False, and warn_bad_lines is True, a warning for each\n",
      "        \"bad line\" will be output.\n",
      "    delim_whitespace : bool, default False\n",
      "        Specifies whether or not whitespace (e.g. ``' '`` or ``'    '``) will be\n",
      "        used as the sep. Equivalent to setting ``sep='\\s+'``. If this option\n",
      "        is set to True, nothing should be passed in for the ``delimiter``\n",
      "        parameter.\n",
      "    low_memory : bool, default True\n",
      "        Internally process the file in chunks, resulting in lower memory use\n",
      "        while parsing, but possibly mixed type inference.  To ensure no mixed\n",
      "        types either set False, or specify the type with the `dtype` parameter.\n",
      "        Note that the entire file is read into a single DataFrame regardless,\n",
      "        use the `chunksize` or `iterator` parameter to return the data in chunks.\n",
      "        (Only valid with C parser).\n",
      "    memory_map : bool, default False\n",
      "        If a filepath is provided for `filepath_or_buffer`, map the file object\n",
      "        directly onto memory and access the data directly from there. Using this\n",
      "        option can improve performance because there is no longer any I/O overhead.\n",
      "    float_precision : str, optional\n",
      "        Specifies which converter the C engine should use for floating-point\n",
      "        values. The options are `None` for the ordinary converter,\n",
      "        `high` for the high-precision converter, and `round_trip` for the\n",
      "        round-trip converter.\n",
      "    \n",
      "    Returns\n",
      "    -------\n",
      "    DataFrame or TextParser\n",
      "        A comma-separated values (csv) file is returned as two-dimensional\n",
      "        data structure with labeled axes.\n",
      "    \n",
      "    See Also\n",
      "    --------\n",
      "    to_csv : Write DataFrame to a comma-separated values (csv) file.\n",
      "    read_csv : Read a comma-separated values (csv) file into DataFrame.\n",
      "    read_fwf : Read a table of fixed-width formatted lines into DataFrame.\n",
      "    \n",
      "    Examples\n",
      "    --------\n",
      "    >>> pd.read_csv('data.csv')  # doctest: +SKIP\n",
      "\n"
     ]
    }
   ],
   "source": [
    "help(pd.read_csv)"
   ]
  },
  {
   "cell_type": "markdown",
   "metadata": {},
   "source": [
    "## Writing to csv\n",
    "\n",
    "The default setting is to write the indices out."
   ]
  },
  {
   "cell_type": "code",
   "execution_count": null,
   "metadata": {
    "ExecuteTime": {
     "end_time": "2020-09-14T18:51:10.814464Z",
     "start_time": "2020-09-14T18:51:10.804876Z"
    }
   },
   "outputs": [],
   "source": [
    "df.to_csv('tmp.tsv')"
   ]
  },
  {
   "cell_type": "code",
   "execution_count": null,
   "metadata": {
    "ExecuteTime": {
     "end_time": "2020-09-14T18:51:11.623492Z",
     "start_time": "2020-09-14T18:51:11.494692Z"
    }
   },
   "outputs": [
    {
     "name": "stdout",
     "output_type": "stream",
     "text": [
      ",Name,Grade_P,Grade_J,Gender,Age,Date\r\n",
      "0,Valentine,2,.,male,20,12:31\r\n",
      "1,Sarah,4,4,female,22,13:20\r\n",
      "2,Stephen,5,4,male,19,12:35\r\n",
      "3,Jane,3,5,female,20,14:50\r\n",
      "4,Charles,4,.,male,21,14:55\r\n"
     ]
    }
   ],
   "source": [
    "%cat tmp.tsv"
   ]
  },
  {
   "cell_type": "markdown",
   "metadata": {},
   "source": [
    "If we don't want that:"
   ]
  },
  {
   "cell_type": "code",
   "execution_count": null,
   "metadata": {
    "ExecuteTime": {
     "end_time": "2020-09-14T18:51:12.661464Z",
     "start_time": "2020-09-14T18:51:12.640305Z"
    }
   },
   "outputs": [],
   "source": [
    "df.to_csv('tmp.csv',index=False)"
   ]
  },
  {
   "cell_type": "code",
   "execution_count": null,
   "metadata": {
    "ExecuteTime": {
     "end_time": "2020-09-14T18:51:13.247124Z",
     "start_time": "2020-09-14T18:51:13.124878Z"
    }
   },
   "outputs": [
    {
     "name": "stdout",
     "output_type": "stream",
     "text": [
      "Name,Grade_P,Grade_J,Gender,Age,Date\r\n",
      "Valentine,2,.,male,20,12:31\r\n",
      "Sarah,4,4,female,22,13:20\r\n",
      "Stephen,5,4,male,19,12:35\r\n",
      "Jane,3,5,female,20,14:50\r\n",
      "Charles,4,.,male,21,14:55\r\n"
     ]
    }
   ],
   "source": [
    "%cat tmp.csv"
   ]
  },
  {
   "cell_type": "markdown",
   "metadata": {},
   "source": [
    "We can set the column separator again by using the `sep` argument."
   ]
  },
  {
   "cell_type": "code",
   "execution_count": null,
   "metadata": {
    "ExecuteTime": {
     "end_time": "2020-09-14T18:51:14.521269Z",
     "start_time": "2020-09-14T18:51:14.511385Z"
    }
   },
   "outputs": [],
   "source": [
    "df.to_csv('tmp.tsv',sep='\\t')"
   ]
  },
  {
   "cell_type": "code",
   "execution_count": 8,
   "metadata": {
    "ExecuteTime": {
     "end_time": "2020-09-14T18:51:15.159477Z",
     "start_time": "2020-09-14T18:51:15.038023Z"
    }
   },
   "outputs": [
    {
     "name": "stdout",
     "output_type": "stream",
     "text": [
      "01-Pandas_load_data.ipynb         Ex-Pandas_apply_seaborn.ipynb\r\n",
      "02-Pandas_basic_operations.ipynb  Ex-Pandas_dates_twitter-json.ipynb\r\n",
      "03-Pandas_groupby.ipynb           Ex-Pandas-load-masking-sorting.ipynb\r\n",
      "04-Pandas_stat_plot.ipynb         Ex-Pandas-merge-groupby.ipynb\r\n",
      "05-Pandas_adv_topics.ipynb        Readme.md\r\n",
      "\u001b[0m\u001b[01;34mdata\u001b[0m/\r\n"
     ]
    }
   ],
   "source": [
    "%cat "
   ]
  },
  {
   "cell_type": "markdown",
   "metadata": {},
   "source": [
    "We can write compressed."
   ]
  },
  {
   "cell_type": "code",
   "execution_count": null,
   "metadata": {
    "ExecuteTime": {
     "end_time": "2020-09-14T18:51:16.224804Z",
     "start_time": "2020-09-14T18:51:16.214653Z"
    }
   },
   "outputs": [],
   "source": [
    "df.to_csv('tmp.csv.gz')"
   ]
  },
  {
   "cell_type": "markdown",
   "metadata": {},
   "source": [
    "We can set the format of floating point numbers."
   ]
  },
  {
   "cell_type": "code",
   "execution_count": null,
   "metadata": {
    "ExecuteTime": {
     "end_time": "2020-09-14T18:51:17.205786Z",
     "start_time": "2020-09-14T18:51:17.197085Z"
    }
   },
   "outputs": [],
   "source": [
    "df.to_csv('tmp.csv',float_format='%.2f')"
   ]
  },
  {
   "cell_type": "code",
   "execution_count": null,
   "metadata": {
    "ExecuteTime": {
     "end_time": "2020-09-14T18:51:17.787850Z",
     "start_time": "2020-09-14T18:51:17.665975Z"
    }
   },
   "outputs": [
    {
     "name": "stdout",
     "output_type": "stream",
     "text": [
      ",Name,Grade_P,Grade_J,Gender,Age,Date\r\n",
      "0,Valentine,2,.,male,20,12:31\r\n",
      "1,Sarah,4,4,female,22,13:20\r\n",
      "2,Stephen,5,4,male,19,12:35\r\n",
      "3,Jane,3,5,female,20,14:50\r\n",
      "4,Charles,4,.,male,21,14:55\r\n"
     ]
    }
   ],
   "source": [
    "%cat tmp.csv"
   ]
  },
  {
   "cell_type": "markdown",
   "metadata": {},
   "source": [
    "## Other file I/O functions"
   ]
  },
  {
   "cell_type": "markdown",
   "metadata": {},
   "source": [
    "We can read Excel."
   ]
  },
  {
   "cell_type": "code",
   "execution_count": null,
   "metadata": {
    "ExecuteTime": {
     "end_time": "2020-09-14T18:52:43.055719Z",
     "start_time": "2020-09-14T18:52:43.033119Z"
    },
    "scrolled": true
   },
   "outputs": [
    {
     "data": {
      "text/html": [
       "<div>\n",
       "<style scoped>\n",
       "    .dataframe tbody tr th:only-of-type {\n",
       "        vertical-align: middle;\n",
       "    }\n",
       "\n",
       "    .dataframe tbody tr th {\n",
       "        vertical-align: top;\n",
       "    }\n",
       "\n",
       "    .dataframe thead th {\n",
       "        text-align: right;\n",
       "    }\n",
       "</style>\n",
       "<table border=\"1\" class=\"dataframe\">\n",
       "  <thead>\n",
       "    <tr style=\"text-align: right;\">\n",
       "      <th></th>\n",
       "      <th>Name</th>\n",
       "      <th>Grade_P</th>\n",
       "      <th>Grade_J</th>\n",
       "      <th>Gender</th>\n",
       "      <th>Age</th>\n",
       "      <th>Date</th>\n",
       "    </tr>\n",
       "  </thead>\n",
       "  <tbody>\n",
       "    <tr>\n",
       "      <th>0</th>\n",
       "      <td>Valentine</td>\n",
       "      <td>2</td>\n",
       "      <td>.</td>\n",
       "      <td>male</td>\n",
       "      <td>20</td>\n",
       "      <td>12:31</td>\n",
       "    </tr>\n",
       "    <tr>\n",
       "      <th>1</th>\n",
       "      <td>Sarah</td>\n",
       "      <td>4</td>\n",
       "      <td>4</td>\n",
       "      <td>female</td>\n",
       "      <td>22</td>\n",
       "      <td>13:20</td>\n",
       "    </tr>\n",
       "    <tr>\n",
       "      <th>2</th>\n",
       "      <td>Stephen</td>\n",
       "      <td>5</td>\n",
       "      <td>4</td>\n",
       "      <td>male</td>\n",
       "      <td>19</td>\n",
       "      <td>12:35</td>\n",
       "    </tr>\n",
       "    <tr>\n",
       "      <th>3</th>\n",
       "      <td>Jane</td>\n",
       "      <td>3</td>\n",
       "      <td>5</td>\n",
       "      <td>female</td>\n",
       "      <td>20</td>\n",
       "      <td>14:50</td>\n",
       "    </tr>\n",
       "    <tr>\n",
       "      <th>4</th>\n",
       "      <td>Charles</td>\n",
       "      <td>4</td>\n",
       "      <td>.</td>\n",
       "      <td>male</td>\n",
       "      <td>21</td>\n",
       "      <td>14:55</td>\n",
       "    </tr>\n",
       "  </tbody>\n",
       "</table>\n",
       "</div>"
      ],
      "text/plain": [
       "        Name  Grade_P Grade_J  Gender  Age   Date\n",
       "0  Valentine        2       .    male   20  12:31\n",
       "1      Sarah        4       4  female   22  13:20\n",
       "2    Stephen        5       4    male   19  12:35\n",
       "3       Jane        3       5  female   20  14:50\n",
       "4    Charles        4       .    male   21  14:55"
      ]
     },
     "execution_count": 36,
     "metadata": {},
     "output_type": "execute_result"
    }
   ],
   "source": [
    "df=pd.read_excel('data/smallpeople.xlsx')\n",
    "df"
   ]
  },
  {
   "cell_type": "markdown",
   "metadata": {},
   "source": [
    "And write to Excel.\n"
   ]
  },
  {
   "cell_type": "code",
   "execution_count": null,
   "metadata": {
    "ExecuteTime": {
     "end_time": "2020-09-14T18:52:54.248294Z",
     "start_time": "2020-09-14T18:52:54.230129Z"
    }
   },
   "outputs": [],
   "source": [
    "df.to_excel('tmp.xlsx')"
   ]
  },
  {
   "cell_type": "markdown",
   "metadata": {},
   "source": [
    "# Reading a dictionary, the `json` format"
   ]
  },
  {
   "cell_type": "markdown",
   "metadata": {},
   "source": [
    "It is very common that web APIs return results as a dictionary-like text, in the so-called JSON (JavaScript Object Notation) format. We can turn them to Python dictionaries by using the `json` library."
   ]
  },
  {
   "cell_type": "code",
   "execution_count": 9,
   "metadata": {
    "ExecuteTime": {
     "end_time": "2020-09-14T18:52:56.200423Z",
     "start_time": "2020-09-14T18:52:56.197135Z"
    }
   },
   "outputs": [],
   "source": [
    "import json"
   ]
  },
  {
   "cell_type": "markdown",
   "metadata": {},
   "source": [
    "Each line of the `data/json_example` file is such a dictionary, that we got from the Google Geocoding API. Load these lines into a `list` containing dictionaries with the following command:"
   ]
  },
  {
   "cell_type": "code",
   "execution_count": null,
   "metadata": {},
   "outputs": [],
   "source": [
    "d = []\n",
    "for s in open(\"data/json_example\").readlines():\n",
    "    d.append(json.loads(s))\n",
    "    "
   ]
  },
  {
   "cell_type": "code",
   "execution_count": null,
   "metadata": {
    "ExecuteTime": {
     "end_time": "2020-09-14T18:52:57.099025Z",
     "start_time": "2020-09-14T18:52:57.088720Z"
    }
   },
   "outputs": [
    {
     "data": {
      "text/plain": [
       "[{'results': [{'address_components': [{'long_name': 'Les Escaldes',\n",
       "      'short_name': 'Les Escaldes',\n",
       "      'types': ['locality', 'political']},\n",
       "     {'long_name': 'Escaldes-Engordany',\n",
       "      'short_name': 'Escaldes-Engordany',\n",
       "      'types': ['administrative_area_level_1', 'political']},\n",
       "     {'long_name': 'Andorra',\n",
       "      'short_name': 'AD',\n",
       "      'types': ['country', 'political']},\n",
       "     {'long_name': 'AD700', 'short_name': 'AD700', 'types': ['postal_code']}],\n",
       "    'geometry': {'location_type': 'APPROXIMATE',\n",
       "     'location': {'lng': 1.5387862, 'lat': 42.5100804},\n",
       "     'viewport': {'southwest': {'lng': 1.5285531, 'lat': 42.5067774},\n",
       "      'northeast': {'lng': 1.5532685, 'lat': 42.5168669}},\n",
       "     'bounds': {'southwest': {'lng': 1.5285531, 'lat': 42.5067774},\n",
       "      'northeast': {'lng': 1.5532685, 'lat': 42.5168669}}},\n",
       "    'types': ['locality', 'political'],\n",
       "    'place_id': 'ChIJaxpK9OKKpRIRtp4e8lTF3v0',\n",
       "    'formatted_address': 'AD700 Les Escaldes, Andorra'}],\n",
       "  'query': 'les+Escaldes+AD',\n",
       "  'id': '3040051',\n",
       "  'status': 'OK'},\n",
       " {'results': [{'address_components': [{'long_name': 'Les Escaldes',\n",
       "      'short_name': 'Les Escaldes',\n",
       "      'types': ['locality', 'political']},\n",
       "     {'long_name': 'Escaldes-Engordany',\n",
       "      'short_name': 'Escaldes-Engordany',\n",
       "      'types': ['administrative_area_level_1', 'political']},\n",
       "     {'long_name': 'Andorra',\n",
       "      'short_name': 'AD',\n",
       "      'types': ['country', 'political']},\n",
       "     {'long_name': 'AD700', 'short_name': 'AD700', 'types': ['postal_code']}],\n",
       "    'geometry': {'location_type': 'APPROXIMATE',\n",
       "     'location': {'lng': 1.5387862, 'lat': 42.5100804},\n",
       "     'viewport': {'southwest': {'lng': 1.5285531, 'lat': 42.5067774},\n",
       "      'northeast': {'lng': 1.5532685, 'lat': 42.5168669}},\n",
       "     'bounds': {'southwest': {'lng': 1.5285531, 'lat': 42.5067774},\n",
       "      'northeast': {'lng': 1.5532685, 'lat': 42.5168669}}},\n",
       "    'types': ['locality', 'political'],\n",
       "    'place_id': 'ChIJaxpK9OKKpRIRtp4e8lTF3v0',\n",
       "    'formatted_address': 'AD700 Les Escaldes, Andorra'}],\n",
       "  'query': 'les+Escaldes+AD',\n",
       "  'id': '3040051',\n",
       "  'status': 'OK'}]"
      ]
     },
     "execution_count": 38,
     "metadata": {},
     "output_type": "execute_result"
    }
   ],
   "source": [
    "d=[json.loads(s) for s in open(\"data/json_example\").readlines()]\n",
    "d[0:2]"
   ]
  },
  {
   "cell_type": "markdown",
   "metadata": {},
   "source": [
    "We see, that the list elements contain the same keys, thus, it would make sense to create a table from this list."
   ]
  },
  {
   "cell_type": "code",
   "execution_count": null,
   "metadata": {
    "ExecuteTime": {
     "end_time": "2020-09-14T18:53:14.611089Z",
     "start_time": "2020-09-14T18:53:14.510247Z"
    }
   },
   "outputs": [
    {
     "data": {
      "text/html": [
       "<div>\n",
       "<style scoped>\n",
       "    .dataframe tbody tr th:only-of-type {\n",
       "        vertical-align: middle;\n",
       "    }\n",
       "\n",
       "    .dataframe tbody tr th {\n",
       "        vertical-align: top;\n",
       "    }\n",
       "\n",
       "    .dataframe thead th {\n",
       "        text-align: right;\n",
       "    }\n",
       "</style>\n",
       "<table border=\"1\" class=\"dataframe\">\n",
       "  <thead>\n",
       "    <tr style=\"text-align: right;\">\n",
       "      <th></th>\n",
       "      <th>results</th>\n",
       "      <th>query</th>\n",
       "      <th>id</th>\n",
       "      <th>status</th>\n",
       "    </tr>\n",
       "  </thead>\n",
       "  <tbody>\n",
       "    <tr>\n",
       "      <th>0</th>\n",
       "      <td>[{'address_components': [{'long_name': 'Les Es...</td>\n",
       "      <td>les+Escaldes+AD</td>\n",
       "      <td>3040051</td>\n",
       "      <td>OK</td>\n",
       "    </tr>\n",
       "    <tr>\n",
       "      <th>1</th>\n",
       "      <td>[{'address_components': [{'long_name': 'Les Es...</td>\n",
       "      <td>les+Escaldes+AD</td>\n",
       "      <td>3040051</td>\n",
       "      <td>OK</td>\n",
       "    </tr>\n",
       "    <tr>\n",
       "      <th>2</th>\n",
       "      <td>[{'address_components': [{'long_name': 'Les Es...</td>\n",
       "      <td>les+Escaldes+AD</td>\n",
       "      <td>3040051</td>\n",
       "      <td>OK</td>\n",
       "    </tr>\n",
       "    <tr>\n",
       "      <th>3</th>\n",
       "      <td>[{'address_components': [{'long_name': 'Andorr...</td>\n",
       "      <td>Andorra+la+Vella+AD</td>\n",
       "      <td>3041563</td>\n",
       "      <td>OK</td>\n",
       "    </tr>\n",
       "    <tr>\n",
       "      <th>4</th>\n",
       "      <td>[{'address_components': [{'long_name': 'Umm Al...</td>\n",
       "      <td>Umm+al+Qaywayn+AE</td>\n",
       "      <td>290594</td>\n",
       "      <td>OK</td>\n",
       "    </tr>\n",
       "    <tr>\n",
       "      <th>5</th>\n",
       "      <td>[{'address_components': [{'long_name': 'Ras Al...</td>\n",
       "      <td>Ras+al-Khaimah+AE</td>\n",
       "      <td>291074</td>\n",
       "      <td>OK</td>\n",
       "    </tr>\n",
       "    <tr>\n",
       "      <th>6</th>\n",
       "      <td>[{'address_components': [{'long_name': 'Les Es...</td>\n",
       "      <td>les+Escaldes+AD</td>\n",
       "      <td>3040051</td>\n",
       "      <td>OK</td>\n",
       "    </tr>\n",
       "    <tr>\n",
       "      <th>7</th>\n",
       "      <td>[{'address_components': [{'long_name': 'Andorr...</td>\n",
       "      <td>Andorra+la+Vella+AD</td>\n",
       "      <td>3041563</td>\n",
       "      <td>OK</td>\n",
       "    </tr>\n",
       "    <tr>\n",
       "      <th>8</th>\n",
       "      <td>[{'address_components': [{'long_name': 'Umm Al...</td>\n",
       "      <td>Umm+al+Qaywayn+AE</td>\n",
       "      <td>290594</td>\n",
       "      <td>OK</td>\n",
       "    </tr>\n",
       "    <tr>\n",
       "      <th>9</th>\n",
       "      <td>[{'address_components': [{'long_name': 'Ras Al...</td>\n",
       "      <td>Ras+al-Khaimah+AE</td>\n",
       "      <td>291074</td>\n",
       "      <td>OK</td>\n",
       "    </tr>\n",
       "    <tr>\n",
       "      <th>10</th>\n",
       "      <td>[{'address_components': [{'long_name': 'Khor F...</td>\n",
       "      <td>Khawr+Fakkan+AE</td>\n",
       "      <td>291696</td>\n",
       "      <td>OK</td>\n",
       "    </tr>\n",
       "    <tr>\n",
       "      <th>11</th>\n",
       "      <td>[{'address_components': [{'long_name': 'Dubai'...</td>\n",
       "      <td>Dubai+AE</td>\n",
       "      <td>292223</td>\n",
       "      <td>OK</td>\n",
       "    </tr>\n",
       "    <tr>\n",
       "      <th>12</th>\n",
       "      <td>[{'address_components': [{'long_name': 'Dibba ...</td>\n",
       "      <td>Dibba+Al-Fujairah+AE</td>\n",
       "      <td>292231</td>\n",
       "      <td>OK</td>\n",
       "    </tr>\n",
       "    <tr>\n",
       "      <th>13</th>\n",
       "      <td>[{'address_components': [{'long_name': 'Dibba ...</td>\n",
       "      <td>Dibba+Al-Hisn+AE</td>\n",
       "      <td>292239</td>\n",
       "      <td>OK</td>\n",
       "    </tr>\n",
       "    <tr>\n",
       "      <th>14</th>\n",
       "      <td>[{'address_components': [{'long_name': 'Sharja...</td>\n",
       "      <td>Sharjah+AE</td>\n",
       "      <td>292672</td>\n",
       "      <td>OK</td>\n",
       "    </tr>\n",
       "    <tr>\n",
       "      <th>15</th>\n",
       "      <td>[{'address_components': [{'long_name': 'Ruwais...</td>\n",
       "      <td>Ar+Ruways+AE</td>\n",
       "      <td>292688</td>\n",
       "      <td>OK</td>\n",
       "    </tr>\n",
       "    <tr>\n",
       "      <th>16</th>\n",
       "      <td>[{'address_components': [{'long_name': 'Fujair...</td>\n",
       "      <td>Al+Fujayrah+AE</td>\n",
       "      <td>292878</td>\n",
       "      <td>OK</td>\n",
       "    </tr>\n",
       "    <tr>\n",
       "      <th>17</th>\n",
       "      <td>[{'address_components': [{'long_name': 'Al Ain...</td>\n",
       "      <td>Al+Ain+AE</td>\n",
       "      <td>292913</td>\n",
       "      <td>OK</td>\n",
       "    </tr>\n",
       "    <tr>\n",
       "      <th>18</th>\n",
       "      <td>[{'address_components': [{'long_name': 'Ajman'...</td>\n",
       "      <td>Ajman+AE</td>\n",
       "      <td>292932</td>\n",
       "      <td>OK</td>\n",
       "    </tr>\n",
       "    <tr>\n",
       "      <th>19</th>\n",
       "      <td>[{'address_components': [{'long_name': 'Al Dha...</td>\n",
       "      <td>Adh+Dhayd+AE</td>\n",
       "      <td>292953</td>\n",
       "      <td>OK</td>\n",
       "    </tr>\n",
       "    <tr>\n",
       "      <th>20</th>\n",
       "      <td>[{'address_components': [{'long_name': 'Abu Dh...</td>\n",
       "      <td>Abu+Dhabi+AE</td>\n",
       "      <td>292968</td>\n",
       "      <td>OK</td>\n",
       "    </tr>\n",
       "    <tr>\n",
       "      <th>21</th>\n",
       "      <td>[{'address_components': [{'long_name': 'Zaranj...</td>\n",
       "      <td>Zaranj+AF</td>\n",
       "      <td>1120985</td>\n",
       "      <td>OK</td>\n",
       "    </tr>\n",
       "    <tr>\n",
       "      <th>22</th>\n",
       "      <td>[{'address_components': [{'long_name': 'Taleqa...</td>\n",
       "      <td>Taloqan+AF</td>\n",
       "      <td>1123004</td>\n",
       "      <td>OK</td>\n",
       "    </tr>\n",
       "    <tr>\n",
       "      <th>23</th>\n",
       "      <td>[{'address_components': [{'long_name': 'Shinda...</td>\n",
       "      <td>Shindand+AF</td>\n",
       "      <td>1125155</td>\n",
       "      <td>OK</td>\n",
       "    </tr>\n",
       "    <tr>\n",
       "      <th>24</th>\n",
       "      <td>[{'address_components': [{'long_name': 'Sheber...</td>\n",
       "      <td>Shibirghan+AF</td>\n",
       "      <td>1125444</td>\n",
       "      <td>OK</td>\n",
       "    </tr>\n",
       "    <tr>\n",
       "      <th>25</th>\n",
       "      <td>[{'address_components': [{'long_name': 'Shahra...</td>\n",
       "      <td>Shahrak+AF</td>\n",
       "      <td>1125896</td>\n",
       "      <td>OK</td>\n",
       "    </tr>\n",
       "    <tr>\n",
       "      <th>26</th>\n",
       "      <td>[{'address_components': [{'long_name': 'Sare P...</td>\n",
       "      <td>Sar-e+Pul+AF</td>\n",
       "      <td>1127110</td>\n",
       "      <td>OK</td>\n",
       "    </tr>\n",
       "    <tr>\n",
       "      <th>27</th>\n",
       "      <td>[{'address_components': [{'long_name': 'Sangch...</td>\n",
       "      <td>Sang-e+Charak+AF</td>\n",
       "      <td>1127628</td>\n",
       "      <td>OK</td>\n",
       "    </tr>\n",
       "    <tr>\n",
       "      <th>28</th>\n",
       "      <td>[{'address_components': [{'long_name': 'Aybak'...</td>\n",
       "      <td>Aibak+AF</td>\n",
       "      <td>1127768</td>\n",
       "      <td>OK</td>\n",
       "    </tr>\n",
       "    <tr>\n",
       "      <th>29</th>\n",
       "      <td>[{'address_components': [{'long_name': 'Rostaq...</td>\n",
       "      <td>Rustaq+AF</td>\n",
       "      <td>1128265</td>\n",
       "      <td>OK</td>\n",
       "    </tr>\n",
       "    <tr>\n",
       "      <th>30</th>\n",
       "      <td>[{'address_components': [{'long_name': 'Qarqin...</td>\n",
       "      <td>Qarqin+AF</td>\n",
       "      <td>1129516</td>\n",
       "      <td>OK</td>\n",
       "    </tr>\n",
       "    <tr>\n",
       "      <th>31</th>\n",
       "      <td>[{'address_components': [{'long_name': 'Hazart...</td>\n",
       "      <td>Qarawul+AF</td>\n",
       "      <td>1129648</td>\n",
       "      <td>OK</td>\n",
       "    </tr>\n",
       "    <tr>\n",
       "      <th>32</th>\n",
       "      <td>[{'address_components': [{'long_name': 'Pol-e-...</td>\n",
       "      <td>Pul-e+Khumri+AF</td>\n",
       "      <td>1130490</td>\n",
       "      <td>OK</td>\n",
       "    </tr>\n",
       "    <tr>\n",
       "      <th>33</th>\n",
       "      <td>[{'address_components': [{'long_name': 'Paghma...</td>\n",
       "      <td>Paghman+AF</td>\n",
       "      <td>1131316</td>\n",
       "      <td>OK</td>\n",
       "    </tr>\n",
       "    <tr>\n",
       "      <th>34</th>\n",
       "      <td>[{'address_components': [{'long_name': 'Nahrai...</td>\n",
       "      <td>Nahrin+AF</td>\n",
       "      <td>1132495</td>\n",
       "      <td>OK</td>\n",
       "    </tr>\n",
       "    <tr>\n",
       "      <th>35</th>\n",
       "      <td>[{'address_components': [{'long_name': 'Mayman...</td>\n",
       "      <td>Maymana+AF</td>\n",
       "      <td>1133453</td>\n",
       "      <td>OK</td>\n",
       "    </tr>\n",
       "    <tr>\n",
       "      <th>36</th>\n",
       "      <td>[{'address_components': [{'long_name': 'Mitarl...</td>\n",
       "      <td>Mehtar+Lam+AF</td>\n",
       "      <td>1133574</td>\n",
       "      <td>OK</td>\n",
       "    </tr>\n",
       "    <tr>\n",
       "      <th>37</th>\n",
       "      <td>[{'address_components': [{'long_name': 'Mazari...</td>\n",
       "      <td>Mazar-e+Sharif+AF</td>\n",
       "      <td>1133616</td>\n",
       "      <td>OK</td>\n",
       "    </tr>\n",
       "    <tr>\n",
       "      <th>38</th>\n",
       "      <td>[{'address_components': [{'long_name': 'Lashka...</td>\n",
       "      <td>Lashkar+Gah+AF</td>\n",
       "      <td>1134720</td>\n",
       "      <td>OK</td>\n",
       "    </tr>\n",
       "    <tr>\n",
       "      <th>39</th>\n",
       "      <td>[{'address_components': [{'long_name': 'Kūšk',...</td>\n",
       "      <td>Kushk+AF</td>\n",
       "      <td>1135158</td>\n",
       "      <td>OK</td>\n",
       "    </tr>\n",
       "    <tr>\n",
       "      <th>40</th>\n",
       "      <td>[{'address_components': [{'long_name': 'Kunduz...</td>\n",
       "      <td>Kunduz+AF</td>\n",
       "      <td>1135689</td>\n",
       "      <td>OK</td>\n",
       "    </tr>\n",
       "    <tr>\n",
       "      <th>41</th>\n",
       "      <td>[{'address_components': [{'long_name': 'Khost'...</td>\n",
       "      <td>Khost+AF</td>\n",
       "      <td>1136469</td>\n",
       "      <td>OK</td>\n",
       "    </tr>\n",
       "    <tr>\n",
       "      <th>42</th>\n",
       "      <td>[{'address_components': [{'long_name': 'Kholm'...</td>\n",
       "      <td>Khulm+AF</td>\n",
       "      <td>1136575</td>\n",
       "      <td>OK</td>\n",
       "    </tr>\n",
       "    <tr>\n",
       "      <th>43</th>\n",
       "      <td>[{'address_components': [{'long_name': 'Khash'...</td>\n",
       "      <td>Khash+AF</td>\n",
       "      <td>1136863</td>\n",
       "      <td>OK</td>\n",
       "    </tr>\n",
       "    <tr>\n",
       "      <th>44</th>\n",
       "      <td>[{'address_components': [{'long_name': 'Khanab...</td>\n",
       "      <td>Khanabad+AF</td>\n",
       "      <td>1137168</td>\n",
       "      <td>OK</td>\n",
       "    </tr>\n",
       "    <tr>\n",
       "      <th>45</th>\n",
       "      <td>[{'address_components': [{'long_name': 'Karokh...</td>\n",
       "      <td>Karukh+AF</td>\n",
       "      <td>1137807</td>\n",
       "      <td>OK</td>\n",
       "    </tr>\n",
       "    <tr>\n",
       "      <th>46</th>\n",
       "      <td>[{'address_components': [{'long_name': 'Kandah...</td>\n",
       "      <td>Kandahar+AF</td>\n",
       "      <td>1138336</td>\n",
       "      <td>OK</td>\n",
       "    </tr>\n",
       "    <tr>\n",
       "      <th>47</th>\n",
       "      <td>[{'address_components': [{'long_name': 'Kabul'...</td>\n",
       "      <td>Kabul+AF</td>\n",
       "      <td>1138958</td>\n",
       "      <td>OK</td>\n",
       "    </tr>\n",
       "    <tr>\n",
       "      <th>48</th>\n",
       "      <td>[{'address_components': [{'long_name': 'Jalala...</td>\n",
       "      <td>Jalalabad+AF</td>\n",
       "      <td>1139715</td>\n",
       "      <td>OK</td>\n",
       "    </tr>\n",
       "    <tr>\n",
       "      <th>49</th>\n",
       "      <td>[{'address_components': [{'long_name': 'Jabal-...</td>\n",
       "      <td>Jabal+os+Saraj+AF</td>\n",
       "      <td>1139807</td>\n",
       "      <td>OK</td>\n",
       "    </tr>\n",
       "  </tbody>\n",
       "</table>\n",
       "</div>"
      ],
      "text/plain": [
       "                                              results                 query  \\\n",
       "0   [{'address_components': [{'long_name': 'Les Es...       les+Escaldes+AD   \n",
       "1   [{'address_components': [{'long_name': 'Les Es...       les+Escaldes+AD   \n",
       "2   [{'address_components': [{'long_name': 'Les Es...       les+Escaldes+AD   \n",
       "3   [{'address_components': [{'long_name': 'Andorr...   Andorra+la+Vella+AD   \n",
       "4   [{'address_components': [{'long_name': 'Umm Al...     Umm+al+Qaywayn+AE   \n",
       "5   [{'address_components': [{'long_name': 'Ras Al...     Ras+al-Khaimah+AE   \n",
       "6   [{'address_components': [{'long_name': 'Les Es...       les+Escaldes+AD   \n",
       "7   [{'address_components': [{'long_name': 'Andorr...   Andorra+la+Vella+AD   \n",
       "8   [{'address_components': [{'long_name': 'Umm Al...     Umm+al+Qaywayn+AE   \n",
       "9   [{'address_components': [{'long_name': 'Ras Al...     Ras+al-Khaimah+AE   \n",
       "10  [{'address_components': [{'long_name': 'Khor F...       Khawr+Fakkan+AE   \n",
       "11  [{'address_components': [{'long_name': 'Dubai'...              Dubai+AE   \n",
       "12  [{'address_components': [{'long_name': 'Dibba ...  Dibba+Al-Fujairah+AE   \n",
       "13  [{'address_components': [{'long_name': 'Dibba ...      Dibba+Al-Hisn+AE   \n",
       "14  [{'address_components': [{'long_name': 'Sharja...            Sharjah+AE   \n",
       "15  [{'address_components': [{'long_name': 'Ruwais...          Ar+Ruways+AE   \n",
       "16  [{'address_components': [{'long_name': 'Fujair...        Al+Fujayrah+AE   \n",
       "17  [{'address_components': [{'long_name': 'Al Ain...             Al+Ain+AE   \n",
       "18  [{'address_components': [{'long_name': 'Ajman'...              Ajman+AE   \n",
       "19  [{'address_components': [{'long_name': 'Al Dha...          Adh+Dhayd+AE   \n",
       "20  [{'address_components': [{'long_name': 'Abu Dh...          Abu+Dhabi+AE   \n",
       "21  [{'address_components': [{'long_name': 'Zaranj...             Zaranj+AF   \n",
       "22  [{'address_components': [{'long_name': 'Taleqa...            Taloqan+AF   \n",
       "23  [{'address_components': [{'long_name': 'Shinda...           Shindand+AF   \n",
       "24  [{'address_components': [{'long_name': 'Sheber...         Shibirghan+AF   \n",
       "25  [{'address_components': [{'long_name': 'Shahra...            Shahrak+AF   \n",
       "26  [{'address_components': [{'long_name': 'Sare P...          Sar-e+Pul+AF   \n",
       "27  [{'address_components': [{'long_name': 'Sangch...      Sang-e+Charak+AF   \n",
       "28  [{'address_components': [{'long_name': 'Aybak'...              Aibak+AF   \n",
       "29  [{'address_components': [{'long_name': 'Rostaq...             Rustaq+AF   \n",
       "30  [{'address_components': [{'long_name': 'Qarqin...             Qarqin+AF   \n",
       "31  [{'address_components': [{'long_name': 'Hazart...            Qarawul+AF   \n",
       "32  [{'address_components': [{'long_name': 'Pol-e-...       Pul-e+Khumri+AF   \n",
       "33  [{'address_components': [{'long_name': 'Paghma...            Paghman+AF   \n",
       "34  [{'address_components': [{'long_name': 'Nahrai...             Nahrin+AF   \n",
       "35  [{'address_components': [{'long_name': 'Mayman...            Maymana+AF   \n",
       "36  [{'address_components': [{'long_name': 'Mitarl...         Mehtar+Lam+AF   \n",
       "37  [{'address_components': [{'long_name': 'Mazari...     Mazar-e+Sharif+AF   \n",
       "38  [{'address_components': [{'long_name': 'Lashka...        Lashkar+Gah+AF   \n",
       "39  [{'address_components': [{'long_name': 'Kūšk',...              Kushk+AF   \n",
       "40  [{'address_components': [{'long_name': 'Kunduz...             Kunduz+AF   \n",
       "41  [{'address_components': [{'long_name': 'Khost'...              Khost+AF   \n",
       "42  [{'address_components': [{'long_name': 'Kholm'...              Khulm+AF   \n",
       "43  [{'address_components': [{'long_name': 'Khash'...              Khash+AF   \n",
       "44  [{'address_components': [{'long_name': 'Khanab...           Khanabad+AF   \n",
       "45  [{'address_components': [{'long_name': 'Karokh...             Karukh+AF   \n",
       "46  [{'address_components': [{'long_name': 'Kandah...           Kandahar+AF   \n",
       "47  [{'address_components': [{'long_name': 'Kabul'...              Kabul+AF   \n",
       "48  [{'address_components': [{'long_name': 'Jalala...          Jalalabad+AF   \n",
       "49  [{'address_components': [{'long_name': 'Jabal-...     Jabal+os+Saraj+AF   \n",
       "\n",
       "         id status  \n",
       "0   3040051     OK  \n",
       "1   3040051     OK  \n",
       "2   3040051     OK  \n",
       "3   3041563     OK  \n",
       "4    290594     OK  \n",
       "5    291074     OK  \n",
       "6   3040051     OK  \n",
       "7   3041563     OK  \n",
       "8    290594     OK  \n",
       "9    291074     OK  \n",
       "10   291696     OK  \n",
       "11   292223     OK  \n",
       "12   292231     OK  \n",
       "13   292239     OK  \n",
       "14   292672     OK  \n",
       "15   292688     OK  \n",
       "16   292878     OK  \n",
       "17   292913     OK  \n",
       "18   292932     OK  \n",
       "19   292953     OK  \n",
       "20   292968     OK  \n",
       "21  1120985     OK  \n",
       "22  1123004     OK  \n",
       "23  1125155     OK  \n",
       "24  1125444     OK  \n",
       "25  1125896     OK  \n",
       "26  1127110     OK  \n",
       "27  1127628     OK  \n",
       "28  1127768     OK  \n",
       "29  1128265     OK  \n",
       "30  1129516     OK  \n",
       "31  1129648     OK  \n",
       "32  1130490     OK  \n",
       "33  1131316     OK  \n",
       "34  1132495     OK  \n",
       "35  1133453     OK  \n",
       "36  1133574     OK  \n",
       "37  1133616     OK  \n",
       "38  1134720     OK  \n",
       "39  1135158     OK  \n",
       "40  1135689     OK  \n",
       "41  1136469     OK  \n",
       "42  1136575     OK  \n",
       "43  1136863     OK  \n",
       "44  1137168     OK  \n",
       "45  1137807     OK  \n",
       "46  1138336     OK  \n",
       "47  1138958     OK  \n",
       "48  1139715     OK  \n",
       "49  1139807     OK  "
      ]
     },
     "execution_count": 39,
     "metadata": {},
     "output_type": "execute_result"
    }
   ],
   "source": [
    "pd.DataFrame.from_dict(d)"
   ]
  },
  {
   "cell_type": "code",
   "execution_count": null,
   "metadata": {},
   "outputs": [],
   "source": []
  }
 ],
 "metadata": {
  "anaconda-cloud": {},
  "hide_input": false,
  "kernelspec": {
   "display_name": "Python 3 (ipykernel)",
   "language": "python",
   "name": "python3"
  },
  "language_info": {
   "codemirror_mode": {
    "name": "ipython",
    "version": 3
   },
   "file_extension": ".py",
   "mimetype": "text/x-python",
   "name": "python",
   "nbconvert_exporter": "python",
   "pygments_lexer": "ipython3",
   "version": "3.9.13"
  },
  "toc": {
   "toc_cell": false,
   "toc_number_sections": false,
   "toc_section_display": "block",
   "toc_threshold": 6,
   "toc_window_display": false
  }
 },
 "nbformat": 4,
 "nbformat_minor": 4
}
