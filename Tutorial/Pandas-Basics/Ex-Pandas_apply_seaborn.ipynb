{
 "cells": [
  {
   "cell_type": "markdown",
   "metadata": {},
   "source": [
    "## ☠ Apply\n",
    "\n",
    "Read the `data/json_example` `json` file:\n",
    "\n",
    "```\n",
    "import pandas as pd\n",
    "import json\n",
    "\n",
    "d=[json.loads(s) for s in open(\"data/json_example\").readlines()]\n",
    "df = pd.DataFrame.from_dict(d)\n",
    "```\n",
    "\n",
    "- Let's assume, that among all the results for a given query the one with the highest `ID` is the correct one. We should drop all the others from the `DataFrame`.\n",
    "\n",
    "- After this generate a new coulmn, \"result long names\", which takes all \"long_name\" values from the results column (once each of them separated by a comma as string. First create the function, which selects the \"long_name\" values, and then *apply* it for all the rows\n",
    "\n",
    "- Print all the queries for which the \"result long names\" column containes the \"Sare Pol\" string."
   ]
  },
  {
   "cell_type": "markdown",
   "metadata": {},
   "source": [
    "### Solution"
   ]
  },
  {
   "cell_type": "code",
   "execution_count": 1,
   "metadata": {},
   "outputs": [],
   "source": [
    "import pandas as pd\n",
    "import json"
   ]
  },
  {
   "cell_type": "code",
   "execution_count": 2,
   "metadata": {},
   "outputs": [],
   "source": [
    "json_file=\"data/json_example\""
   ]
  },
  {
   "cell_type": "code",
   "execution_count": 3,
   "metadata": {},
   "outputs": [
    {
     "name": "stdout",
     "output_type": "stream",
     "text": [
      "{\"results\": [{\"address_components\": [{\"long_name\": \"Les Escaldes\", \"short_name\": \"Les Escaldes\", \"types\": [\"locality\", \"political\"]}, {\"long_name\": \"Escaldes-Engordany\", \"short_name\": \"Escaldes-Engordany\", \"types\": [\"administrative_area_level_1\", \"political\"]}, {\"long_name\": \"Andorra\", \"short_name\": \"AD\", \"types\": [\"country\", \"political\"]}, {\"long_name\": \"AD700\", \"short_name\": \"AD700\", \"types\": [\"postal_code\"]}], \"geometry\": {\"location_type\": \"APPROXIMATE\", \"location\": {\"lng\": 1.5387862, \"lat\": 42.5100804}, \"viewport\": {\"southwest\": {\"lng\": 1.5285531, \"lat\": 42.5067774}, \"northeast\": {\"lng\": 1.5532685, \"lat\": 42.5168669}}, \"bounds\": {\"southwest\": {\"lng\": 1.5285531, \"lat\": 42.5067774}, \"northeast\": {\"lng\": 1.5532685, \"lat\": 42.5168669}}}, \"types\": [\"locality\", \"political\"], \"place_id\": \"ChIJaxpK9OKKpRIRtp4e8lTF3v0\", \"formatted_address\": \"AD700 Les Escaldes, Andorra\"}], \"query\": \"les+Escaldes+AD\", \"id\": \"3040051\", \"status\": \"OK\"}\n"
     ]
    }
   ],
   "source": [
    "# Check the first line with the head bash command\n",
    "!head -n 1 $json_file"
   ]
  },
  {
   "cell_type": "code",
   "execution_count": 4,
   "metadata": {},
   "outputs": [
    {
     "data": {
      "text/html": [
       "<div>\n",
       "<style scoped>\n",
       "    .dataframe tbody tr th:only-of-type {\n",
       "        vertical-align: middle;\n",
       "    }\n",
       "\n",
       "    .dataframe tbody tr th {\n",
       "        vertical-align: top;\n",
       "    }\n",
       "\n",
       "    .dataframe thead th {\n",
       "        text-align: right;\n",
       "    }\n",
       "</style>\n",
       "<table border=\"1\" class=\"dataframe\">\n",
       "  <thead>\n",
       "    <tr style=\"text-align: right;\">\n",
       "      <th></th>\n",
       "      <th>results</th>\n",
       "      <th>query</th>\n",
       "      <th>id</th>\n",
       "      <th>status</th>\n",
       "    </tr>\n",
       "  </thead>\n",
       "  <tbody>\n",
       "    <tr>\n",
       "      <th>0</th>\n",
       "      <td>[{'address_components': [{'long_name': 'Les Es...</td>\n",
       "      <td>les+Escaldes+AD</td>\n",
       "      <td>3040051</td>\n",
       "      <td>OK</td>\n",
       "    </tr>\n",
       "    <tr>\n",
       "      <th>1</th>\n",
       "      <td>[{'address_components': [{'long_name': 'Les Es...</td>\n",
       "      <td>les+Escaldes+AD</td>\n",
       "      <td>3040051</td>\n",
       "      <td>OK</td>\n",
       "    </tr>\n",
       "    <tr>\n",
       "      <th>2</th>\n",
       "      <td>[{'address_components': [{'long_name': 'Les Es...</td>\n",
       "      <td>les+Escaldes+AD</td>\n",
       "      <td>3040051</td>\n",
       "      <td>OK</td>\n",
       "    </tr>\n",
       "    <tr>\n",
       "      <th>3</th>\n",
       "      <td>[{'address_components': [{'long_name': 'Andorr...</td>\n",
       "      <td>Andorra+la+Vella+AD</td>\n",
       "      <td>3041563</td>\n",
       "      <td>OK</td>\n",
       "    </tr>\n",
       "    <tr>\n",
       "      <th>4</th>\n",
       "      <td>[{'address_components': [{'long_name': 'Umm Al...</td>\n",
       "      <td>Umm+al+Qaywayn+AE</td>\n",
       "      <td>290594</td>\n",
       "      <td>OK</td>\n",
       "    </tr>\n",
       "  </tbody>\n",
       "</table>\n",
       "</div>"
      ],
      "text/plain": [
       "                                             results                query  \\\n",
       "0  [{'address_components': [{'long_name': 'Les Es...      les+Escaldes+AD   \n",
       "1  [{'address_components': [{'long_name': 'Les Es...      les+Escaldes+AD   \n",
       "2  [{'address_components': [{'long_name': 'Les Es...      les+Escaldes+AD   \n",
       "3  [{'address_components': [{'long_name': 'Andorr...  Andorra+la+Vella+AD   \n",
       "4  [{'address_components': [{'long_name': 'Umm Al...    Umm+al+Qaywayn+AE   \n",
       "\n",
       "        id status  \n",
       "0  3040051     OK  \n",
       "1  3040051     OK  \n",
       "2  3040051     OK  \n",
       "3  3041563     OK  \n",
       "4   290594     OK  "
      ]
     },
     "execution_count": 4,
     "metadata": {},
     "output_type": "execute_result"
    }
   ],
   "source": [
    "# read data\n",
    "# Create a list of dictionaries first\n",
    "d=[json.loads(s) for s in open(json_file).readlines()]\n",
    "\n",
    "# Load the list of dictionaries into a pandas dataframe\n",
    "df = pd.DataFrame.from_dict(d)\n",
    "df.head()"
   ]
  },
  {
   "cell_type": "code",
   "execution_count": 15,
   "metadata": {},
   "outputs": [],
   "source": [
    "# keep highest id-s for a given query, delete duplicaes\n",
    "\n",
    "ndf = df.sort_values('id')\n",
    "ndf.drop_duplicates('query', keep='last', inplace=True)"
   ]
  },
  {
   "cell_type": "markdown",
   "metadata": {},
   "source": [
    "For the next step, to extract the long_name attributes, we will use the apply function of the dataframe, but let's have a look at a simple example first"
   ]
  },
  {
   "cell_type": "code",
   "execution_count": 6,
   "metadata": {},
   "outputs": [],
   "source": [
    "# We define a simple function that takes the id and returns the sum of the id plus 6\n",
    "def sum_plus(r_id):\n",
    "    return int(r_id)*2+6"
   ]
  },
  {
   "cell_type": "code",
   "execution_count": 7,
   "metadata": {},
   "outputs": [
    {
     "data": {
      "text/html": [
       "<div>\n",
       "<style scoped>\n",
       "    .dataframe tbody tr th:only-of-type {\n",
       "        vertical-align: middle;\n",
       "    }\n",
       "\n",
       "    .dataframe tbody tr th {\n",
       "        vertical-align: top;\n",
       "    }\n",
       "\n",
       "    .dataframe thead th {\n",
       "        text-align: right;\n",
       "    }\n",
       "</style>\n",
       "<table border=\"1\" class=\"dataframe\">\n",
       "  <thead>\n",
       "    <tr style=\"text-align: right;\">\n",
       "      <th></th>\n",
       "      <th>results</th>\n",
       "      <th>query</th>\n",
       "      <th>id</th>\n",
       "      <th>status</th>\n",
       "      <th>sum_plus</th>\n",
       "    </tr>\n",
       "  </thead>\n",
       "  <tbody>\n",
       "    <tr>\n",
       "      <th>0</th>\n",
       "      <td>[{'address_components': [{'long_name': 'Les Es...</td>\n",
       "      <td>les+Escaldes+AD</td>\n",
       "      <td>3040051</td>\n",
       "      <td>OK</td>\n",
       "      <td>6080108</td>\n",
       "    </tr>\n",
       "    <tr>\n",
       "      <th>1</th>\n",
       "      <td>[{'address_components': [{'long_name': 'Les Es...</td>\n",
       "      <td>les+Escaldes+AD</td>\n",
       "      <td>3040051</td>\n",
       "      <td>OK</td>\n",
       "      <td>6080108</td>\n",
       "    </tr>\n",
       "    <tr>\n",
       "      <th>2</th>\n",
       "      <td>[{'address_components': [{'long_name': 'Les Es...</td>\n",
       "      <td>les+Escaldes+AD</td>\n",
       "      <td>3040051</td>\n",
       "      <td>OK</td>\n",
       "      <td>6080108</td>\n",
       "    </tr>\n",
       "    <tr>\n",
       "      <th>3</th>\n",
       "      <td>[{'address_components': [{'long_name': 'Andorr...</td>\n",
       "      <td>Andorra+la+Vella+AD</td>\n",
       "      <td>3041563</td>\n",
       "      <td>OK</td>\n",
       "      <td>6083132</td>\n",
       "    </tr>\n",
       "    <tr>\n",
       "      <th>4</th>\n",
       "      <td>[{'address_components': [{'long_name': 'Umm Al...</td>\n",
       "      <td>Umm+al+Qaywayn+AE</td>\n",
       "      <td>290594</td>\n",
       "      <td>OK</td>\n",
       "      <td>581194</td>\n",
       "    </tr>\n",
       "  </tbody>\n",
       "</table>\n",
       "</div>"
      ],
      "text/plain": [
       "                                             results                query  \\\n",
       "0  [{'address_components': [{'long_name': 'Les Es...      les+Escaldes+AD   \n",
       "1  [{'address_components': [{'long_name': 'Les Es...      les+Escaldes+AD   \n",
       "2  [{'address_components': [{'long_name': 'Les Es...      les+Escaldes+AD   \n",
       "3  [{'address_components': [{'long_name': 'Andorr...  Andorra+la+Vella+AD   \n",
       "4  [{'address_components': [{'long_name': 'Umm Al...    Umm+al+Qaywayn+AE   \n",
       "\n",
       "        id status  sum_plus  \n",
       "0  3040051     OK   6080108  \n",
       "1  3040051     OK   6080108  \n",
       "2  3040051     OK   6080108  \n",
       "3  3041563     OK   6083132  \n",
       "4   290594     OK    581194  "
      ]
     },
     "execution_count": 7,
     "metadata": {},
     "output_type": "execute_result"
    }
   ],
   "source": [
    "# We apply the function to the column id\n",
    "df['sum_plus'] = df['id'].apply(sum_plus)\n",
    "df.head()"
   ]
  },
  {
   "cell_type": "code",
   "execution_count": 13,
   "metadata": {},
   "outputs": [
    {
     "data": {
      "text/plain": [
       "'daeaafb'"
      ]
     },
     "execution_count": 13,
     "metadata": {},
     "output_type": "execute_result"
    }
   ],
   "source": [
    "# This ones is a more complicated example function\n",
    "def num_to_letter(r_id):\n",
    "    code = 'abcdefghij'\n",
    "    str_id = str(r_id)\n",
    "    str_code = \"\"\n",
    "    for v in str_id:\n",
    "        str_code += code[int(v)]\n",
    "    return str_code\n",
    "\n",
    "# The above function can be written in a single line\n",
    "# def num_to_letter(r_id):\n",
    "#     code = 'abcdefghij'\n",
    "#     str_code = [ code[int(v)] for v in str(r_id)]\n",
    "#     return str_code\n",
    "\n",
    "# Just a test\n",
    "num_to_letter(3040051)"
   ]
  },
  {
   "cell_type": "code",
   "execution_count": 12,
   "metadata": {},
   "outputs": [
    {
     "data": {
      "text/html": [
       "<div>\n",
       "<style scoped>\n",
       "    .dataframe tbody tr th:only-of-type {\n",
       "        vertical-align: middle;\n",
       "    }\n",
       "\n",
       "    .dataframe tbody tr th {\n",
       "        vertical-align: top;\n",
       "    }\n",
       "\n",
       "    .dataframe thead th {\n",
       "        text-align: right;\n",
       "    }\n",
       "</style>\n",
       "<table border=\"1\" class=\"dataframe\">\n",
       "  <thead>\n",
       "    <tr style=\"text-align: right;\">\n",
       "      <th></th>\n",
       "      <th>results</th>\n",
       "      <th>query</th>\n",
       "      <th>id</th>\n",
       "      <th>status</th>\n",
       "      <th>sum_plus</th>\n",
       "      <th>id_to_code</th>\n",
       "    </tr>\n",
       "  </thead>\n",
       "  <tbody>\n",
       "    <tr>\n",
       "      <th>0</th>\n",
       "      <td>[{'address_components': [{'long_name': 'Les Es...</td>\n",
       "      <td>les+Escaldes+AD</td>\n",
       "      <td>3040051</td>\n",
       "      <td>OK</td>\n",
       "      <td>6080108</td>\n",
       "      <td>daeaafb</td>\n",
       "    </tr>\n",
       "    <tr>\n",
       "      <th>1</th>\n",
       "      <td>[{'address_components': [{'long_name': 'Les Es...</td>\n",
       "      <td>les+Escaldes+AD</td>\n",
       "      <td>3040051</td>\n",
       "      <td>OK</td>\n",
       "      <td>6080108</td>\n",
       "      <td>daeaafb</td>\n",
       "    </tr>\n",
       "    <tr>\n",
       "      <th>2</th>\n",
       "      <td>[{'address_components': [{'long_name': 'Les Es...</td>\n",
       "      <td>les+Escaldes+AD</td>\n",
       "      <td>3040051</td>\n",
       "      <td>OK</td>\n",
       "      <td>6080108</td>\n",
       "      <td>daeaafb</td>\n",
       "    </tr>\n",
       "    <tr>\n",
       "      <th>3</th>\n",
       "      <td>[{'address_components': [{'long_name': 'Andorr...</td>\n",
       "      <td>Andorra+la+Vella+AD</td>\n",
       "      <td>3041563</td>\n",
       "      <td>OK</td>\n",
       "      <td>6083132</td>\n",
       "      <td>daebfgd</td>\n",
       "    </tr>\n",
       "    <tr>\n",
       "      <th>4</th>\n",
       "      <td>[{'address_components': [{'long_name': 'Umm Al...</td>\n",
       "      <td>Umm+al+Qaywayn+AE</td>\n",
       "      <td>290594</td>\n",
       "      <td>OK</td>\n",
       "      <td>581194</td>\n",
       "      <td>cjafje</td>\n",
       "    </tr>\n",
       "  </tbody>\n",
       "</table>\n",
       "</div>"
      ],
      "text/plain": [
       "                                             results                query  \\\n",
       "0  [{'address_components': [{'long_name': 'Les Es...      les+Escaldes+AD   \n",
       "1  [{'address_components': [{'long_name': 'Les Es...      les+Escaldes+AD   \n",
       "2  [{'address_components': [{'long_name': 'Les Es...      les+Escaldes+AD   \n",
       "3  [{'address_components': [{'long_name': 'Andorr...  Andorra+la+Vella+AD   \n",
       "4  [{'address_components': [{'long_name': 'Umm Al...    Umm+al+Qaywayn+AE   \n",
       "\n",
       "        id status  sum_plus id_to_code  \n",
       "0  3040051     OK   6080108    daeaafb  \n",
       "1  3040051     OK   6080108    daeaafb  \n",
       "2  3040051     OK   6080108    daeaafb  \n",
       "3  3041563     OK   6083132    daebfgd  \n",
       "4   290594     OK    581194     cjafje  "
      ]
     },
     "execution_count": 12,
     "metadata": {},
     "output_type": "execute_result"
    }
   ],
   "source": [
    "df['id_to_code'] = df['id'].apply(num_to_letter)\n",
    "df.head()"
   ]
  },
  {
   "cell_type": "code",
   "execution_count": 9,
   "metadata": {},
   "outputs": [
    {
     "data": {
      "text/html": [
       "<div>\n",
       "<style scoped>\n",
       "    .dataframe tbody tr th:only-of-type {\n",
       "        vertical-align: middle;\n",
       "    }\n",
       "\n",
       "    .dataframe tbody tr th {\n",
       "        vertical-align: top;\n",
       "    }\n",
       "\n",
       "    .dataframe thead th {\n",
       "        text-align: right;\n",
       "    }\n",
       "</style>\n",
       "<table border=\"1\" class=\"dataframe\">\n",
       "  <thead>\n",
       "    <tr style=\"text-align: right;\">\n",
       "      <th></th>\n",
       "      <th>results</th>\n",
       "      <th>query</th>\n",
       "      <th>id</th>\n",
       "      <th>status</th>\n",
       "    </tr>\n",
       "  </thead>\n",
       "  <tbody>\n",
       "    <tr>\n",
       "      <th>21</th>\n",
       "      <td>[{'address_components': [{'long_name': 'Zaranj...</td>\n",
       "      <td>Zaranj+AF</td>\n",
       "      <td>1120985</td>\n",
       "      <td>OK</td>\n",
       "    </tr>\n",
       "    <tr>\n",
       "      <th>22</th>\n",
       "      <td>[{'address_components': [{'long_name': 'Taleqa...</td>\n",
       "      <td>Taloqan+AF</td>\n",
       "      <td>1123004</td>\n",
       "      <td>OK</td>\n",
       "    </tr>\n",
       "    <tr>\n",
       "      <th>23</th>\n",
       "      <td>[{'address_components': [{'long_name': 'Shinda...</td>\n",
       "      <td>Shindand+AF</td>\n",
       "      <td>1125155</td>\n",
       "      <td>OK</td>\n",
       "    </tr>\n",
       "    <tr>\n",
       "      <th>24</th>\n",
       "      <td>[{'address_components': [{'long_name': 'Sheber...</td>\n",
       "      <td>Shibirghan+AF</td>\n",
       "      <td>1125444</td>\n",
       "      <td>OK</td>\n",
       "    </tr>\n",
       "    <tr>\n",
       "      <th>25</th>\n",
       "      <td>[{'address_components': [{'long_name': 'Shahra...</td>\n",
       "      <td>Shahrak+AF</td>\n",
       "      <td>1125896</td>\n",
       "      <td>OK</td>\n",
       "    </tr>\n",
       "  </tbody>\n",
       "</table>\n",
       "</div>"
      ],
      "text/plain": [
       "                                              results          query       id  \\\n",
       "21  [{'address_components': [{'long_name': 'Zaranj...      Zaranj+AF  1120985   \n",
       "22  [{'address_components': [{'long_name': 'Taleqa...     Taloqan+AF  1123004   \n",
       "23  [{'address_components': [{'long_name': 'Shinda...    Shindand+AF  1125155   \n",
       "24  [{'address_components': [{'long_name': 'Sheber...  Shibirghan+AF  1125444   \n",
       "25  [{'address_components': [{'long_name': 'Shahra...     Shahrak+AF  1125896   \n",
       "\n",
       "   status  \n",
       "21     OK  \n",
       "22     OK  \n",
       "23     OK  \n",
       "24     OK  \n",
       "25     OK  "
      ]
     },
     "execution_count": 9,
     "metadata": {},
     "output_type": "execute_result"
    }
   ],
   "source": [
    "ndf.head()"
   ]
  },
  {
   "cell_type": "markdown",
   "metadata": {},
   "source": [
    "Let's get back to the task\n",
    "\n",
    "Explore the values in the results column and build our function step by step that will be applied on the dataframe"
   ]
  },
  {
   "cell_type": "code",
   "execution_count": 16,
   "metadata": {},
   "outputs": [
    {
     "data": {
      "text/plain": [
       "[{'address_components': [{'long_name': 'Zaranj',\n",
       "    'short_name': 'Zaranj',\n",
       "    'types': ['locality', 'political']},\n",
       "   {'long_name': 'Zaranj',\n",
       "    'short_name': 'Zaranj',\n",
       "    'types': ['administrative_area_level_2', 'political']},\n",
       "   {'long_name': 'Nimruz',\n",
       "    'short_name': 'Nimruz',\n",
       "    'types': ['administrative_area_level_1', 'political']},\n",
       "   {'long_name': 'Afghanistan',\n",
       "    'short_name': 'AF',\n",
       "    'types': ['country', 'political']}],\n",
       "  'geometry': {'location_type': 'APPROXIMATE',\n",
       "   'location': {'lng': 61.8526229, 'lat': 30.9606622},\n",
       "   'viewport': {'southwest': {'lng': 61.79946899999999, 'lat': 30.9115037},\n",
       "    'northeast': {'lng': 61.9067573, 'lat': 31.0282246}},\n",
       "   'bounds': {'southwest': {'lng': 61.79946899999999, 'lat': 30.9115037},\n",
       "    'northeast': {'lng': 61.9067573, 'lat': 31.0282246}}},\n",
       "  'types': ['locality', 'political'],\n",
       "  'place_id': 'ChIJRx8pOUeX3z4R3fJNTqailRg',\n",
       "  'formatted_address': 'Zaranj, Afghanistan'}]"
      ]
     },
     "execution_count": 16,
     "metadata": {},
     "output_type": "execute_result"
    }
   ],
   "source": [
    "first_value = ndf.iloc[0,0]\n",
    "first_value"
   ]
  },
  {
   "cell_type": "code",
   "execution_count": 16,
   "metadata": {},
   "outputs": [
    {
     "data": {
      "text/plain": [
       "[{'long_name': 'Zaranj',\n",
       "  'short_name': 'Zaranj',\n",
       "  'types': ['locality', 'political']},\n",
       " {'long_name': 'Zaranj',\n",
       "  'short_name': 'Zaranj',\n",
       "  'types': ['administrative_area_level_2', 'political']},\n",
       " {'long_name': 'Nimruz',\n",
       "  'short_name': 'Nimruz',\n",
       "  'types': ['administrative_area_level_1', 'political']},\n",
       " {'long_name': 'Afghanistan',\n",
       "  'short_name': 'AF',\n",
       "  'types': ['country', 'political']}]"
      ]
     },
     "execution_count": 16,
     "metadata": {},
     "output_type": "execute_result"
    }
   ],
   "source": [
    "first_in_address_components = first_value[0]['address_components']\n",
    "first_in_address_components"
   ]
  },
  {
   "cell_type": "code",
   "execution_count": 17,
   "metadata": {},
   "outputs": [
    {
     "data": {
      "text/plain": [
       "'Zaranj'"
      ]
     },
     "execution_count": 17,
     "metadata": {},
     "output_type": "execute_result"
    }
   ],
   "source": [
    "first_in_address_components[0]['long_name']"
   ]
  },
  {
   "cell_type": "code",
   "execution_count": 20,
   "metadata": {},
   "outputs": [],
   "source": [
    "# now create a function that returns all the long names\n",
    "def get_long_names(value):\n",
    "    all_types = []\n",
    "    for temp_v1 in value:\n",
    "        for temp_v2 in temp_v1['address_components']:\n",
    "#            print(temp_v2['long_name'])\n",
    "            all_types.append(temp_v2['long_name'])\n",
    "    return ', '.join(list(set(all_types)))\n",
    "\n",
    "# The same function can be written in a more compact way\n",
    "# def get_long_names(next_value_in_series):\n",
    "#     all_types = []\n",
    "#     for next_item_in_list in next_value_in_series:\n",
    "#         all_types+=[keyword_in_dict['long_name'] for keyword_in_dict in next_item_in_list['address_components']]\n",
    "#     return ', '.join(list(set(all_types)))"
   ]
  },
  {
   "cell_type": "code",
   "execution_count": 21,
   "metadata": {},
   "outputs": [
    {
     "data": {
      "text/html": [
       "<div>\n",
       "<style scoped>\n",
       "    .dataframe tbody tr th:only-of-type {\n",
       "        vertical-align: middle;\n",
       "    }\n",
       "\n",
       "    .dataframe tbody tr th {\n",
       "        vertical-align: top;\n",
       "    }\n",
       "\n",
       "    .dataframe thead th {\n",
       "        text-align: right;\n",
       "    }\n",
       "</style>\n",
       "<table border=\"1\" class=\"dataframe\">\n",
       "  <thead>\n",
       "    <tr style=\"text-align: right;\">\n",
       "      <th></th>\n",
       "      <th>results</th>\n",
       "      <th>query</th>\n",
       "      <th>id</th>\n",
       "      <th>status</th>\n",
       "      <th>sum_plus</th>\n",
       "      <th>id_to_code</th>\n",
       "      <th>result long names</th>\n",
       "    </tr>\n",
       "  </thead>\n",
       "  <tbody>\n",
       "    <tr>\n",
       "      <th>0</th>\n",
       "      <td>[{'address_components': [{'long_name': 'Les Es...</td>\n",
       "      <td>les+Escaldes+AD</td>\n",
       "      <td>3040051</td>\n",
       "      <td>OK</td>\n",
       "      <td>6080108</td>\n",
       "      <td>daeaafb</td>\n",
       "      <td>Andorra, AD700, Escaldes-Engordany, Les Escaldes</td>\n",
       "    </tr>\n",
       "    <tr>\n",
       "      <th>1</th>\n",
       "      <td>[{'address_components': [{'long_name': 'Les Es...</td>\n",
       "      <td>les+Escaldes+AD</td>\n",
       "      <td>3040051</td>\n",
       "      <td>OK</td>\n",
       "      <td>6080108</td>\n",
       "      <td>daeaafb</td>\n",
       "      <td>Andorra, AD700, Escaldes-Engordany, Les Escaldes</td>\n",
       "    </tr>\n",
       "    <tr>\n",
       "      <th>2</th>\n",
       "      <td>[{'address_components': [{'long_name': 'Les Es...</td>\n",
       "      <td>les+Escaldes+AD</td>\n",
       "      <td>3040051</td>\n",
       "      <td>OK</td>\n",
       "      <td>6080108</td>\n",
       "      <td>daeaafb</td>\n",
       "      <td>Andorra, AD700, Escaldes-Engordany, Les Escaldes</td>\n",
       "    </tr>\n",
       "    <tr>\n",
       "      <th>3</th>\n",
       "      <td>[{'address_components': [{'long_name': 'Andorr...</td>\n",
       "      <td>Andorra+la+Vella+AD</td>\n",
       "      <td>3041563</td>\n",
       "      <td>OK</td>\n",
       "      <td>6083132</td>\n",
       "      <td>daebfgd</td>\n",
       "      <td>Andorra, AD500, Andorra la Vella</td>\n",
       "    </tr>\n",
       "    <tr>\n",
       "      <th>4</th>\n",
       "      <td>[{'address_components': [{'long_name': 'Umm Al...</td>\n",
       "      <td>Umm+al+Qaywayn+AE</td>\n",
       "      <td>290594</td>\n",
       "      <td>OK</td>\n",
       "      <td>581194</td>\n",
       "      <td>cjafje</td>\n",
       "      <td>Umm Al Quwain, United Arab Emirates</td>\n",
       "    </tr>\n",
       "  </tbody>\n",
       "</table>\n",
       "</div>"
      ],
      "text/plain": [
       "                                             results                query  \\\n",
       "0  [{'address_components': [{'long_name': 'Les Es...      les+Escaldes+AD   \n",
       "1  [{'address_components': [{'long_name': 'Les Es...      les+Escaldes+AD   \n",
       "2  [{'address_components': [{'long_name': 'Les Es...      les+Escaldes+AD   \n",
       "3  [{'address_components': [{'long_name': 'Andorr...  Andorra+la+Vella+AD   \n",
       "4  [{'address_components': [{'long_name': 'Umm Al...    Umm+al+Qaywayn+AE   \n",
       "\n",
       "        id status  sum_plus id_to_code  \\\n",
       "0  3040051     OK   6080108    daeaafb   \n",
       "1  3040051     OK   6080108    daeaafb   \n",
       "2  3040051     OK   6080108    daeaafb   \n",
       "3  3041563     OK   6083132    daebfgd   \n",
       "4   290594     OK    581194     cjafje   \n",
       "\n",
       "                                  result long names  \n",
       "0  Andorra, AD700, Escaldes-Engordany, Les Escaldes  \n",
       "1  Andorra, AD700, Escaldes-Engordany, Les Escaldes  \n",
       "2  Andorra, AD700, Escaldes-Engordany, Les Escaldes  \n",
       "3                  Andorra, AD500, Andorra la Vella  \n",
       "4               Umm Al Quwain, United Arab Emirates  "
      ]
     },
     "execution_count": 21,
     "metadata": {},
     "output_type": "execute_result"
    }
   ],
   "source": [
    "# generate new column\n",
    "\n",
    "df['result long names'] = df['results'].apply(get_long_names)\n",
    "df.head()"
   ]
  },
  {
   "cell_type": "markdown",
   "metadata": {},
   "source": [
    "Last exercise"
   ]
  },
  {
   "cell_type": "code",
   "execution_count": 10,
   "metadata": {
    "jupyter": {
     "outputs_hidden": false
    }
   },
   "outputs": [
    {
     "data": {
      "text/plain": [
       "26        Sar-e+Pul+AF\n",
       "27    Sang-e+Charak+AF\n",
       "Name: query, dtype: object"
      ]
     },
     "execution_count": 10,
     "metadata": {},
     "output_type": "execute_result"
    }
   ],
   "source": [
    "# printing those queries, where the new column contains the \"Sare Pol\" string\n",
    "df[df['result long names'].str.contains('Sare Pol')]['query']"
   ]
  },
  {
   "cell_type": "markdown",
   "metadata": {},
   "source": [
    "## Analyse metadata of cancer patients\n",
    "\n",
    "The 'metadata.xlsx' file contains metadata of 60 medical samples. Unfortunately the table contains erroneus values as well, which hinders the automatic digestion of the information, therefore you need to correct it the following way:\n",
    "\n",
    " - The **Diagnosis** column has typos, only the following values should exit: *Prostate adenocarcinoma, Lung Squamous Cell Carcinoma, Lung adenocarcinoma, Colon adenocarcinoma, Breast Invasive Carcinoma*\n",
    " - Delete those rows, where any of the columns **Age, Diagnosis, Gender és Date of sample collection**  has an empty value. How many of these are there?\n",
    " - The **Gender** column should have only  *male* and *female* values.\n",
    "\n",
    "After the corrections of the mistakes: \n",
    "\n",
    " - Create a column, where there is either *alive* or *dead* value. If there is no data in column **Date of death**, then the patient lives.\n",
    " - Create a column, where you have the localization of the disease, the organ. \n",
    " - Plot with boxplot the life expectancy for the various localizations. The life expectancy is the difference between the date of sample collection and death or the date of sample collection  and the last observation.\n",
    " - Create a histogram of the age of the patients!\n",
    " - Plot on one figure the difference of hte number of diseases in the various localizations of male/femaie patients!"
   ]
  },
  {
   "cell_type": "markdown",
   "metadata": {},
   "source": [
    "### Solution"
   ]
  },
  {
   "cell_type": "code",
   "execution_count": 1,
   "metadata": {},
   "outputs": [
    {
     "name": "stdout",
     "output_type": "stream",
     "text": [
      "Populating the interactive namespace from numpy and matplotlib\n"
     ]
    },
    {
     "name": "stderr",
     "output_type": "stream",
     "text": [
      "/opt/conda/lib/python3.7/site-packages/statsmodels/tools/_testing.py:19: FutureWarning: pandas.util.testing is deprecated. Use the functions in the public API at pandas.testing instead.\n",
      "  import pandas.util.testing as tm\n"
     ]
    }
   ],
   "source": [
    "# Import modules\n",
    "import pandas as pd\n",
    "%pylab inline\n",
    "pd.options.mode.chained_assignment = None  # default='warn'\n",
    "import seaborn as sns"
   ]
  },
  {
   "cell_type": "code",
   "execution_count": 3,
   "metadata": {},
   "outputs": [
    {
     "name": "stdout",
     "output_type": "stream",
     "text": [
      "# of empty rows: 5\n"
     ]
    }
   ],
   "source": [
    "# read metadata \n",
    "meta=pd.read_excel('data/metadata.xlsx')\n",
    "orig_data = meta.shape[0]\n",
    "meta=meta.dropna(subset=['Sample ID','Age','Diagnosis','Gender','Date of sample collection'])\n",
    "data_withoutna = meta.shape[0]\n",
    "print('# of empty rows: ' + str(orig_data-data_withoutna))"
   ]
  },
  {
   "cell_type": "code",
   "execution_count": 4,
   "metadata": {},
   "outputs": [],
   "source": [
    "# correcting typos\n",
    "meta['Gender']=meta['Gender'].str.replace(' ','')\n",
    "meta['Gender']=meta['Gender'].str.replace('famele','female')\n",
    "meta['Diagnosis']=meta['Diagnosis'].str.replace('\\t','')\n",
    "meta['Diagnosis']=meta['Diagnosis'].str.replace('Prostate adenocarcinma','Prostate adenocarcinoma')\n",
    "meta['Diagnosis']=meta['Diagnosis'].str.replace('Lung Adenocarcinoma','Lung adenocarcinoma')\n",
    "meta['Diagnosis']=meta['Diagnosis'].str.replace('lung Adenocarcinoma','Lung adenocarcinoma')\n",
    "meta['Diagnosis']=meta['Diagnosis'].str.replace('Colon adenocarcinoma ','Colon adenocarcinoma')\n",
    "meta['Diagnosis']=meta['Diagnosis'].str.replace('Colonadenocarcinoma','Colon adenocarcinoma')"
   ]
  },
  {
   "cell_type": "code",
   "execution_count": 5,
   "metadata": {},
   "outputs": [],
   "source": [
    "# alive/dead status\n",
    "def survival_status(x):\n",
    "    if pd.isnull(x) == True:\n",
    "        return 'LIVING'\n",
    "    else:\n",
    "        return 'DECEASED'\n",
    "    \n",
    "# localization of the disease \n",
    "def Localization(x):\n",
    "    if 'Lung' in x:\n",
    "        return 'Lung'\n",
    "    if 'Prostate' in x:\n",
    "        return 'Prostate'\n",
    "    if 'Breast' in x:\n",
    "        return 'Breast'\n",
    "    if 'Colon' in x:\n",
    "        return 'Colon'\n",
    "meta['Localization'] = meta['Diagnosis'].apply(Localization)\n",
    "meta['Survival status'] = meta['Date of death'].apply(survival_status)\n",
    "#utolsó vizsgálat/halál időpontja\n",
    "meta['Last info'] = meta[['Last observation','Date of death']].max(axis=1)\n",
    "#túlélés napokban\n",
    "meta['Survival in days']=meta['Last info']-meta['Date of sample collection']"
   ]
  },
  {
   "cell_type": "code",
   "execution_count": 6,
   "metadata": {},
   "outputs": [
    {
     "data": {
      "image/png": "[encoded data removed]",
      "text/plain": [
       "<Figure size 432x288 with 1 Axes>"
      ]
     },
     "metadata": {
      "needs_background": "light"
     },
     "output_type": "display_data"
    }
   ],
   "source": [
    "#boxplot\n",
    "plt.boxplot([meta[meta['Localization']=='Lung']['Survival in days'],meta[meta['Localization']=='Breast']['Survival in days'],meta[meta['Localization']=='Colon']['Survival in days'],meta[meta['Localization']=='Prostate']['Survival in days']],labels = ['Lung','Breast','Colon','Prostate'])\n",
    "plt.ylabel('Survival in days')\n",
    "plt.xlabel('Localization');"
   ]
  },
  {
   "cell_type": "code",
   "execution_count": 7,
   "metadata": {},
   "outputs": [
    {
     "data": {
      "image/png": "[encoded data removed]",
      "text/plain": [
       "<Figure size 432x288 with 1 Axes>"
      ]
     },
     "metadata": {
      "needs_background": "light"
     },
     "output_type": "display_data"
    }
   ],
   "source": [
    "# histogram of age\n",
    "sns.distplot(meta['Age']);"
   ]
  },
  {
   "cell_type": "code",
   "execution_count": 8,
   "metadata": {},
   "outputs": [
    {
     "data": {
      "image/png": "[encoded data removed]",
      "text/plain": [
       "<Figure size 432x288 with 1 Axes>"
      ]
     },
     "metadata": {
      "needs_background": "light"
     },
     "output_type": "display_data"
    }
   ],
   "source": [
    "# number of diseases in the various  localizations of male/female patients\n",
    "to_plot = meta.groupby(['Gender','Localization'])[['Localization']].count()\n",
    "to_plot=to_plot.unstack(level=0)\n",
    "to_plot.plot(kind='bar');"
   ]
  },
  {
   "cell_type": "code",
   "execution_count": null,
   "metadata": {},
   "outputs": [],
   "source": []
  }
 ],
 "metadata": {
  "kernelspec": {
   "display_name": "Python 3 (ipykernel)",
   "language": "python",
   "name": "python3"
  },
  "language_info": {
   "codemirror_mode": {
    "name": "ipython",
    "version": 3
   },
   "file_extension": ".py",
   "mimetype": "text/x-python",
   "name": "python",
   "nbconvert_exporter": "python",
   "pygments_lexer": "ipython3",
   "version": "3.9.13"
  }
 },
 "nbformat": 4,
 "nbformat_minor": 4
}
