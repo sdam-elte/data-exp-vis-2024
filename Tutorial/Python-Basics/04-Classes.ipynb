{
 "cells": [
  {
   "cell_type": "markdown",
   "metadata": {},
   "source": [
    "## Functional vs obejct-oriented programming\n",
    "\n",
    "In the previous examples we've seen various examples of variable types in `Python` (numbers, character strings, dictionaries etc.). By combining them with control statements (`if`, `for`, `while` ...) and function definitions (`def` construction), we got to know the basics of traditional programming.\n",
    "\n",
    "In the following we are going to make ourselves familiar with currently the most common programming style, where the focus is not on constructing certain operations, but to create a hierarchy of interconnected program units. This is the paradigm of [object-oriented programming](https://en.wikipedia.org/wiki/Object-oriented_programming). `Python` is inherently object-oriented, its variables and functions are all objects in the first place. In recent lecture notes, we have already met object-oriented constructions, we were just not aware of them. For example, there have been some functions that had to be used by putting a `.` after the variable name.\n",
    "\n",
    "```python\n",
    "x=array([1,2,3])\n",
    "x.sum()\n",
    "```\n",
    "\n",
    "Object-oriented programming may seem a bit overwhelming in the first place. If the following examples are not clear enough, these more detailed descriptions may help: \n",
    "* [Python3 Object-Oriented Programming](http://www.python-course.eu/python3_object_oriented_programming.php)\n",
    "\n",
    "Let's now focus on the object-oriented syntax of Python."
   ]
  },
  {
   "cell_type": "markdown",
   "metadata": {},
   "source": [
    "## The `class` construction and instantiation\n",
    "\n",
    "In object-oriented programming, objects are entities that have data and operations encoded together. To create objects, `Python` offers the `class` construction similarly to other languages. If we create a class, it is best to think of it as a kind of plan. The things that are made according to this plan, that is, according to this class definition are called instances. The next images illusrate the above concepts."
   ]
  },
  {
   "cell_type": "markdown",
   "metadata": {},
   "source": [
    "<table>\n",
    "<tr>\n",
    "<td style=\"text-align:center; border: 1px solid #ffffff\">**Classes are like blueprints:**</td>\n",
    "<td style=\"text-align:center; border: 1px solid #ffffff\">**Objects are instances made after the blueprints:**</td>\n",
    "</tr>\n",
    "<tr>\n",
    "<td style=\"border: 1px solid #ffffff\"><img src=\"https://upload.wikimedia.org/wikipedia/commons/1/10/LaBelle_Blueprint.jpg\" width=400></img></td>\n",
    "<td style=\"border: 1px solid #ffffff\"><img src=\"https://nuatexperiment.files.wordpress.com/2011/05/lego-man_0709_acp-syndication_large.jpg\" width=600></img> </td>\n",
    "</tr>\n",
    "</table>\n"
   ]
  },
  {
   "cell_type": "markdown",
   "metadata": {},
   "source": [
    "Let us see a concrete example for the `class` construction. Let us define a class!"
   ]
  },
  {
   "cell_type": "code",
   "execution_count": 1,
   "metadata": {},
   "outputs": [],
   "source": [
    "class Robot:\n",
    "    '''\n",
    "    This is a robot class!\n",
    "    For the time being, it does not do anything! :(\n",
    "    '''\n",
    "    pass"
   ]
  },
  {
   "cell_type": "code",
   "execution_count": 2,
   "metadata": {},
   "outputs": [
    {
     "data": {
      "text/plain": [
       "['__class__',\n",
       " '__delattr__',\n",
       " '__dict__',\n",
       " '__dir__',\n",
       " '__doc__',\n",
       " '__eq__',\n",
       " '__format__',\n",
       " '__ge__',\n",
       " '__getattribute__',\n",
       " '__gt__',\n",
       " '__hash__',\n",
       " '__init__',\n",
       " '__init_subclass__',\n",
       " '__le__',\n",
       " '__lt__',\n",
       " '__module__',\n",
       " '__ne__',\n",
       " '__new__',\n",
       " '__reduce__',\n",
       " '__reduce_ex__',\n",
       " '__repr__',\n",
       " '__setattr__',\n",
       " '__sizeof__',\n",
       " '__str__',\n",
       " '__subclasshook__',\n",
       " '__weakref__']"
      ]
     },
     "execution_count": 2,
     "metadata": {},
     "output_type": "execute_result"
    }
   ],
   "source": [
    "dir(Robot)"
   ]
  },
  {
   "cell_type": "markdown",
   "metadata": {},
   "source": [
    "The above definition created a class called `Robot`. Right now, this class is not capable of anything. In the class definition, there is only a docstring and a `pass` expression that is used for doing nothing. It is useful when the syntax would require a command, but we don't want to do anything.\n",
    "\n",
    "Let us create an object based on the above class!"
   ]
  },
  {
   "cell_type": "code",
   "execution_count": 3,
   "metadata": {},
   "outputs": [],
   "source": [
    "x = Robot()"
   ]
  },
  {
   "cell_type": "markdown",
   "metadata": {},
   "source": [
    "Now our variable `x` is an object from the `Robot` class. We can ask the class of an object with the help of the `type` function."
   ]
  },
  {
   "cell_type": "code",
   "execution_count": 4,
   "metadata": {},
   "outputs": [
    {
     "data": {
      "text/plain": [
       "__main__.Robot"
      ]
     },
     "execution_count": 4,
     "metadata": {},
     "output_type": "execute_result"
    }
   ],
   "source": [
    "type(x)"
   ]
  },
  {
   "cell_type": "markdown",
   "metadata": {},
   "source": [
    "The function `type` tells us, that the variable `x` is an object instatiated from the class `__main__.Robot`. Here `__main__` only refers to the class `Robot` being in the `__main__` running environment, and not being part of any module.\n",
    "\n",
    "Let us observe the types of other simple objects:"
   ]
  },
  {
   "cell_type": "code",
   "execution_count": 5,
   "metadata": {},
   "outputs": [
    {
     "data": {
      "text/plain": [
       "int"
      ]
     },
     "execution_count": 5,
     "metadata": {},
     "output_type": "execute_result"
    }
   ],
   "source": [
    "type(1)"
   ]
  },
  {
   "cell_type": "code",
   "execution_count": 6,
   "metadata": {},
   "outputs": [
    {
     "data": {
      "text/plain": [
       "float"
      ]
     },
     "execution_count": 6,
     "metadata": {},
     "output_type": "execute_result"
    }
   ],
   "source": [
    "type(3.0)"
   ]
  },
  {
   "cell_type": "code",
   "execution_count": 7,
   "metadata": {},
   "outputs": [
    {
     "data": {
      "text/plain": [
       "list"
      ]
     },
     "execution_count": 7,
     "metadata": {},
     "output_type": "execute_result"
    }
   ],
   "source": [
    "type([1,2,3])"
   ]
  },
  {
   "cell_type": "code",
   "execution_count": 8,
   "metadata": {},
   "outputs": [
    {
     "data": {
      "text/plain": [
       "builtin_function_or_method"
      ]
     },
     "execution_count": 8,
     "metadata": {},
     "output_type": "execute_result"
    }
   ],
   "source": [
    "type(abs)"
   ]
  },
  {
   "cell_type": "markdown",
   "metadata": {},
   "source": [
    "As we would have expected, a number written without a decimal is `int`, a number with a decimal is `float`, list is `list`, the function calculating the absolute value of a number `abs` if `builtin_function_or_method` type."
   ]
  },
  {
   "cell_type": "markdown",
   "metadata": {},
   "source": [
    "If we defined a class in a module, the type is going to contain the name of the module."
   ]
  },
  {
   "cell_type": "code",
   "execution_count": 8,
   "metadata": {},
   "outputs": [],
   "source": [
    "import numpy # we load the numpy module"
   ]
  },
  {
   "cell_type": "code",
   "execution_count": 9,
   "metadata": {},
   "outputs": [
    {
     "data": {
      "text/plain": [
       "numpy.ufunc"
      ]
     },
     "execution_count": 9,
     "metadata": {},
     "output_type": "execute_result"
    }
   ],
   "source": [
    "type(numpy.sin) # type of the function 'sin' defined in numpy"
   ]
  },
  {
   "cell_type": "markdown",
   "metadata": {},
   "source": [
    "## Class variables, attributes and methods\n",
    "\n",
    "To do something useful, let us complete the above class definition by a little more code."
   ]
  },
  {
   "cell_type": "code",
   "execution_count": 1,
   "metadata": {},
   "outputs": [],
   "source": [
    "class Robot:\n",
    "    '''\n",
    "    This is a Robot class.\n",
    "    Robots can be given a name at their birth.\n",
    "    Later, we can rename a Robot.\n",
    "    The name of every Robot is in its own variable.\n",
    "    The name of the company creating all Robots is in the robot_company variable.\n",
    "    '''\n",
    "\n",
    "    robot_company='A robot company'    \n",
    "    total_number_of_robots_created=0\n",
    "    \n",
    "    def __init__(self,name=None):\n",
    "        \n",
    "        Robot.total_number_of_robots_created+=1\n",
    "        print('A Robot is born!')\n",
    "        self.name=name\n",
    "        if name:\n",
    "            print('This Robot is called '+str(name)+' !')\n",
    "        else:\n",
    "            print('This Robot has no name... :(')\n",
    "            \n",
    "    def set_name(self,name):\n",
    "        '''\n",
    "        This function is able to modify a Robot's name.\n",
    "        '''\n",
    "        print('My name has changed to '+str(name)+'!')\n",
    "        self.name=name"
   ]
  },
  {
   "cell_type": "markdown",
   "metadata": {},
   "source": [
    "Let us create an instance of this class."
   ]
  },
  {
   "cell_type": "code",
   "execution_count": 2,
   "metadata": {},
   "outputs": [
    {
     "name": "stdout",
     "output_type": "stream",
     "text": [
      "A Robot is born!\n",
      "This Robot has no name... :(\n"
     ]
    }
   ],
   "source": [
    "x=Robot()"
   ]
  },
  {
   "cell_type": "code",
   "execution_count": 3,
   "metadata": {},
   "outputs": [
    {
     "data": {
      "text/plain": [
       "['__class__',\n",
       " '__delattr__',\n",
       " '__dict__',\n",
       " '__dir__',\n",
       " '__doc__',\n",
       " '__eq__',\n",
       " '__format__',\n",
       " '__ge__',\n",
       " '__getattribute__',\n",
       " '__gt__',\n",
       " '__hash__',\n",
       " '__init__',\n",
       " '__init_subclass__',\n",
       " '__le__',\n",
       " '__lt__',\n",
       " '__module__',\n",
       " '__ne__',\n",
       " '__new__',\n",
       " '__reduce__',\n",
       " '__reduce_ex__',\n",
       " '__repr__',\n",
       " '__setattr__',\n",
       " '__sizeof__',\n",
       " '__str__',\n",
       " '__subclasshook__',\n",
       " '__weakref__',\n",
       " 'name',\n",
       " 'robot_company',\n",
       " 'set_name',\n",
       " 'total_number_of_robots_created']"
      ]
     },
     "execution_count": 3,
     "metadata": {},
     "output_type": "execute_result"
    }
   ],
   "source": [
    "dir(x)"
   ]
  },
  {
   "cell_type": "markdown",
   "metadata": {},
   "source": [
    "The above class illustrates three important points.\n",
    "\n",
    "The variables `robot_company` and `total_number_of_robots_created` are reachable in all instances of the class, they are so-called class variables. We can refer to them through the class name, or through any class instances by using the operator `.`."
   ]
  },
  {
   "cell_type": "code",
   "execution_count": 4,
   "metadata": {},
   "outputs": [
    {
     "data": {
      "text/plain": [
       "'A robot company'"
      ]
     },
     "execution_count": 4,
     "metadata": {},
     "output_type": "execute_result"
    }
   ],
   "source": [
    "x.robot_company"
   ]
  },
  {
   "cell_type": "code",
   "execution_count": 5,
   "metadata": {},
   "outputs": [
    {
     "data": {
      "text/plain": [
       "'A robot company'"
      ]
     },
     "execution_count": 5,
     "metadata": {},
     "output_type": "execute_result"
    }
   ],
   "source": [
    "Robot.robot_company"
   ]
  },
  {
   "cell_type": "code",
   "execution_count": 6,
   "metadata": {},
   "outputs": [
    {
     "data": {
      "text/plain": [
       "1"
      ]
     },
     "execution_count": 6,
     "metadata": {},
     "output_type": "execute_result"
    }
   ],
   "source": [
    "Robot.total_number_of_robots_created"
   ]
  },
  {
   "cell_type": "code",
   "execution_count": 9,
   "metadata": {},
   "outputs": [
    {
     "data": {
      "text/plain": [
       "1"
      ]
     },
     "execution_count": 9,
     "metadata": {},
     "output_type": "execute_result"
    }
   ],
   "source": [
    "x.total_number_of_robots_created"
   ]
  },
  {
   "cell_type": "markdown",
   "metadata": {},
   "source": [
    "If needed, we may change their value."
   ]
  },
  {
   "cell_type": "code",
   "execution_count": 10,
   "metadata": {},
   "outputs": [],
   "source": [
    "Robot.robot_company='ECONMACHINE'"
   ]
  },
  {
   "cell_type": "code",
   "execution_count": 11,
   "metadata": {},
   "outputs": [
    {
     "data": {
      "text/plain": [
       "'ECONMACHINE'"
      ]
     },
     "execution_count": 11,
     "metadata": {},
     "output_type": "execute_result"
    }
   ],
   "source": [
    "x.robot_company"
   ]
  },
  {
   "cell_type": "code",
   "execution_count": 12,
   "metadata": {},
   "outputs": [
    {
     "data": {
      "text/plain": [
       "'ECONMACHINE'"
      ]
     },
     "execution_count": 12,
     "metadata": {},
     "output_type": "execute_result"
    }
   ],
   "source": [
    "Robot.robot_company"
   ]
  },
  {
   "cell_type": "markdown",
   "metadata": {},
   "source": [
    "### But what is `self`?"
   ]
  },
  {
   "cell_type": "markdown",
   "metadata": {},
   "source": [
    "When defining the `Robot` class, we assigned functions to the class with the already known `def` construction. Functions acting on a class are usually called methods. Let us observe the two functions of the `Robot` class!\n",
    "\n",
    "First, let us observe the function `set_name`. Officially, it has two arguments, `self` and `name`. The `name` input variable in this construction works as it did with simple function definitions.\n",
    "\n",
    "But the word `self` has a special usage. In the place of the `self` variable, the object itself is passed to the function on its call.\n",
    "\n",
    "We can reach the methods that can be used on an object by the `.` operator."
   ]
  },
  {
   "cell_type": "code",
   "execution_count": 13,
   "metadata": {},
   "outputs": [
    {
     "name": "stdout",
     "output_type": "stream",
     "text": [
      "My name has changed to Giselle!\n"
     ]
    }
   ],
   "source": [
    "x.set_name('Giselle')"
   ]
  },
  {
   "cell_type": "markdown",
   "metadata": {},
   "source": [
    "That is, we do not have to pass the name of the object for the place of the `self` variable, it is done by the `.` operator. One input argument is enough for our method.\n",
    "\n",
    "The funciton `__init__` is a special function. It is called upon the creation of a new `Robot` object. In the above example, two things happen when creating a `Robot`. First of all, the value of the class variable `total_number_of_robots_created` increases by 1. Then, if we have given a character string upon instantiation, the object stores it in the `name` variable. Moreover, it prints some things according to whether we've given our `Robot` a name or not."
   ]
  },
  {
   "cell_type": "markdown",
   "metadata": {},
   "source": [
    "The above defined methods manipulate the `name` variable. In most cases, objects have their own variables in addition to their class variables. They are unique to an object, and are not accessible by other class instances. We can refer to these object variables by using the `.` operator. We also call these object variables attributes."
   ]
  },
  {
   "cell_type": "code",
   "execution_count": 14,
   "metadata": {},
   "outputs": [
    {
     "data": {
      "text/plain": [
       "'Giselle'"
      ]
     },
     "execution_count": 14,
     "metadata": {},
     "output_type": "execute_result"
    }
   ],
   "source": [
    "x.name"
   ]
  },
  {
   "cell_type": "markdown",
   "metadata": {},
   "source": [
    "If an object still does not have a certain attribute, we may add it later."
   ]
  },
  {
   "cell_type": "code",
   "execution_count": 15,
   "metadata": {},
   "outputs": [],
   "source": [
    "x.build_year=2017"
   ]
  },
  {
   "cell_type": "markdown",
   "metadata": {},
   "source": [
    "Of course, other instances of the class are not going to have such an attribute."
   ]
  },
  {
   "cell_type": "code",
   "execution_count": 16,
   "metadata": {},
   "outputs": [
    {
     "name": "stdout",
     "output_type": "stream",
     "text": [
      "A Robot is born!\n",
      "This Robot is called Malvin !\n"
     ]
    }
   ],
   "source": [
    "y=Robot('Malvin')"
   ]
  },
  {
   "cell_type": "code",
   "execution_count": 18,
   "metadata": {},
   "outputs": [
    {
     "ename": "AttributeError",
     "evalue": "'Robot' object has no attribute 'build_year'",
     "output_type": "error",
     "traceback": [
      "\u001b[0;31m---------------------------------------------------------------------------\u001b[0m",
      "\u001b[0;31mAttributeError\u001b[0m                            Traceback (most recent call last)",
      "\u001b[0;32m/tmp/ipykernel_20588/2042714078.py\u001b[0m in \u001b[0;36m<module>\u001b[0;34m\u001b[0m\n\u001b[0;32m----> 1\u001b[0;31m \u001b[0my\u001b[0m\u001b[0;34m.\u001b[0m\u001b[0mbuild_year\u001b[0m\u001b[0;34m\u001b[0m\u001b[0;34m\u001b[0m\u001b[0m\n\u001b[0m",
      "\u001b[0;31mAttributeError\u001b[0m: 'Robot' object has no attribute 'build_year'"
     ]
    }
   ],
   "source": [
    "y.build_year"
   ]
  },
  {
   "cell_type": "markdown",
   "metadata": {},
   "source": [
    "We can get the attributes and methods of a class with the help of the `dir()` function."
   ]
  },
  {
   "cell_type": "code",
   "execution_count": 20,
   "metadata": {},
   "outputs": [
    {
     "data": {
      "text/plain": [
       "['__class__',\n",
       " '__delattr__',\n",
       " '__dict__',\n",
       " '__dir__',\n",
       " '__doc__',\n",
       " '__eq__',\n",
       " '__format__',\n",
       " '__ge__',\n",
       " '__getattribute__',\n",
       " '__gt__',\n",
       " '__hash__',\n",
       " '__init__',\n",
       " '__init_subclass__',\n",
       " '__le__',\n",
       " '__lt__',\n",
       " '__module__',\n",
       " '__ne__',\n",
       " '__new__',\n",
       " '__reduce__',\n",
       " '__reduce_ex__',\n",
       " '__repr__',\n",
       " '__setattr__',\n",
       " '__sizeof__',\n",
       " '__str__',\n",
       " '__subclasshook__',\n",
       " '__weakref__',\n",
       " 'robot_company',\n",
       " 'set_name',\n",
       " 'total_number_of_robots_created']"
      ]
     },
     "execution_count": 20,
     "metadata": {},
     "output_type": "execute_result"
    }
   ],
   "source": [
    "dir(Robot)"
   ]
  },
  {
   "cell_type": "code",
   "execution_count": 21,
   "metadata": {},
   "outputs": [
    {
     "data": {
      "text/plain": [
       "['__class__',\n",
       " '__delattr__',\n",
       " '__dict__',\n",
       " '__dir__',\n",
       " '__doc__',\n",
       " '__eq__',\n",
       " '__format__',\n",
       " '__ge__',\n",
       " '__getattribute__',\n",
       " '__gt__',\n",
       " '__hash__',\n",
       " '__init__',\n",
       " '__init_subclass__',\n",
       " '__le__',\n",
       " '__lt__',\n",
       " '__module__',\n",
       " '__ne__',\n",
       " '__new__',\n",
       " '__reduce__',\n",
       " '__reduce_ex__',\n",
       " '__repr__',\n",
       " '__setattr__',\n",
       " '__sizeof__',\n",
       " '__str__',\n",
       " '__subclasshook__',\n",
       " '__weakref__',\n",
       " 'build_year',\n",
       " 'name',\n",
       " 'robot_company',\n",
       " 'set_name',\n",
       " 'total_number_of_robots_created']"
      ]
     },
     "execution_count": 21,
     "metadata": {},
     "output_type": "execute_result"
    }
   ],
   "source": [
    "dir(x)"
   ]
  },
  {
   "cell_type": "code",
   "execution_count": 22,
   "metadata": {},
   "outputs": [
    {
     "data": {
      "text/plain": [
       "['__class__',\n",
       " '__delattr__',\n",
       " '__dict__',\n",
       " '__dir__',\n",
       " '__doc__',\n",
       " '__eq__',\n",
       " '__format__',\n",
       " '__ge__',\n",
       " '__getattribute__',\n",
       " '__gt__',\n",
       " '__hash__',\n",
       " '__init__',\n",
       " '__init_subclass__',\n",
       " '__le__',\n",
       " '__lt__',\n",
       " '__module__',\n",
       " '__ne__',\n",
       " '__new__',\n",
       " '__reduce__',\n",
       " '__reduce_ex__',\n",
       " '__repr__',\n",
       " '__setattr__',\n",
       " '__sizeof__',\n",
       " '__str__',\n",
       " '__subclasshook__',\n",
       " '__weakref__',\n",
       " 'name',\n",
       " 'robot_company',\n",
       " 'set_name',\n",
       " 'total_number_of_robots_created']"
      ]
     },
     "execution_count": 22,
     "metadata": {},
     "output_type": "execute_result"
    }
   ],
   "source": [
    "dir(y)"
   ]
  },
  {
   "cell_type": "markdown",
   "metadata": {},
   "source": [
    "As expected, the robot stored in the variable `y` does not have a `build_year` attribue, and the class `Robot` also lacks this attribute definition. Apart from the attributes and methods defined by us, the objects `x` and `y` both have several methods surrounded by `__`. In the following, we'll look into these."
   ]
  },
  {
   "cell_type": "markdown",
   "metadata": {},
   "source": [
    "## Special methods\n",
    "\n",
    "We've seen in the above `Robot` class, that the function `__init__` is called upon the creation of objects. We've also seen in the above `dir()` calls, that the class `Robot` and its instances all have other methods whose names are surrounded by two `__` strings. These methods are called [special methods](https://micropyramid.com/blog/python-special-class-methods-or-magic-methods/). These are not called directly, but `Python` calls them when certain syntaxes or commands are executed. A more complicated example:"
   ]
  },
  {
   "cell_type": "code",
   "execution_count": 23,
   "metadata": {},
   "outputs": [],
   "source": [
    "class Busybee:\n",
    "    '''\n",
    "    This is class Busybee, whose instances will be comparable\n",
    "    by the length of their names.\n",
    "    '''    \n",
    "    def __init__(self,name=None):\n",
    "        '''\n",
    "        Upon initialization, we can give a name.\n",
    "        '''\n",
    "        self.name=name    \n",
    "    \n",
    "    def __lt__(self, other):\n",
    "        '''\n",
    "        This function make the usage of the < operation possible.\n",
    "        '''\n",
    "        return len(self.name)<len(other.name)\n",
    "\n",
    "    def __eq__(self, other):\n",
    "        '''\n",
    "        This function make the usage of the == operation possible.\n",
    "        '''\n",
    "        return len(self.name)==len(other.name)\n",
    "\n",
    "    def __gt__(self, other):\n",
    "        '''\n",
    "        This function make the usage of the > operation possible.\n",
    "        '''\n",
    "        return len(self.name)>len(other.name)\n"
   ]
  },
  {
   "cell_type": "markdown",
   "metadata": {},
   "source": [
    "The objects from the `Busybee` class are comparable with the `<`, `>` and `==` operators."
   ]
  },
  {
   "cell_type": "code",
   "execution_count": 24,
   "metadata": {},
   "outputs": [],
   "source": [
    "f=Busybee('bug') "
   ]
  },
  {
   "cell_type": "code",
   "execution_count": 25,
   "metadata": {},
   "outputs": [],
   "source": [
    "g=Busybee('bugger')"
   ]
  },
  {
   "cell_type": "code",
   "execution_count": 26,
   "metadata": {},
   "outputs": [
    {
     "data": {
      "text/plain": [
       "False"
      ]
     },
     "execution_count": 26,
     "metadata": {},
     "output_type": "execute_result"
    }
   ],
   "source": [
    "f>g"
   ]
  },
  {
   "cell_type": "markdown",
   "metadata": {},
   "source": [
    "The above example illustrates that there are special functions that tell how certain common operators (such as relations) should act on the objects created from our class. Apart from this we can use special methods for many other things, we may for example use objects of a certain class:\n",
    "* as [functions](http://people.ubuntu.com/~kelemeng/.ufp3/special-method-names.html#acts-like-function)\n",
    "* to [iterate over](http://people.ubuntu.com/~kelemeng/.ufp3/special-method-names.html#acts-like-iterator) with a for loop\n",
    "* to act as [numbers or other mathematical objects](http://people.ubuntu.com/~kelemeng/.ufp3/special-method-names.html#acts-like-number)\n",
    "* to act as [dictionaries](http://people.ubuntu.com/~kelemeng/.ufp3/special-method-names.html#acts-like-dict), made accessible by keywords\n",
    "\n",
    "[Here](http://people.ubuntu.com/~kelemeng/.ufp3/special-method-names.html) is a very good summary about special methods, the Python documentation referring to them can be found [here](https://docs.python.org/3/reference/datamodel.html)."
   ]
  },
  {
   "cell_type": "markdown",
   "metadata": {},
   "source": [
    "## Private and public\n",
    "\n",
    "When designing classes, some variables are only necessary for the intrinsic mechanisms of the class, and they don't have to be available outside the class. Therefore, there are three visibility categories in Python for class attributes:\n",
    "\n",
    "* private attributes are only used inside classes. If an attribute name begins by `__`, then they are only reachable for the inside methods of the class\n",
    "* protected attributes have names beginning with a `_`. They are avaiable outside of the class, but it is recommended that they are only used in case of creating sub-classes from the class definition.\n",
    "* Public attributes are available for anyone."
   ]
  },
  {
   "cell_type": "markdown",
   "metadata": {},
   "source": [
    "Let us see an example for all three."
   ]
  },
  {
   "cell_type": "code",
   "execution_count": 31,
   "metadata": {},
   "outputs": [],
   "source": [
    "class Something():\n",
    "    '''This is the class Something. '''\n",
    "    def __init__(self):\n",
    "        self.__priv = \"I am very secret.\"\n",
    "        self._prot = \"I am protected.\"\n",
    "        self.pub = \"With me you may do as you like.\""
   ]
  },
  {
   "cell_type": "code",
   "execution_count": 32,
   "metadata": {},
   "outputs": [],
   "source": [
    "thingy=Something()"
   ]
  },
  {
   "cell_type": "markdown",
   "metadata": {},
   "source": [
    "Public and protected attributes are available."
   ]
  },
  {
   "cell_type": "code",
   "execution_count": 33,
   "metadata": {},
   "outputs": [
    {
     "data": {
      "text/plain": [
       "'With me you may do as you like.'"
      ]
     },
     "execution_count": 33,
     "metadata": {},
     "output_type": "execute_result"
    }
   ],
   "source": [
    "thingy.pub"
   ]
  },
  {
   "cell_type": "code",
   "execution_count": 34,
   "metadata": {},
   "outputs": [
    {
     "data": {
      "text/plain": [
       "'I am protected.'"
      ]
     },
     "execution_count": 34,
     "metadata": {},
     "output_type": "execute_result"
    }
   ],
   "source": [
    "thingy._prot"
   ]
  },
  {
   "cell_type": "code",
   "execution_count": 35,
   "metadata": {},
   "outputs": [],
   "source": [
    "thingy._prot='oooooh'"
   ]
  },
  {
   "cell_type": "code",
   "execution_count": 36,
   "metadata": {},
   "outputs": [
    {
     "data": {
      "text/plain": [
       "'oooooh'"
      ]
     },
     "execution_count": 36,
     "metadata": {},
     "output_type": "execute_result"
    }
   ],
   "source": [
    "thingy._prot"
   ]
  },
  {
   "cell_type": "markdown",
   "metadata": {},
   "source": [
    "Private attributes are not."
   ]
  },
  {
   "cell_type": "code",
   "execution_count": 37,
   "metadata": {},
   "outputs": [
    {
     "ename": "AttributeError",
     "evalue": "'Something' object has no attribute '__priv'",
     "output_type": "error",
     "traceback": [
      "\u001b[0;31m---------------------------------------------------------------------------\u001b[0m",
      "\u001b[0;31mAttributeError\u001b[0m                            Traceback (most recent call last)",
      "\u001b[0;32m<ipython-input-37-e768cb2a0f69>\u001b[0m in \u001b[0;36m<module>\u001b[0;34m\u001b[0m\n\u001b[0;32m----> 1\u001b[0;31m \u001b[0mthingy\u001b[0m\u001b[0;34m.\u001b[0m\u001b[0m__priv\u001b[0m\u001b[0;34m\u001b[0m\u001b[0;34m\u001b[0m\u001b[0m\n\u001b[0m",
      "\u001b[0;31mAttributeError\u001b[0m: 'Something' object has no attribute '__priv'"
     ]
    }
   ],
   "source": [
    "thingy.__priv"
   ]
  },
  {
   "cell_type": "markdown",
   "metadata": {},
   "source": [
    "Of course, not only attributes can be protected or private. Methods also follow this naming convention."
   ]
  },
  {
   "cell_type": "markdown",
   "metadata": {},
   "source": [
    "## Inheritance\n",
    "\n",
    "![](http://www.derekyu.com/tigs/forums/tutorials/gmtut/gmtut-008.png)"
   ]
  },
  {
   "cell_type": "markdown",
   "metadata": {},
   "source": [
    "The most important advantage of object-oriented programming is inheritance. This means that classes can be designed based on previously defined classes, even from several others, roughly as shown in the above image. In the animal world, all species have common properties, in the above example it is the existence of a brain (`brain = true`). All classes ''stem from' this 'ancestor' class, even humans. Every subclass may have its own unique set of properties, and they can be divided into further subclasses.\n",
    "\n",
    "Let us see a simple example for inheritance. Let us extend the class `Robot` with an `accumulator` attribute, and some functions that can manupulate this attribute."
   ]
  },
  {
   "cell_type": "code",
   "execution_count": 38,
   "metadata": {},
   "outputs": [],
   "source": [
    "class AccuRobot(Robot): # <-- This is a class inherited from the class `Robot`\n",
    "    '''\n",
    "    This is a Robot with an accumulator.\n",
    "    '''\n",
    "    def accumulator_level(self):\n",
    "        '''\n",
    "        This function checks if there is an accumulator in the Robot.\n",
    "        '''\n",
    "        if self.akku:\n",
    "            print('The accumulator is at a level '+str(self.akku)+'!')\n",
    "        else:\n",
    "            print('I have no accumulator... :( ')\n",
    "    def set_accu(self,akku=10):\n",
    "        '''\n",
    "       This function puts some energy into the accumulator.\n",
    "        '''\n",
    "        self.akku=akku\n",
    "        "
   ]
  },
  {
   "cell_type": "markdown",
   "metadata": {},
   "source": [
    "We gave in the parentheses in the first line of the class definition, from which class we want our class to inherit methods and attributes. Let us see some examples."
   ]
  },
  {
   "cell_type": "code",
   "execution_count": 39,
   "metadata": {},
   "outputs": [
    {
     "name": "stdout",
     "output_type": "stream",
     "text": [
      "A Robot is born!\n",
      "This Robot is called Winky !\n"
     ]
    }
   ],
   "source": [
    "zz=AccuRobot('Winky')"
   ]
  },
  {
   "cell_type": "markdown",
   "metadata": {},
   "source": [
    "We did not define an `__init__` function for the subclass, therefore, the `__init__` function of the parent class if used on the instantiation of our class.\n",
    "\n",
    "This `zz` objects has the `set_accu()` and `accu_level()` methods."
   ]
  },
  {
   "cell_type": "code",
   "execution_count": 40,
   "metadata": {},
   "outputs": [],
   "source": [
    "zz.set_accu(42)"
   ]
  },
  {
   "cell_type": "code",
   "execution_count": 41,
   "metadata": {},
   "outputs": [
    {
     "name": "stdout",
     "output_type": "stream",
     "text": [
      "The accumulator is at a level 42!\n"
     ]
    }
   ],
   "source": [
    "zz.accumulator_level()"
   ]
  },
  {
   "cell_type": "markdown",
   "metadata": {},
   "source": [
    "But the robot from before that is stored in the variable `x` does not have these methods."
   ]
  },
  {
   "cell_type": "code",
   "execution_count": 42,
   "metadata": {},
   "outputs": [
    {
     "ename": "AttributeError",
     "evalue": "'Robot' object has no attribute 'accumulator_level'",
     "output_type": "error",
     "traceback": [
      "\u001b[0;31m---------------------------------------------------------------------------\u001b[0m",
      "\u001b[0;31mAttributeError\u001b[0m                            Traceback (most recent call last)",
      "\u001b[0;32m<ipython-input-42-21592b50762d>\u001b[0m in \u001b[0;36m<module>\u001b[0;34m\u001b[0m\n\u001b[0;32m----> 1\u001b[0;31m \u001b[0mx\u001b[0m\u001b[0;34m.\u001b[0m\u001b[0maccumulator_level\u001b[0m\u001b[0;34m(\u001b[0m\u001b[0;34m)\u001b[0m\u001b[0;34m\u001b[0m\u001b[0;34m\u001b[0m\u001b[0m\n\u001b[0m",
      "\u001b[0;31mAttributeError\u001b[0m: 'Robot' object has no attribute 'accumulator_level'"
     ]
    }
   ],
   "source": [
    "x.accumulator_level()"
   ]
  },
  {
   "cell_type": "code",
   "execution_count": null,
   "metadata": {},
   "outputs": [],
   "source": []
  },
  {
   "cell_type": "code",
   "execution_count": null,
   "metadata": {},
   "outputs": [],
   "source": []
  }
 ],
 "metadata": {
  "hide_input": false,
  "kernelspec": {
   "display_name": "Python 3 (ipykernel)",
   "language": "python",
   "name": "python3"
  },
  "language_info": {
   "codemirror_mode": {
    "name": "ipython",
    "version": 3
   },
   "file_extension": ".py",
   "mimetype": "text/x-python",
   "name": "python",
   "nbconvert_exporter": "python",
   "pygments_lexer": "ipython3",
   "version": "3.9.13"
  }
 },
 "nbformat": 4,
 "nbformat_minor": 4
}
