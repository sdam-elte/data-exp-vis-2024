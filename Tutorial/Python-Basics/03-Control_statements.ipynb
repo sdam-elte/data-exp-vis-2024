{
 "cells": [
  {
   "cell_type": "markdown",
   "metadata": {},
   "source": [
    "# Basic control statements\n",
    "Complex programs usually consist of the execution of a sequence of commands. To control which command will be executed at a certain point, we use control statements. In all programming languages, we can find two basic control statemets: one that creates loops and one that enables conditional choices."
   ]
  },
  {
   "cell_type": "markdown",
   "metadata": {},
   "source": [
    "## The `if` statement\n",
    "\n",
    "The **`if`** statement is responsible for branching in most programming languages. With the help of **`if`**, we can determine for our program which branch to follow if one or more conditions are fulfilled. Let us see an example:"
   ]
  },
  {
   "cell_type": "code",
   "execution_count": 1,
   "metadata": {},
   "outputs": [
    {
     "name": "stdout",
     "output_type": "stream",
     "text": [
      "Mathematics still works.\n"
     ]
    }
   ],
   "source": [
    "if 2+2==4:\n",
    "    print('Mathematics still works.')\n",
    "    \n",
    "\n"
   ]
  },
  {
   "cell_type": "markdown",
   "metadata": {},
   "source": [
    "<p style=\"color:darkred;\"> <b>Attention, we've indented the second line!</b> Indentation is Python's notation for grouping commands. </p> A common convention is to use four spaces as indentation for code that is at a lower syntactical level. It means that using two subsequent  **`if`** statements results in eight spaces as indentation for the code block under the second **`if`**. This indentation is automatically done in the code cells of a Jupyter Notebook. Pressing `Enter` after the `:` mark, the next line will be indented by 4 spaces, pressing further `Enter` keys keeps the level of this hierarchy. I we want to end the indented block, and go up one level, we have to delete the indentation. \n",
    "\n",
    "In the C, C++, Java languages, we use curly brackets for grouping code blocks. An example:\n",
    "```C\n",
    "if (i==10) {\n",
    "print i\n",
    "}\n",
    "```\n",
    "\n",
    "In Fortrain, the word *END* marks the end of a code block.\n",
    "\n",
    "If we copy code from another code editor, we have to pay attention, because it may use TABs instead of four spaces for indentation. TABs are sometimes allowed, but are to avoid. Modern [Python style guidelines](https://www.python.org/dev/peps/pep-0008/) suggest that every indentation should consist of 4 spaces."
   ]
  },
  {
   "cell_type": "code",
   "execution_count": 2,
   "metadata": {},
   "outputs": [
    {
     "name": "stdout",
     "output_type": "stream",
     "text": [
      "Let's do Python!\n"
     ]
    }
   ],
   "source": [
    "today='Monday';\n",
    "time='12:00';\n",
    "if today=='Monday':\n",
    "    if time=='12:00':\n",
    "        print('Let\\'s do Python!')"
   ]
  },
  {
   "cell_type": "markdown",
   "metadata": {},
   "source": [
    "We can tell the program what to do in case the condition is `False` with the  **`else`** and **`elif`** commands."
   ]
  },
  {
   "cell_type": "code",
   "execution_count": 3,
   "metadata": {},
   "outputs": [
    {
     "name": "stdout",
     "output_type": "stream",
     "text": [
      "One.\n"
     ]
    }
   ],
   "source": [
    "x = 1\n",
    "if x < 0:\n",
    "    x = 0\n",
    "    print('Negative, I\\'ve changed it to zero.')\n",
    "elif x == 0:\n",
    "    print('Zero.')\n",
    "elif x == 1:\n",
    "    print('One.')\n",
    "else:\n",
    "    print('More than one.')"
   ]
  },
  {
   "cell_type": "markdown",
   "metadata": {},
   "source": [
    "**`else`** and **`elif`** are optional. There may be only one **`else`** branch, and one or more **`elif`** branches. **`elif`** is an abbreviation for 'else if', and it is very useful for avoiding unnecessary indentation. An **`if`** ... **`elif`** ... **`elif`** block subtitutes the `switch` and `case` commands of other programming languages."
   ]
  },
  {
   "cell_type": "markdown",
   "metadata": {},
   "source": [
    "## The `for` and `while` loops"
   ]
  },
  {
   "cell_type": "markdown",
   "metadata": {},
   "source": [
    "One of the best properties of computers is that they are very fast and 'indefatigable'. They are most eective in solving tasks where the problem is relatively easy, but its execution needs numerous repetition or iteration. Iteration can be or example when our program goes through every element of a list, and performs operations on every element. This is what Python's **`for`** statement is used for."
   ]
  },
  {
   "cell_type": "code",
   "execution_count": 1,
   "metadata": {},
   "outputs": [],
   "source": [
    "days_of_the_week = [\"Sunday\",\"Monday\",\"Tuesday\",\"Wednesday\",\"Thursday\",\"Friday\",\"Saturday\"]"
   ]
  },
  {
   "cell_type": "code",
   "execution_count": 2,
   "metadata": {},
   "outputs": [
    {
     "name": "stdout",
     "output_type": "stream",
     "text": [
      "['Sunday', 'Monday', 'Tuesday', 'Wednesday', 'Thursday', 'Friday', 'Saturday']\n"
     ]
    }
   ],
   "source": [
    "print(days_of_the_week)"
   ]
  },
  {
   "cell_type": "code",
   "execution_count": 3,
   "metadata": {},
   "outputs": [
    {
     "name": "stdout",
     "output_type": "stream",
     "text": [
      "Sunday\n",
      "Monday\n",
      "Tuesday\n",
      "Wednesday\n",
      "Thursday\n",
      "Friday\n",
      "Saturday\n"
     ]
    }
   ],
   "source": [
    "for day in days_of_the_week:\n",
    "    print(day)"
   ]
  },
  {
   "cell_type": "markdown",
   "metadata": {},
   "source": [
    "This piece of code goes through every element of the `days_of_the_week` list, and assigns the visied elements to the `day` variable, that is also called the *loop variable*. After that, it executes every command that is in the indented codeblock, which for now is only the `print` statement. For these commands, it may use the loop variable. After the end of the indented block, it terminated the loop.\n",
    "\n",
    "Calling the *loop variable* `day` has no significance whatsoever. The program doesn't know anything about human time, or that in a week, there are days, not kitties:"
   ]
  },
  {
   "cell_type": "code",
   "execution_count": 6,
   "metadata": {},
   "outputs": [
    {
     "name": "stdout",
     "output_type": "stream",
     "text": [
      "Sunday\n",
      "Monday\n",
      "Tuesday\n",
      "Wednesday\n",
      "Thursday\n",
      "Friday\n",
      "Saturday\n"
     ]
    }
   ],
   "source": [
    "for kitty in days_of_the_week:\n",
    "    print(kitty)"
   ]
  },
  {
   "cell_type": "markdown",
   "metadata": {},
   "source": [
    "The codeblock of a loop may consist of more than one commands:"
   ]
  },
  {
   "cell_type": "code",
   "execution_count": 7,
   "metadata": {},
   "outputs": [
    {
     "name": "stdout",
     "output_type": "stream",
     "text": [
      "Today is Sunday\n",
      "Today is Monday\n",
      "Today is Tuesday\n",
      "Today is Wednesday\n",
      "Today is Thursday\n",
      "Today is Friday\n",
      "Today is Saturday\n"
     ]
    }
   ],
   "source": [
    "for day in days_of_the_week:\n",
    "    statement = \"Today is \" + day\n",
    "    print(statement)"
   ]
  },
  {
   "cell_type": "markdown",
   "metadata": {},
   "source": [
    "The **`range()`** command may be used if we want to execute a given number of operations in a **`for`** loop."
   ]
  },
  {
   "cell_type": "code",
   "execution_count": 8,
   "metadata": {},
   "outputs": [
    {
     "name": "stdout",
     "output_type": "stream",
     "text": [
      "0  times  0 equals to 0\n",
      "1  times  1 equals to 1\n",
      "2  times  2 equals to 4\n",
      "3  times  3 equals to 9\n",
      "4  times  4 equals to 16\n",
      "5  times  5 equals to 25\n",
      "6  times  6 equals to 36\n",
      "7  times  7 equals to 49\n",
      "8  times  8 equals to 64\n",
      "9  times  9 equals to 81\n",
      "10  times  10 equals to 100\n",
      "11  times  11 equals to 121\n",
      "12  times  12 equals to 144\n",
      "13  times  13 equals to 169\n",
      "14  times  14 equals to 196\n",
      "15  times  15 equals to 225\n",
      "16  times  16 equals to 256\n",
      "17  times  17 equals to 289\n",
      "18  times  18 equals to 324\n",
      "19  times  19 equals to 361\n"
     ]
    }
   ],
   "source": [
    "for i in range(20):\n",
    "    print(i,\" times \",i ,\"equals to\",i*i)"
   ]
  },
  {
   "cell_type": "markdown",
   "metadata": {},
   "source": [
    "Our programs are becoming more and more interesting, if we combine loops with conditional branches from above:"
   ]
  },
  {
   "cell_type": "code",
   "execution_count": 9,
   "metadata": {},
   "outputs": [
    {
     "name": "stdout",
     "output_type": "stream",
     "text": [
      "Today is Sunday\n",
      "   Sleep in\n",
      "Today is Monday\n",
      "   Go to work\n",
      "Today is Tuesday\n",
      "   Go to work\n",
      "Today is Wednesday\n",
      "   Go to work\n",
      "Today is Thursday\n",
      "   Go to work\n",
      "Today is Friday\n",
      "   Go to work\n",
      "Today is Saturday\n",
      "   Do chores\n"
     ]
    }
   ],
   "source": [
    "for day in days_of_the_week:\n",
    "    statement = \"Today is \" + day\n",
    "    print(statement)\n",
    "    if day == \"Sunday\":\n",
    "        print (\"   Sleep in\")\n",
    "    elif day == \"Saturday\":\n",
    "        print (\"   Do chores\")\n",
    "    else:\n",
    "        print (\"   Go to work\")"
   ]
  },
  {
   "cell_type": "markdown",
   "metadata": {},
   "source": [
    "Note how  **`for`** and **`if`** are embedded into each other!"
   ]
  },
  {
   "cell_type": "markdown",
   "metadata": {},
   "source": [
    "Similarly to the **`for`** statement, we can use the **`while`** statement for creating loops. Let us observe an example:"
   ]
  },
  {
   "cell_type": "code",
   "execution_count": 10,
   "metadata": {},
   "outputs": [
    {
     "name": "stdout",
     "output_type": "stream",
     "text": [
      "0\n",
      "1\n",
      "2\n",
      "3\n",
      "4\n",
      "5\n",
      "6\n",
      "7\n",
      "8\n",
      "9\n"
     ]
    }
   ],
   "source": [
    "i=0\n",
    "while i<10:\n",
    "    print(i)\n",
    "    i=i+1"
   ]
  },
  {
   "cell_type": "markdown",
   "metadata": {},
   "source": [
    "Attention! I we are not careful enough, our **`while`** loop might result in an infinite loop! For example, the cell below, if we do not interrupt it with the Interrupt command from the Kernel menu (or by pressing `I` two times outside o editing mode), never stops!\n",
    "\n",
    "```python\n",
    "while 1==1:\n",
    "    print('Allitsák meg a világot, ki akarok szállni!!')\n",
    "```"
   ]
  },
  {
   "cell_type": "markdown",
   "metadata": {},
   "source": [
    "If we complemet the **`while`** loop with an **`else`** branch, we can write a piece of code that executes if the condition of the **`while`** statement is no longer `True`."
   ]
  },
  {
   "cell_type": "code",
   "execution_count": 11,
   "metadata": {},
   "outputs": [
    {
     "name": "stdout",
     "output_type": "stream",
     "text": [
      "0\n",
      "1\n",
      "2\n",
      "3\n",
      "4\n",
      "5\n",
      "6\n",
      "7\n",
      "8\n",
      "9\n",
      "THE END\n"
     ]
    }
   ],
   "source": [
    "i=0\n",
    "while i<10:\n",
    "    print(i)\n",
    "    i+=1\n",
    "else:\n",
    "    print('THE END')"
   ]
  },
  {
   "cell_type": "markdown",
   "metadata": {},
   "source": [
    "Similarly to other languages, the **`break`** interrupts the deepest **`for`** or **`while`** loop."
   ]
  },
  {
   "cell_type": "code",
   "execution_count": 12,
   "metadata": {},
   "outputs": [
    {
     "name": "stdout",
     "output_type": "stream",
     "text": [
      "3 is a prime.\n",
      "4 is factorizable, e.g.: 2 * 2.0\n",
      "5 is a prime.\n",
      "5 is a prime.\n",
      "5 is a prime.\n",
      "6 is factorizable, e.g.: 2 * 3.0\n",
      "7 is a prime.\n",
      "7 is a prime.\n",
      "7 is a prime.\n",
      "7 is a prime.\n",
      "7 is a prime.\n",
      "8 is factorizable, e.g.: 2 * 4.0\n",
      "9 is a prime.\n",
      "9 is factorizable, e.g.: 3 * 3.0\n"
     ]
    }
   ],
   "source": [
    "for n in range(2, 10):\n",
    "    for x in range(2, n):\n",
    "        if n % x == 0:\n",
    "            print(n, 'is factorizable, e.g.:', x, '*', n/x)\n",
    "            break\n",
    "        else:\n",
    "            print(n, 'is a prime.')"
   ]
  },
  {
   "cell_type": "markdown",
   "metadata": {},
   "source": [
    "More on the **`break`** command and other control statements in [English](https://docs.python.org/3.6/tutorial/controlflow.html#break-and-continue-statements-and-else-clauses-on-loops)."
   ]
  },
  {
   "cell_type": "markdown",
   "metadata": {},
   "source": [
    "## An example: Fibonacci series\n",
    "\n",
    "The first two elements of the [Fibonacci](http://en.wikipedia.org/wiki/Fibonacci_number) series are 0 and 1, and each next element is the sum of the previous two elements: 0,1,1,2,3,5,8,13,21,34,55,89,...\n",
    "\n",
    "Computing further elements is a perfect task for a computer!"
   ]
  },
  {
   "cell_type": "code",
   "execution_count": 13,
   "metadata": {},
   "outputs": [
    {
     "name": "stdout",
     "output_type": "stream",
     "text": [
      "[0, 1, 1, 2, 3, 5, 8, 13, 21, 34]\n"
     ]
    }
   ],
   "source": [
    "n = 10 # number of elements we want to compute\n",
    "sequence = [0,1] # the first two elements\n",
    "for i in range(2,n): # numbers from 2 to n, n msut not be less than two!\n",
    "    sequence.append(sequence[i-1]+sequence[i-2])\n",
    "print (sequence)"
   ]
  },
  {
   "cell_type": "markdown",
   "metadata": {},
   "source": [
    "Let us go through the code step by step. First, we set the value of *n* to 10, which is the length of the sequence to compute. We call the list that is going to store the series **`sequence`**, and initialize it with the first two values. After this job done 'by hand', we automate the process by iteration.\n",
    "\n",
    "We begin the iteration with 2, which is the 3rd element due to the fact that indexing begins with 0. We are going to go until *n*, that has been previously given.\n",
    "\n",
    "In the body of the loop we [append](https://docs.python.org/2/tutorial/datastructures.html) the sum of the previous two elemets, that have already been calculated. After the end of the loop, we write the results.\n",
    "\n",
    "Let us see the same example with a **`while`** statement:"
   ]
  },
  {
   "cell_type": "code",
   "execution_count": 14,
   "metadata": {},
   "outputs": [
    {
     "name": "stdout",
     "output_type": "stream",
     "text": [
      "[0, 1, 1, 2, 3, 5, 8, 13, 21, 34]\n"
     ]
    }
   ],
   "source": [
    "sequence=[0,1]\n",
    "while len(sequence)<10:\n",
    "    sequence.append(sequence[-1]+sequence[-2])\n",
    "print (sequence)"
   ]
  },
  {
   "cell_type": "markdown",
   "metadata": {},
   "source": [
    "# Functions\n",
    "\n",
    "In many programming languages, it is common practice to group several commands into so-called functions. Well written functions make the usage of the programs easier, and the code will be much more readable.\n",
    "\n",
    "## Declaring functions\n",
    "\n",
    "If we want to create a Fibonacci series with different number of elemets than previously, we could copy our code into a new cell, and we could rewrite **`n=10`** to **`n=100`**, for example. But it is a much more effective method to define this piece of code as a new *function* with the **`def`** command:"
   ]
  },
  {
   "cell_type": "code",
   "execution_count": 6,
   "metadata": {},
   "outputs": [],
   "source": [
    "def fibonacci(sequence_length):\n",
    "    \"The first *sequence_length* elements of the Fibonacci sequence.\" # this is a 'help', the so-called docstring\n",
    "    sequence = [0,1]\n",
    "    if 0 < sequence_length < 3:\n",
    "        return sequence[:sequence_length]\n",
    "    for i in range(2,sequence_length): \n",
    "        sequence.append(sequence[i-1]+sequence[i-2])\n",
    "    return sequence"
   ]
  },
  {
   "cell_type": "markdown",
   "metadata": {},
   "source": [
    "Now we can *call* the function `fibonacci()` for different lengths."
   ]
  },
  {
   "cell_type": "code",
   "execution_count": 16,
   "metadata": {},
   "outputs": [
    {
     "data": {
      "text/plain": [
       "[0, 1, 1, 2, 3]"
      ]
     },
     "execution_count": 16,
     "metadata": {},
     "output_type": "execute_result"
    }
   ],
   "source": [
    "fibonacci(5)"
   ]
  },
  {
   "cell_type": "markdown",
   "metadata": {},
   "source": [
    "Let us analyze the above piece of code. The colon mark and the indentation define which commands belong to the function definition. In the second line, there is a string between quotation marks as a comment. This is the so-called docstring, that explains the function briefly, and can be later evoked by the **`help`** command."
   ]
  },
  {
   "cell_type": "code",
   "execution_count": 17,
   "metadata": {},
   "outputs": [
    {
     "name": "stdout",
     "output_type": "stream",
     "text": [
      "Help on function fibonacci in module __main__:\n",
      "\n",
      "fibonacci(sequence_length)\n",
      "    The first *sequence_length* elements of the Fibonacci sequence.\n",
      "\n"
     ]
    }
   ],
   "source": [
    "help(fibonacci)"
   ]
  },
  {
   "cell_type": "markdown",
   "metadata": {},
   "source": [
    "In Jupyter Notebooks, docstrings can be read by using a question mark:"
   ]
  },
  {
   "cell_type": "code",
   "execution_count": 18,
   "metadata": {},
   "outputs": [
    {
     "name": "stdout",
     "output_type": "stream",
     "text": [
      "\u001b[0;31mSignature:\u001b[0m \u001b[0mfibonacci\u001b[0m\u001b[0;34m(\u001b[0m\u001b[0msequence_length\u001b[0m\u001b[0;34m)\u001b[0m\u001b[0;34m\u001b[0m\u001b[0;34m\u001b[0m\u001b[0m\n",
      "\u001b[0;31mDocstring:\u001b[0m The first *sequence_length* elements of the Fibonacci sequence.\n",
      "\u001b[0;31mFile:\u001b[0m      /tmp/ipykernel_13293/1662137782.py\n",
      "\u001b[0;31mType:\u001b[0m      function"
     ]
    }
   ],
   "source": [
    "?fibonacci"
   ]
  },
  {
   "cell_type": "markdown",
   "metadata": {},
   "source": [
    "We can view docstrings in the Jupyter Notebook by pressing SHIFT+TAB while typing the parentheses of the function call. Try it in the next cell without running the code! If you press TAB several times while holding the SHIFT key, you can put the docstring out to the lower half of your browser."
   ]
  },
  {
   "cell_type": "code",
   "execution_count": 19,
   "metadata": {},
   "outputs": [
    {
     "ename": "TypeError",
     "evalue": "fibonacci() missing 1 required positional argument: 'sequence_length'",
     "output_type": "error",
     "traceback": [
      "\u001b[0;31m---------------------------------------------------------------------------\u001b[0m",
      "\u001b[0;31mTypeError\u001b[0m                                 Traceback (most recent call last)",
      "\u001b[1;32m/v/wfct0p/Euzert-DataScientist-01-202312/DS-01-Basics/03-Control_statements.ipynb Cell 43\u001b[0m line \u001b[0;36m1\n\u001b[0;32m----> <a href='vscode-notebook-cell://ssh-remote%2Bdd.teleport.vo.elte.hu/v/wfct0p/Euzert-DataScientist-01-202312/DS-01-Basics/03-Control_statements.ipynb#X61sdnNjb2RlLXJlbW90ZQ%3D%3D?line=0'>1</a>\u001b[0m fibonacci()\n",
      "\u001b[0;31mTypeError\u001b[0m: fibonacci() missing 1 required positional argument: 'sequence_length'"
     ]
    }
   ],
   "source": [
    "fibonacci()"
   ]
  },
  {
   "cell_type": "markdown",
   "metadata": {},
   "source": [
    "The output of a function is determined by the **`return`** keyword. If we don't use a **`return`** command, then our function returns with a **`None`** value. After running a function that has not executed a **`return`**, it also returns **`None`**. The function **`fibonacci()`** returns with a list."
   ]
  },
  {
   "cell_type": "code",
   "execution_count": 20,
   "metadata": {},
   "outputs": [
    {
     "data": {
      "text/plain": [
       "[0, 1, 1, 2, 3, 5, 8, 13, 21, 34]"
      ]
     },
     "execution_count": 20,
     "metadata": {},
     "output_type": "execute_result"
    }
   ],
   "source": [
    "x=fibonacci(10)\n",
    "x"
   ]
  },
  {
   "cell_type": "markdown",
   "metadata": {},
   "source": [
    "This function returns **`None`**."
   ]
  },
  {
   "cell_type": "code",
   "execution_count": 21,
   "metadata": {},
   "outputs": [],
   "source": [
    "def empty_function(x):\n",
    "    print('I am an empty function, though I print stuff!')\n",
    "    y=x-2;"
   ]
  },
  {
   "cell_type": "markdown",
   "metadata": {},
   "source": [
    "Therefore, there is no value in the variable **`z`**."
   ]
  },
  {
   "cell_type": "code",
   "execution_count": 22,
   "metadata": {},
   "outputs": [
    {
     "name": "stdout",
     "output_type": "stream",
     "text": [
      "I am an empty function, though I print stuff!\n"
     ]
    }
   ],
   "source": [
    "z=empty_function(3)\n",
    "z"
   ]
  },
  {
   "cell_type": "code",
   "execution_count": 23,
   "metadata": {},
   "outputs": [
    {
     "name": "stdout",
     "output_type": "stream",
     "text": [
      "None\n"
     ]
    }
   ],
   "source": [
    "print(z)"
   ]
  },
  {
   "cell_type": "markdown",
   "metadata": {},
   "source": [
    "A function might have more input values, so-called *arguments*."
   ]
  },
  {
   "cell_type": "code",
   "execution_count": 24,
   "metadata": {},
   "outputs": [],
   "source": [
    "def summing(a,b):\n",
    "    return a+b"
   ]
  },
  {
   "cell_type": "markdown",
   "metadata": {},
   "source": [
    "We can get more than one return values:"
   ]
  },
  {
   "cell_type": "code",
   "execution_count": 7,
   "metadata": {},
   "outputs": [],
   "source": [
    "def plusminus(a,b):\n",
    "    return a+b,a-b"
   ]
  },
  {
   "cell_type": "code",
   "execution_count": 8,
   "metadata": {},
   "outputs": [
    {
     "name": "stdout",
     "output_type": "stream",
     "text": [
      "5\n",
      "-1\n"
     ]
    }
   ],
   "source": [
    "p,m=plusminus(2,3)\n",
    "print (p)\n",
    "print (m)"
   ]
  },
  {
   "cell_type": "markdown",
   "metadata": {},
   "source": [
    "## Parameter list and unpacking\n",
    "\n",
    "A function may have several input values, and the input values of a function may be arranged into a list by another function. A typical example is a least squares fit, where we can pass function parameters by unpacking a list with an * mark in a very compact way, as we will see later. Let us see an example for fitting a fifth-order polynomial:\n",
    "\n",
    "$$f(x)=a_0+a_1x+a_2x^2+a_3x^3+a_4x^4+a_5x^5$$\n",
    "\n",
    "Let us define a function, that receives the variable x, and the six parameters $a_0,\\dots,a_5$ if the above polynomial:"
   ]
  },
  {
   "cell_type": "code",
   "execution_count": 15,
   "metadata": {},
   "outputs": [],
   "source": [
    "# this is the function to fit\n",
    "def poly5(x,a0,a1,a2,a3,a4,a5):\n",
    "    return a0+a1*x+a2*x**2+a3*x**3+a4*x**4+a5*x**5"
   ]
  },
  {
   "cell_type": "markdown",
   "metadata": {},
   "source": [
    "We have six parameters to fit, that are given by the fitting function as a list:"
   ]
  },
  {
   "cell_type": "code",
   "execution_count": 16,
   "metadata": {},
   "outputs": [],
   "source": [
    "# these are the fitted parameters\n",
    "# according to the following sequence\n",
    "# params=[a0,a1,a2,a3,a4,a5]\n",
    "params=[ 2.27171539, -1.1368942 ,  0.65380304, -0.25005187, -0.1751268 , -0.48828309];"
   ]
  },
  {
   "cell_type": "markdown",
   "metadata": {},
   "source": [
    "If we want to evaluate our polynomial at 0.3, we can do it in the following way:"
   ]
  },
  {
   "cell_type": "code",
   "execution_count": 29,
   "metadata": {},
   "outputs": [
    {
     "data": {
      "text/plain": [
       "1.9801329481213"
      ]
     },
     "execution_count": 29,
     "metadata": {},
     "output_type": "execute_result"
    }
   ],
   "source": [
    "poly5(0.3,params[0],params[1],params[2],params[3],params[4],params[5])"
   ]
  },
  {
   "cell_type": "markdown",
   "metadata": {},
   "source": [
    "or more compactly:"
   ]
  },
  {
   "cell_type": "code",
   "execution_count": 21,
   "metadata": {},
   "outputs": [
    {
     "ename": "TypeError",
     "evalue": "poly5() missing 5 required positional arguments: 'a1', 'a2', 'a3', 'a4', and 'a5'",
     "output_type": "error",
     "traceback": [
      "\u001b[0;31m---------------------------------------------------------------------------\u001b[0m",
      "\u001b[0;31mTypeError\u001b[0m                                 Traceback (most recent call last)",
      "\u001b[0;32m/tmp/ipykernel_20561/2473537225.py\u001b[0m in \u001b[0;36m<module>\u001b[0;34m\u001b[0m\n\u001b[0;32m----> 1\u001b[0;31m \u001b[0mpoly5\u001b[0m\u001b[0;34m(\u001b[0m\u001b[0;36m0.3\u001b[0m\u001b[0;34m,\u001b[0m \u001b[0;36m34\u001b[0m\u001b[0;34m)\u001b[0m\u001b[0;34m\u001b[0m\u001b[0;34m\u001b[0m\u001b[0m\n\u001b[0m",
      "\u001b[0;31mTypeError\u001b[0m: poly5() missing 5 required positional arguments: 'a1', 'a2', 'a3', 'a4', and 'a5'"
     ]
    }
   ],
   "source": [
    "poly5(0.3, 34)"
   ]
  },
  {
   "cell_type": "code",
   "execution_count": 30,
   "metadata": {},
   "outputs": [
    {
     "data": {
      "text/plain": [
       "1.9801329481213"
      ]
     },
     "execution_count": 30,
     "metadata": {},
     "output_type": "execute_result"
    }
   ],
   "source": [
    "poly5(0.3,*params)"
   ]
  },
  {
   "cell_type": "markdown",
   "metadata": {},
   "source": [
    "This construction makes it possible to prepare the function for receving a varying number of input values. If we put an * mark before a parameter in the function definition, that parameter can be of any length! Let's see an example:"
   ]
  },
  {
   "cell_type": "code",
   "execution_count": 31,
   "metadata": {},
   "outputs": [],
   "source": [
    "def i_give_what_i_receive(*argv):                                             # we prepare the function to receive  \n",
    "                                                                              # any number of parameters\n",
    "    print(\"I have \",len(argv),\"input arguments.\")\n",
    "    for arg in argv:\n",
    "        print (\"This is an argument:\", arg)\n",
    "    return argv[-1]                                                 # we refer to input arguments as the elements\n",
    "                                                                    # of a common list"
   ]
  },
  {
   "cell_type": "markdown",
   "metadata": {},
   "source": [
    "The function in the above code cell can receive any number of parameters. It prints the number of parameters, their values, and returns the last input parameter."
   ]
  },
  {
   "cell_type": "code",
   "execution_count": 32,
   "metadata": {},
   "outputs": [
    {
     "name": "stdout",
     "output_type": "stream",
     "text": [
      "I have  3 input arguments.\n",
      "This is an argument: Caspar\n",
      "This is an argument: Melchior\n",
      "This is an argument: Balthazar\n"
     ]
    },
    {
     "data": {
      "text/plain": [
       "'Balthazar'"
      ]
     },
     "execution_count": 32,
     "metadata": {},
     "output_type": "execute_result"
    }
   ],
   "source": [
    "i_give_what_i_receive('Caspar','Melchior','Balthazar')"
   ]
  },
  {
   "cell_type": "markdown",
   "metadata": {},
   "source": [
    "Of course, we can use the 'unpacking' of an arbitrary list as parameter:"
   ]
  },
  {
   "cell_type": "code",
   "execution_count": 33,
   "metadata": {},
   "outputs": [
    {
     "name": "stdout",
     "output_type": "stream",
     "text": [
      "I have  6 input arguments.\n",
      "This is an argument: 2.27171539\n",
      "This is an argument: -1.1368942\n",
      "This is an argument: 0.65380304\n",
      "This is an argument: -0.25005187\n",
      "This is an argument: -0.1751268\n",
      "This is an argument: -0.48828309\n"
     ]
    },
    {
     "data": {
      "text/plain": [
       "-0.48828309"
      ]
     },
     "execution_count": 33,
     "metadata": {},
     "output_type": "execute_result"
    }
   ],
   "source": [
    "i_give_what_i_receive(*params) # unpacking"
   ]
  },
  {
   "cell_type": "markdown",
   "metadata": {},
   "source": [
    "## Functions with keywords"
   ]
  },
  {
   "cell_type": "markdown",
   "metadata": {},
   "source": [
    "Apart from dicionaries being very useful data structures in themselves, we will see later, that it is common to use them as function parameters. These parameters are called *keyword arguments*. They can make the code much more readable to the human eye, and they give more flexibility while programming."
   ]
  },
  {
   "cell_type": "code",
   "execution_count": 22,
   "metadata": {},
   "outputs": [],
   "source": [
    "# setting default values\n",
    "def students(time, state='paying attention to the teacher', activity='experimenting', lesson='physics'):\n",
    "    print(\"These students are \"+state+\" while \"+activity+\" during a \"+lesson+\" lesson!\");\n",
    "    print(\"The current time is\",time,\"!\");"
   ]
  },
  {
   "cell_type": "markdown",
   "metadata": {},
   "source": [
    "It is compulsory to give the first parameter of the function. If we don't give any more, then it is going to use the default values for the keyword arguments."
   ]
  },
  {
   "cell_type": "code",
   "execution_count": 23,
   "metadata": {},
   "outputs": [
    {
     "name": "stdout",
     "output_type": "stream",
     "text": [
      "These students are paying attention to the teacher while experimenting during a physics lesson!\n",
      "The current time is 5PM !\n"
     ]
    }
   ],
   "source": [
    "students('5PM') "
   ]
  },
  {
   "cell_type": "markdown",
   "metadata": {},
   "source": [
    "If it receives one keyword argument, it uses only that one as different from the default values."
   ]
  },
  {
   "cell_type": "code",
   "execution_count": 24,
   "metadata": {},
   "outputs": [
    {
     "name": "stdout",
     "output_type": "stream",
     "text": [
      "These students are pulling faces while experimenting during a physics lesson!\n",
      "The current time is 8AM !\n"
     ]
    }
   ],
   "source": [
    "students('8AM',state='pulling faces')"
   ]
  },
  {
   "cell_type": "markdown",
   "metadata": {},
   "source": [
    "We don't have to pay attention to the order of the keyword arguments:"
   ]
  },
  {
   "cell_type": "code",
   "execution_count": 37,
   "metadata": {},
   "outputs": [
    {
     "name": "stdout",
     "output_type": "stream",
     "text": [
      "These students are panicking while writing an essay during a Latin lesson!\n",
      "The current time is 8AM !\n"
     ]
    }
   ],
   "source": [
    "students('8AM',lesson='Latin',state='panicking',activity='writing an essay')"
   ]
  },
  {
   "cell_type": "markdown",
   "metadata": {},
   "source": [
    "If we give a keyword that has not been declared in the function definition, we get an error."
   ]
  },
  {
   "cell_type": "code",
   "execution_count": 38,
   "metadata": {},
   "outputs": [
    {
     "ename": "TypeError",
     "evalue": "students() got an unexpected keyword argument 'teacher'",
     "output_type": "error",
     "traceback": [
      "\u001b[0;31m---------------------------------------------------------------------------\u001b[0m",
      "\u001b[0;31mTypeError\u001b[0m                                 Traceback (most recent call last)",
      "\u001b[1;32m/v/wfct0p/Euzert-DataScientist-01-202312/DS-01-Basics/03-Control_statements.ipynb Cell 80\u001b[0m line \u001b[0;36m1\n\u001b[0;32m----> <a href='vscode-notebook-cell://ssh-remote%2Bdd.teleport.vo.elte.hu/v/wfct0p/Euzert-DataScientist-01-202312/DS-01-Basics/03-Control_statements.ipynb#Y143sdnNjb2RlLXJlbW90ZQ%3D%3D?line=0'>1</a>\u001b[0m students(\u001b[39m'\u001b[39m\u001b[39m5PM\u001b[39m\u001b[39m'\u001b[39m,teacher\u001b[39m=\u001b[39m\u001b[39m'\u001b[39m\u001b[39mMiss Smith\u001b[39m\u001b[39m'\u001b[39m)\n",
      "\u001b[0;31mTypeError\u001b[0m: students() got an unexpected keyword argument 'teacher'"
     ]
    }
   ],
   "source": [
    "students('5PM',teacher='Miss Smith')"
   ]
  },
  {
   "cell_type": "markdown",
   "metadata": {},
   "source": [
    "Similarly, we get a problem if we use a keyword two times:"
   ]
  },
  {
   "cell_type": "code",
   "execution_count": 39,
   "metadata": {},
   "outputs": [
    {
     "ename": "SyntaxError",
     "evalue": "keyword argument repeated: lesson (37281992.py, line 1)",
     "output_type": "error",
     "traceback": [
      "\u001b[0;36m  Cell \u001b[0;32mIn[39], line 1\u001b[0;36m\u001b[0m\n\u001b[0;31m    students('8AM',lesson='Latin',lesson='chemistry')\u001b[0m\n\u001b[0m                                  ^\u001b[0m\n\u001b[0;31mSyntaxError\u001b[0m\u001b[0;31m:\u001b[0m keyword argument repeated: lesson\n"
     ]
    }
   ],
   "source": [
    "students('8AM',lesson='Latin',lesson='chemistry')"
   ]
  },
  {
   "cell_type": "markdown",
   "metadata": {},
   "source": [
    "We can unpack the dictionary of keyword arguments with a double **."
   ]
  },
  {
   "cell_type": "code",
   "execution_count": 40,
   "metadata": {},
   "outputs": [
    {
     "name": "stdout",
     "output_type": "stream",
     "text": [
      "These students are whining while experimenting during a music lesson!\n",
      "The current time is 12AM !\n"
     ]
    }
   ],
   "source": [
    "student_dict={'lesson':'music','state':'whining'};\n",
    "students('12AM',**student_dict)"
   ]
  },
  {
   "cell_type": "markdown",
   "metadata": {},
   "source": [
    "Just as in the case of simple arguments, it may happen that we would like to process a dictionary of arbitrary length. or example, if we define a function that calls several other functions, for which we would like to pass some of the incoming parameters.\n",
    "\n",
    "The function below expects an arbitrary dictionary as an input, inspects its length, and if there is a keyword argument 'hamburger', it returns its value."
   ]
  },
  {
   "cell_type": "code",
   "execution_count": 41,
   "metadata": {},
   "outputs": [],
   "source": [
    "def check_hamburger(**dictionary):\n",
    "    print('The length of the dictionary:',len(dictionary))\n",
    "    if 'hamburger' in dictionary:\n",
    "        print('There is hamburger!')\n",
    "        return dictionary['hamburger']"
   ]
  },
  {
   "cell_type": "code",
   "execution_count": 42,
   "metadata": {},
   "outputs": [
    {
     "name": "stdout",
     "output_type": "stream",
     "text": [
      "The length of the dictionary: 2\n"
     ]
    }
   ],
   "source": [
    "check_hamburger(macaroni=1,cake='delicious') # we can give whatever keywords, even if not predefined!"
   ]
  },
  {
   "cell_type": "code",
   "execution_count": 43,
   "metadata": {},
   "outputs": [
    {
     "name": "stdout",
     "output_type": "stream",
     "text": [
      "The length of the dictionary: 4\n",
      "There is hamburger!\n"
     ]
    },
    {
     "data": {
      "text/plain": [
       "137"
      ]
     },
     "execution_count": 43,
     "metadata": {},
     "output_type": "execute_result"
    }
   ],
   "source": [
    "eat={'macaroni':1,'cake':'finom','hamburger':137,'salad':None}\n",
    "check_hamburger(**eat) "
   ]
  },
  {
   "cell_type": "markdown",
   "metadata": {},
   "source": [
    "## Custom practices for function definition\n",
    "\n",
    "We can give parameters to functions in many ways:\n",
    "\n",
    "1. variables (simple, lists, keyword arguments etc.)\n",
    "2. list of varying length with *\n",
    "3. dict of varying length with **\n",
    "\n",
    "We may use all types in one single function definition. Use the following order:"
   ]
  },
  {
   "cell_type": "code",
   "execution_count": 44,
   "metadata": {},
   "outputs": [],
   "source": [
    "def difficult_function(var1,var2,var3='ELZETT',*args,**kwargs):\n",
    "    if ((len(args)==0 and len(kwargs)==0)):\n",
    "        return var3+str(var2)+str(var1)\n",
    "    elif (len(args)!=0 and len(kwargs)==0):\n",
    "        return 'There is something in args!'\n",
    "    elif (len(args)==0 and len(kwargs)!=0):\n",
    "        return 'There is something in kwargs!'\n",
    "    else:\n",
    "        return 'We have all possible kinds of arguments: '+str(var1)+str(var2)+var3+str(args)+str(kwargs)"
   ]
  },
  {
   "cell_type": "markdown",
   "metadata": {},
   "source": [
    "The first two arguments of the above function are 'simple' arguments, the third is a keyword argument with a default value of 'ELZETT', and then we can have an arbitrary number of 'simple' arguments (`args`) and keyword arguments (`kwargs`). Let us observe some simple behaviours of this function:"
   ]
  },
  {
   "cell_type": "code",
   "execution_count": 45,
   "metadata": {},
   "outputs": [
    {
     "data": {
      "text/plain": [
       "'ELZETT21'"
      ]
     },
     "execution_count": 45,
     "metadata": {},
     "output_type": "execute_result"
    }
   ],
   "source": [
    "difficult_function(1,2)"
   ]
  },
  {
   "cell_type": "code",
   "execution_count": 46,
   "metadata": {},
   "outputs": [
    {
     "data": {
      "text/plain": [
       "'MULTLOCK21'"
      ]
     },
     "execution_count": 46,
     "metadata": {},
     "output_type": "execute_result"
    }
   ],
   "source": [
    "difficult_function(1,2,var3='MULTLOCK')"
   ]
  },
  {
   "cell_type": "code",
   "execution_count": 47,
   "metadata": {},
   "outputs": [
    {
     "data": {
      "text/plain": [
       "'There is something in args!'"
      ]
     },
     "execution_count": 47,
     "metadata": {},
     "output_type": "execute_result"
    }
   ],
   "source": [
    "difficult_function(1,2,*days_of_the_week)"
   ]
  },
  {
   "cell_type": "code",
   "execution_count": 48,
   "metadata": {},
   "outputs": [
    {
     "data": {
      "text/plain": [
       "'There is something in kwargs!'"
      ]
     },
     "execution_count": 48,
     "metadata": {},
     "output_type": "execute_result"
    }
   ],
   "source": [
    "difficult_function(1,2,**eat)"
   ]
  },
  {
   "cell_type": "code",
   "execution_count": 49,
   "metadata": {},
   "outputs": [
    {
     "data": {
      "text/plain": [
       "\"We have all possible kinds of arguments: 12Sunday('Monday', 'Tuesday', 'Wednesday', 'Thursday', 'Friday', 'Saturday'){'macaroni': 1, 'cake': 'finom', 'hamburger': 137, 'salad': None}\""
      ]
     },
     "execution_count": 49,
     "metadata": {},
     "output_type": "execute_result"
    }
   ],
   "source": [
    "difficult_function(1,2,*days_of_the_week,**eat)"
   ]
  },
  {
   "cell_type": "markdown",
   "metadata": {},
   "source": [
    "## The [lambda](http://www.secnetix.de/olli/Python/lambda_functions.hawk) functions\n",
    "\n",
    "We can give not only variables, but other funtions as inputs for functions. For example, we may think of a function, that plots mathematical functions. In this case, when a function expects a function as an input, it is possible, that it would be a tedious task to define all possible input functions. Then, it is much more compact to use `lambda` functions.\n",
    "\n",
    "Let us see an example. Let us define a function that evaluated another function at a given place, outputs that place and returns the value at that place."
   ]
  },
  {
   "cell_type": "code",
   "execution_count": 50,
   "metadata": {},
   "outputs": [],
   "source": [
    "def funfun(g,x):\n",
    "    print('This is the place: ',x)\n",
    "    return g(x)"
   ]
  },
  {
   "cell_type": "code",
   "execution_count": 51,
   "metadata": {},
   "outputs": [
    {
     "name": "stdout",
     "output_type": "stream",
     "text": [
      "This is the place:  0.1\n"
     ]
    },
    {
     "data": {
      "text/plain": [
       "-9.99"
      ]
     },
     "execution_count": 51,
     "metadata": {},
     "output_type": "execute_result"
    }
   ],
   "source": [
    "def fx(x):\n",
    "    return x**2-1/x;\n",
    "funfun(fx,0.1)"
   ]
  },
  {
   "cell_type": "markdown",
   "metadata": {},
   "source": [
    "Then, we can omit the definition of `fx` by using the following abbreviation:"
   ]
  },
  {
   "cell_type": "code",
   "execution_count": null,
   "metadata": {},
   "outputs": [],
   "source": [
    "map([321,312,54],lambda x:x**2-1/x)"
   ]
  },
  {
   "cell_type": "code",
   "execution_count": 52,
   "metadata": {},
   "outputs": [
    {
     "name": "stdout",
     "output_type": "stream",
     "text": [
      "This is the place:  0.1\n"
     ]
    },
    {
     "data": {
      "text/plain": [
       "-9.99"
      ]
     },
     "execution_count": 52,
     "metadata": {},
     "output_type": "execute_result"
    }
   ],
   "source": [
    "funfun(lambda x:x**2-1/x,0.1)"
   ]
  },
  {
   "cell_type": "markdown",
   "metadata": {},
   "source": [
    "In the above expression, this piece of code\n",
    ">```Python\n",
    "lambda x:x**2-1/x\n",
    "```\n",
    "\n",
    "defines an anonymous function, that assigns $x^2-1/x$ to the variable $x$."
   ]
  },
  {
   "cell_type": "markdown",
   "metadata": {},
   "source": [
    "We can also use multi-variable functions in `lambda` functions:\n",
    "\n",
    "This expression\n",
    ">```python\n",
    "lambda x,y:x**2-1/y\n",
    "```\n",
    "\n",
    "is equivalent to the following function:\n",
    "\n",
    ">```python\n",
    "def fxy(x,y):\n",
    "    return x**2-1/y\n",
    "```"
   ]
  },
  {
   "cell_type": "markdown",
   "metadata": {},
   "source": [
    "## Type hinting"
   ]
  },
  {
   "cell_type": "code",
   "execution_count": 26,
   "metadata": {},
   "outputs": [],
   "source": [
    "def newsynt(valt1: int = 0, valt2: float =1.2):\n",
    "    print('This is the place: ',valt1)\n",
    "    return valt1+valt2"
   ]
  },
  {
   "cell_type": "code",
   "execution_count": 66,
   "metadata": {},
   "outputs": [
    {
     "name": "stdout",
     "output_type": "stream",
     "text": [
      "This is the place:  s\n"
     ]
    },
    {
     "ename": "TypeError",
     "evalue": "can only concatenate str (not \"float\") to str",
     "output_type": "error",
     "traceback": [
      "\u001b[0;31m---------------------------------------------------------------------------\u001b[0m",
      "\u001b[0;31mTypeError\u001b[0m                                 Traceback (most recent call last)",
      "\u001b[1;32m/v/wfct0p/Euzert-DataScientist-01-202312/DS-01-Basics/03-Control_statements.ipynb Cell 105\u001b[0m line \u001b[0;36m1\n\u001b[0;32m----> <a href='vscode-notebook-cell://ssh-remote%2Bdd.teleport.vo.elte.hu/v/wfct0p/Euzert-DataScientist-01-202312/DS-01-Basics/03-Control_statements.ipynb#Y214sdnNjb2RlLXJlbW90ZQ%3D%3D?line=0'>1</a>\u001b[0m newsynt(valt1\u001b[39m=\u001b[39m\u001b[39m\"\u001b[39m\u001b[39ms\u001b[39m\u001b[39m\"\u001b[39m)\n",
      "\u001b[1;32m/v/wfct0p/Euzert-DataScientist-01-202312/DS-01-Basics/03-Control_statements.ipynb Cell 105\u001b[0m line \u001b[0;36m3\n\u001b[1;32m      <a href='vscode-notebook-cell://ssh-remote%2Bdd.teleport.vo.elte.hu/v/wfct0p/Euzert-DataScientist-01-202312/DS-01-Basics/03-Control_statements.ipynb#Y214sdnNjb2RlLXJlbW90ZQ%3D%3D?line=0'>1</a>\u001b[0m \u001b[39mdef\u001b[39;00m \u001b[39mnewsynt\u001b[39m(valt1: \u001b[39mint\u001b[39m \u001b[39m=\u001b[39m \u001b[39m0\u001b[39m, valt2: \u001b[39mfloat\u001b[39m \u001b[39m=\u001b[39m\u001b[39m1.2\u001b[39m):\n\u001b[1;32m      <a href='vscode-notebook-cell://ssh-remote%2Bdd.teleport.vo.elte.hu/v/wfct0p/Euzert-DataScientist-01-202312/DS-01-Basics/03-Control_statements.ipynb#Y214sdnNjb2RlLXJlbW90ZQ%3D%3D?line=1'>2</a>\u001b[0m     \u001b[39mprint\u001b[39m(\u001b[39m'\u001b[39m\u001b[39mThis is the place: \u001b[39m\u001b[39m'\u001b[39m,valt1)\n\u001b[0;32m----> <a href='vscode-notebook-cell://ssh-remote%2Bdd.teleport.vo.elte.hu/v/wfct0p/Euzert-DataScientist-01-202312/DS-01-Basics/03-Control_statements.ipynb#Y214sdnNjb2RlLXJlbW90ZQ%3D%3D?line=2'>3</a>\u001b[0m     \u001b[39mreturn\u001b[39;00m valt1\u001b[39m+\u001b[39mvalt2\n",
      "\u001b[0;31mTypeError\u001b[0m: can only concatenate str (not \"float\") to str"
     ]
    }
   ],
   "source": [
    "newsynt(valt1=\"s\")"
   ]
  }
 ],
 "metadata": {
  "anaconda-cloud": {},
  "hide_input": false,
  "kernelspec": {
   "display_name": "Python 3 (ipykernel)",
   "language": "python",
   "name": "python3"
  },
  "language_info": {
   "codemirror_mode": {
    "name": "ipython",
    "version": 3
   },
   "file_extension": ".py",
   "mimetype": "text/x-python",
   "name": "python",
   "nbconvert_exporter": "python",
   "pygments_lexer": "ipython3",
   "version": "3.9.13"
  },
  "latex_envs": {
   "bibliofile": "biblio.bib",
   "cite_by": "apalike",
   "current_citInitial": 1,
   "eqLabelWithNumbers": true,
   "eqNumInitial": 0
  },
  "name": "python-bevezeto.ipynb",
  "toc": {
   "toc_cell": false,
   "toc_number_sections": true,
   "toc_threshold": 6,
   "toc_window_display": false
  }
 },
 "nbformat": 4,
 "nbformat_minor": 1
}
