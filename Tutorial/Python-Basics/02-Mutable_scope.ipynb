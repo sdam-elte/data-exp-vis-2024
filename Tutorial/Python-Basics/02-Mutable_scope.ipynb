{
 "cells": [
  {
   "cell_type": "markdown",
   "metadata": {},
   "source": [
    "## References\n"
   ]
  },
  {
   "cell_type": "markdown",
   "metadata": {},
   "source": [
    "### Giving value to variables\n",
    "\n",
    "What happens when we type the following expression?\n",
    "\n",
    "**`a = 1`**\n",
    "\n",
    "- **`a`** : name \n",
    "- the content of **`a`** reference to an object\n",
    "- 1: the object itself that we reference"
   ]
  },
  {
   "cell_type": "code",
   "execution_count": 24,
   "metadata": {},
   "outputs": [],
   "source": [
    "a = 1"
   ]
  },
  {
   "cell_type": "markdown",
   "metadata": {},
   "source": [
    "With the function `id()` we can get the so-called indentity (a unique integer identifier) of our object."
   ]
  },
  {
   "cell_type": "code",
   "execution_count": 25,
   "metadata": {},
   "outputs": [
    {
     "data": {
      "text/plain": [
       "140153041832240"
      ]
     },
     "execution_count": 25,
     "metadata": {},
     "output_type": "execute_result"
    }
   ],
   "source": [
    "id(a)"
   ]
  },
  {
   "cell_type": "code",
   "execution_count": 26,
   "metadata": {},
   "outputs": [
    {
     "data": {
      "text/plain": [
       "140153041832240"
      ]
     },
     "execution_count": 26,
     "metadata": {},
     "output_type": "execute_result"
    }
   ],
   "source": [
    "id(1)"
   ]
  },
  {
   "cell_type": "markdown",
   "metadata": {},
   "source": [
    "If we create more of more complex variables, then they are going to reference different objects."
   ]
  },
  {
   "cell_type": "code",
   "execution_count": 27,
   "metadata": {},
   "outputs": [
    {
     "data": {
      "text/plain": [
       "(140152481142400, 140152976828480)"
      ]
     },
     "execution_count": 27,
     "metadata": {},
     "output_type": "execute_result"
    }
   ],
   "source": [
    "a=[0,1]\n",
    "b=[0,1]\n",
    "id(a),id(b)"
   ]
  },
  {
   "cell_type": "markdown",
   "metadata": {},
   "source": [
    "A more compact notation."
   ]
  },
  {
   "cell_type": "code",
   "execution_count": 5,
   "metadata": {},
   "outputs": [
    {
     "data": {
      "text/plain": [
       "(140697450735040, 140697450845888)"
      ]
     },
     "execution_count": 5,
     "metadata": {},
     "output_type": "execute_result"
    }
   ],
   "source": [
    "a,b=[0,1],[0,1]\n",
    "id(a),id(b)"
   ]
  },
  {
   "cell_type": "markdown",
   "metadata": {},
   "source": [
    "The identities are mostly used for testing (with the help of the `is` function) whether the identities of two objects is the same, or whether two objects are the same."
   ]
  },
  {
   "cell_type": "code",
   "execution_count": 28,
   "metadata": {},
   "outputs": [
    {
     "data": {
      "text/plain": [
       "True"
      ]
     },
     "execution_count": 28,
     "metadata": {},
     "output_type": "execute_result"
    }
   ],
   "source": [
    "a is a"
   ]
  },
  {
   "cell_type": "code",
   "execution_count": 29,
   "metadata": {},
   "outputs": [
    {
     "data": {
      "text/plain": [
       "False"
      ]
     },
     "execution_count": 29,
     "metadata": {},
     "output_type": "execute_result"
    }
   ],
   "source": [
    "a is b"
   ]
  },
  {
   "cell_type": "code",
   "execution_count": 30,
   "metadata": {},
   "outputs": [
    {
     "data": {
      "text/plain": [
       "False"
      ]
     },
     "execution_count": 30,
     "metadata": {},
     "output_type": "execute_result"
    }
   ],
   "source": [
    "a is [0,1]"
   ]
  },
  {
   "cell_type": "markdown",
   "metadata": {},
   "source": [
    "If we do not 'save' an object that we've just created, Python reuses its identity."
   ]
  },
  {
   "cell_type": "code",
   "execution_count": 9,
   "metadata": {},
   "outputs": [
    {
     "data": {
      "text/plain": [
       "(140697450915776, 140697450915776)"
      ]
     },
     "execution_count": 9,
     "metadata": {},
     "output_type": "execute_result"
    }
   ],
   "source": [
    "id([0,1]),id([0,1])"
   ]
  },
  {
   "cell_type": "markdown",
   "metadata": {},
   "source": [
    "In the case of integers or small strings, we do not necessarily get a new object, if we give value to a variable."
   ]
  },
  {
   "cell_type": "code",
   "execution_count": 33,
   "metadata": {},
   "outputs": [
    {
     "data": {
      "text/plain": [
       "(140153041832240, 140153041832240)"
      ]
     },
     "execution_count": 33,
     "metadata": {},
     "output_type": "execute_result"
    }
   ],
   "source": [
    "a=1\n",
    "b=1\n",
    "id(a),id(b)"
   ]
  },
  {
   "cell_type": "code",
   "execution_count": 34,
   "metadata": {},
   "outputs": [
    {
     "data": {
      "text/plain": [
       "(140153040957360, 140153040957360)"
      ]
     },
     "execution_count": 34,
     "metadata": {},
     "output_type": "execute_result"
    }
   ],
   "source": [
    "a='a'\n",
    "b='a'\n",
    "id(a),id(b)"
   ]
  },
  {
   "cell_type": "markdown",
   "metadata": {},
   "source": [
    "For a big enough number or string, the identifiers already differ."
   ]
  },
  {
   "cell_type": "code",
   "execution_count": 35,
   "metadata": {},
   "outputs": [
    {
     "data": {
      "text/plain": [
       "(140152481173808, 140152481174096)"
      ]
     },
     "execution_count": 35,
     "metadata": {},
     "output_type": "execute_result"
    }
   ],
   "source": [
    "a=1000\n",
    "b=1000\n",
    "id(a),id(b)"
   ]
  },
  {
   "cell_type": "code",
   "execution_count": 36,
   "metadata": {},
   "outputs": [
    {
     "data": {
      "text/plain": [
       "(140152481295136, 140152481295136)"
      ]
     },
     "execution_count": 36,
     "metadata": {},
     "output_type": "execute_result"
    }
   ],
   "source": [
    "a='gfuybgnwfewfcewmgcyuwgrc'\n",
    "b='gfuybgnwfewfcewmgcyuwgrc'\n",
    "id(a),id(b)"
   ]
  },
  {
   "cell_type": "markdown",
   "metadata": {},
   "source": [
    "(But in a one-liner, we again get the same number.)"
   ]
  },
  {
   "cell_type": "code",
   "execution_count": 14,
   "metadata": {},
   "outputs": [
    {
     "data": {
      "text/plain": [
       "(140697297568912, 140697297568912)"
      ]
     },
     "execution_count": 14,
     "metadata": {},
     "output_type": "execute_result"
    }
   ],
   "source": [
    "a,b=1000,1000\n",
    "id(a),id(b)"
   ]
  },
  {
   "cell_type": "code",
   "execution_count": 15,
   "metadata": {},
   "outputs": [
    {
     "data": {
      "text/plain": [
       "(140697450717120, 140697450717120)"
      ]
     },
     "execution_count": 15,
     "metadata": {},
     "output_type": "execute_result"
    }
   ],
   "source": [
    "a,b='gfuybgnwfewfcewmgcyuwgrc','gfuybgnwfewfcewmgcyuwgrc'\n",
    "id(a),id(b)"
   ]
  },
  {
   "cell_type": "markdown",
   "metadata": {},
   "source": [
    "#### Take-away message: only use `is` command for complex data types (list, tuple, array ...)! It is not trivial what happens in the case of integers or strings.\n",
    "\n",
    "----"
   ]
  },
  {
   "cell_type": "markdown",
   "metadata": {},
   "source": [
    "## Creating new reference\n",
    "\n",
    "What happens, if I give a variable as a value to my new variable?\n",
    "\n",
    "The function `sys.getrefcount()` tells us how many references are there for an object. (We have to be careful, because it always gives one more reference count, because our object will be reference on the call of `getrefcount()` as well.)\n",
    "\n",
    "In the next example we use a `tuple`, because small `int`s are referenced too many times, and the example would not work with them."
   ]
  },
  {
   "cell_type": "code",
   "execution_count": 16,
   "metadata": {},
   "outputs": [
    {
     "name": "stdout",
     "output_type": "stream",
     "text": [
      "'a' refers to the following object:  140697450873952\n",
      "2\n",
      "'b' refers to the following object:  140697450873952\n",
      "3\n",
      "'b' now refers to another object!  140697450873760\n",
      "2\n"
     ]
    }
   ],
   "source": [
    "import sys\n",
    "\n",
    "a=(1,)   # creating the new object (1,)\n",
    "        # we write the reference pointint to (1,) into 'a'\n",
    "print(\"'a' refers to the following object: \", id(a))\n",
    "print(sys.getrefcount(a))  # it counts two references altogether\n",
    "\n",
    "b=a # a new reference is written to 'b' from 'a'\n",
    "print(\"'b' refers to the following object: \", id(b))\n",
    "print(sys.getrefcount(a))  # now 'b' is also pointing to the original (1,), we get three references\n",
    "\n",
    "b=(1,) # creating a new object (1,)\n",
    "      # we write the reference pointint to (1,) into 'b'\n",
    "print(\"'b' now refers to another object! \", id(b))\n",
    "print(sys.getrefcount(a))  # it counts two references, because 'b' is now pointing to another (1,) object"
   ]
  },
  {
   "cell_type": "markdown",
   "metadata": {},
   "source": [
    "## Mutability\n",
    "\n",
    "### Immutable objects: int, float, string, tuple\n",
    "\n",
    "When we give a new value to a variable referring to an immutable object (e.g. we increment an integer by one, then we do not modify the object itself, but we assign a new reference to our variable, that is now going to point to another object.\n",
    "\n",
    "Let us observe in the next example, how the return value of the function `id()` changes because an `int` object is immutable."
   ]
  },
  {
   "cell_type": "code",
   "execution_count": 17,
   "metadata": {},
   "outputs": [
    {
     "name": "stdout",
     "output_type": "stream",
     "text": [
      "8885320\n",
      "8885352\n",
      "2\n"
     ]
    }
   ],
   "source": [
    "a=1 # we write the reference pointing to '1' to 'a'\n",
    "print(id(a)) \n",
    "a+=1 # we write the reference pointing to '2' to 'a'\n",
    "print(id(a)) # 'a' is now pointing to another object\n",
    "print(a)"
   ]
  },
  {
   "cell_type": "markdown",
   "metadata": {},
   "source": [
    "### Mutable objects: list, array etc.\n",
    "\n",
    "When we give a new value to a variable pointing to a mutable object, then we modify the object itself, and the reference is going to remain intact.\n",
    "\n",
    "Let us observe, how changing the variable the funciton `id()` returns the same identifier."
   ]
  },
  {
   "cell_type": "code",
   "execution_count": 18,
   "metadata": {},
   "outputs": [
    {
     "name": "stdout",
     "output_type": "stream",
     "text": [
      "140697450648256\n",
      "140697450648256\n",
      "[1, 1]\n"
     ]
    }
   ],
   "source": [
    "a=[1] # a ba beleirjuk az [1] re mutato referenciat\n",
    "print(id(a)) \n",
    "a+=[1]\n",
    "print(id(a)) #ugyanarra az objektumra mutat\n",
    "print(a) # de az objektum megvaltozott"
   ]
  },
  {
   "cell_type": "markdown",
   "metadata": {},
   "source": [
    "### Consequences\n",
    "\n",
    "In the case of immutable objects, if two variables point to the same object, if we modify one variable, the other will not be affected.\n",
    "\n",
    "Of course, this is what we expect. Two different variables may take the same value independently of each other, it should not have an effect on their later behaviour.\n",
    "\n",
    "We can check whether two variables are pointing to the same object with the operator `is`."
   ]
  },
  {
   "cell_type": "code",
   "execution_count": 19,
   "metadata": {},
   "outputs": [
    {
     "name": "stdout",
     "output_type": "stream",
     "text": [
      "True\n",
      "False\n",
      "1 3\n"
     ]
    }
   ],
   "source": [
    "# with an integer\n",
    "a=1 # 'a' is referring to '1'\n",
    "b=a # 'b' is also referring to '1', but this is a new reference\n",
    "print(a is b) # the two variables are pointing to the same object\n",
    "\n",
    "b+=2 # 'b' is now referring to '3'\n",
    "print(a is b) # the two variables are not pointing to the same object\n",
    "print(a,b) # 'a' does not change ('a' was immutable)"
   ]
  },
  {
   "cell_type": "code",
   "execution_count": 20,
   "metadata": {},
   "outputs": [
    {
     "name": "stdout",
     "output_type": "stream",
     "text": [
      "True\n",
      "False\n",
      "a ab\n"
     ]
    }
   ],
   "source": [
    "# with string\n",
    "a='a'\n",
    "b=a\n",
    "print(a is b)\n",
    "\n",
    "b+='b'\n",
    "print(a is b)\n",
    "print(a,b)"
   ]
  },
  {
   "cell_type": "code",
   "execution_count": 21,
   "metadata": {},
   "outputs": [
    {
     "name": "stdout",
     "output_type": "stream",
     "text": [
      "True\n",
      "False\n",
      "(1, 2) (1, 2, 2, 3)\n"
     ]
    }
   ],
   "source": [
    "# with tuple\n",
    "a=(1,2)\n",
    "b=a\n",
    "print(a is b)\n",
    "\n",
    "b+=(2,3)\n",
    "print(a is b)\n",
    "print(a,b)"
   ]
  },
  {
   "cell_type": "markdown",
   "metadata": {},
   "source": [
    "In the case of mutable objects, if two variables are pointing to the same object, then if we modify one variable, the object itself changes. Thus, the value of the other variable is also going to change!"
   ]
  },
  {
   "cell_type": "markdown",
   "metadata": {},
   "source": [
    "Therefore, it is not a good idea to refer to a mutable variable by several different names. Though it is going to happen in `for` cycles and functions, thus, it is essential that we understand what happens."
   ]
  },
  {
   "cell_type": "code",
   "execution_count": 22,
   "metadata": {},
   "outputs": [
    {
     "name": "stdout",
     "output_type": "stream",
     "text": [
      "True\n",
      "True\n",
      "[1, 2, 2, 3] [1, 2, 2, 3]\n"
     ]
    }
   ],
   "source": [
    "# with a list\n",
    "a=[1,2] # 'a' is referring to [1,2]\n",
    "b=a # 'b' is also referring to [1,2]\n",
    "print(a is b) # the two variables are referring to the same object\n",
    "\n",
    "b+=[2,3] # changing the object\n",
    "print(a is b) # the two variables are still referring to the same object\n",
    "print(a,b) # the object has changes, but the references did not, so 'a' has also changed!"
   ]
  },
  {
   "cell_type": "code",
   "execution_count": 24,
   "metadata": {},
   "outputs": [],
   "source": [
    "from numpy import array"
   ]
  },
  {
   "cell_type": "code",
   "execution_count": 25,
   "metadata": {},
   "outputs": [
    {
     "name": "stdout",
     "output_type": "stream",
     "text": [
      "True\n",
      "True\n",
      "[3 5] [3 5]\n"
     ]
    }
   ],
   "source": [
    "# with an array\n",
    "a=array([1,2])\n",
    "b=a\n",
    "print(a is b)\n",
    "\n",
    "b+=array([2,3])\n",
    "print(a is b)\n",
    "print(a,b)"
   ]
  },
  {
   "cell_type": "markdown",
   "metadata": {},
   "source": [
    "What happens, if I give `b` a new value instead of the modification?"
   ]
  },
  {
   "cell_type": "code",
   "execution_count": 26,
   "metadata": {},
   "outputs": [
    {
     "name": "stdout",
     "output_type": "stream",
     "text": [
      "True\n",
      "False\n",
      "[1, 2] [2, 3]\n"
     ]
    }
   ],
   "source": [
    "a=[1,2]\n",
    "b=a\n",
    "print (a is b)\n",
    "\n",
    "b=[2,3]\n",
    "print (a is b)\n",
    "print(a,b)"
   ]
  },
  {
   "cell_type": "markdown",
   "metadata": {},
   "source": [
    "Now, `b` refers to a new object, therefore, the value in `a` does not change."
   ]
  },
  {
   "cell_type": "markdown",
   "metadata": {},
   "source": [
    "### For loop\n",
    "\n",
    "When executing a loop, we get a new reference to our objects in each round!"
   ]
  },
  {
   "cell_type": "code",
   "execution_count": 27,
   "metadata": {},
   "outputs": [
    {
     "name": "stdout",
     "output_type": "stream",
     "text": [
      "2, 2\n",
      "4, 4\n",
      "5, 4\n",
      "5, 4\n",
      "4, 5\n",
      "4, 5\n"
     ]
    }
   ],
   "source": [
    "a=[1,2]\n",
    "b=[1,2]\n",
    "print(sys.getrefcount(a),end=', ') # 2, as already seen before\n",
    "print(sys.getrefcount(b)) # 2, as already seen before\n",
    "\n",
    "c=[a,a,b,b]\n",
    "print(sys.getrefcount(a),end=', ') # 4, because the elemets of 'c' also refer to 'a' and 'b'\n",
    "print(sys.getrefcount(b)) # 4, because the elemets of 'c' also refer to 'a' and 'b'\n",
    "\n",
    "for elem in c:\n",
    "    print(sys.getrefcount(a),end=', ') # for the current element 4+1, for the other 4\n",
    "    print(sys.getrefcount(b)) # for the current element 4+1, for the other 4"
   ]
  },
  {
   "cell_type": "markdown",
   "metadata": {},
   "source": [
    "#### Conequence for mutable objects\n",
    "\n",
    "If we have a list of mutable objects consisting of immutable objects (e.g. ints, floats), then whatever we do with the loop variable, it won't affect the list we're iterating on.\n",
    "\n",
    "It is because the loop variable is a new variable that contains a new reference to the same object as the original variable. In the case of immutable loop variables, we can modify them as we want in the cycle, they are going to contain a reference to another object."
   ]
  },
  {
   "cell_type": "code",
   "execution_count": 28,
   "metadata": {},
   "outputs": [
    {
     "name": "stdout",
     "output_type": "stream",
     "text": [
      "8885320, 8885480\n",
      "8885352, 8885512\n",
      "8885384, 8885544\n",
      "8885416, 8885576\n"
     ]
    },
    {
     "data": {
      "text/plain": [
       "[1, 2, 3, 4]"
      ]
     },
     "execution_count": 28,
     "metadata": {},
     "output_type": "execute_result"
    }
   ],
   "source": [
    "x=[1,2,3,4]\n",
    "for xi in x:\n",
    "    print(id(xi),end=\", \")\n",
    "    xi+=5\n",
    "    print(id(xi))\n",
    "    # xi contains a new reference to the same object that was the given element in x\n",
    "    # by modifying xi, we do not modify the original number\n",
    "    # but we change xi to a reference pointing to another number\n",
    "    # the elemens of x are still pointing to the same numbers\n",
    "x"
   ]
  },
  {
   "cell_type": "markdown",
   "metadata": {},
   "source": [
    "We may change the elemets of my original list with the help of the loop variable. Because it only contained immutable objects, it is going to contain new objects after the modifications."
   ]
  },
  {
   "cell_type": "code",
   "execution_count": 29,
   "metadata": {},
   "outputs": [
    {
     "name": "stdout",
     "output_type": "stream",
     "text": [
      "8885320, 8885480\n",
      "8885352, 8885512\n",
      "8885384, 8885544\n",
      "8885416, 8885576\n"
     ]
    },
    {
     "data": {
      "text/plain": [
       "[6, 7, 8, 9]"
      ]
     },
     "execution_count": 29,
     "metadata": {},
     "output_type": "execute_result"
    }
   ],
   "source": [
    "x=[1,2,3,4]\n",
    "for i in range(len(x)):\n",
    "    print(id(x[i]),end=\", \")\n",
    "    x[i]+=5\n",
    "    print(id(x[i]))\n",
    "x"
   ]
  },
  {
   "cell_type": "markdown",
   "metadata": {},
   "source": [
    "#### Conequence for lists of mutable objects\n",
    "\n",
    "In the case of mutable objects, by modifying the new variable, we change the original objec. Therefore, the original variable is also going to refer to the changed object."
   ]
  },
  {
   "cell_type": "code",
   "execution_count": 30,
   "metadata": {},
   "outputs": [
    {
     "name": "stdout",
     "output_type": "stream",
     "text": [
      "140696551998080, 140696551998080\n",
      "140696551999104, 140696551999104\n"
     ]
    },
    {
     "data": {
      "text/plain": [
       "[[1, 2], [1, 2]]"
      ]
     },
     "execution_count": 30,
     "metadata": {},
     "output_type": "execute_result"
    }
   ],
   "source": [
    "x=[[1],[1]]\n",
    "for i in x:\n",
    "    print(id(i),end=\", \")\n",
    "    i+=[2]\n",
    "    print(id(i))\n",
    "x"
   ]
  },
  {
   "cell_type": "markdown",
   "metadata": {},
   "source": [
    "But if we give the loop variable a new value, the original list is not going to change, because the loop variable is going to point to the newly created object, but in the original list, the references still point to the original objects."
   ]
  },
  {
   "cell_type": "code",
   "execution_count": 31,
   "metadata": {},
   "outputs": [
    {
     "name": "stdout",
     "output_type": "stream",
     "text": [
      "140697297511232, 140696551997952\n",
      "140696823210240, 140696551997952\n"
     ]
    },
    {
     "data": {
      "text/plain": [
       "[[1], [1]]"
      ]
     },
     "execution_count": 31,
     "metadata": {},
     "output_type": "execute_result"
    }
   ],
   "source": [
    "x=[[1],[1]]\n",
    "for i in x:\n",
    "    print(id(i),end=\", \")\n",
    "    i=[2]\n",
    "    print(id(i))\n",
    "x"
   ]
  },
  {
   "cell_type": "markdown",
   "metadata": {},
   "source": [
    "### Functions\n",
    "\n",
    "In functions, we also get new references for our arguments."
   ]
  },
  {
   "cell_type": "code",
   "execution_count": 32,
   "metadata": {},
   "outputs": [
    {
     "name": "stdout",
     "output_type": "stream",
     "text": [
      "2\n",
      "3\n"
     ]
    }
   ],
   "source": [
    "a=[1]\n",
    "print(sys.getrefcount(a)) # 2, as we've seen before\n",
    "\n",
    "def f(x): # here is the first\n",
    "    print(sys.getrefcount(x)) # 2 more references\n",
    "\n",
    "f(a) # here is the second"
   ]
  },
  {
   "cell_type": "markdown",
   "metadata": {},
   "source": [
    "#### Consequence for immutable objects\n",
    "\n",
    "We can do whatever we like with an argument that is an immutable object, the original variable is not going to change.\n",
    "\n",
    "The variable inside a function is a new variable, that contains a new reference to the same object as the original variable. Whatever we may do with this reference, it won't affect the original variable."
   ]
  },
  {
   "cell_type": "code",
   "execution_count": 33,
   "metadata": {},
   "outputs": [
    {
     "data": {
      "text/plain": [
       "6"
      ]
     },
     "execution_count": 33,
     "metadata": {},
     "output_type": "execute_result"
    }
   ],
   "source": [
    "#int\n",
    "def f(something):\n",
    "    something+=1\n",
    "    return\n",
    "\n",
    "x=6\n",
    "f(x)\n",
    "x"
   ]
  },
  {
   "cell_type": "code",
   "execution_count": 34,
   "metadata": {},
   "outputs": [
    {
     "data": {
      "text/plain": [
       "'majom'"
      ]
     },
     "execution_count": 34,
     "metadata": {},
     "output_type": "execute_result"
    }
   ],
   "source": [
    "#string\n",
    "def f(something):\n",
    "    something+='fajta'\n",
    "    return\n",
    "\n",
    "x='majom'\n",
    "f(x)\n",
    "x"
   ]
  },
  {
   "cell_type": "code",
   "execution_count": 35,
   "metadata": {},
   "outputs": [
    {
     "data": {
      "text/plain": [
       "(0, 1, 2)"
      ]
     },
     "execution_count": 35,
     "metadata": {},
     "output_type": "execute_result"
    }
   ],
   "source": [
    "#tuple\n",
    "def f(something):\n",
    "    something+=(1,2,3)\n",
    "    return\n",
    "\n",
    "x=(0,1,2)\n",
    "f(x)\n",
    "x"
   ]
  },
  {
   "cell_type": "markdown",
   "metadata": {},
   "source": [
    "####  Consequence for mutable objects\n",
    "\n",
    "In the case of mutable objects, by changing the new variable, we change the original variable itself, we are not only rewriting the reference. Therefore, the original reference now points to the new object as well."
   ]
  },
  {
   "cell_type": "code",
   "execution_count": 36,
   "metadata": {},
   "outputs": [
    {
     "name": "stdout",
     "output_type": "stream",
     "text": [
      "140696821160576\n",
      "140696821160576\n"
     ]
    },
    {
     "data": {
      "text/plain": [
       "[0, 1, 2, 4, 5, 6]"
      ]
     },
     "execution_count": 36,
     "metadata": {},
     "output_type": "execute_result"
    }
   ],
   "source": [
    "def f(something):\n",
    "    something+=[4,5,6]\n",
    "    return\n",
    "\n",
    "x=[0,1,2]\n",
    "print(id(x))\n",
    "f(x)\n",
    "print(id(x))\n",
    "x"
   ]
  },
  {
   "cell_type": "code",
   "execution_count": 37,
   "metadata": {},
   "outputs": [
    {
     "name": "stdout",
     "output_type": "stream",
     "text": [
      "140696821592016\n",
      "140696821592016\n"
     ]
    },
    {
     "data": {
      "text/plain": [
       "array([5, 6, 7])"
      ]
     },
     "execution_count": 37,
     "metadata": {},
     "output_type": "execute_result"
    }
   ],
   "source": [
    "def f(something):\n",
    "    something+=5\n",
    "    return\n",
    "\n",
    "x=array([0,1,2])\n",
    "print(id(x))\n",
    "f(x)\n",
    "print(id(x))\n",
    "x"
   ]
  },
  {
   "cell_type": "markdown",
   "metadata": {},
   "source": [
    "If instead of modification, we give a new value, then `whatisthis` is going to refer to another object."
   ]
  },
  {
   "cell_type": "code",
   "execution_count": 38,
   "metadata": {},
   "outputs": [
    {
     "name": "stdout",
     "output_type": "stream",
     "text": [
      "140696551998336\n",
      "[3, 4, 5] 140697294207808\n",
      "140696551998336\n"
     ]
    },
    {
     "data": {
      "text/plain": [
       "[0, 1, 2]"
      ]
     },
     "execution_count": 38,
     "metadata": {},
     "output_type": "execute_result"
    }
   ],
   "source": [
    "def g(whatisthis):\n",
    "    whatisthis=[3,4,5]\n",
    "    print(whatisthis, id(whatisthis))\n",
    "\n",
    "x=[0,1,2]\n",
    "print(id(x))\n",
    "g(x)\n",
    "print(id(x))\n",
    "x"
   ]
  },
  {
   "cell_type": "markdown",
   "metadata": {},
   "source": [
    "----\n",
    "\n",
    "## Visibility\n",
    "\n",
    "Where can we use our already created variables?\n"
   ]
  },
  {
   "cell_type": "markdown",
   "metadata": {},
   "source": [
    "What we create inside a function (and do not return) is going to simply disappear."
   ]
  },
  {
   "cell_type": "code",
   "execution_count": 39,
   "metadata": {},
   "outputs": [
    {
     "name": "stdout",
     "output_type": "stream",
     "text": [
      "Here I am.\n"
     ]
    },
    {
     "ename": "NameError",
     "evalue": "name 'sentence' is not defined",
     "output_type": "error",
     "traceback": [
      "\u001b[0;31m---------------------------------------------------------------------------\u001b[0m",
      "\u001b[0;31mNameError\u001b[0m                                 Traceback (most recent call last)",
      "\u001b[1;32m/v/wfct0p/Euzert-DataScientist-01-202312/DS-01-Basics/02-Mutable_scope.ipynb Cell 68\u001b[0m line \u001b[0;36m6\n\u001b[1;32m      <a href='vscode-notebook-cell://ssh-remote%2Bdd.teleport.vo.elte.hu/v/wfct0p/Euzert-DataScientist-01-202312/DS-01-Basics/02-Mutable_scope.ipynb#Y123sdnNjb2RlLXJlbW90ZQ%3D%3D?line=2'>3</a>\u001b[0m     \u001b[39mprint\u001b[39m(sentence)\n\u001b[1;32m      <a href='vscode-notebook-cell://ssh-remote%2Bdd.teleport.vo.elte.hu/v/wfct0p/Euzert-DataScientist-01-202312/DS-01-Basics/02-Mutable_scope.ipynb#Y123sdnNjb2RlLXJlbW90ZQ%3D%3D?line=4'>5</a>\u001b[0m g()\n\u001b[0;32m----> <a href='vscode-notebook-cell://ssh-remote%2Bdd.teleport.vo.elte.hu/v/wfct0p/Euzert-DataScientist-01-202312/DS-01-Basics/02-Mutable_scope.ipynb#Y123sdnNjb2RlLXJlbW90ZQ%3D%3D?line=5'>6</a>\u001b[0m sentence\n",
      "\u001b[0;31mNameError\u001b[0m: name 'sentence' is not defined"
     ]
    }
   ],
   "source": [
    "def g():\n",
    "    sentence='Here I am.'\n",
    "    print(sentence)\n",
    "    \n",
    "g()\n",
    "sentence"
   ]
  },
  {
   "cell_type": "markdown",
   "metadata": {},
   "source": [
    "This also refers to functions!"
   ]
  },
  {
   "cell_type": "code",
   "execution_count": 40,
   "metadata": {},
   "outputs": [
    {
     "name": "stdout",
     "output_type": "stream",
     "text": [
      "Here I am.\n"
     ]
    },
    {
     "ename": "NameError",
     "evalue": "name 'sentence' is not defined",
     "output_type": "error",
     "traceback": [
      "\u001b[0;31m---------------------------------------------------------------------------\u001b[0m",
      "\u001b[0;31mNameError\u001b[0m                                 Traceback (most recent call last)",
      "\u001b[1;32m/v/wfct0p/Euzert-DataScientist-01-202312/DS-01-Basics/02-Mutable_scope.ipynb Cell 70\u001b[0m line \u001b[0;36m7\n\u001b[1;32m      <a href='vscode-notebook-cell://ssh-remote%2Bdd.teleport.vo.elte.hu/v/wfct0p/Euzert-DataScientist-01-202312/DS-01-Basics/02-Mutable_scope.ipynb#Y125sdnNjb2RlLXJlbW90ZQ%3D%3D?line=3'>4</a>\u001b[0m     sentence()\n\u001b[1;32m      <a href='vscode-notebook-cell://ssh-remote%2Bdd.teleport.vo.elte.hu/v/wfct0p/Euzert-DataScientist-01-202312/DS-01-Basics/02-Mutable_scope.ipynb#Y125sdnNjb2RlLXJlbW90ZQ%3D%3D?line=5'>6</a>\u001b[0m g()\n\u001b[0;32m----> <a href='vscode-notebook-cell://ssh-remote%2Bdd.teleport.vo.elte.hu/v/wfct0p/Euzert-DataScientist-01-202312/DS-01-Basics/02-Mutable_scope.ipynb#Y125sdnNjb2RlLXJlbW90ZQ%3D%3D?line=6'>7</a>\u001b[0m sentence()\n",
      "\u001b[0;31mNameError\u001b[0m: name 'sentence' is not defined"
     ]
    }
   ],
   "source": [
    "def g():\n",
    "    def sentence():\n",
    "        print('Here I am.')\n",
    "    sentence()\n",
    "    \n",
    "g()\n",
    "sentence()"
   ]
  },
  {
   "cell_type": "markdown",
   "metadata": {},
   "source": [
    "Variables defined above (indented more to the left) are visible below (indented more to the right)."
   ]
  },
  {
   "cell_type": "code",
   "execution_count": 41,
   "metadata": {},
   "outputs": [
    {
     "name": "stdout",
     "output_type": "stream",
     "text": [
      "icu\n"
     ]
    }
   ],
   "source": [
    "icu='icu'\n",
    "def g():\n",
    "    print(icu)\n",
    "g()"
   ]
  },
  {
   "cell_type": "code",
   "execution_count": 42,
   "metadata": {},
   "outputs": [
    {
     "name": "stdout",
     "output_type": "stream",
     "text": [
      "oops\n"
     ]
    }
   ],
   "source": [
    "def f():\n",
    "    icu2='oops'\n",
    "    def g():\n",
    "        print(icu2)\n",
    "    g()\n",
    "f()"
   ]
  },
  {
   "cell_type": "markdown",
   "metadata": {},
   "source": [
    "But if we use the same name as the name of a function argument, we 'cover' the outer name."
   ]
  },
  {
   "cell_type": "code",
   "execution_count": 43,
   "metadata": {},
   "outputs": [
    {
     "name": "stdout",
     "output_type": "stream",
     "text": [
      "nono\n"
     ]
    }
   ],
   "source": [
    "icu='icu'\n",
    "def g(icu):\n",
    "    print(icu)\n",
    "g('nono')"
   ]
  },
  {
   "cell_type": "markdown",
   "metadata": {},
   "source": [
    "If we assign a new reference in any way to a variable name, we 'cover' the global variable. In this way, we cannot modify the content of the original variable, that is, we cannot change its reference."
   ]
  },
  {
   "cell_type": "code",
   "execution_count": 44,
   "metadata": {},
   "outputs": [
    {
     "name": "stdout",
     "output_type": "stream",
     "text": [
      "nono\n"
     ]
    },
    {
     "data": {
      "text/plain": [
       "'icu'"
      ]
     },
     "execution_count": 44,
     "metadata": {},
     "output_type": "execute_result"
    }
   ],
   "source": [
    "icu='icu'\n",
    "def g():\n",
    "    icu='nono'\n",
    "    print(icu)\n",
    "g()\n",
    "icu"
   ]
  },
  {
   "cell_type": "markdown",
   "metadata": {},
   "source": [
    "We may of course modify the object it is referring to given that it is mutable."
   ]
  },
  {
   "cell_type": "code",
   "execution_count": 45,
   "metadata": {},
   "outputs": [
    {
     "name": "stdout",
     "output_type": "stream",
     "text": [
      "[1, 2, 3, 4]\n"
     ]
    },
    {
     "data": {
      "text/plain": [
       "[1, 2, 3, 4]"
      ]
     },
     "execution_count": 45,
     "metadata": {},
     "output_type": "execute_result"
    }
   ],
   "source": [
    "icu=[1,2,3]\n",
    "def g():\n",
    "    icu.append(4)\n",
    "    print(icu)\n",
    "g()\n",
    "icu"
   ]
  },
  {
   "cell_type": "markdown",
   "metadata": {},
   "source": [
    "If we request it, we may rewrite the reference itself."
   ]
  },
  {
   "cell_type": "code",
   "execution_count": 46,
   "metadata": {},
   "outputs": [
    {
     "name": "stdout",
     "output_type": "stream",
     "text": [
      "yesyes\n"
     ]
    },
    {
     "data": {
      "text/plain": [
       "'yesyes'"
      ]
     },
     "execution_count": 46,
     "metadata": {},
     "output_type": "execute_result"
    }
   ],
   "source": [
    "icu='icu'\n",
    "def g():\n",
    "    global icu\n",
    "    icu='yesyes'\n",
    "    print(icu)\n",
    "g()\n",
    "icu"
   ]
  },
  {
   "cell_type": "markdown",
   "metadata": {},
   "source": [
    "Global variables created after the definition of a function are also visible inside the funciton."
   ]
  },
  {
   "cell_type": "markdown",
   "metadata": {},
   "source": [
    "A függvény definíciója után létrehozott globális nevek is látszanak a függvényben."
   ]
  },
  {
   "cell_type": "code",
   "execution_count": 47,
   "metadata": {},
   "outputs": [
    {
     "name": "stdout",
     "output_type": "stream",
     "text": [
      "hehe\n"
     ]
    }
   ],
   "source": [
    "def f():\n",
    "    print(howcome)\n",
    "    \n",
    "howcome='hehe'\n",
    "f()"
   ]
  },
  {
   "cell_type": "markdown",
   "metadata": {},
   "source": [
    "Variables created in a loop are visible outside the loop as well."
   ]
  },
  {
   "cell_type": "code",
   "execution_count": 48,
   "metadata": {},
   "outputs": [
    {
     "data": {
      "text/plain": [
       "'yay'"
      ]
     },
     "execution_count": 48,
     "metadata": {},
     "output_type": "execute_result"
    }
   ],
   "source": [
    "for i in range(3):\n",
    "    everbodycsu='yay'\n",
    "everbodycsu"
   ]
  },
  {
   "cell_type": "markdown",
   "metadata": {},
   "source": [
    "Even the loop variable is visible after the loop."
   ]
  },
  {
   "cell_type": "code",
   "execution_count": 49,
   "metadata": {},
   "outputs": [
    {
     "data": {
      "text/plain": [
       "2"
      ]
     },
     "execution_count": 49,
     "metadata": {},
     "output_type": "execute_result"
    }
   ],
   "source": [
    "for i in range(3):\n",
    "    everbodycsu='yay'\n",
    "i"
   ]
  }
 ],
 "metadata": {
  "anaconda-cloud": {},
  "hide_input": false,
  "kernelspec": {
   "display_name": "Python 3 (ipykernel)",
   "language": "python",
   "name": "python3"
  },
  "language_info": {
   "codemirror_mode": {
    "name": "ipython",
    "version": 3
   },
   "file_extension": ".py",
   "mimetype": "text/x-python",
   "name": "python",
   "nbconvert_exporter": "python",
   "pygments_lexer": "ipython3",
   "version": "3.9.13"
  }
 },
 "nbformat": 4,
 "nbformat_minor": 1
}
