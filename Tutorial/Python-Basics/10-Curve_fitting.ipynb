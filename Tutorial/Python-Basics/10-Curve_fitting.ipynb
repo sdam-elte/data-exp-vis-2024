{
 "cells": [
  {
   "cell_type": "markdown",
   "metadata": {},
   "source": [
    "# Data analysis\n",
    "\n",
    "In the below examples, we are going to have a look at two common data analysis problems. First is fitting a function to a data series, and the second is the Fourier analysis of periodic signals such as sound samples. As usual, let's load some useful modules and functions."
   ]
  },
  {
   "cell_type": "code",
   "execution_count": 1,
   "metadata": {},
   "outputs": [
    {
     "name": "stdout",
     "output_type": "stream",
     "text": [
      "Populating the interactive namespace from numpy and matplotlib\n"
     ]
    }
   ],
   "source": [
    "%pylab inline\n",
    "from scipy.optimize import curve_fit # function used for curve fitting\n",
    "from numpy.fft import *              # routines for the Fourier analysis\n",
    "from scipy.signal import spectrogram # function creating a spectrogram"
   ]
  },
  {
   "cell_type": "code",
   "execution_count": 1,
   "metadata": {},
   "outputs": [],
   "source": [
    "Datasets = 'data/'"
   ]
  },
  {
   "cell_type": "markdown",
   "metadata": {},
   "source": [
    "## Fitting a function\n",
    "\n",
    "![smily](http://oroszl.web.elte.hu/data_smiley.png)\n",
    "\n",
    "Many times, we have to compare the outcome of an experiment to a theoretical model, or we want to calculate the parameters from a theoretical model such that they correspond to our experiment. The most common method for solving this problem is the so called Ordinary Least Squares (OLS) fitting.\n",
    "\n",
    "Let's assume, that our experimental data consists of $(x_i,y_i)$ pairs, and we have $N$ number of values, that is,  $i=1\\dots N$! We would like to fit an $y=f(x,a,b,c,d,\\dots)$ function to this data series. The task is to find the parameters $a,b,c,d,\\dots$ such that the function estimates our measured data points the best. This task corresponds to the minimalization of the $$S(a,b,c,d,\\dots)=\\sum_{i=1}^N (y_i-f(x_i,a,b,c,d,\\dots))^2$$ function, that is the sum of the squares of the deviations of the points from the function. In the nexct few examples, we are going to have a look at some examples from Python that use the OLS fitting method."
   ]
  },
  {
   "cell_type": "markdown",
   "metadata": {},
   "source": [
    "Let us first generate a data series that we use later for experimenting. This is going to be a noisy sine."
   ]
  },
  {
   "cell_type": "code",
   "execution_count": 3,
   "metadata": {},
   "outputs": [],
   "source": [
    "t1 = linspace(0,10,100) # sampling\n",
    "noise=0.3*randn(len(t1))  # Gaussian noise\n",
    "x1=1.5*sin(t1+2)+noise     # a noisy sine function\n",
    "error=2*abs(noise)        # the error of the measurement"
   ]
  },
  {
   "cell_type": "markdown",
   "metadata": {},
   "source": [
    "Let's visualize it!"
   ]
  },
  {
   "cell_type": "code",
   "execution_count": 4,
   "metadata": {},
   "outputs": [
    {
     "data": {
      "text/plain": [
       "<ErrorbarContainer object of 3 artists>"
      ]
     },
     "execution_count": 4,
     "metadata": {},
     "output_type": "execute_result"
    },
    {
     "data": {
      "image/png": "[encoded data removed]",
      "text/plain": [
       "<Figure size 432x288 with 1 Axes>"
      ]
     },
     "metadata": {
      "needs_background": "light"
     },
     "output_type": "display_data"
    }
   ],
   "source": [
    "errorbar(t1,x1,error,marker='o',linestyle='')"
   ]
  },
  {
   "cell_type": "markdown",
   "metadata": {},
   "source": [
    "We are goig to use the `curve_fit` function for the fitting. Its first argument is the function that we would like to fit, let's define it! Let it be of the shape\n",
    "\n",
    "$$f(t)=A\\sin(\\omega t+\\varphi)!$$"
   ]
  },
  {
   "cell_type": "code",
   "execution_count": 5,
   "metadata": {},
   "outputs": [],
   "source": [
    "def fun(t,A,omega,phi):\n",
    "    return A*sin(omega*t+phi)"
   ]
  },
  {
   "cell_type": "markdown",
   "metadata": {},
   "source": [
    "The function `curve_fit` regards the first argument of the function as the independent variable, and the other arguments as the parameters to fit. It returns two arrays. The first contains the fitted parameters, and the second the so-called covariance matrix. The diagonal emlements of the covariance matrix give the precision of the fitted parameters."
   ]
  },
  {
   "cell_type": "code",
   "execution_count": 6,
   "metadata": {},
   "outputs": [
    {
     "name": "stdout",
     "output_type": "stream",
     "text": [
      "['A', 'omega', 'phi']\n",
      "[1.5294043  1.01309529 1.943495  ]\n",
      "[0.0424622  0.00973743 0.05360146]\n"
     ]
    }
   ],
   "source": [
    "popt,pcov=curve_fit(fun,t1,x1) # fit\n",
    "perr = sqrt(diag(pcov))      # error\n",
    "print (['A','omega','phi'])\n",
    "print (popt)\n",
    "print (perr)"
   ]
  },
  {
   "cell_type": "markdown",
   "metadata": {},
   "source": [
    "The first element of the `popt` array is the parameter $A$, the second $\\omega$, the third $\\varphi$. As we can see, it is a rather optimal fit, because the errors of the fitted parameters are small compared to the estimated parameter values. Because we created an artificial data series by hand, if we compare the fitted values with the parameters that we used for the generation $A=1.5,\\,\\omega=1.0,\\,\\varphi=2.0$, we see that we get very close values from the fit. We can evaulate the fitted function after knowing the parameter values."
   ]
  },
  {
   "cell_type": "code",
   "execution_count": 7,
   "metadata": {},
   "outputs": [
    {
     "data": {
      "text/plain": [
       "[<matplotlib.lines.Line2D at 0x7f7e35ef89e8>]"
      ]
     },
     "execution_count": 7,
     "metadata": {},
     "output_type": "execute_result"
    },
    {
     "data": {
      "image/png": "[encoded data removed]",
      "text/plain": [
       "<Figure size 432x288 with 1 Axes>"
      ]
     },
     "metadata": {
      "needs_background": "light"
     },
     "output_type": "display_data"
    }
   ],
   "source": [
    "errorbar(t1,x1,error,marker='o',linestyle='') # plotting the data\n",
    "plot(t1,fun(t1,popt[0],popt[1],popt[2]),color='red',linewidth=3) # plotting the fitted function"
   ]
  },
  {
   "cell_type": "markdown",
   "metadata": {},
   "source": [
    "We can take into account the measurement errors of the individual points that we stored in the `error` variable. This means that those points that have a big measurement error are going to count less into the curve fit than those with a smaller error. Measurement errors can be given to the `sigma` keyword argument of the `curve_fit` function. Let us observe what happens if we give the errors."
   ]
  },
  {
   "cell_type": "code",
   "execution_count": 8,
   "metadata": {},
   "outputs": [
    {
     "name": "stdout",
     "output_type": "stream",
     "text": [
      "['A', 'omega', 'phi']\n",
      "[1.49895136 0.99901658 2.00271463]\n",
      "[0.00110532 0.00090196 0.00220298]\n"
     ]
    }
   ],
   "source": [
    "popt_errorval,pcov_errorval=curve_fit(fun,t1,x1,sigma=error)\n",
    "perr_errorval = sqrt(diag(pcov_errorval))\n",
    "print (['A','omega','phi'])\n",
    "print (popt_errorval)\n",
    "print (perr_errorval)"
   ]
  },
  {
   "cell_type": "markdown",
   "metadata": {},
   "source": [
    "Is we compare the fit where we took the errors into account, and the fit without the errors, we can see that the fitted parameters slightly differ, but the but the fit error is much less! Let us compare the two curves that we got! We use a more compact notation by [unpacking](https://www.geeksforgeeks.org/packing-and-unpacking-arguments-in-python/) the parameter vector."
   ]
  },
  {
   "cell_type": "code",
   "execution_count": 9,
   "metadata": {},
   "outputs": [
    {
     "data": {
      "text/plain": [
       "<matplotlib.legend.Legend at 0x7f7e35e060b8>"
      ]
     },
     "execution_count": 9,
     "metadata": {},
     "output_type": "execute_result"
    },
    {
     "data": {
      "image/png": "[encoded data removed]",
      "text/plain": [
       "<Figure size 432x288 with 1 Axes>"
      ]
     },
     "metadata": {
      "needs_background": "light"
     },
     "output_type": "display_data"
    }
   ],
   "source": [
    "errorbar(t1,x1,error,marker='o',label='data',linestyle='') \n",
    "plot(t1,fun(t1,*popt),color='red',label='fit',linewidth=4)  # using unpacking               \n",
    "plot(t1,fun(t1,*popt_errorval),color='black',label='fit with error',linewidth=3)  # here as well\n",
    "legend()"
   ]
  },
  {
   "cell_type": "markdown",
   "metadata": {},
   "source": [
    "The fit algorithms, that work behind the `curve_fit` function, cannot always find the right parameters. If there are too many parameters in a fitting task, this problem might be even more serious. Let us now observe another data series. The datafile `data/ket_gauss_plus_error` contains a noisy data series that is the sum of two Gaussians. Let's try to fit a function to it that is the sum of two Gaussians!"
   ]
  },
  {
   "cell_type": "code",
   "execution_count": 10,
   "metadata": {},
   "outputs": [
    {
     "ename": "OSError",
     "evalue": "/home/course/public/01-data/ket_gauss_plus_hiba not found.",
     "output_type": "error",
     "traceback": [
      "\u001b[0;31m---------------------------------------------------------------------------\u001b[0m",
      "\u001b[0;31mOSError\u001b[0m                                   Traceback (most recent call last)",
      "\u001b[0;32m<ipython-input-10-da4447f6aac8>\u001b[0m in \u001b[0;36m<module>\u001b[0;34m\u001b[0m\n\u001b[0;32m----> 1\u001b[0;31m \u001b[0mt2\u001b[0m\u001b[0;34m,\u001b[0m\u001b[0mx2\u001b[0m\u001b[0;34m=\u001b[0m\u001b[0mloadtxt\u001b[0m\u001b[0;34m(\u001b[0m\u001b[0mDatasets\u001b[0m\u001b[0;34m+\u001b[0m\u001b[0;34m'/ket_gauss_plus_hiba'\u001b[0m\u001b[0;34m,\u001b[0m\u001b[0munpack\u001b[0m\u001b[0;34m=\u001b[0m\u001b[0;32mTrue\u001b[0m\u001b[0;34m)\u001b[0m \u001b[0;31m# reading\u001b[0m\u001b[0;34m\u001b[0m\u001b[0;34m\u001b[0m\u001b[0m\n\u001b[0m\u001b[1;32m      2\u001b[0m \u001b[0mplot\u001b[0m\u001b[0;34m(\u001b[0m\u001b[0mt2\u001b[0m\u001b[0;34m,\u001b[0m\u001b[0mx2\u001b[0m\u001b[0;34m)\u001b[0m                        \u001b[0;31m# plotting\u001b[0m\u001b[0;34m\u001b[0m\u001b[0;34m\u001b[0m\u001b[0m\n",
      "\u001b[0;32m/opt/conda/lib/python3.7/site-packages/numpy/lib/npyio.py\u001b[0m in \u001b[0;36mloadtxt\u001b[0;34m(fname, dtype, comments, delimiter, converters, skiprows, usecols, unpack, ndmin, encoding, max_rows)\u001b[0m\n\u001b[1;32m    979\u001b[0m             \u001b[0mfname\u001b[0m \u001b[0;34m=\u001b[0m \u001b[0mos_fspath\u001b[0m\u001b[0;34m(\u001b[0m\u001b[0mfname\u001b[0m\u001b[0;34m)\u001b[0m\u001b[0;34m\u001b[0m\u001b[0;34m\u001b[0m\u001b[0m\n\u001b[1;32m    980\u001b[0m         \u001b[0;32mif\u001b[0m \u001b[0m_is_string_like\u001b[0m\u001b[0;34m(\u001b[0m\u001b[0mfname\u001b[0m\u001b[0;34m)\u001b[0m\u001b[0;34m:\u001b[0m\u001b[0;34m\u001b[0m\u001b[0;34m\u001b[0m\u001b[0m\n\u001b[0;32m--> 981\u001b[0;31m             \u001b[0mfh\u001b[0m \u001b[0;34m=\u001b[0m \u001b[0mnp\u001b[0m\u001b[0;34m.\u001b[0m\u001b[0mlib\u001b[0m\u001b[0;34m.\u001b[0m\u001b[0m_datasource\u001b[0m\u001b[0;34m.\u001b[0m\u001b[0mopen\u001b[0m\u001b[0;34m(\u001b[0m\u001b[0mfname\u001b[0m\u001b[0;34m,\u001b[0m \u001b[0;34m'rt'\u001b[0m\u001b[0;34m,\u001b[0m \u001b[0mencoding\u001b[0m\u001b[0;34m=\u001b[0m\u001b[0mencoding\u001b[0m\u001b[0;34m)\u001b[0m\u001b[0;34m\u001b[0m\u001b[0;34m\u001b[0m\u001b[0m\n\u001b[0m\u001b[1;32m    982\u001b[0m             \u001b[0mfencoding\u001b[0m \u001b[0;34m=\u001b[0m \u001b[0mgetattr\u001b[0m\u001b[0;34m(\u001b[0m\u001b[0mfh\u001b[0m\u001b[0;34m,\u001b[0m \u001b[0;34m'encoding'\u001b[0m\u001b[0;34m,\u001b[0m \u001b[0;34m'latin1'\u001b[0m\u001b[0;34m)\u001b[0m\u001b[0;34m\u001b[0m\u001b[0;34m\u001b[0m\u001b[0m\n\u001b[1;32m    983\u001b[0m             \u001b[0mfh\u001b[0m \u001b[0;34m=\u001b[0m \u001b[0miter\u001b[0m\u001b[0;34m(\u001b[0m\u001b[0mfh\u001b[0m\u001b[0;34m)\u001b[0m\u001b[0;34m\u001b[0m\u001b[0;34m\u001b[0m\u001b[0m\n",
      "\u001b[0;32m/opt/conda/lib/python3.7/site-packages/numpy/lib/_datasource.py\u001b[0m in \u001b[0;36mopen\u001b[0;34m(path, mode, destpath, encoding, newline)\u001b[0m\n\u001b[1;32m    267\u001b[0m \u001b[0;34m\u001b[0m\u001b[0m\n\u001b[1;32m    268\u001b[0m     \u001b[0mds\u001b[0m \u001b[0;34m=\u001b[0m \u001b[0mDataSource\u001b[0m\u001b[0;34m(\u001b[0m\u001b[0mdestpath\u001b[0m\u001b[0;34m)\u001b[0m\u001b[0;34m\u001b[0m\u001b[0;34m\u001b[0m\u001b[0m\n\u001b[0;32m--> 269\u001b[0;31m     \u001b[0;32mreturn\u001b[0m \u001b[0mds\u001b[0m\u001b[0;34m.\u001b[0m\u001b[0mopen\u001b[0m\u001b[0;34m(\u001b[0m\u001b[0mpath\u001b[0m\u001b[0;34m,\u001b[0m \u001b[0mmode\u001b[0m\u001b[0;34m,\u001b[0m \u001b[0mencoding\u001b[0m\u001b[0;34m=\u001b[0m\u001b[0mencoding\u001b[0m\u001b[0;34m,\u001b[0m \u001b[0mnewline\u001b[0m\u001b[0;34m=\u001b[0m\u001b[0mnewline\u001b[0m\u001b[0;34m)\u001b[0m\u001b[0;34m\u001b[0m\u001b[0;34m\u001b[0m\u001b[0m\n\u001b[0m\u001b[1;32m    270\u001b[0m \u001b[0;34m\u001b[0m\u001b[0m\n\u001b[1;32m    271\u001b[0m \u001b[0;34m\u001b[0m\u001b[0m\n",
      "\u001b[0;32m/opt/conda/lib/python3.7/site-packages/numpy/lib/_datasource.py\u001b[0m in \u001b[0;36mopen\u001b[0;34m(self, path, mode, encoding, newline)\u001b[0m\n\u001b[1;32m    621\u001b[0m                                       encoding=encoding, newline=newline)\n\u001b[1;32m    622\u001b[0m         \u001b[0;32melse\u001b[0m\u001b[0;34m:\u001b[0m\u001b[0;34m\u001b[0m\u001b[0;34m\u001b[0m\u001b[0m\n\u001b[0;32m--> 623\u001b[0;31m             \u001b[0;32mraise\u001b[0m \u001b[0mIOError\u001b[0m\u001b[0;34m(\u001b[0m\u001b[0;34m\"%s not found.\"\u001b[0m \u001b[0;34m%\u001b[0m \u001b[0mpath\u001b[0m\u001b[0;34m)\u001b[0m\u001b[0;34m\u001b[0m\u001b[0;34m\u001b[0m\u001b[0m\n\u001b[0m\u001b[1;32m    624\u001b[0m \u001b[0;34m\u001b[0m\u001b[0m\n\u001b[1;32m    625\u001b[0m \u001b[0;34m\u001b[0m\u001b[0m\n",
      "\u001b[0;31mOSError\u001b[0m: /home/course/public/01-data/ket_gauss_plus_hiba not found."
     ]
    }
   ],
   "source": [
    "t2,x2=loadtxt(Datasets+'/ket_gauss_plus_hiba',unpack=True) # reading\n",
    "plot(t2,x2)                        # plotting"
   ]
  },
  {
   "cell_type": "markdown",
   "metadata": {},
   "source": [
    "Let's define the function to fit!\n",
    "$$f_2(t)=A_1\\mathrm{e}^{-(t-e_1)^2/s_1^2}+A_2\\mathrm{e}^{-(t-e_2)^2/s_2^2}$$"
   ]
  },
  {
   "cell_type": "code",
   "execution_count": null,
   "metadata": {},
   "outputs": [],
   "source": [
    "def func2(t,A1,e1,s1,A2,e2,s2):\n",
    "    'The sum of two Gaussians'\n",
    "    return A1*exp(-((t-e1)/s1)**2)+A2*exp(-((t-e2)/s2)**2)"
   ]
  },
  {
   "cell_type": "markdown",
   "metadata": {},
   "source": [
    "Let's try to do the fit!"
   ]
  },
  {
   "cell_type": "code",
   "execution_count": null,
   "metadata": {},
   "outputs": [],
   "source": [
    "popt,pcov=curve_fit(func2,t2,x2)\n",
    "perr = sqrt(diag(pcov))\n",
    "print (['A1','e1','s1','A2','e2','s2'])\n",
    "print (popt)\n",
    "print (perr)"
   ]
  },
  {
   "cell_type": "markdown",
   "metadata": {},
   "source": [
    "We did not succeed. This data and the function that we want to determine illustrates the problem really well. \n",
    "\n",
    "The fit is more likely to be successful is we can estimate the parameters in advance. In the above data, there is a big peak around 6 that has a width of roughly 1, and a height of 10, and there is a rather broad shoulder left of this peak, that could stem from a wider and lower peak, e.g. at 4 with a with of 3 and a height if 4. Let's plot the original data with these two estimated Gaussians!"
   ]
  },
  {
   "cell_type": "code",
   "execution_count": null,
   "metadata": {
    "scrolled": true
   },
   "outputs": [],
   "source": [
    "plot(t2,x2,label='adatok') # data\n",
    "plot(t2,10*exp(-((t2-6)/1)**2),label='first peak') # bigger peak\n",
    "plot(t2,4*exp(-((t2-4)/3)**2),label='second peak')  # wider peak\n",
    "legend()"
   ]
  },
  {
   "cell_type": "markdown",
   "metadata": {},
   "source": [
    "We can give these estimated values to `curve_fit` as the initial values for the fitting procedure through the `p0` keyword argument."
   ]
  },
  {
   "cell_type": "code",
   "execution_count": null,
   "metadata": {},
   "outputs": [],
   "source": [
    "A1=10;e1=6;s1=1\n",
    "A2=4;e2=4;s2=3\n",
    "popt,pcov=curve_fit(func2,t2,x2,p0=[A1,e1,s1,A2,e2,s2]) # listing the estimated values in p0\n",
    "perr = sqrt(diag(pcov))\n",
    "print (['A1','e1','s1','A2','e2','s2'])\n",
    "print (popt)\n",
    "print (perr)"
   ]
  },
  {
   "cell_type": "markdown",
   "metadata": {},
   "source": [
    "The estimation thus helped in completing the fit. Let's plot the fitted function, the original data, and the estimated Gaussians!"
   ]
  },
  {
   "cell_type": "code",
   "execution_count": null,
   "metadata": {},
   "outputs": [],
   "source": [
    "plot(t2,x2,label='data') # data\n",
    "plot(t2,10*exp(-((t2-6)/1)**2),label='first peak') # a két becsült Gauss\n",
    "plot(t2,4*exp(-((t2-4)/3)**2),label='second peak')\n",
    "plot(t2,func2(t2,*popt),label='fit',color='black',linewidth=2) # fitted curve\n",
    "legend(loc='upper left')"
   ]
  },
  {
   "cell_type": "markdown",
   "metadata": {},
   "source": [
    "Among the previous examples, we already got to know the data series from the jump of Felix Baumgartner. Let us now examine a real-life fitting example using this data!\n",
    "\n",
    "In the first phase of the jump, between $t=0\\dots 40$ s, the motion is best described by free fall before the parachute opens. After that, drag is going to counter the gravitational force, and the velocity of the fall is going to becomeroughly constant in the interval $t=210\\dots 260$ s.\n",
    "\n",
    "Let us determine $g$ from the points at the beginning of the path, and let us determine the drag force using the last points of the path!\n",
    "\n",
    "First, we [summarize](http://www.livescience.com/23710-physics-supersonic-skydive.html) the phenomena that we want to model.\n",
    "\n",
    "**Free fall in the beginning**\n",
    "\n",
    "Free fall is a constanly accelerated motion , thus, we can write the height as a function of time in the following form\n",
    "$$h(t)=h_0+v_0t-\\frac{g}{2}t^2.$$ The gravitational force can then be determined from the coefficients of the parabole fitted to the beginning of the jump, because the coefficient of the square term corresponds to $g/2$.\n",
    "\n",
    "**Contant velocity motion in the end**\n",
    "\n",
    "Because there is no acceleration, the drag force and the gravitational force are equal. Therefore, $$mg=\\alpha v^2,$$ that leaves us with the drag being $\\alpha=\\frac{mg}{v^2}$. The [weight](http://www.livescience.com/23710-physics-supersonic-skydive.html) of Baumgartner is approximately 110 kg including equipment. We can determine $v$ from the fit."
   ]
  },
  {
   "cell_type": "code",
   "execution_count": 11,
   "metadata": {},
   "outputs": [],
   "source": [
    "tB,h=loadtxt(Datasets+'/h_vs_t',unpack=True) # reading data\n",
    "# first column is time\n",
    "# second column is height"
   ]
  },
  {
   "cell_type": "markdown",
   "metadata": {},
   "source": [
    "Let us now define the functions to be fitted, a linear one and a second order polynomial."
   ]
  },
  {
   "cell_type": "code",
   "execution_count": 12,
   "metadata": {},
   "outputs": [],
   "source": [
    "def linear(x,a,b):\n",
    "    'Linear function: a*x+b'\n",
    "    return a*x+b\n",
    "\n",
    "def secondorder(x,a,b,c):\n",
    "    'Second-order polynomial: a*x^2+b*x+c '\n",
    "    return a*x**2+b*x+c"
   ]
  },
  {
   "cell_type": "markdown",
   "metadata": {},
   "source": [
    "First we fit a second-order polynomial to the beginning of the data series. We can get the right part of the arrays by slicing them with the usual method."
   ]
  },
  {
   "cell_type": "code",
   "execution_count": 13,
   "metadata": {},
   "outputs": [
    {
     "name": "stdout",
     "output_type": "stream",
     "text": [
      "a= -4.74047528358971 ± 0.02856596837430453\n",
      "b= 45.23855709648241 ± 1.160348976618678\n",
      "c= 38893.934826982724 ± 9.870199318910444\n"
     ]
    }
   ],
   "source": [
    "p_beginning,pcov =curve_fit(secondorder,tB[tB<40],h[tB<40]) # fitting points with t<40\n",
    "err_beginning = sqrt(diag(pcov))\n",
    "# fitted parameter values and their error.\n",
    "print('a=',p_beginning[0],'±',err_beginning[0]) \n",
    "print('b=',p_beginning[1],'±',err_beginning[1])\n",
    "print('c=',p_beginning[2],'±',err_beginning[2])"
   ]
  },
  {
   "cell_type": "markdown",
   "metadata": {},
   "source": [
    "$g$ is twice the fitted $a$ parameter!"
   ]
  },
  {
   "cell_type": "code",
   "execution_count": 14,
   "metadata": {},
   "outputs": [
    {
     "data": {
      "text/plain": [
       "9.48095056717942"
      ]
     },
     "execution_count": 14,
     "metadata": {},
     "output_type": "execute_result"
    }
   ],
   "source": [
    "g=abs(p_beginning[0]*2)\n",
    "g"
   ]
  },
  {
   "cell_type": "markdown",
   "metadata": {},
   "source": [
    "Let us now fit the linear segment, too. Again, we slice the arrays based on the time."
   ]
  },
  {
   "cell_type": "code",
   "execution_count": 15,
   "metadata": {},
   "outputs": [
    {
     "name": "stdout",
     "output_type": "stream",
     "text": [
      "a= -60.16480247139714 ± 0.14593435419518141\n",
      "b= 18299.004687233457 ± 34.35533944874136\n"
     ]
    }
   ],
   "source": [
    "p_end,pcov =curve_fit(linear,tB[(tB>210)*(tB<260)],h[(tB>210)*(tB<260)]) # fitting points with t between 210 and 260\n",
    "err_end = sqrt(diag(pcov))\n",
    "# fitted parameter values and their error.\n",
    "print('a=',p_end[0],'±',err_end[0]) \n",
    "print('b=',p_end[1],'±',err_end[1])"
   ]
  },
  {
   "cell_type": "markdown",
   "metadata": {},
   "source": [
    "The velocity now corresponds to the first fitted parameter. We can get $alpha$ from $\\alpha=mg/v^2$."
   ]
  },
  {
   "cell_type": "code",
   "execution_count": 16,
   "metadata": {},
   "outputs": [
    {
     "data": {
      "text/plain": [
       "0.28811082561386603"
      ]
     },
     "execution_count": 16,
     "metadata": {},
     "output_type": "execute_result"
    }
   ],
   "source": [
    "v=p_end[0]\n",
    "m=110\n",
    "alpha= m*g/v**2\n",
    "alpha"
   ]
  },
  {
   "cell_type": "markdown",
   "metadata": {},
   "source": [
    "Let's make a plot of all our results."
   ]
  },
  {
   "cell_type": "code",
   "execution_count": 17,
   "metadata": {},
   "outputs": [
    {
     "data": {
      "image/png": "[encoded data removed]",
      "text/plain": [
       "<Figure size 576x432 with 1 Axes>"
      ]
     },
     "metadata": {
      "needs_background": "light"
     },
     "output_type": "display_data"
    }
   ],
   "source": [
    "figsize(8,4*3/2)\n",
    "plot(tB,h,label='data',linewidth=7,color='lightgreen')\n",
    "plot(tB,secondorder(tB,*p_beginning),label='parabole',linewidth=3,color='red')\n",
    "plot(tB,linear(tB,*p_end),label='linear',linestyle='dashed',linewidth=3,color='blue')\n",
    "ylim(0,40000)\n",
    "legend(fontsize=20)\n",
    "xlabel(r'$t[s]$',fontsize=20)\n",
    "ylabel(r'$h[m]$',fontsize=20)\n",
    "text(150,20000,r'$g=$'+str(g)+r' $m/s^2$',fontsize=20)\n",
    "text(150,15000,r'$\\alpha=$'+str(alpha)+r' $kg/m$',fontsize=20)\n",
    "grid()"
   ]
  },
  {
   "cell_type": "code",
   "execution_count": 18,
   "metadata": {},
   "outputs": [],
   "source": [
    "figsize(6,4) #resetting figure size to the default values"
   ]
  },
  {
   "cell_type": "code",
   "execution_count": null,
   "metadata": {},
   "outputs": [],
   "source": []
  }
 ],
 "metadata": {
  "hide_input": false,
  "kernelspec": {
   "display_name": "Python 3 (ipykernel)",
   "language": "python",
   "name": "python3"
  },
  "language_info": {
   "codemirror_mode": {
    "name": "ipython",
    "version": 3
   },
   "file_extension": ".py",
   "mimetype": "text/x-python",
   "name": "python",
   "nbconvert_exporter": "python",
   "pygments_lexer": "ipython3",
   "version": "3.9.13"
  },
  "name": "elemzes.ipynb"
 },
 "nbformat": 4,
 "nbformat_minor": 4
}
