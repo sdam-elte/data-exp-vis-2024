{
 "cells": [
  {
   "cell_type": "markdown",
   "metadata": {},
   "source": [
    "## Why not to submit a notebook?\n",
    "All assignments are a piece of work, that explains a story (almost). Therefore it needs to be clear, descriptive and preferably interactive as well for the viewer.\n",
    "\n",
    "There are multiple ways to create an output in which the results/figures can be emphasized and not the code itself, that generated it as it is in a notebook."
   ]
  },
  {
   "cell_type": "markdown",
   "metadata": {},
   "source": [
    "## 1. Convert it to an HTML file\n",
    "jupyter offers an easy way to convert a notebook into a (semi)static HTML file:\n",
    "``` bash\n",
    "jupyter nbconvert HowToSubmitAnAssignment.ipynb\n",
    "```\n",
    "[This Tutorialspoint site](https://www.tutorialspoint.com/jupyter/jupyter_converting_notebooks.htm) will give you more tips about conversions.\n",
    "\n",
    "One can also define the styling, colors or use a template\n",
    "\n",
    "### Useful options\n",
    " * --execute: executes all cells, it might be needed, to create the right image for the fiven file format\n",
    " * --no-input: exclude input cells (code cells)"
   ]
  },
  {
   "cell_type": "markdown",
   "metadata": {},
   "source": [
    "## 2. Convert it into another format\n",
    "Same as before but one can set the `--to` parameter to *pdf*, *latex*, *slides* etc..."
   ]
  },
  {
   "cell_type": "markdown",
   "metadata": {},
   "source": [
    "## 3. Create an output with visualization modules\n",
    "There are several modules that is intended for nicely formatted output and offers a structured layout\n",
    "\n",
    "\n",
    "* [Bokeh](https://docs.bokeh.org/en/latest/)\n",
    "* [Holoviews](https://holoviews.org/) a higher level wrapper for many modules\n",
    "* [Pyviz](https://pyviz.org/) a collection of modules using various engines (matplotlib, bokeh, plotly)\n",
    "\n",
    "* [Plotly](https://plotly.com/) for both python and R users\n",
    "\n",
    "or \n",
    "\n",
    "* [R shiny](https://shiny.rstudio.com/) for R users (but python code can be included as well)"
   ]
  },
  {
   "cell_type": "markdown",
   "metadata": {},
   "source": [
    "# Advanced codes\n",
    "As we will see on the [Interactive Visualization](Lecture/L-04-Interactive_Visualization/) lecture, all visualizations that can be revealed in a browser is a mixture of HTML, CSS, JS etc. codes. When using the jupyter notebook we are working in an environment that is defined by these coding languages.\n",
    "\n",
    "There is always a way to directly change these codes and change the outlook of the enviroment or the output.\n",
    "In the [presentationtricks](presentationtricks) folder there is collection of codes, that showcase how can one modify the default environment.\n",
    "\n"
   ]
  },
  {
   "cell_type": "code",
   "execution_count": null,
   "metadata": {},
   "outputs": [],
   "source": []
  }
 ],
 "metadata": {
  "kernelspec": {
   "display_name": "Python 3",
   "language": "python",
   "name": "python3"
  },
  "language_info": {
   "codemirror_mode": {
    "name": "ipython",
    "version": 3
   },
   "file_extension": ".py",
   "mimetype": "text/x-python",
   "name": "python",
   "nbconvert_exporter": "python",
   "pygments_lexer": "ipython3",
   "version": "3.8.8"
  }
 },
 "nbformat": 4,
 "nbformat_minor": 4
}
