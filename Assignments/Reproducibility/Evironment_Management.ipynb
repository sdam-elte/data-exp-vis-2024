{
 "cells": [
  {
   "cell_type": "markdown",
   "id": "cb7153f3",
   "metadata": {},
   "source": [
    "## Define the environment for your notebooks for all assignments"
   ]
  },
  {
   "cell_type": "markdown",
   "id": "8741f15a",
   "metadata": {},
   "source": [
    "Make your work reproducible by adding a description file with that one can recreate a compatible environment for running your code or notebook!\n",
    "\n",
    "You can use poetry, conda or any other package manager. The aim is to provide for the solution (notebook) of each assignment a file the describes the environment. When someone deploys the described environment he/she should be able to run the code in the notebook completely. \n",
    "\n",
    "See the example in https://github.com/sdam-elte/data-exp-vis-2024/tree/main/Lectures/Interactive_Visualization/Streamlit_example_using_poetry </br>\n",
    "There is a `pyproject.toml` that describes the environment\n",
    "<br> You can create the environment for streamlit_example.py with th `poetry install` command \n",
    "\n",
    "See further details at\n",
    "- https://conda.io/projects/conda/en/latest/user-guide/tasks/manage-environments.html\n",
    "or\n",
    "- https://python-poetry.org/docs/basic-usage/"
   ]
  },
  {
   "cell_type": "code",
   "execution_count": null,
   "id": "ebcc9378",
   "metadata": {},
   "outputs": [],
   "source": []
  }
 ],
 "metadata": {
  "kernelspec": {
   "display_name": "Python 3 (ipykernel)",
   "language": "python",
   "name": "python3"
  },
  "language_info": {
   "codemirror_mode": {
    "name": "ipython",
    "version": 3
   },
   "file_extension": ".py",
   "mimetype": "text/x-python",
   "name": "python",
   "nbconvert_exporter": "python",
   "pygments_lexer": "ipython3",
   "version": "3.9.13"
  }
 },
 "nbformat": 4,
 "nbformat_minor": 5
}
