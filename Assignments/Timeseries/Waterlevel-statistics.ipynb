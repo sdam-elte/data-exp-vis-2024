{
 "cells": [
  {
   "cell_type": "markdown",
   "metadata": {},
   "source": [
    "# Statistical analysis of water discharge of surface streams\n",
    "\n",
    "### Task:\n",
    "* find a dataset about a river's water level\n",
    "* analyse the various timeseries data by fitting the right/suitable distribution onto it.\n",
    "* draw some conclusions about the weather near the river/measurement station\n",
    "\n"
   ]
  },
  {
   "cell_type": "markdown",
   "metadata": {},
   "source": [
    "### A list of statistical distributions\n",
    "Fermi-Dirac statistics, Bose-Einstein statistics, Maxwell-Boltzmann distribution, Planck’s law\n",
    "Binomial distribution\n",
    "* number of successes of n independent experiments\n",
    "Cauchy distribution\n",
    "* ration of normally distributed variables\n",
    "* shape of spectral lines\n",
    "Gamma distribution\n",
    "Geometric distribution\n",
    "* number of trials before the first success in Bernoulli trials\n",
    "Chi-squared distribution\n",
    "* sum of squares of independent standard normal variables\n",
    "* how to construct confidence intervals\n",
    " \n",
    "Exponential distribution\n",
    "Gumbel distribution\n",
    "* expectation value of the maximum/minimum of samples drawn from a parent distribution with exp tail\n",
    "* Lévy distribution\n",
    "* heavy-tailed distribution\n",
    "\n",
    "Logistic distribution\n",
    " \n",
    "* categorical dependent variables\n",
    "* logistic regression\n",
    " \n",
    "Log normal distribution\n",
    " \n",
    "* product of many independent variables\n",
    "* size distribution of particles\n",
    " \n",
    "Normal distribution\n",
    " \n",
    "Pareto distribution\n",
    "* heavy-tailed, decreasing power-law\n",
    "* degree distribution of social networks\n",
    " \n",
    "Poisson distribution\n",
    " \n",
    "Student t\n",
    " \n",
    "* average of a normally distributed population\n",
    "* n is small\n",
    "Uniform distribution\n",
    "Weibull distribution\n",
    " * any of n iid variables being above a certain limit\n",
    "* first failure of a system of n identical components"
   ]
  },
  {
   "cell_type": "markdown",
   "metadata": {},
   "source": [
    "## Excercise 1\n",
    "\n",
    "For the purposes of the current excercises, select a stream from a rainy area with relatively small discharge so that the effect of short but strong storms is visible. Good choices are small rivers from the north-eastern US, e.g. site 01589440. Retrieve at least 10 years of data.\n",
    "\n",
    "Large amounts of historical surface water data are available from the United States Geological Survey (USGS) at https://waterdata.usgs.gov/nwis The goal of the project is to retrieve samples from the web interface manually, and then later  automate the process by calling the web service as described at https://help.waterdata.usgs.gov/faq/automated-retrievals.\n",
    "\n",
    "The service is explained in more detail here: https://waterservices.usgs.gov/rest/Site-Service.html\n",
    "\n",
    "#### or\n",
    "\n",
    "Find a database of historic water level measurement of the Danube at Budapest!"
   ]
  },
  {
   "cell_type": "code",
   "execution_count": null,
   "metadata": {},
   "outputs": [],
   "source": []
  },
  {
   "cell_type": "markdown",
   "metadata": {},
   "source": [
    "## Excercise 2\n",
    "\n",
    "Load the downloaded data file into the processing environment paying attention to handling time stamps and perfoming the necessary data type conversions (converting dates to floating point numbers such as unix time stamp or julian date sometimes makes handling time series easier). Plot the data for a certain interval to show that the effect of storms is clearly visible!"
   ]
  },
  {
   "cell_type": "code",
   "execution_count": null,
   "metadata": {
    "tags": []
   },
   "outputs": [],
   "source": []
  },
  {
   "cell_type": "markdown",
   "metadata": {},
   "source": [
    "## Excercise 3\n",
    "\n",
    "Plot the histogram of water discharge values. Fit the data with an appropriate distribution function and bring arguments in favor of the choice of function!"
   ]
  },
  {
   "cell_type": "code",
   "execution_count": null,
   "metadata": {
    "tags": []
   },
   "outputs": [],
   "source": []
  },
  {
   "cell_type": "markdown",
   "metadata": {},
   "source": [
    "## Excercise 4\n",
    "\n",
    "In case of small streams, storms and passing weather fronts with rain can significantly increase water discharge on a short time scale. Develop a simple algorithm to detect rainy events in the data. Plot the original time series and mark rainy events!"
   ]
  },
  {
   "cell_type": "code",
   "execution_count": null,
   "metadata": {
    "collapsed": true,
    "jupyter": {
     "outputs_hidden": true
    }
   },
   "outputs": [],
   "source": []
  },
  {
   "cell_type": "markdown",
   "metadata": {},
   "source": [
    "## Excercise 5\n",
    "\n",
    "Water discharge increases significantly during rain producing maxima in the time series. Plot the distribution of maximum values and fit with an appropriate function. Bring arguments to support the choice of probabilistic model!"
   ]
  },
  {
   "cell_type": "code",
   "execution_count": null,
   "metadata": {
    "collapsed": true,
    "jupyter": {
     "outputs_hidden": true
    }
   },
   "outputs": [],
   "source": []
  },
  {
   "cell_type": "markdown",
   "metadata": {},
   "source": [
    "## Excercise 6\n",
    "\n",
    "Once rainy events are detected, plot the distribution of the length of sunny intervals between rains. Fit the distribution with an appropriate function!"
   ]
  },
  {
   "cell_type": "code",
   "execution_count": null,
   "metadata": {
    "collapsed": true,
    "jupyter": {
     "outputs_hidden": true
    }
   },
   "outputs": [],
   "source": []
  },
  {
   "cell_type": "markdown",
   "metadata": {},
   "source": [
    "## Excercise 7\n",
    "\n",
    "What is the maximum of water discharge in an arbitrarily chosen period of one year? Calculate the maximum of water discharge due to rain in a rolling window of 1 year, plot its distribution and fit with an appropriate function!"
   ]
  },
  {
   "cell_type": "code",
   "execution_count": null,
   "metadata": {
    "collapsed": true,
    "jupyter": {
     "outputs_hidden": true
    }
   },
   "outputs": [],
   "source": []
  },
  {
   "cell_type": "markdown",
   "metadata": {},
   "source": [
    "## Excercise 8\n",
    "\n",
    "How many time does it rain in a month? (Again use a rolling window function) Calculate and plot the distribution and fit with an appropriate function!"
   ]
  },
  {
   "cell_type": "code",
   "execution_count": null,
   "metadata": {
    "collapsed": true,
    "jupyter": {
     "outputs_hidden": true
    }
   },
   "outputs": [],
   "source": []
  },
  {
   "cell_type": "markdown",
   "metadata": {},
   "source": [
    "## Excercise 9\n",
    "\n",
    "Find the measuring station you used in the excercises above on the map. Find another measurement station about 100-200 kms from it and download the data! Try to estimate the typical time it takes for weather fronts to travel the distance between the two measuring stations!"
   ]
  },
  {
   "cell_type": "code",
   "execution_count": null,
   "metadata": {
    "collapsed": true,
    "jupyter": {
     "outputs_hidden": true
    }
   },
   "outputs": [],
   "source": []
  }
 ],
 "metadata": {
  "kernelspec": {
   "display_name": "Python 3 (ipykernel)",
   "language": "python",
   "name": "python3"
  },
  "language_info": {
   "codemirror_mode": {
    "name": "ipython",
    "version": 3
   },
   "file_extension": ".py",
   "mimetype": "text/x-python",
   "name": "python",
   "nbconvert_exporter": "python",
   "pygments_lexer": "ipython3",
   "version": "3.9.13"
  },
  "varInspector": {
   "cols": {
    "lenName": 16,
    "lenType": 16,
    "lenVar": 40
   },
   "kernels_config": {
    "python": {
     "delete_cmd_postfix": "",
     "delete_cmd_prefix": "del ",
     "library": "var_list.py",
     "varRefreshCmd": "print(var_dic_list())"
    },
    "r": {
     "delete_cmd_postfix": ") ",
     "delete_cmd_prefix": "rm(",
     "library": "var_list.r",
     "varRefreshCmd": "cat(var_dic_list()) "
    }
   },
   "types_to_exclude": [
    "module",
    "function",
    "builtin_function_or_method",
    "instance",
    "_Feature"
   ],
   "window_display": false
  }
 },
 "nbformat": 4,
 "nbformat_minor": 4
}
