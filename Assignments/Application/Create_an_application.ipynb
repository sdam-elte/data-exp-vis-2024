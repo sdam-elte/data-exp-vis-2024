{
 "cells": [
  {
   "cell_type": "markdown",
   "id": "7c5e3440",
   "metadata": {},
   "source": [
    "In this assignment you have to create an application using one of the popular tools such as:\n",
    "* streamlit: https://streamlit.io/\n",
    "* Shiny: https://shiny.posit.co/\n",
    "* Plotly dash: https://dash.plotly.com/\n",
    "* Voila: https://voila.readthedocs.io/en/stable/using.html\n",
    "* Panel: https://panel.holoviz.org/\n",
    "\n",
    "Choose any of the previous assignments to create an application for its topic!\n",
    "\n",
    "The application itself doesn't have to be too complicated, you just have to show that you can create one with some interactive features."
   ]
  },
  {
   "cell_type": "markdown",
   "id": "c7c59d98",
   "metadata": {},
   "source": [
    "![shiny](Shiny.png)\n",
    "![Panle](Panel.png)\n",
    "![Streamlit](Streamlit.png)"
   ]
  },
  {
   "cell_type": "code",
   "execution_count": null,
   "id": "b6baedb7",
   "metadata": {},
   "outputs": [],
   "source": []
  }
 ],
 "metadata": {
  "kernelspec": {
   "display_name": "Python 3 (ipykernel)",
   "language": "python",
   "name": "python3"
  },
  "language_info": {
   "codemirror_mode": {
    "name": "ipython",
    "version": 3
   },
   "file_extension": ".py",
   "mimetype": "text/x-python",
   "name": "python",
   "nbconvert_exporter": "python",
   "pygments_lexer": "ipython3",
   "version": "3.9.13"
  }
 },
 "nbformat": 4,
 "nbformat_minor": 5
}
