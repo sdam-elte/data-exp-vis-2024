{
 "cells": [
  {
   "cell_type": "markdown",
   "metadata": {},
   "source": [
    "## Count the cars in the street\n",
    "\n",
    "There is a multitude of live camera streams to find and access on the Internet. In the [https://www.idokep.hu](https://www.idokep.hu) weather forecast site two of them have a good view of streets along the Danube:\n",
    "\n",
    "* `https://stream.idokep.hu/live/hotelvictoria/s_orig.m3u8`\n",
    "* `https://stream.idokep.hu/live/hotelvictoria2/s_orig.m3u8`\n",
    "\n",
    "<img src=\"data/camera_stream.png\" width='300px'>\n",
    "\n",
    "Choose a stream you like and try to identify parts that are in motion in the video. Try track the movement of those parts like cars, bicycles or ships. Do some statistics like how long silent periods are, how many objects of interest are shown at once or how the speed of these objects is distributed. If you manage to carry out measurements in a longer period check if you can see patterns in the temporal evolutions, the source of which is the human factor."
   ]
  },
  {
   "cell_type": "code",
   "execution_count": null,
   "metadata": {},
   "outputs": [],
   "source": [
    "%pylab inline\n",
    "from skimage import io, morphology, measure, feature, filters\n",
    "from sklearn.cluster import KMeans\n",
    "import cv2\n",
    "import scipy.signal\n",
    "\n",
    "import matplotlib.image as mpimg"
   ]
  },
  {
   "cell_type": "code",
   "execution_count": null,
   "metadata": {},
   "outputs": [],
   "source": []
  }
 ],
 "metadata": {
  "kernelspec": {
   "display_name": "Python 3",
   "language": "python",
   "name": "python3"
  },
  "language_info": {
   "codemirror_mode": {
    "name": "ipython",
    "version": 3
   },
   "file_extension": ".py",
   "mimetype": "text/x-python",
   "name": "python",
   "nbconvert_exporter": "python",
   "pygments_lexer": "ipython3",
   "version": "3.8.8"
  }
 },
 "nbformat": 4,
 "nbformat_minor": 4
}
