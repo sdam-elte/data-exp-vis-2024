{
 "cells": [
  {
   "cell_type": "markdown",
   "metadata": {},
   "source": [
    "### Task\n",
    "\n",
    "Imagine that you are a data analyst at a company that sells inflatable pool donuts. Your next task is to determine which color of donuts people like the most. Try to analyse the images for the pool donuts!"
   ]
  },
  {
   "cell_type": "code",
   "execution_count": null,
   "metadata": {
    "ExecuteTime": {
     "end_time": "2021-04-08T11:31:23.131640Z",
     "start_time": "2021-04-08T11:31:18.807941Z"
    }
   },
   "outputs": [],
   "source": [
    "%pylab inline\n",
    "\n",
    "import os\n",
    "import cv2\n",
    "import scipy.signal\n",
    "#from scipy.misc import imread\n",
    "# import matplotlib as mpl\n",
    "# from matplotlib import pyplot as plt\n",
    "# from mpl_toolkits.mplot3d import Axes3D\n",
    "from sklearn.cluster import KMeans\n",
    "from collections import Counter\n",
    "from skimage.color import rgb2lab, deltaE_cie76\n",
    "\n",
    "#plt.rcParams['text.usetex'] = True"
   ]
  },
  {
   "cell_type": "markdown",
   "metadata": {},
   "source": [
    "### Load images"
   ]
  },
  {
   "cell_type": "code",
   "execution_count": null,
   "metadata": {},
   "outputs": [],
   "source": [
    "imagedir = '/v/courses/dataexpviz.public/Datasets/D-Image_Exploration/'"
   ]
  },
  {
   "cell_type": "code",
   "execution_count": null,
   "metadata": {
    "ExecuteTime": {
     "end_time": "2021-04-08T11:31:31.982289Z",
     "start_time": "2021-04-08T11:31:31.074364Z"
    }
   },
   "outputs": [],
   "source": [
    "f, axs = subplots(3, 1, figsize=(15, 10))\n",
    "for i in range(1, 4):\n",
    "    img = cv2.imread(os.path.join(imagedir, 'stuffed_pool%d.png'%i))\n",
    "    pool = cv2.cvtColor(img, cv2.COLOR_BGR2RGB)\n",
    "    axs[i-1].imshow(pool)\n"
   ]
  },
  {
   "cell_type": "code",
   "execution_count": null,
   "metadata": {},
   "outputs": [],
   "source": []
  }
 ],
 "metadata": {
  "finalized": {
   "timestamp": 1650986419835,
   "trusted": true
  },
  "kernelspec": {
   "display_name": "Python 3",
   "language": "python",
   "name": "python3"
  },
  "language_info": {
   "codemirror_mode": {
    "name": "ipython",
    "version": 3
   },
   "file_extension": ".py",
   "mimetype": "text/x-python",
   "name": "python",
   "nbconvert_exporter": "python",
   "pygments_lexer": "ipython3",
   "version": "3.8.8"
  }
 },
 "nbformat": 4,
 "nbformat_minor": 2
}
