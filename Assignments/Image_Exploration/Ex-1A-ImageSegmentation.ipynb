{
 "cells": [
  {
   "cell_type": "markdown",
   "metadata": {},
   "source": [
    "## Task\n",
    "\n",
    "Use the image `candy.jpg` for this task!\n",
    "\n",
    "Count the how many:\n",
    "* colors are on the picture\n",
    "* what is the proportion of each type of candy on the picture!\n"
   ]
  },
  {
   "cell_type": "code",
   "execution_count": null,
   "metadata": {
    "ExecuteTime": {
     "end_time": "2021-04-08T11:30:21.495897Z",
     "start_time": "2021-04-08T11:30:11.822861Z"
    }
   },
   "outputs": [],
   "source": [
    "%pylab inline\n",
    "\n",
    "import os\n",
    "import cv2\n",
    "import scipy.signal\n",
    "\n",
    "#plt.rcParams['text.usetex'] = True"
   ]
  },
  {
   "cell_type": "code",
   "execution_count": null,
   "metadata": {},
   "outputs": [],
   "source": [
    "image = '/v/courses/dataexpviz.public/Datasets/D-Image_Exploration/candy.jpg'"
   ]
  }
 ],
 "metadata": {
  "finalized": {
   "timestamp": 1650986428032,
   "trusted": true
  },
  "kernelspec": {
   "display_name": "Python 3",
   "language": "python",
   "name": "python3"
  },
  "language_info": {
   "codemirror_mode": {
    "name": "ipython",
    "version": 3
   },
   "file_extension": ".py",
   "mimetype": "text/x-python",
   "name": "python",
   "nbconvert_exporter": "python",
   "pygments_lexer": "ipython3",
   "version": "3.8.8"
  }
 },
 "nbformat": 4,
 "nbformat_minor": 2
}
