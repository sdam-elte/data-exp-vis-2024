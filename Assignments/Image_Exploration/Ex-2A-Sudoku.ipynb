{
 "cells": [
  {
   "cell_type": "markdown",
   "metadata": {},
   "source": [
    "## Sudoku\n",
    "\n",
    "<img src=\"data/sudoku.jpg\" width='200px'>\n",
    "\n",
    "Load an RGB image from `sudoku.jpg` or an arbitrary file from `/home/course/ImageExploration/Sudoku/` folder. Convert it to grayscale. Try to find the border of the sudoku table and correct for the perspective until the table looks as rectangular as possible. Check if the image suffers from the camera lens distortion. Find the squares containing numbers and propose an algorythm to recognize the numbers?\n",
    "\n",
    "* Hint: we will need a transformation at some point https://www.youtube.com/watch?v=PtCQH93GucA"
   ]
  },
  {
   "cell_type": "code",
   "execution_count": null,
   "metadata": {},
   "outputs": [],
   "source": [
    "import cv2\n",
    "import scipy.signal\n",
    "import numpy as np\n",
    "from matplotlib import pyplot as plt\n",
    "import math as m\n",
    "\n",
    "from sklearn.cluster import KMeans\n",
    "from collections import Counter\n",
    "from skimage.color import rgb2lab, deltaE_cie76\n",
    "import os"
   ]
  },
  {
   "cell_type": "markdown",
   "metadata": {},
   "source": [
    "### Load image"
   ]
  },
  {
   "cell_type": "code",
   "execution_count": null,
   "metadata": {},
   "outputs": [],
   "source": [
    "img = cv2.imread('/v/courses/dataexpviz.public/Datasets/D-Image_Exploration/sudoku.jpg')\n",
    "\n",
    "image = cv2.cvtColor(img, cv2.COLOR_BGR2RGB) # convert to RGB\n",
    "plt.imshow(image)"
   ]
  },
  {
   "cell_type": "code",
   "execution_count": null,
   "metadata": {},
   "outputs": [],
   "source": []
  }
 ],
 "metadata": {
  "kernelspec": {
   "display_name": "Python 3",
   "language": "python",
   "name": "python3"
  },
  "language_info": {
   "codemirror_mode": {
    "name": "ipython",
    "version": 3
   },
   "file_extension": ".py",
   "mimetype": "text/x-python",
   "name": "python",
   "nbconvert_exporter": "python",
   "pygments_lexer": "ipython3",
   "version": "3.8.8"
  }
 },
 "nbformat": 4,
 "nbformat_minor": 2
}
