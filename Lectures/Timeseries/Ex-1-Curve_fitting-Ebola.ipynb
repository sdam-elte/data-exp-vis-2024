{
 "cells": [
  {
   "cell_type": "markdown",
   "metadata": {},
   "source": [
    "## 01 - How fast does the Ebola spread?\n",
    "\n",
    "In the `data/ebola.txt` file there is a timeseries about a recent ebola outbreak for several countries.\n",
    "\n",
    "- Let's plot the number of total deaths as the function of time.\n",
    "- Try to fit an exponential function to the plotted curve! $$f(t,A,\\beta)=A\\mathrm{e}^{\\beta t}$$   \n",
    "\n",
    "- Estimate (extrapolate) from the curve what would have happened if the international and other organizations didn't help to prevent it! When would have humanity become extinct?"
   ]
  },
  {
   "cell_type": "code",
   "execution_count": 2,
   "metadata": {
    "ExecuteTime": {
     "end_time": "2020-10-05T09:00:54.820252Z",
     "start_time": "2020-10-05T09:00:54.522408Z"
    }
   },
   "outputs": [
    {
     "name": "stdout",
     "output_type": "stream",
     "text": [
      "Populating the interactive namespace from numpy and matplotlib\n"
     ]
    }
   ],
   "source": [
    "%pylab inline\n",
    "from scipy.optimize import curve_fit \n",
    "import pandas as pd"
   ]
  },
  {
   "cell_type": "code",
   "execution_count": 83,
   "metadata": {
    "ExecuteTime": {
     "end_time": "2020-10-05T12:00:07.954893Z",
     "start_time": "2020-10-05T12:00:07.928131Z"
    }
   },
   "outputs": [],
   "source": [
    "df = pd.read_csv('data/ebola.csv', header=11, sep=\" \") # load data into a dataframe"
   ]
  },
  {
   "cell_type": "code",
   "execution_count": 84,
   "metadata": {
    "ExecuteTime": {
     "end_time": "2020-10-05T12:00:08.127347Z",
     "start_time": "2020-10-05T12:00:08.096850Z"
    }
   },
   "outputs": [
    {
     "data": {
      "text/html": [
       "<div>\n",
       "<style scoped>\n",
       "    .dataframe tbody tr th:only-of-type {\n",
       "        vertical-align: middle;\n",
       "    }\n",
       "\n",
       "    .dataframe tbody tr th {\n",
       "        vertical-align: top;\n",
       "    }\n",
       "\n",
       "    .dataframe thead th {\n",
       "        text-align: right;\n",
       "    }\n",
       "</style>\n",
       "<table border=\"1\" class=\"dataframe\">\n",
       "  <thead>\n",
       "    <tr style=\"text-align: right;\">\n",
       "      <th></th>\n",
       "      <th>#Day</th>\n",
       "      <th>GuinSus</th>\n",
       "      <th>GuinDeath</th>\n",
       "      <th>GuinLab</th>\n",
       "      <th>LibSus</th>\n",
       "      <th>LibDeath</th>\n",
       "      <th>LibLab</th>\n",
       "      <th>NigSus</th>\n",
       "      <th>NigDeath</th>\n",
       "      <th>NigLab</th>\n",
       "      <th>SLSus</th>\n",
       "      <th>SLDeath</th>\n",
       "      <th>SLLab</th>\n",
       "      <th>SenSus</th>\n",
       "      <th>SenDeath</th>\n",
       "      <th>SenLab</th>\n",
       "    </tr>\n",
       "  </thead>\n",
       "  <tbody>\n",
       "    <tr>\n",
       "      <th>0</th>\n",
       "      <td>0</td>\n",
       "      <td>86</td>\n",
       "      <td>59</td>\n",
       "      <td>0</td>\n",
       "      <td>0</td>\n",
       "      <td>0</td>\n",
       "      <td>0</td>\n",
       "      <td>0</td>\n",
       "      <td>0</td>\n",
       "      <td>0</td>\n",
       "      <td>0</td>\n",
       "      <td>0</td>\n",
       "      <td>0</td>\n",
       "      <td>0</td>\n",
       "      <td>0</td>\n",
       "      <td>0</td>\n",
       "    </tr>\n",
       "    <tr>\n",
       "      <th>1</th>\n",
       "      <td>1</td>\n",
       "      <td>86</td>\n",
       "      <td>60</td>\n",
       "      <td>1</td>\n",
       "      <td>0</td>\n",
       "      <td>0</td>\n",
       "      <td>0</td>\n",
       "      <td>0</td>\n",
       "      <td>0</td>\n",
       "      <td>0</td>\n",
       "      <td>0</td>\n",
       "      <td>0</td>\n",
       "      <td>0</td>\n",
       "      <td>0</td>\n",
       "      <td>0</td>\n",
       "      <td>0</td>\n",
       "    </tr>\n",
       "    <tr>\n",
       "      <th>2</th>\n",
       "      <td>2</td>\n",
       "      <td>103</td>\n",
       "      <td>66</td>\n",
       "      <td>4</td>\n",
       "      <td>0</td>\n",
       "      <td>0</td>\n",
       "      <td>0</td>\n",
       "      <td>0</td>\n",
       "      <td>0</td>\n",
       "      <td>0</td>\n",
       "      <td>0</td>\n",
       "      <td>0</td>\n",
       "      <td>0</td>\n",
       "      <td>0</td>\n",
       "      <td>0</td>\n",
       "      <td>0</td>\n",
       "    </tr>\n",
       "    <tr>\n",
       "      <th>3</th>\n",
       "      <td>6</td>\n",
       "      <td>112</td>\n",
       "      <td>70</td>\n",
       "      <td>24</td>\n",
       "      <td>0</td>\n",
       "      <td>0</td>\n",
       "      <td>0</td>\n",
       "      <td>0</td>\n",
       "      <td>0</td>\n",
       "      <td>0</td>\n",
       "      <td>0</td>\n",
       "      <td>0</td>\n",
       "      <td>0</td>\n",
       "      <td>0</td>\n",
       "      <td>0</td>\n",
       "      <td>0</td>\n",
       "    </tr>\n",
       "    <tr>\n",
       "      <th>4</th>\n",
       "      <td>7</td>\n",
       "      <td>122</td>\n",
       "      <td>80</td>\n",
       "      <td>24</td>\n",
       "      <td>0</td>\n",
       "      <td>0</td>\n",
       "      <td>0</td>\n",
       "      <td>0</td>\n",
       "      <td>0</td>\n",
       "      <td>0</td>\n",
       "      <td>0</td>\n",
       "      <td>0</td>\n",
       "      <td>0</td>\n",
       "      <td>0</td>\n",
       "      <td>0</td>\n",
       "      <td>0</td>\n",
       "    </tr>\n",
       "  </tbody>\n",
       "</table>\n",
       "</div>"
      ],
      "text/plain": [
       "   #Day  GuinSus  GuinDeath  GuinLab  LibSus  LibDeath  LibLab  NigSus  \\\n",
       "0     0       86         59        0       0         0       0       0   \n",
       "1     1       86         60        1       0         0       0       0   \n",
       "2     2      103         66        4       0         0       0       0   \n",
       "3     6      112         70       24       0         0       0       0   \n",
       "4     7      122         80       24       0         0       0       0   \n",
       "\n",
       "   NigDeath  NigLab  SLSus  SLDeath  SLLab  SenSus  SenDeath  SenLab  \n",
       "0         0       0      0        0      0       0         0       0  \n",
       "1         0       0      0        0      0       0         0       0  \n",
       "2         0       0      0        0      0       0         0       0  \n",
       "3         0       0      0        0      0       0         0       0  \n",
       "4         0       0      0        0      0       0         0       0  "
      ]
     },
     "execution_count": 84,
     "metadata": {},
     "output_type": "execute_result"
    }
   ],
   "source": [
    "df.head()"
   ]
  },
  {
   "cell_type": "code",
   "execution_count": 85,
   "metadata": {
    "ExecuteTime": {
     "end_time": "2020-10-05T12:00:08.307453Z",
     "start_time": "2020-10-05T12:00:08.266996Z"
    }
   },
   "outputs": [
    {
     "data": {
      "text/html": [
       "<div>\n",
       "<style scoped>\n",
       "    .dataframe tbody tr th:only-of-type {\n",
       "        vertical-align: middle;\n",
       "    }\n",
       "\n",
       "    .dataframe tbody tr th {\n",
       "        vertical-align: top;\n",
       "    }\n",
       "\n",
       "    .dataframe thead th {\n",
       "        text-align: right;\n",
       "    }\n",
       "</style>\n",
       "<table border=\"1\" class=\"dataframe\">\n",
       "  <thead>\n",
       "    <tr style=\"text-align: right;\">\n",
       "      <th></th>\n",
       "      <th>GuinSus</th>\n",
       "      <th>GuinDeath</th>\n",
       "      <th>GuinLab</th>\n",
       "      <th>LibSus</th>\n",
       "      <th>LibDeath</th>\n",
       "      <th>LibLab</th>\n",
       "      <th>NigSus</th>\n",
       "      <th>NigDeath</th>\n",
       "      <th>NigLab</th>\n",
       "      <th>SLSus</th>\n",
       "      <th>SLDeath</th>\n",
       "      <th>SLLab</th>\n",
       "      <th>SenSus</th>\n",
       "      <th>SenDeath</th>\n",
       "      <th>SenLab</th>\n",
       "    </tr>\n",
       "    <tr>\n",
       "      <th>#Day</th>\n",
       "      <th></th>\n",
       "      <th></th>\n",
       "      <th></th>\n",
       "      <th></th>\n",
       "      <th></th>\n",
       "      <th></th>\n",
       "      <th></th>\n",
       "      <th></th>\n",
       "      <th></th>\n",
       "      <th></th>\n",
       "      <th></th>\n",
       "      <th></th>\n",
       "      <th></th>\n",
       "      <th></th>\n",
       "      <th></th>\n",
       "    </tr>\n",
       "  </thead>\n",
       "  <tbody>\n",
       "    <tr>\n",
       "      <th>0</th>\n",
       "      <td>86</td>\n",
       "      <td>59</td>\n",
       "      <td>0</td>\n",
       "      <td>0</td>\n",
       "      <td>0</td>\n",
       "      <td>0</td>\n",
       "      <td>0</td>\n",
       "      <td>0</td>\n",
       "      <td>0</td>\n",
       "      <td>0</td>\n",
       "      <td>0</td>\n",
       "      <td>0</td>\n",
       "      <td>0</td>\n",
       "      <td>0</td>\n",
       "      <td>0</td>\n",
       "    </tr>\n",
       "    <tr>\n",
       "      <th>1</th>\n",
       "      <td>86</td>\n",
       "      <td>60</td>\n",
       "      <td>1</td>\n",
       "      <td>0</td>\n",
       "      <td>0</td>\n",
       "      <td>0</td>\n",
       "      <td>0</td>\n",
       "      <td>0</td>\n",
       "      <td>0</td>\n",
       "      <td>0</td>\n",
       "      <td>0</td>\n",
       "      <td>0</td>\n",
       "      <td>0</td>\n",
       "      <td>0</td>\n",
       "      <td>0</td>\n",
       "    </tr>\n",
       "    <tr>\n",
       "      <th>2</th>\n",
       "      <td>103</td>\n",
       "      <td>66</td>\n",
       "      <td>4</td>\n",
       "      <td>0</td>\n",
       "      <td>0</td>\n",
       "      <td>0</td>\n",
       "      <td>0</td>\n",
       "      <td>0</td>\n",
       "      <td>0</td>\n",
       "      <td>0</td>\n",
       "      <td>0</td>\n",
       "      <td>0</td>\n",
       "      <td>0</td>\n",
       "      <td>0</td>\n",
       "      <td>0</td>\n",
       "    </tr>\n",
       "    <tr>\n",
       "      <th>6</th>\n",
       "      <td>112</td>\n",
       "      <td>70</td>\n",
       "      <td>24</td>\n",
       "      <td>0</td>\n",
       "      <td>0</td>\n",
       "      <td>0</td>\n",
       "      <td>0</td>\n",
       "      <td>0</td>\n",
       "      <td>0</td>\n",
       "      <td>0</td>\n",
       "      <td>0</td>\n",
       "      <td>0</td>\n",
       "      <td>0</td>\n",
       "      <td>0</td>\n",
       "      <td>0</td>\n",
       "    </tr>\n",
       "    <tr>\n",
       "      <th>7</th>\n",
       "      <td>122</td>\n",
       "      <td>80</td>\n",
       "      <td>24</td>\n",
       "      <td>0</td>\n",
       "      <td>0</td>\n",
       "      <td>0</td>\n",
       "      <td>0</td>\n",
       "      <td>0</td>\n",
       "      <td>0</td>\n",
       "      <td>0</td>\n",
       "      <td>0</td>\n",
       "      <td>0</td>\n",
       "      <td>0</td>\n",
       "      <td>0</td>\n",
       "      <td>0</td>\n",
       "    </tr>\n",
       "  </tbody>\n",
       "</table>\n",
       "</div>"
      ],
      "text/plain": [
       "      GuinSus  GuinDeath  GuinLab  LibSus  LibDeath  LibLab  NigSus  NigDeath  \\\n",
       "#Day                                                                            \n",
       "0          86         59        0       0         0       0       0         0   \n",
       "1          86         60        1       0         0       0       0         0   \n",
       "2         103         66        4       0         0       0       0         0   \n",
       "6         112         70       24       0         0       0       0         0   \n",
       "7         122         80       24       0         0       0       0         0   \n",
       "\n",
       "      NigLab  SLSus  SLDeath  SLLab  SenSus  SenDeath  SenLab  \n",
       "#Day                                                           \n",
       "0          0      0        0      0       0         0       0  \n",
       "1          0      0        0      0       0         0       0  \n",
       "2          0      0        0      0       0         0       0  \n",
       "6          0      0        0      0       0         0       0  \n",
       "7          0      0        0      0       0         0       0  "
      ]
     },
     "execution_count": 85,
     "metadata": {},
     "output_type": "execute_result"
    }
   ],
   "source": [
    "# Calculate the total number of deaths\n",
    "# the simplest is to chose the #Day col as the index and the sum every 'Death' column\n",
    "df = df.set_index(\"#Day\")\n",
    "df.head()"
   ]
  },
  {
   "cell_type": "code",
   "execution_count": 72,
   "metadata": {
    "ExecuteTime": {
     "end_time": "2020-10-05T09:20:50.482089Z",
     "start_time": "2020-10-05T09:20:50.474454Z"
    }
   },
   "outputs": [],
   "source": [
    "#and sum them now\n",
    "df['Total Deaths'] = df.loc[:,df.columns[1::3]].sum(axis=1)"
   ]
  },
  {
   "cell_type": "code",
   "execution_count": 73,
   "metadata": {
    "ExecuteTime": {
     "end_time": "2020-10-05T09:20:51.799619Z",
     "start_time": "2020-10-05T09:20:51.545928Z"
    }
   },
   "outputs": [
    {
     "data": {
      "text/plain": [
       "[<matplotlib.lines.Line2D at 0x7fb73f3140f0>]"
      ]
     },
     "execution_count": 73,
     "metadata": {},
     "output_type": "execute_result"
    },
    {
     "data": {
      "image/png": "[encoded data removed]",
      "text/plain": [
       "<Figure size 432x288 with 1 Axes>"
      ]
     },
     "metadata": {
      "needs_background": "light"
     },
     "output_type": "display_data"
    }
   ],
   "source": [
    "plot(df.index, df['Total Deaths'])"
   ]
  },
  {
   "cell_type": "code",
   "execution_count": 74,
   "metadata": {
    "ExecuteTime": {
     "end_time": "2020-10-05T09:20:54.957992Z",
     "start_time": "2020-10-05T09:20:54.816012Z"
    }
   },
   "outputs": [],
   "source": [
    "params,pcov=curve_fit(lambda x,A,alpha:A*exp(alpha*x),\n",
    "                      df.index,  df['Total Deaths'], p0=[0.1,0.1])"
   ]
  },
  {
   "cell_type": "code",
   "execution_count": 76,
   "metadata": {
    "ExecuteTime": {
     "end_time": "2020-10-05T09:23:49.997628Z",
     "start_time": "2020-10-05T09:23:49.688062Z"
    }
   },
   "outputs": [
    {
     "data": {
      "image/png": "[encoded data removed]",
      "text/plain": [
       "<Figure size 432x288 with 1 Axes>"
      ]
     },
     "metadata": {
      "needs_background": "light"
     },
     "output_type": "display_data"
    }
   ],
   "source": [
    "plot(df.index, df['Total Deaths'],'o',label='Number of total deaths')\n",
    "plot(df.index, (lambda x,A,alpha:A*exp(alpha*x))(df.index,*params)\n",
    "     ,'-',label='fitted exponential')\n",
    "xlabel('# Days')\n",
    "ylabel('Number of deaths')\n",
    "legend(loc='upper left')\n",
    "grid()"
   ]
  },
  {
   "cell_type": "code",
   "execution_count": 81,
   "metadata": {
    "ExecuteTime": {
     "end_time": "2020-10-05T09:26:31.987644Z",
     "start_time": "2020-10-05T09:26:31.596626Z"
    },
    "scrolled": true
   },
   "outputs": [
    {
     "data": {
      "image/png": "[encoded data removed]",
      "text/plain": [
       "<Figure size 432x288 with 1 Axes>"
      ]
     },
     "metadata": {
      "needs_background": "light"
     },
     "output_type": "display_data"
    }
   ],
   "source": [
    "t2=linspace(0,1000,40)\n",
    "semilogy(t2,\n",
    "         (lambda x,A,alpha:A*exp(alpha*x))(t2,*params), label=\"The spread of the virus\")\n",
    "xlabel('# Days')\n",
    "ylabel('Number of deaths')\n",
    "semilogy(t2,6e9*t2**0, label=\"Earth's population\")\n",
    "legend(loc=\"lower right\")\n",
    "grid()"
   ]
  },
  {
   "cell_type": "markdown",
   "metadata": {},
   "source": [
    "Approximately 800 days have to pass until the last human dies in ebola, assuming that nothing prevents it's spread and fatality rate etc..."
   ]
  },
  {
   "cell_type": "code",
   "execution_count": null,
   "metadata": {},
   "outputs": [],
   "source": []
  }
 ],
 "metadata": {
  "hide_input": false,
  "kernelspec": {
   "display_name": "Python 3",
   "language": "python",
   "name": "python3"
  },
  "language_info": {
   "codemirror_mode": {
    "name": "ipython",
    "version": 3
   },
   "file_extension": ".py",
   "mimetype": "text/x-python",
   "name": "python",
   "nbconvert_exporter": "python",
   "pygments_lexer": "ipython3",
   "version": "3.7.0"
  },
  "name": "feladat04.ipynb"
 },
 "nbformat": 4,
 "nbformat_minor": 1
}
