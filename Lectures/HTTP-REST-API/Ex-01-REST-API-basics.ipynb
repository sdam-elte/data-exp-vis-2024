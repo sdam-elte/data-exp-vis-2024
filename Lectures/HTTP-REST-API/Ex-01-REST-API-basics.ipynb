{
 "cells": [
  {
   "cell_type": "markdown",
   "metadata": {},
   "source": [
    "## Documentation of jupyter-kernelgateways\n",
    "Here you will find the manual: https://jupyter-kernel-gateway.readthedocs.io/en/latest/http-mode.html\n",
    "The example notebook is based on this.\n"
   ]
  },
  {
   "cell_type": "markdown",
   "metadata": {},
   "source": [
    "## How to run this service\n",
    "\n",
    "* Launch a terminal and enter into the directory, that contains this notebook\n",
    "* then type\n",
    "```\n",
    "preview-nb-api.sh Ex-01-REST-API-basics.ipynb\n",
    "```\n",
    "* the first line of output will tell you the URL of the API\n",
    "\n",
    "**TROUBLESHOOTING**</br>\n",
    "In case you get the following error:</br>\n",
    "`jupyter_client.kernelspec.NoSuchKernel: No such kernel named ipykernel` </br>\n",
    "you will need to run the follwoing:</br>\n",
    "`poetry run ipython kernel install --name \"python3\" --user`"
   ]
  },
  {
   "cell_type": "markdown",
   "metadata": {},
   "source": [
    "Communication goes in *json* format"
   ]
  },
  {
   "cell_type": "code",
   "execution_count": 1,
   "metadata": {
    "ExecuteTime": {
     "end_time": "2021-03-09T09:57:28.275987Z",
     "start_time": "2021-03-09T09:57:28.271129Z"
    }
   },
   "outputs": [
    {
     "name": "stdout",
     "output_type": "stream",
     "text": [
      "k8plex-veo.vo.elte.hu/notebook/report/wfct0p-dd/help\n"
     ]
    }
   ],
   "source": [
    "import json\n",
    "import os\n",
    "# Kooplex related variables\n",
    "api_url = os.path.join(os.getenv(\"SERVERNAME\"), os.getenv(\"REPORT_URL\"))\n",
    "\n",
    "# get the \"help\"  resource\n",
    "endpoint = \"help\"\n",
    "full_url = os.path.join(api_url, endpoint)\n",
    "print(full_url)"
   ]
  },
  {
   "cell_type": "markdown",
   "metadata": {
    "variables": {
     "api_url": "&#39;<a href=\"https://kooplex-fiek.elte.hu/notebook/wfct0p-shareproba-wfct0p/report&#39;\">https://kooplex-fiek.elte.hu/notebook/wfct0p-shareproba-wfct0p/report&#39;</a>",
     "endpoint": "status?component=CPU&amp;time=today",
     "full_url": "&#39;<a href=\"https://kooplex-fiek.elte.hu/notebook/wfct0p-shareproba-wfct0p/report/status?component=CPU&amp;time=today&#39;\">https://kooplex-fiek.elte.hu/notebook/wfct0p-shareproba-wfct0p/report/status?component=CPU&amp;time=today&#39;</a>"
    }
   },
   "source": [
    "For example if the complete URL is **{{full_url}}**\n",
    "\n",
    "then the API URL is going to be **{{api_url}}**\n",
    "\n",
    "and the endpoint with arguments are **{{endpoint}}**"
   ]
  },
  {
   "cell_type": "markdown",
   "metadata": {},
   "source": [
    "The resource or endpoint is ```/status```\n",
    "\n",
    "The argumentums are \n",
    "``` json\n",
    "{ \n",
    "    'component' : 'CPU',\n",
    "    'time' : 'today'\n",
    "}\n",
    "```"
   ]
  },
  {
   "cell_type": "code",
   "execution_count": null,
   "metadata": {
    "ExecuteTime": {
     "end_time": "2020-12-07T19:22:38.259010Z",
     "start_time": "2020-12-07T19:22:38.255283Z"
    }
   },
   "outputs": [],
   "source": [
    "# This cell is for debugging\n",
    "REQUEST = json.dumps({\n",
    " 'args' : {}\n",
    "})"
   ]
  },
  {
   "cell_type": "markdown",
   "metadata": {},
   "source": [
    "This is a resource: just to check if the API is working at all. It might be, that all other resources need authentication and sometimes it is good to know that the API itself is working and the problem is wth the authentication itself"
   ]
  },
  {
   "cell_type": "code",
   "execution_count": null,
   "metadata": {},
   "outputs": [],
   "source": [
    "# GET /info\n",
    "\n",
    "message = \"The API is up and running\"\n",
    "response = json.dumps(message)\n",
    "print(response)"
   ]
  },
  {
   "cell_type": "markdown",
   "metadata": {},
   "source": [
    "How does our request look like?"
   ]
  },
  {
   "cell_type": "code",
   "execution_count": null,
   "metadata": {},
   "outputs": [],
   "source": [
    "# GET /api_request\n",
    "\n",
    "print(REQUEST)"
   ]
  },
  {
   "cell_type": "code",
   "execution_count": null,
   "metadata": {},
   "outputs": [],
   "source": [
    "# GET /api_request_json\n",
    "\n",
    "print(REQUEST)"
   ]
  },
  {
   "cell_type": "code",
   "execution_count": null,
   "metadata": {
    "ExecuteTime": {
     "end_time": "2021-03-09T09:59:46.504367Z",
     "start_time": "2021-03-09T09:59:46.498632Z"
    }
   },
   "outputs": [],
   "source": [
    "# ResponseInfo GET /api_request_json\n",
    "print(json.dumps({\n",
    "    \"headers\" : {\n",
    "        \"Content-Type\" : \"application/json\"\n",
    "    },\n",
    "    \"status\" : 200\n",
    "}))"
   ]
  },
  {
   "cell_type": "markdown",
   "metadata": {},
   "source": [
    "The usual help or documentation page"
   ]
  },
  {
   "cell_type": "code",
   "execution_count": null,
   "metadata": {
    "ExecuteTime": {
     "end_time": "2020-12-05T15:04:11.247881Z",
     "start_time": "2020-12-05T15:04:11.241006Z"
    }
   },
   "outputs": [],
   "source": [
    "# GET /help\n",
    "req = json.loads(REQUEST)\n",
    "# And this is how we retrieve all the arguments\n",
    "args = req['args']\n",
    "\n",
    "subhelp = '<h3>Message</h3> This is a test <strong>API</strong>. It has only one endpoint: status. It can digest the component and time arguments'\n",
    "\n",
    "# In case of arguments the relevant code to run\n",
    "if 'component' in args:\n",
    "    subhelp +='<h4>Components can be:</h4> <ul><li>CPU</li><li>disk</li><li>mouse</li><li>keyboard</li></ul>'\n",
    "if 'time' in args:\n",
    "    subhelp += '<h4>Time can be:</h4> <ul><li>today</li><li>yesterday</li>or a custom day in YYYY/MM/DD format</li><ul>'\n",
    "else:\n",
    "    subhelp += \"<br> Further help for <b>component</b> and <b>time</b> arguments\"\n",
    "response = subhelp\n",
    "    \n",
    "print(response)"
   ]
  },
  {
   "cell_type": "markdown",
   "metadata": {},
   "source": [
    "This defines the response format:"
   ]
  },
  {
   "cell_type": "code",
   "execution_count": null,
   "metadata": {},
   "outputs": [],
   "source": [
    "# ResponseInfo GET /help\n",
    "print(json.dumps({\n",
    "    \"headers\" : {\n",
    "        \"Content-Type\" : \"text/html\"\n",
    "    },\n",
    "    \"status\" : 200\n",
    "}))\n"
   ]
  },
  {
   "cell_type": "markdown",
   "metadata": {},
   "source": [
    "Now all this in json"
   ]
  },
  {
   "cell_type": "code",
   "execution_count": null,
   "metadata": {
    "ExecuteTime": {
     "end_time": "2020-12-05T14:54:47.365198Z",
     "start_time": "2020-12-05T14:54:47.357862Z"
    }
   },
   "outputs": [],
   "source": [
    "# GET /help_json\n",
    "req = json.loads(REQUEST)\n",
    "args = req['args']\n",
    "\n",
    "subhelp = {'Message': 'This is a test API. It has only one endpoint: status. It can digest the component and time arguments'}\n",
    "\n",
    "if 'component' in args:\n",
    "    subhelp['Components'] = 'CPU, disk, mouse, keyboard'\n",
    "if 'time' in args:\n",
    "    subhelp['Time'] = 'today, yeterday or a custom day in YYYY/MM/DD format'\n",
    "\n",
    "response = json.dumps(subhelp)\n",
    "    \n",
    "print(response)"
   ]
  },
  {
   "cell_type": "code",
   "execution_count": null,
   "metadata": {},
   "outputs": [],
   "source": [
    "# ResponseInfo GET /help_json\n",
    "print(json.dumps({\n",
    "    \"headers\" : {\n",
    "        \"Content-Type\" : \"application/json\"\n",
    "    },\n",
    "    \"status\" : 200\n",
    "}))"
   ]
  },
  {
   "cell_type": "markdown",
   "metadata": {
    "variables": {
     "api_url": "&#39;<a href=\"https://kooplex-fiek.elte.hu/notebook/wfct0p-shareproba-wfct0p/report&#39;\">https://kooplex-fiek.elte.hu/notebook/wfct0p-shareproba-wfct0p/report&#39;</a>"
    }
   },
   "source": [
    "All requests in bash command line with curl:\n",
    "```\n",
    "API_URL={{api_url}}\n",
    "curl -s \"$API_URL/api\"\n",
    "curl -s \"$API_URL/api_request\"\n",
    "curl -s \"$API_URL/help\"\n",
    "curl -s \"$API_URL/help_json\"\n",
    "# or json with pretty printing\n",
    "curl -s \"$API_URL/help_json\" | json_pp\n",
    "```"
   ]
  },
  {
   "cell_type": "code",
   "execution_count": null,
   "metadata": {},
   "outputs": [],
   "source": []
  }
 ],
 "metadata": {
  "kernelspec": {
   "display_name": "Python 3 (ipykernel)",
   "language": "python",
   "name": "python3"
  },
  "language_info": {
   "codemirror_mode": {
    "name": "ipython",
    "version": 3
   },
   "file_extension": ".py",
   "mimetype": "text/x-python",
   "name": "python",
   "nbconvert_exporter": "python",
   "pygments_lexer": "ipython3",
   "version": "3.9.13"
  }
 },
 "nbformat": 4,
 "nbformat_minor": 2
}
