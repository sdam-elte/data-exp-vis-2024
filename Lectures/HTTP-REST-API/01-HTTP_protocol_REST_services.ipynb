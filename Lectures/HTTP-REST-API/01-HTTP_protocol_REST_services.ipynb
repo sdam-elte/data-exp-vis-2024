{
 "cells": [
  {
   "cell_type": "markdown",
   "metadata": {},
   "source": [
    "# HTTP (Hypertext Transfer Protocol)\n",
    "`The Hypertext Transfer Protocol (HTTP) is an application layer protocol for distributed, collaborative, hypermedia information systems. HTTP is the foundation of data communication for the World Wide Web, where hypertext documents include hyperlinks to other resources that the user can access`.\n",
    "\n",
    "\n",
    "Here are some tutorial videos:\n",
    " * https://www.youtube.com/watch?v=k6fy7mvNSnY\n",
    " * https://www.youtube.com/watch?v=iYM2zFP3Zn0\n",
    " * https://www.youtube.com/watch?v=JFZMyhRTVt0\n",
    "\n",
    "or take a look at these sites for further informations:\n",
    " * https://en.wikipedia.org/wiki/Hypertext_Transfer_Protocol\n",
    " HTTP functions as a request–response protocol in the client–server computing model\n",
    " * https://www.ntu.edu.sg/home/ehchua/programming/webprogramming/HTTP_Basics.html"
   ]
  },
  {
   "cell_type": "markdown",
   "metadata": {},
   "source": [
    "<img src=\"https://ruslanspivak.com/lsbaws-part1/LSBAWS_HTTP_request_response.png\" width=\"800\">\n",
    "\n",
    "---------\n",
    "\n",
    "### in more detail\n",
    "<img src=\"data/http-request-response2.jpeg\" width=\"800\">"
   ]
  },
  {
   "cell_type": "markdown",
   "metadata": {},
   "source": [
    "* functions as a **request-response protocol** in the client–server computing model\n",
    "* HTTP **resources** are identified and located on the network by **Uniform Resource Locators** (URLs)\n",
    "* An HTTP **session** is a sequence of network request-response transactions.\n",
    "* An HTTP **client initiates a request** by establishing a Transmission Control Protocol (TCP) connection to a particular port on a server \n",
    "* An HTTP **server listening on that port** waits for a client's request message \n",
    "* Upon receiving the request, **the server sends back a status line**, such as \"HTTP/1.1 200 OK\", and **a message** of its own. The body of this message is typically the requested resource, although an error message or other information may also be returned\n",
    "* HTTP is a **stateless protocol**.\n",
    "* HTTP provides multiple authentication schemes"
   ]
  },
  {
   "cell_type": "markdown",
   "metadata": {},
   "source": [
    "### Structure of a *request* message \n",
    "\n",
    "* a request line (e.g., GET /images/logo.png HTTP/1.1, which requests a resource called /images/logo.png from the server)\n",
    "* request header fields (e.g., Accept-Language: en)\n",
    "* an empty line\n",
    "* an optional message body\n",
    "\n",
    "<img src=\"https://i.stack.imgur.com/4932v.png\">"
   ]
  },
  {
   "cell_type": "markdown",
   "metadata": {},
   "source": [
    "### Request methods\n",
    "\n",
    "**GET**: requests a representation of the specified resource. Requests using GET should only retrieve data and should have no other effect. (This is also true of some other HTTP methods.)[1] The W3C has published guidance principles on this distinction, saying, \"Web application design should be informed by the above principles, but also by the relevant limitations.\"[26] See safe methods below.\n",
    "\n",
    "**POST**: requests that the server accept the entity enclosed in the request as a new subordinate of the web resource identified by the URI. The data POSTed might be, for example, an annotation for existing resources; a message for a bulletin board, newsgroup, mailing list, or comment thread; a block of data that is the result of submitting a web form to a data-handling process; or an item to add to a database.[27]\n",
    "\n",
    "**PUT**: requests that the enclosed entity be stored under the supplied URI. If the URI refers to an already existing resource, it is modified; if the URI does not point to an existing resource, then the server can create the resource with that URI.[28]\n",
    "\n",
    "**DELETE**: deletes the specified resource.\n",
    "\n",
    "**HEAD**, **TRACE**, **OPTIONS**, **CONNECT**, **PATCH**..."
   ]
  },
  {
   "cell_type": "markdown",
   "metadata": {},
   "source": [
    "### Structure of a *response* message \n",
    "* A status line: **status code** and **reason** message e.g., HTTP/1.1 200 OK\n",
    "* **Header** fields (e.g., Content-Type: text/html)\n",
    "* An empty line\n",
    "* Message **body** (optional)"
   ]
  },
  {
   "cell_type": "markdown",
   "metadata": {},
   "source": [
    "### Status codes\n",
    "\n",
    "* Informational 1XX\n",
    "* Successful 2XX\n",
    "* Redirection 3XX\n",
    "* Client Error 4XX\n",
    "* Server Error 5XX"
   ]
  },
  {
   "cell_type": "markdown",
   "metadata": {},
   "source": [
    "### A server-client example \n",
    "* Press F12 on Chromium or Firefox browsers\n",
    "* Click on the Network tab\n",
    "* Reload the page and clic on an entry\n"
   ]
  },
  {
   "cell_type": "markdown",
   "metadata": {},
   "source": [
    "# REST (Representational State Transfer)\n",
    "\n",
    "A REST service is a data product or microservice:\n",
    "*  Resources are represented by **URIs**. \n",
    "* The clients send **requests** to these URIs using the methods defined by the **HTTP protocol**, and possibly as a result of that the state of the affected resource changes.\n",
    "\n",
    "## Motivation, use cases and tutorials\n",
    "Please read these tutorials for a deeper understanding of the whole process and for motivation as well:\n",
    "\n",
    "\n",
    "* flask\n",
    "https://blog.miguelgrinberg.com/post/designing-a-restful-api-with-python-and-flask\n",
    "* jupyter notebook\n",
    "    * https://www.pybloggers.com/2016/01/jupyter-notebooks-as-restful-microservices/\n",
    "    * https://towardsdatascience.com/expose-endpoints-using-jupyter-kernel-gateway-e55951b0f5ad\n",
    "    "
   ]
  },
  {
   "cell_type": "markdown",
   "metadata": {},
   "source": [
    "### A use case from the lab\n",
    "- Setup:\n",
    "    - Measuring equipment -- computer -- remote user on the web\n",
    "<img src=\"data/usecase-remotemeasurement.png\">\n",
    "\n",
    "*Image from* http://acta.uni-obuda.hu/Budai_Kuczmann_82.pdf\n",
    "- Data is generated by an equipment\n",
    "- We'd like to control the equipment remotely and access the generated data\n",
    "- Devices are connected to the computer's various interfaces"
   ]
  },
  {
   "cell_type": "markdown",
   "metadata": {},
   "source": [
    "## Example REST services\n",
    "\n",
    "* **Chembl** https://www.ebi.ac.uk/chembl/ and docs at https://www.ebi.ac.uk/chembl/api/data/docs\n",
    "\n",
    "    **Chembl** is a service of the EBI (www.ebi.ac.uk), which serves data from a database, where all sorts of information is stored about chemical/molecular interactions.\n",
    "\n",
    "and\n",
    "\n",
    "* **Airvisual** https://www.iqair.com/air-pollution-data-api\n",
    "\n",
    "    **Airvisual** hosts physical and chemical parameters of the atmosphere collected with vast amount of sensors from all over the world. The API is partially public, clients need to register and obtain a key, with which they authenticate themselves\n",
    "\n"
   ]
  },
  {
   "cell_type": "markdown",
   "metadata": {},
   "source": [
    "## Tutorial videos about REST\n",
    "The basics of it are explained in these videos:\n",
    " * https://www.youtube.com/watch?v=LooL6_chvN4\n",
    " * https://www.youtube.com/watch?v=7YcW25PHnAA\n",
    " * https://www.youtube.com/watch?v=Q-BpqyOT3a8"
   ]
  },
  {
   "cell_type": "markdown",
   "metadata": {},
   "source": [
    "## How to build a REST service in python\n",
    "\n",
    "* Flask\n",
    "* jupyter-kernelgateway\n",
    "* FastAPI\n",
    "    * https://python.plainenglish.io/abandoning-flask-for-fastapi-20105948b062\n",
    "    * https://python.plainenglish.io/build-better-apis-with-python-5b82fabcf8b3\n",
    "\n",
    "https://rapidapi.com/blog/best-python-api-frameworks/"
   ]
  },
  {
   "cell_type": "markdown",
   "metadata": {},
   "source": [
    "## REST API Documentation\n",
    "\n",
    "* The service needs to be well documented, so users have an immediate overview of the whole and can understand its structure \n",
    "* Needs to show example queries\n",
    "* Return messages/Responses should be meaningful\n",
    "\n",
    "A **REST service** should always have a detailed **documentation**, otherwise there is no way for the client to learn it's functionalities. Here are two neat examples:\n"
   ]
  },
  {
   "cell_type": "code",
   "execution_count": null,
   "metadata": {},
   "outputs": [],
   "source": []
  }
 ],
 "metadata": {
  "kernelspec": {
   "display_name": "Python 3 (ipykernel)",
   "language": "python",
   "name": "python3"
  },
  "language_info": {
   "codemirror_mode": {
    "name": "ipython",
    "version": 3
   },
   "file_extension": ".py",
   "mimetype": "text/x-python",
   "name": "python",
   "nbconvert_exporter": "python",
   "pygments_lexer": "ipython3",
   "version": "3.9.13"
  }
 },
 "nbformat": 4,
 "nbformat_minor": 2
}
