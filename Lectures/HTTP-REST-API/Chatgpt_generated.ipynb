{
 "cells": [
  {
   "cell_type": "code",
   "execution_count": null,
   "id": "1f105546-2162-433f-b322-e6f95bab68b7",
   "metadata": {},
   "outputs": [],
   "source": [
    "from typing import List, Optional\n",
    "from fastapi import FastAPI\n",
    "import os \n",
    "import asyncio\n",
    "import uvicorn\n",
    "\n",
    "app = FastAPI()"
   ]
  },
  {
   "cell_type": "code",
   "execution_count": null,
   "id": "934e0583-d57d-47c3-ab66-85ee37b3f1b1",
   "metadata": {},
   "outputs": [],
   "source": [
    "# Define a dummy population dataset\n",
    "population_data = {\n",
    "    \"USA\": 328_200_000,\n",
    "    \"China\": 1_398_500_000,\n",
    "    \"India\": 1_366_400_000,\n",
    "    \"Brazil\": 210_000_000,\n",
    "    \"Pakistan\": 220_892_340\n",
    "}\n",
    "\n",
    "@app.get(os.path.join(\"/\",os.environ.get(\"REPORT_URL\"),\"info\"))\n",
    "def info():\n",
    "    return population_data\n",
    "\n",
    "@app.get(os.path.join(\"/\",os.environ.get(\"REPORT_URL\"),\"population\",\"{country_name}\"))\n",
    "def get_population2(country_name: str):\n",
    "    if country_name in population_data:\n",
    "        return {\"country\": country_name, \"population\": population_data[country_name]}\n",
    "    else:\n",
    "        return {\"error\": f\"Country '{country_name}' not found.\"}\n"
   ]
  },
  {
   "cell_type": "code",
   "execution_count": null,
   "id": "e4a33b2f",
   "metadata": {},
   "outputs": [],
   "source": [
    "if __name__ == \"__main__\":\n",
    "    config = uvicorn.Config(app)\n",
    "    config.port = int(os.environ.get(\"REPORT_PORT\"))\n",
    "    config.host = \"0.0.0.0\" #os.environ.get(\"SERVERNAME\")\n",
    "    #config.root_path = \"/\" + os.environ.get(\"REPORT_URL\")\n",
    "    server = uvicorn.Server(config)\n",
    "    await server.serve()"
   ]
  },
  {
   "cell_type": "markdown",
   "id": "86b2db79",
   "metadata": {},
   "source": [
    "![](data/chatgpt-1.png)"
   ]
  },
  {
   "cell_type": "markdown",
   "id": "8fd52760",
   "metadata": {},
   "source": [
    "![](data/chatgpt-2.png)"
   ]
  },
  {
   "cell_type": "code",
   "execution_count": null,
   "id": "cb640602",
   "metadata": {},
   "outputs": [],
   "source": []
  }
 ],
 "metadata": {
  "kernelspec": {
   "display_name": "Python 3 (ipykernel)",
   "language": "python",
   "name": "python3"
  },
  "language_info": {
   "codemirror_mode": {
    "name": "ipython",
    "version": 3
   },
   "file_extension": ".py",
   "mimetype": "text/x-python",
   "name": "python",
   "nbconvert_exporter": "python",
   "pygments_lexer": "ipython3",
   "version": "3.9.13"
  }
 },
 "nbformat": 4,
 "nbformat_minor": 5
}
