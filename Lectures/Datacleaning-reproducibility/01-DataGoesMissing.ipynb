{
 "cells": [
  {
   "cell_type": "markdown",
   "metadata": {},
   "source": [
    "* Original article: https://towardsdatascience.com/how-to-handle-missing-data-8646b18db0d4\n",
    "* or https://cran.r-project.org/web/packages/finalfit/vignettes/missing.html\n",
    "* Another article: https://insightsoftware.com/blog/how-to-handle-missing-data-values-while-data-cleaning/"
   ]
  },
  {
   "cell_type": "markdown",
   "metadata": {},
   "source": [
    "1. **Missing Completely at Random (MCAR)**: The fact that a certain value is missing has nothing to do with its hypothetical value and with the values of other variables.\n",
    "    \n",
    "    For example, survey data is missing because someone could not make it to an appointment, or an administrator misplaces the test results he is supposed to enter into the computer. The reason for the missing values is unrelated to the data in the dataset.\n",
    "\n",
    "\n",
    "2. **Missing at Random (MAR)**: Missing at random means that the propensity for a data point to be missing is not related to the missing data, but it is related to some of the observed data. This is terminology is confusing a bit and would be better stated as **missing conditionally at random**.\n",
    "    \n",
    "    The reason the data is missing in a column can be explained by the data in other columns. For example, a school student who scores above the cutoff is typically given a grade. So, a missing grade for a student can be explained by the column that has scores below the cutoff.\n",
    "\n",
    "\n",
    "3. **Missing not at Random (MNAR)**: Two possible reasons are that the missing value depends on the hypothetical value (e.g. People with high salaries generally do not want to reveal their incomes in surveys) or missing value is dependent on some other variable’s value (e.g. Let’s assume that females generally don’t want to reveal their ages! Here the missing value in age variable is impacted by gender variable)\n",
    "\n",
    "    There is a correlation between the missing values and the actual income. The missing values are not dependent on other variables in the dataset.\n",
    "    "
   ]
  },
  {
   "cell_type": "markdown",
   "metadata": {},
   "source": [
    "![](https://preview.redd.it/sfogalc384z81.jpg?auto=webp&v=enabled&s=a2f57c812e4f6935e05e09c7cfa4ac90f434477b)"
   ]
  },
  {
   "cell_type": "markdown",
   "metadata": {},
   "source": [
    "*Data imputation (completing the dataset, filling in) does not necessarily gives better result, but might be useful for dealing with the data itself.*"
   ]
  },
  {
   "cell_type": "markdown",
   "metadata": {},
   "source": [
    "<img src=\"https://miro.medium.com/max/700/1*_RA3mCS30Pr0vUxbp25Yxw.png\">"
   ]
  },
  {
   "cell_type": "markdown",
   "metadata": {},
   "source": [
    "### Maybe recover values? Fill up missing values from other sources?"
   ]
  },
  {
   "cell_type": "markdown",
   "metadata": {},
   "source": [
    "A, Algorithms such as random forest and KNN are robust in dealing with missing values.\n",
    "\n",
    "B, Deal with missing data on our own:\n",
    "* **delete the rows with missing values**: Typically, any row which has a missing value in any cell gets deleted. However, this often means many rows will get removed, leading to loss of information and data. Therefore, this method is typically not used when there are few data samples.\n",
    "\n",
    "* **impute the missing data**: This can be based solely on information in the column that has missing values, or it can be based on other columns present in the dataset. \n",
    "\n",
    "* use **classification** or **regression models** to predict missing values."
   ]
  },
  {
   "cell_type": "markdown",
   "metadata": {},
   "source": [
    "1. Missing Values in Numerical Columns\n",
    "2. Predicting Missing Values Using an Algorithm\n",
    "3. Missing Values in Categorical Columns"
   ]
  },
  {
   "cell_type": "code",
   "execution_count": null,
   "metadata": {},
   "outputs": [],
   "source": []
  }
 ],
 "metadata": {
  "kernelspec": {
   "display_name": "Python 3",
   "language": "python",
   "name": "python3"
  },
  "language_info": {
   "codemirror_mode": {
    "name": "ipython",
    "version": 3
   },
   "file_extension": ".py",
   "mimetype": "text/x-python",
   "name": "python",
   "nbconvert_exporter": "python",
   "pygments_lexer": "ipython3",
   "version": "3.8.8"
  }
 },
 "nbformat": 4,
 "nbformat_minor": 2
}
