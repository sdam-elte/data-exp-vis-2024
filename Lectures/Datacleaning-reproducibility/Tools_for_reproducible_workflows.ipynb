{
 "cells": [
  {
   "cell_type": "markdown",
   "id": "54eebb41",
   "metadata": {},
   "source": [
    "## Docker\n",
    "\n",
    "* Docker's main page: https://www.docker.com/\n",
    "* a Tutorial https://docker-curriculum.com/#introduction"
   ]
  },
  {
   "cell_type": "markdown",
   "id": "ab39089f",
   "metadata": {},
   "source": [
    "Unfortunately we cannot provide an environment to play with docker images. This notebook server is running also in a docker container (within a kubernetes framework). But here is a tutorial if you want to try it at home: https://docker-curriculum.com/#our-first-image\n",
    "\n",
    "In short, a docker image is helpful if you want to build a persistent environment for your application or program and is transferable too. A docker image includes an OS, all system packages and every installation you make within the build process."
   ]
  },
  {
   "cell_type": "markdown",
   "id": "1453d88c",
   "metadata": {},
   "source": [
    "The first three layer of the image spawned this container and runs this environment is:\n",
    "\n",
    "```docker\n",
    "FROM base_ubuntu20-v5\n",
    "\n",
    "RUN apt update && apt install -y --no-install-recommends tmux curl curlftpfs \\\n",
    " liblapack-dev libblas-dev \\\n",
    " gfortran libfreetype6* pkg-config \\\n",
    " git gcc mpi-default-dev mpi-default-bin libfftw3-dev fftw3 cmake \\\n",
    "  links2 \\\n",
    " autoconf libncurses5-dev libncursesw5-dev zlib1g-dev libbz2-dev liblzma-dev apt-rdepends \\\n",
    " libfontconfig1 libxrender1 libxrender-dev \\\n",
    " g++ libicu-dev libxml2-dev \\\n",
    " libscalapack-mpi-dev \\\n",
    " texlive-xetex texlive-lang-european texlive-science libmysqlclient-dev\\\n",
    " python3-dev libpq-dev \\\n",
    " liblapack-dev liblapack-doc liblapack-pic liblapack-test liblapacke liblapacke-dev libtmglib-dev libtmglib3 libblas3 libblas-dev libblasr libblasr-dev libblas-test \\\n",
    " less openjdk-8-source openjdk-8-jre gzip zlib1g-dev libpng-dev\\\n",
    " make gcc ssh python3-dev libpq-dev cutadapt\\\n",
    " rsync netcat-openbsd at\\\n",
    " snakemake autoconf automake libtool zlib1g-dev &&\\\n",
    " apt-get clean && rm -rf /var/lib/apt/lists/*\n",
    "\n",
    "RUN curl -sL https://deb.nodesource.com/setup_14.x |  bash - && \\\n",
    "    apt install --yes nodejs \n",
    "```"
   ]
  },
  {
   "cell_type": "markdown",
   "id": "706f7d88",
   "metadata": {},
   "source": [
    "* A source of free docker images is: `https://hub.docker.com/`\n",
    "    e.g. https://hub.docker.com/search?q=jupyter"
   ]
  },
  {
   "cell_type": "markdown",
   "id": "98a3d3bb",
   "metadata": {},
   "source": [
    "## Snakemake workflow management system\n",
    "Snakemake is a tool to create reproducible and scalable data analyses. Workflows are described via a human readable, Python based language. They can be seamlessly scaled to server, cluster, grid and cloud environments, without the need to modify the workflow definition.\n",
    "\n",
    "* https://snakemake.readthedocs.io/en/stable/index.html\n",
    "* https://snakemake.github.io/"
   ]
  },
  {
   "cell_type": "markdown",
   "id": "ce0e6a8b",
   "metadata": {},
   "source": [
    "#### Browse workflows\n",
    "There are many published workflows, which are a good start for learning its usage or start to work with a given type of data set\n",
    "* https://snakemake.github.io/snakemake-workflow-catalog/\n",
    "\n",
    "#### Cluster and Cloud computing\n",
    "Snakemake is also capable of making use of Job Queue Systems such as [SLURM](https://snakemake.readthedocs.io/en/stable/executing/cluster.html) or [Kubernetes Jobs](https://snakemake.readthedocs.io/en/stable/executin,g/cloud.html), which allows to scale up any workflow."
   ]
  },
  {
   "cell_type": "markdown",
   "id": "51db7f16",
   "metadata": {},
   "source": [
    "### Run the example"
   ]
  },
  {
   "cell_type": "code",
   "execution_count": 3,
   "id": "31115cff",
   "metadata": {},
   "outputs": [
    {
     "name": "stdout",
     "output_type": "stream",
     "text": [
      "\u001b[33mBuilding DAG of jobs...\u001b[0m\n",
      "\u001b[33mNothing to be done.\u001b[0m\n",
      "\u001b[33mComplete log: /v/wfct0p/data-exp-vis-2023/Lectures/L-Datacleaning-reproducibility/.snakemake/log/2023-05-16T121645.934396.snakemake.log\u001b[0m\n"
     ]
    }
   ],
   "source": [
    "# This will create an `snakemake.output` folder in your home directory\n",
    "!snakemake --snakefile example.Snakefile"
   ]
  },
  {
   "cell_type": "markdown",
   "id": "3325f012",
   "metadata": {},
   "source": [
    "Check the `.snakemake` folder as well at the end!"
   ]
  },
  {
   "cell_type": "markdown",
   "id": "9c76aed1",
   "metadata": {},
   "source": [
    "## Gitpod\n",
    "\n",
    "* https://www.gitpod.io/\n",
    "* https://www.gitpod.io/docs/introduction/getting-started\n",
    "\n",
    "A fairly new approach to create a well defined environment for you version controlled project"
   ]
  }
 ],
 "metadata": {
  "kernelspec": {
   "display_name": "Python 3",
   "language": "python",
   "name": "python3"
  },
  "language_info": {
   "codemirror_mode": {
    "name": "ipython",
    "version": 3
   },
   "file_extension": ".py",
   "mimetype": "text/x-python",
   "name": "python",
   "nbconvert_exporter": "python",
   "pygments_lexer": "ipython3",
   "version": "3.8.8"
  }
 },
 "nbformat": 4,
 "nbformat_minor": 5
}
