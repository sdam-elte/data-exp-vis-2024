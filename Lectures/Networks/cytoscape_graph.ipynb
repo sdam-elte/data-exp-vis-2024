{
 "cells": [
  {
   "cell_type": "code",
   "execution_count": 1,
   "metadata": {
    "ExecuteTime": {
     "end_time": "2020-11-04T19:15:36.599125Z",
     "start_time": "2020-11-04T19:15:22.635188Z"
    }
   },
   "outputs": [
    {
     "name": "stdout",
     "output_type": "stream",
     "text": [
      "Populating the interactive namespace from numpy and matplotlib\n"
     ]
    },
    {
     "ename": "ModuleNotFoundError",
     "evalue": "No module named 'dash_reusable_components'",
     "output_type": "error",
     "traceback": [
      "\u001b[0;31m---------------------------------------------------------------------------\u001b[0m",
      "\u001b[0;31mModuleNotFoundError\u001b[0m                       Traceback (most recent call last)",
      "\u001b[0;32m<ipython-input-1-4a1c91bdbd92>\u001b[0m in \u001b[0;36m<module>\u001b[0;34m\u001b[0m\n\u001b[1;32m     13\u001b[0m \u001b[0;32mimport\u001b[0m \u001b[0mjson\u001b[0m\u001b[0;34m\u001b[0m\u001b[0m\n\u001b[1;32m     14\u001b[0m \u001b[0;34m\u001b[0m\u001b[0m\n\u001b[0;32m---> 15\u001b[0;31m \u001b[0;32mimport\u001b[0m \u001b[0mdash_reusable_components\u001b[0m \u001b[0;32mas\u001b[0m \u001b[0mdrc\u001b[0m\u001b[0;34m\u001b[0m\u001b[0m\n\u001b[0m\u001b[1;32m     16\u001b[0m \u001b[0;34m\u001b[0m\u001b[0m\n\u001b[1;32m     17\u001b[0m \u001b[0mapp\u001b[0m \u001b[0;34m=\u001b[0m \u001b[0mdash\u001b[0m\u001b[0;34m.\u001b[0m\u001b[0mDash\u001b[0m\u001b[0;34m(\u001b[0m\u001b[0m__name__\u001b[0m\u001b[0;34m)\u001b[0m\u001b[0;34m\u001b[0m\u001b[0m\n",
      "\u001b[0;31mModuleNotFoundError\u001b[0m: No module named 'dash_reusable_components'"
     ]
    }
   ],
   "source": [
    "%pylab inline\n",
    "import pandas as pd\n",
    "import networkx as nx\n",
    "\n",
    "import dash\n",
    "import dash_cytoscape as cyto\n",
    "import dash_html_components as html\n",
    "from jupyterlab_dash import AppViewer\n",
    "viewer = AppViewer()\n",
    "\n",
    "from dash.dependencies import Input, Output, State\n",
    "import dash_core_components as dcc\n",
    "import json\n",
    "\n",
    "import dash_reusable_components as drc\n",
    "\n",
    "app = dash.Dash(__name__)"
   ]
  },
  {
   "cell_type": "code",
   "execution_count": 2,
   "metadata": {},
   "outputs": [],
   "source": [
    "edges=pd.read_csv('edges_of_graph.csv')\n",
    "edges=edges.drop('Unnamed: 0',axis=1)\n",
    "\n",
    "names=pd.read_csv('names_of_nodes.csv')\n",
    "names=names.drop('Unnamed: 0',axis=1)"
   ]
  },
  {
   "cell_type": "code",
   "execution_count": 3,
   "metadata": {},
   "outputs": [],
   "source": [
    "s=[]\n",
    "for i in list(edges.source):\n",
    "    s.append(int(i))\n",
    "t=[]\n",
    "for j in list(edges.target):\n",
    "    t.append(int(j))\n",
    "#n=list(names['0'])"
   ]
  },
  {
   "cell_type": "code",
   "execution_count": 4,
   "metadata": {},
   "outputs": [],
   "source": [
    "el=[]\n",
    "for i in range(len(s)):\n",
    "    source=s[i]\n",
    "    target =t[i]\n",
    "    lab_s=names['0'][source]\n",
    "    lab_t=names['0'][target]\n",
    "    \n",
    "    el.append({'data': {'id': source, 'label': lab_s} })\n",
    "    el.append({'data': {'id': target, 'label': lab_t} })\n",
    "    el.append({'data': {'source': source, 'target': target}})"
   ]
  },
  {
   "cell_type": "markdown",
   "metadata": {},
   "source": [
    "app = dash.Dash(__name__)\n",
    "app.layout = html.Div([\n",
    "    cyto.Cytoscape(\n",
    "        id='cytoscape',\n",
    "        elements=el,\n",
    "        layout={'name': 'cose'}\n",
    "    )\n",
    "])\n",
    "viewer.show(app)"
   ]
  },
  {
   "cell_type": "code",
   "execution_count": 5,
   "metadata": {},
   "outputs": [],
   "source": [
    "app.layout = html.Div([\n",
    "    dcc.Dropdown(\n",
    "        id='dropdown-update-layout',\n",
    "        value='cose',\n",
    "        clearable=False,\n",
    "        options=[\n",
    "            {'label': name.capitalize(), 'value': name}\n",
    "            for name in ['cose', 'grid', 'random', 'circle',  'concentric']\n",
    "        ]\n",
    "    ),\n",
    "    cyto.Cytoscape(\n",
    "        id='cytoscape-update-layout',\n",
    "        layout={'name': 'cose'},\n",
    "        style={'width': '100%', 'height': '450px'},\n",
    "        elements=el\n",
    "    ),\n",
    "    dcc.Markdown(id='cytoscape-selectedNodeData-markdown')\n",
    "])\n",
    "\n",
    "\n",
    "@app.callback(Output('cytoscape-update-layout', 'layout'),\n",
    "              [Input('dropdown-update-layout', 'value')])\n",
    "def update_layout(layout):\n",
    "    return {\n",
    "        'name': layout,\n",
    "        'animate': True\n",
    "    }\n",
    "\n",
    "@app.callback(Output('cytoscape-selectedNodeData-markdown', 'children'),\n",
    "                  [Input('cytoscape-update-layout', 'selectedNodeData')])\n",
    "def displaySelectedNodeData(data_list):\n",
    "    if not data_list:\n",
    "        return\n",
    "\n",
    "    cities_list = [data['label'] for data in data_list]\n",
    "    return \"You selected the following editor(s): \" + \"\\n* \".join(cities_list)"
   ]
  },
  {
   "cell_type": "code",
   "execution_count": 6,
   "metadata": {},
   "outputs": [],
   "source": [
    "viewer.show(app)"
   ]
  },
  {
   "cell_type": "code",
   "execution_count": null,
   "metadata": {},
   "outputs": [],
   "source": []
  }
 ],
 "metadata": {
  "kernelspec": {
   "display_name": "Python 3",
   "language": "python",
   "name": "python3"
  },
  "language_info": {
   "codemirror_mode": {
    "name": "ipython",
    "version": 3
   },
   "file_extension": ".py",
   "mimetype": "text/x-python",
   "name": "python",
   "nbconvert_exporter": "python",
   "pygments_lexer": "ipython3",
   "version": "3.8.8"
  }
 },
 "nbformat": 4,
 "nbformat_minor": 4
}
