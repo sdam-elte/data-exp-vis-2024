{
 "cells": [
  {
   "cell_type": "markdown",
   "id": "bddcd2ee-b12b-470a-91ed-1527d1e986ea",
   "metadata": {},
   "source": [
    "Following this tutorial:\n",
    "https://www.dominodatalab.com/blog/dask-step-by-step-tutorial"
   ]
  },
  {
   "cell_type": "code",
   "execution_count": 1,
   "id": "58f76c21-5c11-4eba-93f3-fdbf249046a0",
   "metadata": {},
   "outputs": [],
   "source": [
    "#! pip install dask"
   ]
  },
  {
   "cell_type": "code",
   "execution_count": 1,
   "id": "d135a330-ff51-45cc-8969-6cbf74b8ddc7",
   "metadata": {},
   "outputs": [],
   "source": [
    "from time import sleep\n",
    "## calculate square of a number\n",
    "\n",
    "def calculate_square(x):\n",
    "    sleep(1)\n",
    "    x= x**2\n",
    "    return x\n",
    "\n",
    "## calculate sum of two numbers\n",
    "def get_sum(a,b):\n",
    "    sleep(1)\n",
    "    return a+b"
   ]
  },
  {
   "cell_type": "code",
   "execution_count": 2,
   "id": "3047ae25-51bb-49e8-8161-fd0c628ba9aa",
   "metadata": {},
   "outputs": [
    {
     "name": "stdout",
     "output_type": "stream",
     "text": [
      "500\n",
      "CPU times: user 1.96 ms, sys: 988 µs, total: 2.94 ms\n",
      "Wall time: 3.02 s\n"
     ]
    }
   ],
   "source": [
    "%%time\n",
    "## call functions sequentially, one after the other\n",
    "\n",
    "## calculate square of first number\n",
    "x = calculate_square(10)\n",
    "\n",
    "## calculate square of second number\n",
    "y = calculate_square(20)\n",
    "\n",
    "## calculate sum of two numbers\n",
    "z = get_sum(x,y)\n",
    "print(z)"
   ]
  },
  {
   "cell_type": "code",
   "execution_count": 3,
   "id": "337bd5f2-91ad-4289-b5a2-bc8ea7841749",
   "metadata": {},
   "outputs": [],
   "source": [
    "## import dask dependencies\n",
    "import dask\n",
    "from dask import delayed"
   ]
  },
  {
   "cell_type": "code",
   "execution_count": 4,
   "id": "a091d86a-9c15-4b93-88df-43747f5eba7f",
   "metadata": {},
   "outputs": [
    {
     "name": "stdout",
     "output_type": "stream",
     "text": [
      "Delayed('get_sum-2a29b944-cd4f-4041-9a42-42ded97dd73f')\n",
      "CPU times: user 747 µs, sys: 356 µs, total: 1.1 ms\n",
      "Wall time: 875 µs\n"
     ]
    }
   ],
   "source": [
    "%%time\n",
    "## Wrapping the function calls using dask.delayed\n",
    "x = delayed(calculate_square)(10)\n",
    "y = delayed(calculate_square)(20)\n",
    "z = delayed(get_sum)(x, y)\n",
    "print(z)"
   ]
  },
  {
   "cell_type": "code",
   "execution_count": 5,
   "id": "a4eb3cdb-13ab-4b92-b222-c384795b3cfb",
   "metadata": {},
   "outputs": [],
   "source": [
    "# This definitely works:\n",
    "#! pip install graphviz\n",
    "# This one probably not:\n",
    "#! pip install ipycytoscape"
   ]
  },
  {
   "cell_type": "code",
   "execution_count": 6,
   "id": "fe6568a4-3d2a-47c5-84e8-ddb6d83f27d7",
   "metadata": {},
   "outputs": [
    {
     "data": {
      "application/vnd.jupyter.widget-view+json": {
       "model_id": "037dbf3f62984b6eb7ffee2471339900",
       "version_major": 2,
       "version_minor": 0
      },
      "text/plain": [
       "CytoscapeWidget(cytoscape_layout={'name': 'dagre', 'rankDir': 'BT', 'nodeSep': 10, 'edgeSep': 10, 'spacingFact…"
      ]
     },
     "metadata": {},
     "output_type": "display_data"
    }
   ],
   "source": [
    "## visualize the task graph\n",
    "z.visualize()"
   ]
  },
  {
   "cell_type": "code",
   "execution_count": 7,
   "id": "cf0caef3-1004-4067-a1a1-edfcb0c66e01",
   "metadata": {},
   "outputs": [
    {
     "name": "stdout",
     "output_type": "stream",
     "text": [
      "CPU times: user 2.99 ms, sys: 4.05 ms, total: 7.04 ms\n",
      "Wall time: 2.01 s\n"
     ]
    },
    {
     "data": {
      "text/plain": [
       "500"
      ]
     },
     "execution_count": 7,
     "metadata": {},
     "output_type": "execute_result"
    }
   ],
   "source": [
    "%%time\n",
    "## get the result using compute method\n",
    "z.compute()"
   ]
  },
  {
   "cell_type": "code",
   "execution_count": 8,
   "id": "b193dcc3-abb7-48dc-8e39-7be7933bc360",
   "metadata": {},
   "outputs": [
    {
     "data": {
      "application/vnd.jupyter.widget-view+json": {
       "model_id": "1609b9a8522447faae6c4be8b29f9bb6",
       "version_major": 2,
       "version_minor": 0
      },
      "text/plain": [
       "CytoscapeWidget(cytoscape_layout={'name': 'dagre', 'rankDir': 'BT', 'nodeSep': 10, 'edgeSep': 10, 'spacingFact…"
      ]
     },
     "metadata": {},
     "output_type": "display_data"
    }
   ],
   "source": [
    "## Call above functions in a for loop\n",
    "output = []\n",
    "## iterate over values and calculate the sum\n",
    "for i in range(5):\n",
    "    a = delayed(calculate_square)(i)\n",
    "    b = delayed(calculate_square)(i+10)\n",
    "    c = delayed(get_sum)(a, b)\n",
    "    output.append(c)\n",
    "total = dask.delayed(sum)(output)\n",
    "## Visualizing the graph\n",
    "total.visualize()"
   ]
  },
  {
   "cell_type": "code",
   "execution_count": 13,
   "id": "03c976d2",
   "metadata": {},
   "outputs": [
    {
     "name": "stdout",
     "output_type": "stream",
     "text": [
      "CPU times: user 6.24 ms, sys: 5.79 ms, total: 12 ms\n",
      "Wall time: 4.02 s\n"
     ]
    },
    {
     "data": {
      "text/plain": [
       "760"
      ]
     },
     "execution_count": 13,
     "metadata": {},
     "output_type": "execute_result"
    }
   ],
   "source": [
    "%%time\n",
    "# Using DASK\n",
    "total.compute()"
   ]
  },
  {
   "cell_type": "code",
   "execution_count": 12,
   "id": "30343cf8",
   "metadata": {},
   "outputs": [
    {
     "name": "stdout",
     "output_type": "stream",
     "text": [
      "CPU times: user 2.58 ms, sys: 1.48 ms, total: 4.06 ms\n",
      "Wall time: 15.1 s\n"
     ]
    },
    {
     "data": {
      "text/plain": [
       "760"
      ]
     },
     "execution_count": 12,
     "metadata": {},
     "output_type": "execute_result"
    }
   ],
   "source": [
    "%%time\n",
    "## Using pandas\n",
    "output = []\n",
    "for i in range(5):\n",
    "    a = calculate_square(i)\n",
    "    b = calculate_square(i+10)\n",
    "    c = get_sum(a, b)\n",
    "    output.append(c)\n",
    "sum(output)\n"
   ]
  }
 ],
 "metadata": {
  "kernelspec": {
   "display_name": "Python 3 (ipykernel)",
   "language": "python",
   "name": "python3"
  },
  "language_info": {
   "codemirror_mode": {
    "name": "ipython",
    "version": 3
   },
   "file_extension": ".py",
   "mimetype": "text/x-python",
   "name": "python",
   "nbconvert_exporter": "python",
   "pygments_lexer": "ipython3",
   "version": "3.9.13"
  }
 },
 "nbformat": 4,
 "nbformat_minor": 5
}
